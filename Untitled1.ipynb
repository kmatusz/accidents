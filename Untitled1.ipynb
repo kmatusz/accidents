{
 "cells": [
  {
   "cell_type": "code",
   "execution_count": 12,
   "metadata": {},
   "outputs": [
    {
     "name": "stdout",
     "output_type": "stream",
     "text": [
      "df8def468f41b9a0ac7181a0ad02ec4e18cddfc801df1e39ed975855cb3e8f67\n"
     ]
    }
   ],
   "source": [
    "# Python program to find SHA256 hexadecimal hash string of a file\n",
    "import hashlib\n",
    " \n",
    "filename = 'data/x_train.pkl'\n",
    "with open(filename,\"rb\") as f:\n",
    "    bytes = f.read() # read entire file as bytes\n",
    "    readable_hash = hashlib.sha256(bytes).hexdigest();\n",
    "    print(readable_hash)"
   ]
  },
  {
   "cell_type": "markdown",
   "metadata": {},
   "source": [
    "df8def468f41b9a0ac7181a0ad02ec4e18cddfc801df1e39ed975855cb3e8f67"
   ]
  },
  {
   "cell_type": "code",
   "execution_count": null,
   "metadata": {},
   "outputs": [],
   "source": []
  }
 ],
 "metadata": {
  "kernelspec": {
   "display_name": "Python 3",
   "language": "python",
   "name": "python3"
  },
  "language_info": {
   "codemirror_mode": {
    "name": "ipython",
    "version": 3
   },
   "file_extension": ".py",
   "mimetype": "text/x-python",
   "name": "python",
   "nbconvert_exporter": "python",
   "pygments_lexer": "ipython3",
   "version": "3.8.2"
  }
 },
 "nbformat": 4,
 "nbformat_minor": 4
}
