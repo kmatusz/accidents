{
 "cells": [
  {
   "cell_type": "code",
   "execution_count": null,
   "metadata": {},
   "outputs": [],
   "source": [
    "import pandas as pd\n",
    "import numpy as np\n",
    "import seaborn as sns\n",
    "\n",
    "from sklearn.model_selection import train_test_split\n",
    "from sklearn.pipeline import make_pipeline\n",
    "from sklearn.preprocessing import FunctionTransformer\n",
    "import statsmodels.api as sm\n",
    "from sklearn.metrics import roc_auc_score, roc_curve\n",
    "\n",
    "def to_df1(base):\n",
    "    class A(base):\n",
    "        def __init__(self, *args, **kwargs):\n",
    "            super().__init__(*args, **kwargs)\n",
    "\n",
    "        def transform(self, *args, **kwargs):\n",
    "            a = super().transform(*args, *kwargs)\n",
    "            return pd.DataFrame(a, columns = super().get_feature_names())\n",
    "    \n",
    "    return A\n",
    "\n",
    "def to_df(base):\n",
    "    class A(base):\n",
    "        def __init__(self, *args, **kwargs):\n",
    "            super().__init__(*args, **kwargs)\n",
    "            self.columns = None\n",
    "            \n",
    "        def fit(self, *args, **kwargs):\n",
    "#             self.columns = kwargs[\"X\"].columns\n",
    "            self.columns = args[0].columns\n",
    "            super().fit(*args, **kwargs)\n",
    "            return self\n",
    "\n",
    "        def transform(self, *args, **kwargs):\n",
    "            a = super().transform(*args, *kwargs)\n",
    "            return pd.DataFrame(a, columns = self.columns)\n",
    "    \n",
    "    return A"
   ]
  },
  {
   "cell_type": "markdown",
   "metadata": {},
   "source": [
    "Steps:\n",
    "\n",
    "1. Select relevant cols\n",
    "2. Impute NA - strategies: categorical - mode and NA, numeric median (or sth else)\n",
    "3. one-hot encode categorical\n",
    "4. merge categorical and numeric \n",
    "5. Fit models"
   ]
  },
  {
   "cell_type": "code",
   "execution_count": null,
   "metadata": {},
   "outputs": [],
   "source": [
    "master_table = pd.read_pickle('data/master_table.pkl')"
   ]
  },
  {
   "cell_type": "code",
   "execution_count": null,
   "metadata": {},
   "outputs": [],
   "source": [
    "master_table.head()"
   ]
  },
  {
   "cell_type": "code",
   "execution_count": null,
   "metadata": {},
   "outputs": [],
   "source": [
    "\n",
    "x_train, x_test, y_train, y_test = train_test_split(master_table, master_table.y, stratify=master_table.y, test_size=0.9)"
   ]
  },
  {
   "cell_type": "code",
   "execution_count": null,
   "metadata": {},
   "outputs": [],
   "source": [
    "cols_to_model = [ \n",
    "    'lighting',\n",
    " 'localization',\n",
    " 'weather',\n",
    " 'collision_type',\n",
    " 'year',\n",
    " 'month',\n",
    " 'hour',\n",
    " 'road_condition',\n",
    " 'user_type',\n",
    " 'sex',\n",
    "]\n",
    "\n",
    "cols_cat = [\n",
    " 'lighting',\n",
    " 'localization',\n",
    " 'weather',\n",
    " 'collision_type',\n",
    " 'road_condition',\n",
    " 'user_type',\n",
    " 'sex',\n",
    "]"
   ]
  },
  {
   "cell_type": "code",
   "execution_count": null,
   "metadata": {},
   "outputs": [],
   "source": [
    "df_cat = x_train[cols_cat]\n",
    "df_cat.head()\n",
    "\n",
    "from sklearn.preprocessing import OneHotEncoder\n",
    "ohe = OneHotEncoder(sparse=False)\n",
    "hs_train_transformed = ohe.fit_transform(hs_train)\n",
    "hs_train_transformed"
   ]
  },
  {
   "cell_type": "code",
   "execution_count": null,
   "metadata": {},
   "outputs": [],
   "source": [
    "SI = to_df(SimpleImputer)\n",
    "\n",
    "prep = make_pipeline(\n",
    "    FunctionTransformer(select_columns),\n",
    "    SI(missing_values=np.nan, strategy='mean', add_indicator=False)\n",
    ")\n",
    "transformed = prep.fit_transform(x_train)\n",
    "\n",
    "transformed"
   ]
  },
  {
   "cell_type": "code",
   "execution_count": null,
   "metadata": {},
   "outputs": [],
   "source": [
    "si = SI(missing_values=np.nan, strategy='mean', add_indicator=False)\n",
    "si.fit_transform(X = a2)"
   ]
  },
  {
   "cell_type": "code",
   "execution_count": null,
   "metadata": {},
   "outputs": [],
   "source": [
    "a1 = x_train\n",
    "a2 = select_columns(a1)\n",
    "a3 = impute_na(a2)\n",
    "a3"
   ]
  },
  {
   "cell_type": "code",
   "execution_count": null,
   "metadata": {},
   "outputs": [],
   "source": [
    "mod = sm.Logit(list(y_train), a3.astype(float))\n",
    "res = mod.fit()\n",
    "res.summary()"
   ]
  },
  {
   "cell_type": "code",
   "execution_count": null,
   "metadata": {},
   "outputs": [],
   "source": [
    "    pipeline = make_pipeline(\n",
    "        PCA(), FunctionTransformer(all_but_first_column),\n",
    "    )\n",
    "    X_train, X_test, y_train, y_test = train_test_split(X, y)\n",
    "    pipeline.fit(X_train, y_train)\n",
    "    return pipeline.transform(X_test), y_test\n"
   ]
  }
 ],
 "metadata": {
  "kernelspec": {
   "display_name": "Python [conda env:ML] *",
   "language": "python",
   "name": "conda-env-ML-py"
  },
  "language_info": {
   "codemirror_mode": {
    "name": "ipython",
    "version": 3
   },
   "file_extension": ".py",
   "mimetype": "text/x-python",
   "name": "python",
   "nbconvert_exporter": "python",
   "pygments_lexer": "ipython3",
   "version": "3.7.5"
  }
 },
 "nbformat": 4,
 "nbformat_minor": 4
}
