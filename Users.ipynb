{
 "cells": [
  {
   "cell_type": "markdown",
   "metadata": {},
   "source": [
    "## Users analysis"
   ]
  },
  {
   "cell_type": "markdown",
   "metadata": {},
   "source": [
    "#### Contents:\n",
    "\n",
    "Data preparation:\n",
    "\n",
    "- Load accidents dataset\n",
    "- Correctly encode NA's\n",
    "- Create proper time column\n",
    "- Map values in columns to meaningful ones\n",
    "- Change columns names to meaningful ones\n",
    "\n",
    "EDA:\n",
    "\n",
    "- Check shapes, NA's\n",
    "- Univariate analysis - plots etc."
   ]
  },
  {
   "cell_type": "markdown",
   "metadata": {},
   "source": [
    "#### Key takeaways:\n",
    "\n",
    "- There are 1 876 005 users (people), with 839 985 accidents (some accidents had more than 1 person involved)\n",
    "- Variable \"place_in_car\" - dunno how to interpret that. Probably not meaningful much\n",
    "- Lots of NA's in pedestran_alone - probably the same number as people being pedestrians\n",
    "- number of people in each accidents higly skewed. In 99.9% accidents less than 10 people, but could be as much as 86. Maybe we should remove accidents with more than 10 people (accounting for 0.1% of cases)?\n",
    "- Imbalance in target variable - only 2% killed and 18% heavy injured.\n",
    "- Most of the users are drivers, with much less passengers and pedestrians.\n",
    "- Pedestrians are 2 times more likely to get killed or hospitalized than passengers and drivers.\n",
    "- 2x more men than women, men also get killed 2 times as often"
   ]
  },
  {
   "cell_type": "markdown",
   "metadata": {},
   "source": [
    "#### Loading the data"
   ]
  },
  {
   "cell_type": "code",
   "execution_count": 1,
   "metadata": {},
   "outputs": [],
   "source": [
    "import pandas as pd\n",
    "import numpy as np\n",
    "import seaborn as sns"
   ]
  },
  {
   "cell_type": "code",
   "execution_count": 2,
   "metadata": {},
   "outputs": [],
   "source": [
    "\n",
    "# vehicles = pd.read_csv('data/vehicles.csv', low_memory = False)\n",
    "# places = pd.read_csv('data/places.csv', low_memory = False)\n",
    "# users = pd.read_csv('data/users.csv', low_memory = False)"
   ]
  },
  {
   "cell_type": "code",
   "execution_count": 3,
   "metadata": {},
   "outputs": [],
   "source": [
    "users = pd.read_csv('data/users.csv', low_memory = False, encoding = 'latin-1',\n",
    "                       dtype= str)"
   ]
  },
  {
   "cell_type": "code",
   "execution_count": 4,
   "metadata": {},
   "outputs": [
    {
     "data": {
      "text/plain": [
       "Num_Acc    object\n",
       "place      object\n",
       "catu       object\n",
       "grav       object\n",
       "sexe       object\n",
       "trajet     object\n",
       "secu       object\n",
       "locp       object\n",
       "actp       object\n",
       "etatp      object\n",
       "an_nais    object\n",
       "num_veh    object\n",
       "dtype: object"
      ]
     },
     "execution_count": 4,
     "metadata": {},
     "output_type": "execute_result"
    }
   ],
   "source": [
    "users.dtypes"
   ]
  },
  {
   "cell_type": "code",
   "execution_count": 5,
   "metadata": {
    "scrolled": true
   },
   "outputs": [
    {
     "data": {
      "text/html": [
       "<div>\n",
       "<style scoped>\n",
       "    .dataframe tbody tr th:only-of-type {\n",
       "        vertical-align: middle;\n",
       "    }\n",
       "\n",
       "    .dataframe tbody tr th {\n",
       "        vertical-align: top;\n",
       "    }\n",
       "\n",
       "    .dataframe thead th {\n",
       "        text-align: right;\n",
       "    }\n",
       "</style>\n",
       "<table border=\"1\" class=\"dataframe\">\n",
       "  <thead>\n",
       "    <tr style=\"text-align: right;\">\n",
       "      <th></th>\n",
       "      <th>Num_Acc</th>\n",
       "      <th>place</th>\n",
       "      <th>catu</th>\n",
       "      <th>grav</th>\n",
       "      <th>sexe</th>\n",
       "      <th>trajet</th>\n",
       "      <th>secu</th>\n",
       "      <th>locp</th>\n",
       "      <th>actp</th>\n",
       "      <th>etatp</th>\n",
       "      <th>an_nais</th>\n",
       "      <th>num_veh</th>\n",
       "    </tr>\n",
       "  </thead>\n",
       "  <tbody>\n",
       "    <tr>\n",
       "      <th>0</th>\n",
       "      <td>201600000001</td>\n",
       "      <td>1</td>\n",
       "      <td>1</td>\n",
       "      <td>1</td>\n",
       "      <td>2</td>\n",
       "      <td>0</td>\n",
       "      <td>11</td>\n",
       "      <td>0</td>\n",
       "      <td>0</td>\n",
       "      <td>0</td>\n",
       "      <td>1983</td>\n",
       "      <td>B02</td>\n",
       "    </tr>\n",
       "    <tr>\n",
       "      <th>1</th>\n",
       "      <td>201600000001</td>\n",
       "      <td>1</td>\n",
       "      <td>1</td>\n",
       "      <td>3</td>\n",
       "      <td>1</td>\n",
       "      <td>9</td>\n",
       "      <td>21</td>\n",
       "      <td>0</td>\n",
       "      <td>0</td>\n",
       "      <td>0</td>\n",
       "      <td>2001</td>\n",
       "      <td>A01</td>\n",
       "    </tr>\n",
       "    <tr>\n",
       "      <th>2</th>\n",
       "      <td>201600000002</td>\n",
       "      <td>1</td>\n",
       "      <td>1</td>\n",
       "      <td>3</td>\n",
       "      <td>1</td>\n",
       "      <td>5</td>\n",
       "      <td>11</td>\n",
       "      <td>0</td>\n",
       "      <td>0</td>\n",
       "      <td>0</td>\n",
       "      <td>1960</td>\n",
       "      <td>A01</td>\n",
       "    </tr>\n",
       "    <tr>\n",
       "      <th>3</th>\n",
       "      <td>201600000002</td>\n",
       "      <td>2</td>\n",
       "      <td>2</td>\n",
       "      <td>3</td>\n",
       "      <td>1</td>\n",
       "      <td>0</td>\n",
       "      <td>11</td>\n",
       "      <td>0</td>\n",
       "      <td>0</td>\n",
       "      <td>0</td>\n",
       "      <td>2000</td>\n",
       "      <td>A01</td>\n",
       "    </tr>\n",
       "    <tr>\n",
       "      <th>4</th>\n",
       "      <td>201600000002</td>\n",
       "      <td>3</td>\n",
       "      <td>2</td>\n",
       "      <td>3</td>\n",
       "      <td>2</td>\n",
       "      <td>0</td>\n",
       "      <td>11</td>\n",
       "      <td>0</td>\n",
       "      <td>0</td>\n",
       "      <td>0</td>\n",
       "      <td>1962</td>\n",
       "      <td>A01</td>\n",
       "    </tr>\n",
       "  </tbody>\n",
       "</table>\n",
       "</div>"
      ],
      "text/plain": [
       "        Num_Acc place catu grav sexe trajet secu locp actp etatp an_nais  \\\n",
       "0  201600000001     1    1    1    2      0   11    0    0     0    1983   \n",
       "1  201600000001     1    1    3    1      9   21    0    0     0    2001   \n",
       "2  201600000002     1    1    3    1      5   11    0    0     0    1960   \n",
       "3  201600000002     2    2    3    1      0   11    0    0     0    2000   \n",
       "4  201600000002     3    2    3    2      0   11    0    0     0    1962   \n",
       "\n",
       "  num_veh  \n",
       "0     B02  \n",
       "1     A01  \n",
       "2     A01  \n",
       "3     A01  \n",
       "4     A01  "
      ]
     },
     "execution_count": 5,
     "metadata": {},
     "output_type": "execute_result"
    }
   ],
   "source": [
    "users.head()"
   ]
  },
  {
   "cell_type": "code",
   "execution_count": 6,
   "metadata": {},
   "outputs": [
    {
     "data": {
      "text/plain": [
       "Index(['Num_Acc', 'place', 'catu', 'grav', 'sexe', 'trajet', 'secu', 'locp',\n",
       "       'actp', 'etatp', 'an_nais', 'num_veh'],\n",
       "      dtype='object')"
      ]
     },
     "execution_count": 6,
     "metadata": {},
     "output_type": "execute_result"
    }
   ],
   "source": [
    "users.columns"
   ]
  },
  {
   "cell_type": "markdown",
   "metadata": {},
   "source": [
    "Now I'm mapping values of the columns to meaningful ones"
   ]
  },
  {
   "cell_type": "code",
   "execution_count": 7,
   "metadata": {},
   "outputs": [],
   "source": [
    "import mappings\n",
    "# A file with dictionaries containing columns values mappings"
   ]
  },
  {
   "cell_type": "markdown",
   "metadata": {},
   "source": [
    "\"secu\" variable is strange - only second character is meaningful. Also, 3 should be nan"
   ]
  },
  {
   "cell_type": "code",
   "execution_count": 8,
   "metadata": {},
   "outputs": [],
   "source": [
    "users[\"secu\"] = users.secu.apply(lambda x: str(x)[1] if len(str(x)) == 2 else np.nan)\n",
    "users[\"secu\"] = users[\"secu\"].map(mappings.secu_map)\n",
    "\n",
    "users[\"catu\"] = users[\"catu\"].map(mappings.catu_map)\n",
    "users[\"grav\"] = users[\"grav\"].map(mappings.grav_map)\n",
    "users[\"sexe\"] = users[\"sexe\"].map(mappings.sexe_map)\n",
    "users[\"actp\"] = users[\"actp\"].map(mappings.actp_map)\n",
    "users[\"etatp\"] = users[\"etatp\"].map(mappings.etatp_map)"
   ]
  },
  {
   "cell_type": "code",
   "execution_count": 9,
   "metadata": {},
   "outputs": [
    {
     "data": {
      "text/html": [
       "<div>\n",
       "<style scoped>\n",
       "    .dataframe tbody tr th:only-of-type {\n",
       "        vertical-align: middle;\n",
       "    }\n",
       "\n",
       "    .dataframe tbody tr th {\n",
       "        vertical-align: top;\n",
       "    }\n",
       "\n",
       "    .dataframe thead th {\n",
       "        text-align: right;\n",
       "    }\n",
       "</style>\n",
       "<table border=\"1\" class=\"dataframe\">\n",
       "  <thead>\n",
       "    <tr style=\"text-align: right;\">\n",
       "      <th></th>\n",
       "      <th>Num_Acc</th>\n",
       "      <th>place</th>\n",
       "      <th>catu</th>\n",
       "      <th>grav</th>\n",
       "      <th>sexe</th>\n",
       "      <th>trajet</th>\n",
       "      <th>secu</th>\n",
       "      <th>locp</th>\n",
       "      <th>actp</th>\n",
       "      <th>etatp</th>\n",
       "      <th>an_nais</th>\n",
       "      <th>num_veh</th>\n",
       "    </tr>\n",
       "  </thead>\n",
       "  <tbody>\n",
       "    <tr>\n",
       "      <th>0</th>\n",
       "      <td>201600000001</td>\n",
       "      <td>1</td>\n",
       "      <td>Driver</td>\n",
       "      <td>Unscathed</td>\n",
       "      <td>Female</td>\n",
       "      <td>0</td>\n",
       "      <td>yes</td>\n",
       "      <td>0</td>\n",
       "      <td>not specified or not applicable</td>\n",
       "      <td>NaN</td>\n",
       "      <td>1983</td>\n",
       "      <td>B02</td>\n",
       "    </tr>\n",
       "    <tr>\n",
       "      <th>1</th>\n",
       "      <td>201600000001</td>\n",
       "      <td>1</td>\n",
       "      <td>Driver</td>\n",
       "      <td>Hospitalized wounded</td>\n",
       "      <td>Male</td>\n",
       "      <td>9</td>\n",
       "      <td>yes</td>\n",
       "      <td>0</td>\n",
       "      <td>not specified or not applicable</td>\n",
       "      <td>NaN</td>\n",
       "      <td>2001</td>\n",
       "      <td>A01</td>\n",
       "    </tr>\n",
       "    <tr>\n",
       "      <th>2</th>\n",
       "      <td>201600000002</td>\n",
       "      <td>1</td>\n",
       "      <td>Driver</td>\n",
       "      <td>Hospitalized wounded</td>\n",
       "      <td>Male</td>\n",
       "      <td>5</td>\n",
       "      <td>yes</td>\n",
       "      <td>0</td>\n",
       "      <td>not specified or not applicable</td>\n",
       "      <td>NaN</td>\n",
       "      <td>1960</td>\n",
       "      <td>A01</td>\n",
       "    </tr>\n",
       "  </tbody>\n",
       "</table>\n",
       "</div>"
      ],
      "text/plain": [
       "        Num_Acc place    catu                  grav    sexe trajet secu locp  \\\n",
       "0  201600000001     1  Driver             Unscathed  Female      0  yes    0   \n",
       "1  201600000001     1  Driver  Hospitalized wounded    Male      9  yes    0   \n",
       "2  201600000002     1  Driver  Hospitalized wounded    Male      5  yes    0   \n",
       "\n",
       "                              actp etatp an_nais num_veh  \n",
       "0  not specified or not applicable   NaN    1983     B02  \n",
       "1  not specified or not applicable   NaN    2001     A01  \n",
       "2  not specified or not applicable   NaN    1960     A01  "
      ]
     },
     "execution_count": 9,
     "metadata": {},
     "output_type": "execute_result"
    }
   ],
   "source": [
    "users.head(3)"
   ]
  },
  {
   "cell_type": "markdown",
   "metadata": {},
   "source": [
    "Changing columns names for readable in english"
   ]
  },
  {
   "cell_type": "code",
   "execution_count": 10,
   "metadata": {},
   "outputs": [
    {
     "data": {
      "text/plain": [
       "Index(['Num_Acc', 'place', 'catu', 'grav', 'sexe', 'trajet', 'secu', 'locp',\n",
       "       'actp', 'etatp', 'an_nais', 'num_veh'],\n",
       "      dtype='object')"
      ]
     },
     "execution_count": 10,
     "metadata": {},
     "output_type": "execute_result"
    }
   ],
   "source": [
    "users.columns"
   ]
  },
  {
   "cell_type": "code",
   "execution_count": 11,
   "metadata": {},
   "outputs": [],
   "source": [
    "colnames_map = {\n",
    "    \"Num_Acc\": \"accident_id\",\n",
    "    \"place\": \"place_in_car\",\n",
    "    \"catu\": \"user_type\",\n",
    "    \"grav\": \"injury_type\",\n",
    "    \"sexe\": \"sex\",\n",
    "    \"secu\": \"equipment_used\",\n",
    "    \"actp\": \"pedestrian_action\",\n",
    "    \"etatp\": \"pedestrian_alone\",\n",
    "    \"an_nais\": \"year_of_birth\",\n",
    "    \"num_veh\": \"vechicle_number\"\n",
    "               }"
   ]
  },
  {
   "cell_type": "code",
   "execution_count": 12,
   "metadata": {},
   "outputs": [],
   "source": [
    "users = users.rename(colnames_map, axis = 1)"
   ]
  },
  {
   "cell_type": "markdown",
   "metadata": {},
   "source": [
    "Removing columns meaning of which are not specified"
   ]
  },
  {
   "cell_type": "code",
   "execution_count": 13,
   "metadata": {},
   "outputs": [],
   "source": [
    "cols_to_drop = [\"trajet\", \"locp\"]\n",
    "users = users.drop(cols_to_drop, axis = 1)"
   ]
  },
  {
   "cell_type": "markdown",
   "metadata": {},
   "source": [
    "Add user_id "
   ]
  },
  {
   "cell_type": "code",
   "execution_count": 14,
   "metadata": {},
   "outputs": [],
   "source": [
    "users = users.reset_index().rename({\"index\": \"user_id\"}, axis = 1)"
   ]
  },
  {
   "cell_type": "markdown",
   "metadata": {},
   "source": [
    "#### EDA"
   ]
  },
  {
   "cell_type": "code",
   "execution_count": 15,
   "metadata": {
    "scrolled": true
   },
   "outputs": [
    {
     "data": {
      "text/html": [
       "<div>\n",
       "<style scoped>\n",
       "    .dataframe tbody tr th:only-of-type {\n",
       "        vertical-align: middle;\n",
       "    }\n",
       "\n",
       "    .dataframe tbody tr th {\n",
       "        vertical-align: top;\n",
       "    }\n",
       "\n",
       "    .dataframe thead th {\n",
       "        text-align: right;\n",
       "    }\n",
       "</style>\n",
       "<table border=\"1\" class=\"dataframe\">\n",
       "  <thead>\n",
       "    <tr style=\"text-align: right;\">\n",
       "      <th></th>\n",
       "      <th>user_id</th>\n",
       "      <th>accident_id</th>\n",
       "      <th>place_in_car</th>\n",
       "      <th>user_type</th>\n",
       "      <th>injury_type</th>\n",
       "      <th>sex</th>\n",
       "      <th>equipment_used</th>\n",
       "      <th>pedestrian_action</th>\n",
       "      <th>pedestrian_alone</th>\n",
       "      <th>year_of_birth</th>\n",
       "      <th>vechicle_number</th>\n",
       "    </tr>\n",
       "  </thead>\n",
       "  <tbody>\n",
       "    <tr>\n",
       "      <th>0</th>\n",
       "      <td>0</td>\n",
       "      <td>201600000001</td>\n",
       "      <td>1</td>\n",
       "      <td>Driver</td>\n",
       "      <td>Unscathed</td>\n",
       "      <td>Female</td>\n",
       "      <td>yes</td>\n",
       "      <td>not specified or not applicable</td>\n",
       "      <td>NaN</td>\n",
       "      <td>1983</td>\n",
       "      <td>B02</td>\n",
       "    </tr>\n",
       "    <tr>\n",
       "      <th>1</th>\n",
       "      <td>1</td>\n",
       "      <td>201600000001</td>\n",
       "      <td>1</td>\n",
       "      <td>Driver</td>\n",
       "      <td>Hospitalized wounded</td>\n",
       "      <td>Male</td>\n",
       "      <td>yes</td>\n",
       "      <td>not specified or not applicable</td>\n",
       "      <td>NaN</td>\n",
       "      <td>2001</td>\n",
       "      <td>A01</td>\n",
       "    </tr>\n",
       "    <tr>\n",
       "      <th>2</th>\n",
       "      <td>2</td>\n",
       "      <td>201600000002</td>\n",
       "      <td>1</td>\n",
       "      <td>Driver</td>\n",
       "      <td>Hospitalized wounded</td>\n",
       "      <td>Male</td>\n",
       "      <td>yes</td>\n",
       "      <td>not specified or not applicable</td>\n",
       "      <td>NaN</td>\n",
       "      <td>1960</td>\n",
       "      <td>A01</td>\n",
       "    </tr>\n",
       "    <tr>\n",
       "      <th>3</th>\n",
       "      <td>3</td>\n",
       "      <td>201600000002</td>\n",
       "      <td>2</td>\n",
       "      <td>Passenger</td>\n",
       "      <td>Hospitalized wounded</td>\n",
       "      <td>Male</td>\n",
       "      <td>yes</td>\n",
       "      <td>not specified or not applicable</td>\n",
       "      <td>NaN</td>\n",
       "      <td>2000</td>\n",
       "      <td>A01</td>\n",
       "    </tr>\n",
       "    <tr>\n",
       "      <th>4</th>\n",
       "      <td>4</td>\n",
       "      <td>201600000002</td>\n",
       "      <td>3</td>\n",
       "      <td>Passenger</td>\n",
       "      <td>Hospitalized wounded</td>\n",
       "      <td>Female</td>\n",
       "      <td>yes</td>\n",
       "      <td>not specified or not applicable</td>\n",
       "      <td>NaN</td>\n",
       "      <td>1962</td>\n",
       "      <td>A01</td>\n",
       "    </tr>\n",
       "  </tbody>\n",
       "</table>\n",
       "</div>"
      ],
      "text/plain": [
       "   user_id   accident_id place_in_car  user_type           injury_type  \\\n",
       "0        0  201600000001            1     Driver             Unscathed   \n",
       "1        1  201600000001            1     Driver  Hospitalized wounded   \n",
       "2        2  201600000002            1     Driver  Hospitalized wounded   \n",
       "3        3  201600000002            2  Passenger  Hospitalized wounded   \n",
       "4        4  201600000002            3  Passenger  Hospitalized wounded   \n",
       "\n",
       "      sex equipment_used                pedestrian_action pedestrian_alone  \\\n",
       "0  Female            yes  not specified or not applicable              NaN   \n",
       "1    Male            yes  not specified or not applicable              NaN   \n",
       "2    Male            yes  not specified or not applicable              NaN   \n",
       "3    Male            yes  not specified or not applicable              NaN   \n",
       "4  Female            yes  not specified or not applicable              NaN   \n",
       "\n",
       "  year_of_birth vechicle_number  \n",
       "0          1983             B02  \n",
       "1          2001             A01  \n",
       "2          1960             A01  \n",
       "3          2000             A01  \n",
       "4          1962             A01  "
      ]
     },
     "execution_count": 15,
     "metadata": {},
     "output_type": "execute_result"
    }
   ],
   "source": [
    "users.head()"
   ]
  },
  {
   "cell_type": "code",
   "execution_count": 16,
   "metadata": {},
   "outputs": [
    {
     "data": {
      "text/plain": [
       "(1876005, 11)"
      ]
     },
     "execution_count": 16,
     "metadata": {},
     "output_type": "execute_result"
    }
   ],
   "source": [
    "users.shape"
   ]
  },
  {
   "cell_type": "code",
   "execution_count": 17,
   "metadata": {},
   "outputs": [
    {
     "data": {
      "text/plain": [
       "839985"
      ]
     },
     "execution_count": 17,
     "metadata": {},
     "output_type": "execute_result"
    }
   ],
   "source": [
    "users.accident_id.nunique()"
   ]
  },
  {
   "cell_type": "markdown",
   "metadata": {},
   "source": [
    "There are more people than accidents. Check distribution later"
   ]
  },
  {
   "cell_type": "markdown",
   "metadata": {},
   "source": [
    "Testing percentage number of NA's"
   ]
  },
  {
   "cell_type": "code",
   "execution_count": 18,
   "metadata": {},
   "outputs": [
    {
     "data": {
      "text/plain": [
       "user_id               0.000000\n",
       "accident_id           0.000000\n",
       "place_in_car          5.349986\n",
       "user_type             0.000000\n",
       "injury_type           0.000000\n",
       "sex                   0.000000\n",
       "equipment_used       21.817532\n",
       "pedestrian_action     0.094509\n",
       "pedestrian_alone     92.046610\n",
       "year_of_birth         0.125319\n",
       "vechicle_number       0.000000\n",
       "dtype: float64"
      ]
     },
     "execution_count": 18,
     "metadata": {},
     "output_type": "execute_result"
    }
   ],
   "source": [
    "users.isna().sum()/users.shape[0]*100"
   ]
  },
  {
   "cell_type": "markdown",
   "metadata": {},
   "source": [
    "#### Check number of people in each accident"
   ]
  },
  {
   "cell_type": "code",
   "execution_count": 19,
   "metadata": {},
   "outputs": [],
   "source": [
    "a = users[[\"user_id\", \"accident_id\"]].groupby(\"accident_id\").count().reset_index()"
   ]
  },
  {
   "cell_type": "code",
   "execution_count": 20,
   "metadata": {
    "scrolled": true
   },
   "outputs": [
    {
     "data": {
      "text/html": [
       "<div>\n",
       "<style scoped>\n",
       "    .dataframe tbody tr th:only-of-type {\n",
       "        vertical-align: middle;\n",
       "    }\n",
       "\n",
       "    .dataframe tbody tr th {\n",
       "        vertical-align: top;\n",
       "    }\n",
       "\n",
       "    .dataframe thead th {\n",
       "        text-align: right;\n",
       "    }\n",
       "</style>\n",
       "<table border=\"1\" class=\"dataframe\">\n",
       "  <thead>\n",
       "    <tr style=\"text-align: right;\">\n",
       "      <th></th>\n",
       "      <th>user_id</th>\n",
       "    </tr>\n",
       "  </thead>\n",
       "  <tbody>\n",
       "    <tr>\n",
       "      <th>count</th>\n",
       "      <td>839985.000000</td>\n",
       "    </tr>\n",
       "    <tr>\n",
       "      <th>mean</th>\n",
       "      <td>2.233379</td>\n",
       "    </tr>\n",
       "    <tr>\n",
       "      <th>std</th>\n",
       "      <td>1.176360</td>\n",
       "    </tr>\n",
       "    <tr>\n",
       "      <th>min</th>\n",
       "      <td>1.000000</td>\n",
       "    </tr>\n",
       "    <tr>\n",
       "      <th>25%</th>\n",
       "      <td>2.000000</td>\n",
       "    </tr>\n",
       "    <tr>\n",
       "      <th>50%</th>\n",
       "      <td>2.000000</td>\n",
       "    </tr>\n",
       "    <tr>\n",
       "      <th>75%</th>\n",
       "      <td>2.000000</td>\n",
       "    </tr>\n",
       "    <tr>\n",
       "      <th>max</th>\n",
       "      <td>86.000000</td>\n",
       "    </tr>\n",
       "  </tbody>\n",
       "</table>\n",
       "</div>"
      ],
      "text/plain": [
       "             user_id\n",
       "count  839985.000000\n",
       "mean        2.233379\n",
       "std         1.176360\n",
       "min         1.000000\n",
       "25%         2.000000\n",
       "50%         2.000000\n",
       "75%         2.000000\n",
       "max        86.000000"
      ]
     },
     "execution_count": 20,
     "metadata": {},
     "output_type": "execute_result"
    }
   ],
   "source": [
    "a.describe()"
   ]
  },
  {
   "cell_type": "markdown",
   "metadata": {},
   "source": [
    "Cumulative percentage of people taking part in accidents:"
   ]
  },
  {
   "cell_type": "code",
   "execution_count": 21,
   "metadata": {},
   "outputs": [
    {
     "data": {
      "text/html": [
       "<div>\n",
       "<style scoped>\n",
       "    .dataframe tbody tr th:only-of-type {\n",
       "        vertical-align: middle;\n",
       "    }\n",
       "\n",
       "    .dataframe tbody tr th {\n",
       "        vertical-align: top;\n",
       "    }\n",
       "\n",
       "    .dataframe thead th {\n",
       "        text-align: right;\n",
       "    }\n",
       "</style>\n",
       "<table border=\"1\" class=\"dataframe\">\n",
       "  <thead>\n",
       "    <tr style=\"text-align: right;\">\n",
       "      <th></th>\n",
       "      <th>accident_id</th>\n",
       "    </tr>\n",
       "    <tr>\n",
       "      <th>user_id</th>\n",
       "      <th></th>\n",
       "    </tr>\n",
       "  </thead>\n",
       "  <tbody>\n",
       "    <tr>\n",
       "      <th>1</th>\n",
       "      <td>18.187349</td>\n",
       "    </tr>\n",
       "    <tr>\n",
       "      <th>2</th>\n",
       "      <td>75.412656</td>\n",
       "    </tr>\n",
       "    <tr>\n",
       "      <th>3</th>\n",
       "      <td>90.981506</td>\n",
       "    </tr>\n",
       "    <tr>\n",
       "      <th>4</th>\n",
       "      <td>96.077668</td>\n",
       "    </tr>\n",
       "    <tr>\n",
       "      <th>5</th>\n",
       "      <td>98.251993</td>\n",
       "    </tr>\n",
       "    <tr>\n",
       "      <th>6</th>\n",
       "      <td>99.187605</td>\n",
       "    </tr>\n",
       "    <tr>\n",
       "      <th>7</th>\n",
       "      <td>99.586183</td>\n",
       "    </tr>\n",
       "    <tr>\n",
       "      <th>8</th>\n",
       "      <td>99.767972</td>\n",
       "    </tr>\n",
       "    <tr>\n",
       "      <th>9</th>\n",
       "      <td>99.857855</td>\n",
       "    </tr>\n",
       "    <tr>\n",
       "      <th>10</th>\n",
       "      <td>99.905594</td>\n",
       "    </tr>\n",
       "  </tbody>\n",
       "</table>\n",
       "</div>"
      ],
      "text/plain": [
       "         accident_id\n",
       "user_id             \n",
       "1          18.187349\n",
       "2          75.412656\n",
       "3          90.981506\n",
       "4          96.077668\n",
       "5          98.251993\n",
       "6          99.187605\n",
       "7          99.586183\n",
       "8          99.767972\n",
       "9          99.857855\n",
       "10         99.905594"
      ]
     },
     "execution_count": 21,
     "metadata": {},
     "output_type": "execute_result"
    }
   ],
   "source": [
    "(a.groupby(\"user_id\").count().cumsum()*100/a.user_id.count()).head(10)"
   ]
  },
  {
   "cell_type": "markdown",
   "metadata": {},
   "source": [
    "In most of the accidents number people is <3, but maximum is 86 people. Maybe we should remove accidents with more than 10 people (accounting for 0.1% of cases)? As these could beheavy outliers."
   ]
  },
  {
   "cell_type": "markdown",
   "metadata": {},
   "source": [
    "##### Injury type - our dependent variable"
   ]
  },
  {
   "cell_type": "code",
   "execution_count": 22,
   "metadata": {},
   "outputs": [
    {
     "data": {
      "text/plain": [
       "Text(0.5, 1.0, 'Injury type')"
      ]
     },
     "execution_count": 22,
     "metadata": {},
     "output_type": "execute_result"
    },
    {
     "data": {
      "image/png": "[encoded data removed]",
      "text/plain": [
       "<Figure size 432x288 with 1 Axes>"
      ]
     },
     "metadata": {
      "needs_background": "light"
     },
     "output_type": "display_data"
    }
   ],
   "source": [
    "a = users.groupby(\"injury_type\").count().reset_index()\n",
    "sns.barplot(x = \"user_id\", y = \"injury_type\", data = a).set_title(\"Injury type\")"
   ]
  },
  {
   "cell_type": "code",
   "execution_count": 23,
   "metadata": {},
   "outputs": [
    {
     "data": {
      "text/html": [
       "<div>\n",
       "<style scoped>\n",
       "    .dataframe tbody tr th:only-of-type {\n",
       "        vertical-align: middle;\n",
       "    }\n",
       "\n",
       "    .dataframe tbody tr th {\n",
       "        vertical-align: top;\n",
       "    }\n",
       "\n",
       "    .dataframe thead th {\n",
       "        text-align: right;\n",
       "    }\n",
       "</style>\n",
       "<table border=\"1\" class=\"dataframe\">\n",
       "  <thead>\n",
       "    <tr style=\"text-align: right;\">\n",
       "      <th></th>\n",
       "      <th>injury_type</th>\n",
       "      <th>user_id</th>\n",
       "      <th>percentage</th>\n",
       "    </tr>\n",
       "  </thead>\n",
       "  <tbody>\n",
       "    <tr>\n",
       "      <th>0</th>\n",
       "      <td>Hospitalized wounded</td>\n",
       "      <td>393669</td>\n",
       "      <td>20.984432</td>\n",
       "    </tr>\n",
       "    <tr>\n",
       "      <th>1</th>\n",
       "      <td>Killed</td>\n",
       "      <td>50589</td>\n",
       "      <td>2.696635</td>\n",
       "    </tr>\n",
       "    <tr>\n",
       "      <th>2</th>\n",
       "      <td>Light injury</td>\n",
       "      <td>666873</td>\n",
       "      <td>35.547507</td>\n",
       "    </tr>\n",
       "    <tr>\n",
       "      <th>3</th>\n",
       "      <td>Unscathed</td>\n",
       "      <td>764874</td>\n",
       "      <td>40.771427</td>\n",
       "    </tr>\n",
       "  </tbody>\n",
       "</table>\n",
       "</div>"
      ],
      "text/plain": [
       "            injury_type  user_id  percentage\n",
       "0  Hospitalized wounded   393669   20.984432\n",
       "1                Killed    50589    2.696635\n",
       "2          Light injury   666873   35.547507\n",
       "3             Unscathed   764874   40.771427"
      ]
     },
     "execution_count": 23,
     "metadata": {},
     "output_type": "execute_result"
    }
   ],
   "source": [
    "no_users = users.shape[0]\n",
    "a[[\"injury_type\", \"user_id\"]].assign(percentage = lambda x: x.user_id/no_users*100)"
   ]
  },
  {
   "cell_type": "markdown",
   "metadata": {},
   "source": [
    "An imbalance in dependent variable is present. If we don't bin killed and wounded ones, we get only 2% of cases in one category. Probably we should bin 0,1 and 2,3 together. But still, we get 20%/80% in categories. This will probably be a thing in modeling later on."
   ]
  },
  {
   "cell_type": "markdown",
   "metadata": {},
   "source": [
    "#### Type of person"
   ]
  },
  {
   "cell_type": "code",
   "execution_count": 24,
   "metadata": {},
   "outputs": [
    {
     "data": {
      "text/plain": [
       "Text(0.5, 1.0, 'user_type')"
      ]
     },
     "execution_count": 24,
     "metadata": {},
     "output_type": "execute_result"
    },
    {
     "data": {
      "image/png": "[encoded data removed]",
      "text/plain": [
       "<Figure size 432x288 with 1 Axes>"
      ]
     },
     "metadata": {
      "needs_background": "light"
     },
     "output_type": "display_data"
    }
   ],
   "source": [
    "a = users.groupby(\"user_type\").count().reset_index()\n",
    "sns.barplot(x = \"accident_id\", y = \"user_type\", data = a).set_title(\"user_type\")"
   ]
  },
  {
   "cell_type": "code",
   "execution_count": 25,
   "metadata": {},
   "outputs": [
    {
     "data": {
      "text/html": [
       "<div>\n",
       "<style scoped>\n",
       "    .dataframe tbody tr th:only-of-type {\n",
       "        vertical-align: middle;\n",
       "    }\n",
       "\n",
       "    .dataframe tbody tr th {\n",
       "        vertical-align: top;\n",
       "    }\n",
       "\n",
       "    .dataframe thead th {\n",
       "        text-align: right;\n",
       "    }\n",
       "</style>\n",
       "<table border=\"1\" class=\"dataframe\">\n",
       "  <thead>\n",
       "    <tr style=\"text-align: right;\">\n",
       "      <th></th>\n",
       "      <th>user_type</th>\n",
       "      <th>user_id</th>\n",
       "      <th>percentage</th>\n",
       "    </tr>\n",
       "  </thead>\n",
       "  <tbody>\n",
       "    <tr>\n",
       "      <th>0</th>\n",
       "      <td>Driver</td>\n",
       "      <td>1397701</td>\n",
       "      <td>74.504119</td>\n",
       "    </tr>\n",
       "    <tr>\n",
       "      <th>1</th>\n",
       "      <td>Passenger</td>\n",
       "      <td>319388</td>\n",
       "      <td>17.024901</td>\n",
       "    </tr>\n",
       "    <tr>\n",
       "      <th>2</th>\n",
       "      <td>Pedestrian</td>\n",
       "      <td>155649</td>\n",
       "      <td>8.296833</td>\n",
       "    </tr>\n",
       "    <tr>\n",
       "      <th>3</th>\n",
       "      <td>Pedestrian in rollerblade or scooter</td>\n",
       "      <td>3267</td>\n",
       "      <td>0.174147</td>\n",
       "    </tr>\n",
       "  </tbody>\n",
       "</table>\n",
       "</div>"
      ],
      "text/plain": [
       "                              user_type  user_id  percentage\n",
       "0                                Driver  1397701   74.504119\n",
       "1                             Passenger   319388   17.024901\n",
       "2                            Pedestrian   155649    8.296833\n",
       "3  Pedestrian in rollerblade or scooter     3267    0.174147"
      ]
     },
     "execution_count": 25,
     "metadata": {},
     "output_type": "execute_result"
    }
   ],
   "source": [
    "types_percentages = a[[\"user_type\", \"user_id\"]].assign(percentage = lambda x: x.user_id/no_users*100)\n",
    "types_percentages"
   ]
  },
  {
   "cell_type": "markdown",
   "metadata": {},
   "source": [
    "Most of the users are drivers, with much less passengers and pedestrians."
   ]
  },
  {
   "cell_type": "code",
   "execution_count": 26,
   "metadata": {},
   "outputs": [
    {
     "data": {
      "text/plain": [
       "Text(0.5, 1.0, 'user_type and injury type')"
      ]
     },
     "execution_count": 26,
     "metadata": {},
     "output_type": "execute_result"
    },
    {
     "data": {
      "image/png": "[encoded data removed]",
      "text/plain": [
       "<Figure size 432x288 with 1 Axes>"
      ]
     },
     "metadata": {
      "needs_background": "light"
     },
     "output_type": "display_data"
    }
   ],
   "source": [
    "a = users.groupby([\"user_type\", \"injury_type\"]).count().reset_index()\n",
    "sns.barplot(y = \"accident_id\", x = \"user_type\", hue = \"injury_type\", data = a).set_title(\"user_type and injury type\")"
   ]
  },
  {
   "cell_type": "markdown",
   "metadata": {},
   "source": [
    "Obtaining the same information as in above plot, but using percentages, not absolute values"
   ]
  },
  {
   "cell_type": "code",
   "execution_count": 27,
   "metadata": {},
   "outputs": [
    {
     "data": {
      "text/html": [
       "<div>\n",
       "<style scoped>\n",
       "    .dataframe tbody tr th:only-of-type {\n",
       "        vertical-align: middle;\n",
       "    }\n",
       "\n",
       "    .dataframe tbody tr th {\n",
       "        vertical-align: top;\n",
       "    }\n",
       "\n",
       "    .dataframe thead th {\n",
       "        text-align: right;\n",
       "    }\n",
       "</style>\n",
       "<table border=\"1\" class=\"dataframe\">\n",
       "  <thead>\n",
       "    <tr style=\"text-align: right;\">\n",
       "      <th></th>\n",
       "      <th>user_type</th>\n",
       "      <th>injury_type</th>\n",
       "      <th>percentage</th>\n",
       "    </tr>\n",
       "  </thead>\n",
       "  <tbody>\n",
       "    <tr>\n",
       "      <th>0</th>\n",
       "      <td>Driver</td>\n",
       "      <td>Hospitalized wounded</td>\n",
       "      <td>18.624441</td>\n",
       "    </tr>\n",
       "    <tr>\n",
       "      <th>1</th>\n",
       "      <td>Driver</td>\n",
       "      <td>Killed</td>\n",
       "      <td>2.513342</td>\n",
       "    </tr>\n",
       "    <tr>\n",
       "      <th>2</th>\n",
       "      <td>Driver</td>\n",
       "      <td>Light injury</td>\n",
       "      <td>31.327158</td>\n",
       "    </tr>\n",
       "    <tr>\n",
       "      <th>3</th>\n",
       "      <td>Driver</td>\n",
       "      <td>Unscathed</td>\n",
       "      <td>47.535059</td>\n",
       "    </tr>\n",
       "    <tr>\n",
       "      <th>4</th>\n",
       "      <td>Passenger</td>\n",
       "      <td>Hospitalized wounded</td>\n",
       "      <td>23.333688</td>\n",
       "    </tr>\n",
       "    <tr>\n",
       "      <th>5</th>\n",
       "      <td>Passenger</td>\n",
       "      <td>Killed</td>\n",
       "      <td>2.737736</td>\n",
       "    </tr>\n",
       "    <tr>\n",
       "      <th>6</th>\n",
       "      <td>Passenger</td>\n",
       "      <td>Light injury</td>\n",
       "      <td>43.417724</td>\n",
       "    </tr>\n",
       "    <tr>\n",
       "      <th>7</th>\n",
       "      <td>Passenger</td>\n",
       "      <td>Unscathed</td>\n",
       "      <td>30.510852</td>\n",
       "    </tr>\n",
       "    <tr>\n",
       "      <th>8</th>\n",
       "      <td>Pedestrian</td>\n",
       "      <td>Hospitalized wounded</td>\n",
       "      <td>37.092432</td>\n",
       "    </tr>\n",
       "    <tr>\n",
       "      <th>9</th>\n",
       "      <td>Pedestrian</td>\n",
       "      <td>Killed</td>\n",
       "      <td>4.275646</td>\n",
       "    </tr>\n",
       "    <tr>\n",
       "      <th>10</th>\n",
       "      <td>Pedestrian</td>\n",
       "      <td>Light injury</td>\n",
       "      <td>56.741129</td>\n",
       "    </tr>\n",
       "    <tr>\n",
       "      <th>11</th>\n",
       "      <td>Pedestrian</td>\n",
       "      <td>Unscathed</td>\n",
       "      <td>1.890793</td>\n",
       "    </tr>\n",
       "    <tr>\n",
       "      <th>12</th>\n",
       "      <td>Pedestrian in rollerblade or scooter</td>\n",
       "      <td>Hospitalized wounded</td>\n",
       "      <td>33.547597</td>\n",
       "    </tr>\n",
       "    <tr>\n",
       "      <th>13</th>\n",
       "      <td>Pedestrian in rollerblade or scooter</td>\n",
       "      <td>Killed</td>\n",
       "      <td>1.867156</td>\n",
       "    </tr>\n",
       "    <tr>\n",
       "      <th>14</th>\n",
       "      <td>Pedestrian in rollerblade or scooter</td>\n",
       "      <td>Light injury</td>\n",
       "      <td>61.983471</td>\n",
       "    </tr>\n",
       "    <tr>\n",
       "      <th>15</th>\n",
       "      <td>Pedestrian in rollerblade or scooter</td>\n",
       "      <td>Unscathed</td>\n",
       "      <td>2.601775</td>\n",
       "    </tr>\n",
       "  </tbody>\n",
       "</table>\n",
       "</div>"
      ],
      "text/plain": [
       "                               user_type           injury_type  percentage\n",
       "0                                 Driver  Hospitalized wounded   18.624441\n",
       "1                                 Driver                Killed    2.513342\n",
       "2                                 Driver          Light injury   31.327158\n",
       "3                                 Driver             Unscathed   47.535059\n",
       "4                              Passenger  Hospitalized wounded   23.333688\n",
       "5                              Passenger                Killed    2.737736\n",
       "6                              Passenger          Light injury   43.417724\n",
       "7                              Passenger             Unscathed   30.510852\n",
       "8                             Pedestrian  Hospitalized wounded   37.092432\n",
       "9                             Pedestrian                Killed    4.275646\n",
       "10                            Pedestrian          Light injury   56.741129\n",
       "11                            Pedestrian             Unscathed    1.890793\n",
       "12  Pedestrian in rollerblade or scooter  Hospitalized wounded   33.547597\n",
       "13  Pedestrian in rollerblade or scooter                Killed    1.867156\n",
       "14  Pedestrian in rollerblade or scooter          Light injury   61.983471\n",
       "15  Pedestrian in rollerblade or scooter             Unscathed    2.601775"
      ]
     },
     "execution_count": 27,
     "metadata": {},
     "output_type": "execute_result"
    }
   ],
   "source": [
    "b = a.iloc[:,:3].set_index(\"user_type\")\n",
    "types_percentages2 = types_percentages.set_index(\"user_type\").iloc[:,0]#.user_id\n",
    "\n",
    "joined = b.join(types_percentages2, rsuffix = \"_total\")\n",
    "joined2 = joined.reset_index().assign(percentage = lambda x: x.user_id/x.user_id_total*100)\n",
    "joined2.drop([\"user_id\", \"user_id_total\"], axis = 1)"
   ]
  },
  {
   "cell_type": "markdown",
   "metadata": {},
   "source": [
    "Percentages for Driver and Pasenger are almost the same. However, pedestrians have almost two times the risk of getting hospitalized or killed. This sounds like a good predictor. The problem is that majority of the people in the dataset are the drivers. So this is a valuable predictor but only for 8% of the observations.\n",
    "\n",
    "Pedestrian in rollerblade category is very rare. Maybe should be treated as the driver in modeling? (as percentages are close to each other)"
   ]
  },
  {
   "cell_type": "markdown",
   "metadata": {},
   "source": [
    "#### Sex"
   ]
  },
  {
   "cell_type": "code",
   "execution_count": 28,
   "metadata": {},
   "outputs": [
    {
     "data": {
      "text/plain": [
       "Text(0.5, 1.0, 'Sex')"
      ]
     },
     "execution_count": 28,
     "metadata": {},
     "output_type": "execute_result"
    },
    {
     "data": {
      "image/png": "[encoded data removed]",
      "text/plain": [
       "<Figure size 432x288 with 1 Axes>"
      ]
     },
     "metadata": {
      "needs_background": "light"
     },
     "output_type": "display_data"
    }
   ],
   "source": [
    "a = users.groupby(\"sex\").count().reset_index()\n",
    "sns.barplot(x = \"accident_id\", y = \"sex\", data = a).set_title(\"Sex\")"
   ]
  },
  {
   "cell_type": "code",
   "execution_count": 29,
   "metadata": {},
   "outputs": [],
   "source": [
    "types_percentages = a.iloc[:,:2]"
   ]
  },
  {
   "cell_type": "code",
   "execution_count": 30,
   "metadata": {
    "scrolled": true
   },
   "outputs": [
    {
     "data": {
      "text/plain": [
       "Text(0.5, 1.0, 'Sex and injury type')"
      ]
     },
     "execution_count": 30,
     "metadata": {},
     "output_type": "execute_result"
    },
    {
     "data": {
      "image/png": "[encoded data removed]",
      "text/plain": [
       "<Figure size 432x288 with 1 Axes>"
      ]
     },
     "metadata": {
      "needs_background": "light"
     },
     "output_type": "display_data"
    }
   ],
   "source": [
    "a = users.groupby([\"sex\", \"injury_type\"]).count().reset_index()\n",
    "sns.barplot(y = \"accident_id\", x = \"sex\", hue = \"injury_type\", data = a).set_title(\"Sex and injury type\")"
   ]
  },
  {
   "cell_type": "code",
   "execution_count": 31,
   "metadata": {},
   "outputs": [
    {
     "data": {
      "text/html": [
       "<div>\n",
       "<style scoped>\n",
       "    .dataframe tbody tr th:only-of-type {\n",
       "        vertical-align: middle;\n",
       "    }\n",
       "\n",
       "    .dataframe tbody tr th {\n",
       "        vertical-align: top;\n",
       "    }\n",
       "\n",
       "    .dataframe thead th {\n",
       "        text-align: right;\n",
       "    }\n",
       "</style>\n",
       "<table border=\"1\" class=\"dataframe\">\n",
       "  <thead>\n",
       "    <tr style=\"text-align: right;\">\n",
       "      <th></th>\n",
       "      <th>sex</th>\n",
       "      <th>injury_type</th>\n",
       "      <th>percentage</th>\n",
       "    </tr>\n",
       "  </thead>\n",
       "  <tbody>\n",
       "    <tr>\n",
       "      <th>0</th>\n",
       "      <td>Female</td>\n",
       "      <td>Hospitalized wounded</td>\n",
       "      <td>20.382373</td>\n",
       "    </tr>\n",
       "    <tr>\n",
       "      <th>1</th>\n",
       "      <td>Female</td>\n",
       "      <td>Killed</td>\n",
       "      <td>1.962272</td>\n",
       "    </tr>\n",
       "    <tr>\n",
       "      <th>2</th>\n",
       "      <td>Female</td>\n",
       "      <td>Light injury</td>\n",
       "      <td>42.631878</td>\n",
       "    </tr>\n",
       "    <tr>\n",
       "      <th>3</th>\n",
       "      <td>Female</td>\n",
       "      <td>Unscathed</td>\n",
       "      <td>35.023477</td>\n",
       "    </tr>\n",
       "    <tr>\n",
       "      <th>4</th>\n",
       "      <td>Male</td>\n",
       "      <td>Hospitalized wounded</td>\n",
       "      <td>21.279475</td>\n",
       "    </tr>\n",
       "    <tr>\n",
       "      <th>5</th>\n",
       "      <td>Male</td>\n",
       "      <td>Killed</td>\n",
       "      <td>3.056514</td>\n",
       "    </tr>\n",
       "    <tr>\n",
       "      <th>6</th>\n",
       "      <td>Male</td>\n",
       "      <td>Light injury</td>\n",
       "      <td>32.075764</td>\n",
       "    </tr>\n",
       "    <tr>\n",
       "      <th>7</th>\n",
       "      <td>Male</td>\n",
       "      <td>Unscathed</td>\n",
       "      <td>43.588247</td>\n",
       "    </tr>\n",
       "  </tbody>\n",
       "</table>\n",
       "</div>"
      ],
      "text/plain": [
       "      sex           injury_type  percentage\n",
       "0  Female  Hospitalized wounded   20.382373\n",
       "1  Female                Killed    1.962272\n",
       "2  Female          Light injury   42.631878\n",
       "3  Female             Unscathed   35.023477\n",
       "4    Male  Hospitalized wounded   21.279475\n",
       "5    Male                Killed    3.056514\n",
       "6    Male          Light injury   32.075764\n",
       "7    Male             Unscathed   43.588247"
      ]
     },
     "execution_count": 31,
     "metadata": {},
     "output_type": "execute_result"
    }
   ],
   "source": [
    "b = a.iloc[:,:3].set_index(\"sex\")\n",
    "types_percentages2 = types_percentages.set_index(\"sex\").iloc[:,0]#.user_id\n",
    "\n",
    "joined = b.join(types_percentages2, rsuffix = \"_total\")\n",
    "joined2 = joined.reset_index().assign(percentage = lambda x: x.user_id/x.user_id_total*100)\n",
    "joined2.drop([\"user_id\", \"user_id_total\"], axis = 1)"
   ]
  },
  {
   "cell_type": "markdown",
   "metadata": {},
   "source": [
    "Males have 33% more risk of getting killed (2 -> 3%), but the percentage for hospitalization does not differ much"
   ]
  },
  {
   "cell_type": "code",
   "execution_count": 32,
   "metadata": {},
   "outputs": [],
   "source": [
    "users.to_pickle('data/users_preprocessed.pkl')\n",
    "\n",
    "# users = read_pickle('data/users_preprocessed.pkl')"
   ]
  },
  {
   "cell_type": "markdown",
   "metadata": {},
   "source": [
    "### TODO yet\n",
    "\n",
    "- Add accidents dataframe to the people data, and do bivariate analysis (with our tagret variable)\n",
    "- Check age variable - but this should be done with date of accident variable, as the dataset spans 10 years\n",
    "-  Repeat the analysis for vechicles data and places data"
   ]
  }
 ],
 "metadata": {
  "kernelspec": {
   "display_name": "Python [conda env:ML] *",
   "language": "python",
   "name": "conda-env-ML-py"
  },
  "language_info": {
   "codemirror_mode": {
    "name": "ipython",
    "version": 3
   },
   "file_extension": ".py",
   "mimetype": "text/x-python",
   "name": "python",
   "nbconvert_exporter": "python",
   "pygments_lexer": "ipython3",
   "version": "3.7.5"
  }
 },
 "nbformat": 4,
 "nbformat_minor": 4
}
