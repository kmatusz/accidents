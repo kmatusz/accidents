{
 "cells": [
  {
   "cell_type": "markdown",
   "metadata": {},
   "source": [
    "### TODO:\n",
    "\n",
    "- Run every method on the same test set and compare\n",
    "- to the best model add generated features (user age and hour of accident)\n",
    "- run SVM and KNN on dataset obtrained from downsampling - on LR tested that it gives the same results as big one\n",
    "- try to compare auc curves - probably these will overlap fully for all created models but we can try"
   ]
  },
  {
   "cell_type": "markdown",
   "metadata": {},
   "source": [
    "### Preparation"
   ]
  },
  {
   "cell_type": "code",
   "execution_count": 1,
   "metadata": {},
   "outputs": [],
   "source": [
    "import pandas as pd\n",
    "import numpy as np\n",
    "import seaborn as sns\n",
    "import matplotlib.pyplot as plt\n",
    "\n",
    "import statsmodels.api as sm\n",
    "from statsmodels.tools.tools import add_constant\n",
    "\n",
    "from sklearn.model_selection import train_test_split, cross_val_score, cross_validate, KFold\n",
    "from sklearn.pipeline import make_pipeline\n",
    "from sklearn.preprocessing import FunctionTransformer, OneHotEncoder\n",
    "from sklearn.impute import SimpleImputer\n",
    "\n",
    "from sklearn.metrics import roc_auc_score, roc_curve\n",
    "\n",
    "from sklearn.neighbors import KNeighborsClassifier\n",
    "from sklearn.linear_model import LogisticRegression\n",
    "\n",
    "import pickle\n",
    "\n",
    "\n",
    "pd.set_option(\"display.max_columns\",200)\n",
    "\n",
    "def print_value_counts(df):\n",
    "    for i in df.columns:\n",
    "        print(f'column: {i}')\n",
    "        display(df[i].value_counts())\n",
    "        print()"
   ]
  },
  {
   "cell_type": "code",
   "execution_count": 2,
   "metadata": {},
   "outputs": [],
   "source": [
    "x_train = pd.read_pickle('data/x_train.pkl')\n",
    "y_train = pd.read_pickle('data/y_train.pkl')\n",
    "\n",
    "x_test = pd.read_pickle('data/x_test.pkl')\n",
    "y_test = pd.read_pickle('data/y_test.pkl')\n",
    "\n",
    "minfos_df = pd.read_pickle('data/minfos_df.pkl')"
   ]
  },
  {
   "cell_type": "markdown",
   "metadata": {},
   "source": [
    "## Modeling"
   ]
  },
  {
   "cell_type": "markdown",
   "metadata": {},
   "source": [
    "### GLM with adding features from mutual info"
   ]
  },
  {
   "cell_type": "markdown",
   "metadata": {},
   "source": [
    "Running kfold cross validation, with recursive feature selection. Features are added one by one, ordered by mutual info. Using caching here as it's running for long - just run next cell."
   ]
  },
  {
   "cell_type": "code",
   "execution_count": 3,
   "metadata": {},
   "outputs": [],
   "source": [
    "# from sklearn.model_selection import KFold\n",
    "# from sklearn.metrics import mean_squared_error\n",
    "# import random\n",
    "# kf = KFold(n_splits=3, shuffle=True, random_state=random.randint(0,10000))\n",
    "\n",
    "# scores = []\n",
    "\n",
    "# for no_features_to_include in range(1,30):\n",
    "#     if no_features_to_include % 5 == 1:\n",
    "#         # trick to control number of features selected \n",
    "#         print('running ', no_features_to_include)\n",
    "#     features = list(minfos_df.head(no_features_to_include).column)\n",
    "#     r2_train = []\n",
    "#     r2_test = []\n",
    "\n",
    "#     for train, test in kf.split(x_train.index.values):\n",
    "#         reg = LogisticRegression()\n",
    "#         reg.fit(x_train.iloc[train][features], y_train.iloc[train]['y'])\n",
    "        \n",
    "#         predsTrain = reg.predict_proba(x_train.iloc[train][features])\n",
    "#         preds = reg.predict_proba(x_train.iloc[test][features])\n",
    "\n",
    "#         r2_test.append(roc_auc_score(y_train.iloc[test].y, preds[:,1]))\n",
    "#         r2_train.append(roc_auc_score(y_train.iloc[train].y, predsTrain[:,1]))\n",
    "\n",
    "#     a = (no_features_to_include, np.mean(r2_test), np.mean(r2_train))\n",
    "#     scores.append(a)    \n",
    "# #     print(a)\n",
    "# roc_scores_lr = pd.DataFrame(scores, columns = ['no_features', 'test', 'train'])\n",
    "# roc_scores_lr.to_pickle('models_cache/roc_scores_lr_from_minfo.pkl')"
   ]
  },
  {
   "cell_type": "markdown",
   "metadata": {},
   "source": [
    "Note: above cell is cached and read below, no nneed to re-run"
   ]
  },
  {
   "cell_type": "code",
   "execution_count": 4,
   "metadata": {},
   "outputs": [],
   "source": [
    "roc_scores_lr = pd.read_pickle('models_cache/roc_scores_lr_from_minfo.pkl')"
   ]
  },
  {
   "cell_type": "code",
   "execution_count": 5,
   "metadata": {},
   "outputs": [
    {
     "data": {
      "text/plain": [
       "<matplotlib.axes._subplots.AxesSubplot at 0x7f9dafcf6f10>"
      ]
     },
     "execution_count": 5,
     "metadata": {},
     "output_type": "execute_result"
    },
    {
     "data": {
      "image/png": "[encoded data removed]",
      "text/plain": [
       "<Figure size 432x288 with 1 Axes>"
      ]
     },
     "metadata": {
      "needs_background": "light"
     },
     "output_type": "display_data"
    }
   ],
   "source": [
    "sns.scatterplot(x = 'no_features', y= 'value', hue = 'variable', alpha = 0.5, data = pd.melt(roc_scores_lr, id_vars = 'no_features'))"
   ]
  },
  {
   "cell_type": "markdown",
   "metadata": {},
   "source": [
    "The above plot shows that train and test scores overlap almost fully - that means that logistic regression is very resilient to overfitting as it didn't occur at all in this case"
   ]
  },
  {
   "cell_type": "markdown",
   "metadata": {},
   "source": [
    "Best value of AUC is around 0.74. After adding 20 features the outcome is not changing significantly. Now I'm fitting model with that amount of features to obtain true outcome on the held-out test set. "
   ]
  },
  {
   "cell_type": "code",
   "execution_count": 6,
   "metadata": {},
   "outputs": [
    {
     "name": "stdout",
     "output_type": "stream",
     "text": [
      "AUC for train set  0.7449061773364156\n",
      "AUC for test set  0.7138230627089149\n"
     ]
    }
   ],
   "source": [
    "features = list(minfos_df.head(20).column)\n",
    "reg = LogisticRegression()\n",
    "reg.fit(x_train[features], y_train['y'])\n",
    "\n",
    "predsTrain = reg.predict_proba(x_train[features])\n",
    "predsTest = reg.predict_proba(x_test[features])\n",
    "\n",
    "print(\"AUC for train set \" , roc_auc_score(y_train.y, predsTrain[:,1]))\n",
    "print(\"AUC for test set \" , roc_auc_score(y_test.y, predsTest[:,1]))"
   ]
  },
  {
   "cell_type": "markdown",
   "metadata": {},
   "source": [
    "Value of AUC for test set is 0.714 - drop from train set is really small"
   ]
  },
  {
   "cell_type": "markdown",
   "metadata": {},
   "source": [
    "### GLM model with all features"
   ]
  },
  {
   "cell_type": "code",
   "execution_count": 7,
   "metadata": {},
   "outputs": [
    {
     "data": {
      "text/html": [
       "<table class=\"simpletable\">\n",
       "<caption>Generalized Linear Model Regression Results</caption>\n",
       "<tr>\n",
       "  <th>Dep. Variable:</th>           <td>y</td>        <th>  No. Observations:  </th>   <td>778601</td>   \n",
       "</tr>\n",
       "<tr>\n",
       "  <th>Model:</th>                  <td>GLM</td>       <th>  Df Residuals:      </th>   <td>778548</td>   \n",
       "</tr>\n",
       "<tr>\n",
       "  <th>Model Family:</th>        <td>Binomial</td>     <th>  Df Model:          </th>   <td>    52</td>   \n",
       "</tr>\n",
       "<tr>\n",
       "  <th>Link Function:</th>         <td>logit</td>      <th>  Scale:             </th>  <td>  1.0000</td>  \n",
       "</tr>\n",
       "<tr>\n",
       "  <th>Method:</th>                <td>IRLS</td>       <th>  Log-Likelihood:    </th> <td>-3.7755e+05</td>\n",
       "</tr>\n",
       "<tr>\n",
       "  <th>Date:</th>            <td>Sat, 06 Jun 2020</td> <th>  Deviance:          </th> <td>7.5509e+05</td> \n",
       "</tr>\n",
       "<tr>\n",
       "  <th>Time:</th>                <td>22:21:24</td>     <th>  Pearson chi2:      </th>  <td>7.83e+05</td>  \n",
       "</tr>\n",
       "<tr>\n",
       "  <th>No. Iterations:</th>          <td>6</td>        <th>                     </th>      <td> </td>     \n",
       "</tr>\n",
       "<tr>\n",
       "  <th>Covariance Type:</th>     <td>nonrobust</td>    <th>                     </th>      <td> </td>     \n",
       "</tr>\n",
       "</table>\n",
       "<table class=\"simpletable\">\n",
       "<tr>\n",
       "                                <td></td>                                   <th>coef</th>     <th>std err</th>      <th>z</th>      <th>P>|z|</th>  <th>[0.025</th>    <th>0.975]</th>  \n",
       "</tr>\n",
       "<tr>\n",
       "  <th>d_lighting_Night with public lighting on</th>                      <td>    0.1898</td> <td>    0.009</td> <td>   22.300</td> <td> 0.000</td> <td>    0.173</td> <td>    0.206</td>\n",
       "</tr>\n",
       "<tr>\n",
       "  <th>d_lighting_Night without public lighting</th>                      <td>    0.3233</td> <td>    0.011</td> <td>   30.379</td> <td> 0.000</td> <td>    0.302</td> <td>    0.344</td>\n",
       "</tr>\n",
       "<tr>\n",
       "  <th>d_lighting_Twilight or dawn</th>                                   <td>    0.1165</td> <td>    0.012</td> <td>    9.682</td> <td> 0.000</td> <td>    0.093</td> <td>    0.140</td>\n",
       "</tr>\n",
       "<tr>\n",
       "  <th>d_localization_Out of agglomeration</th>                           <td>    0.7703</td> <td>    0.008</td> <td>   95.881</td> <td> 0.000</td> <td>    0.755</td> <td>    0.786</td>\n",
       "</tr>\n",
       "<tr>\n",
       "  <th>d_intersection_type_Intersection in T</th>                         <td>   -0.0772</td> <td>    0.015</td> <td>   -5.061</td> <td> 0.000</td> <td>   -0.107</td> <td>   -0.047</td>\n",
       "</tr>\n",
       "<tr>\n",
       "  <th>d_intersection_type_Intersection in X</th>                         <td>   -0.1482</td> <td>    0.014</td> <td>  -10.340</td> <td> 0.000</td> <td>   -0.176</td> <td>   -0.120</td>\n",
       "</tr>\n",
       "<tr>\n",
       "  <th>d_intersection_type_Out of intersection</th>                       <td>    0.1624</td> <td>    0.012</td> <td>   13.793</td> <td> 0.000</td> <td>    0.139</td> <td>    0.185</td>\n",
       "</tr>\n",
       "<tr>\n",
       "  <th>d_weather_Heavy rain</th>                                          <td>   -0.0826</td> <td>    0.023</td> <td>   -3.619</td> <td> 0.000</td> <td>   -0.127</td> <td>   -0.038</td>\n",
       "</tr>\n",
       "<tr>\n",
       "  <th>d_weather_Light rain</th>                                          <td>   -0.2482</td> <td>    0.016</td> <td>  -15.888</td> <td> 0.000</td> <td>   -0.279</td> <td>   -0.218</td>\n",
       "</tr>\n",
       "<tr>\n",
       "  <th>d_weather_Normal</th>                                              <td>   -0.1275</td> <td>    0.012</td> <td>  -10.635</td> <td> 0.000</td> <td>   -0.151</td> <td>   -0.104</td>\n",
       "</tr>\n",
       "<tr>\n",
       "  <th>d_collision_type_Other collision</th>                              <td>   -0.1250</td> <td>    0.630</td> <td>   -0.198</td> <td> 0.843</td> <td>   -1.359</td> <td>    1.109</td>\n",
       "</tr>\n",
       "<tr>\n",
       "  <th>d_collision_type_Three or more vehicles - multiple collisions</th> <td>   -0.6133</td> <td>    0.630</td> <td>   -0.974</td> <td> 0.330</td> <td>   -1.848</td> <td>    0.621</td>\n",
       "</tr>\n",
       "<tr>\n",
       "  <th>d_collision_type_Three vehicles and more - in chain</th>           <td>   -1.2402</td> <td>    0.630</td> <td>   -1.968</td> <td> 0.049</td> <td>   -2.476</td> <td>   -0.005</td>\n",
       "</tr>\n",
       "<tr>\n",
       "  <th>d_collision_type_Two vehicles - by the side</th>                   <td>   -0.2257</td> <td>    0.630</td> <td>   -0.358</td> <td> 0.720</td> <td>   -1.460</td> <td>    1.009</td>\n",
       "</tr>\n",
       "<tr>\n",
       "  <th>d_collision_type_Two vehicles - from the rear</th>                 <td>   -0.6120</td> <td>    0.630</td> <td>   -0.972</td> <td> 0.331</td> <td>   -1.846</td> <td>    0.623</td>\n",
       "</tr>\n",
       "<tr>\n",
       "  <th>d_collision_type_Two vehicles - frontal</th>                       <td>    0.1144</td> <td>    0.630</td> <td>    0.182</td> <td> 0.856</td> <td>   -1.120</td> <td>    1.349</td>\n",
       "</tr>\n",
       "<tr>\n",
       "  <th>d_collision_type_Without collision</th>                            <td>    0.2334</td> <td>    0.630</td> <td>    0.371</td> <td> 0.711</td> <td>   -1.001</td> <td>    1.468</td>\n",
       "</tr>\n",
       "<tr>\n",
       "  <th>d_road_category_Departmental Road</th>                             <td>    0.6558</td> <td>    0.007</td> <td>   88.362</td> <td> 0.000</td> <td>    0.641</td> <td>    0.670</td>\n",
       "</tr>\n",
       "<tr>\n",
       "  <th>d_road_category_Highway</th>                                       <td>   -0.0252</td> <td>    0.015</td> <td>   -1.634</td> <td> 0.102</td> <td>   -0.055</td> <td>    0.005</td>\n",
       "</tr>\n",
       "<tr>\n",
       "  <th>d_road_category_National Road</th>                                 <td>    0.3862</td> <td>    0.011</td> <td>   33.653</td> <td> 0.000</td> <td>    0.364</td> <td>    0.409</td>\n",
       "</tr>\n",
       "<tr>\n",
       "  <th>d_road_regime_NA</th>                                              <td>   -0.1335</td> <td>    0.013</td> <td>  -10.077</td> <td> 0.000</td> <td>   -0.159</td> <td>   -0.108</td>\n",
       "</tr>\n",
       "<tr>\n",
       "  <th>d_road_regime_One way</th>                                         <td>   -0.4902</td> <td>    0.009</td> <td>  -53.033</td> <td> 0.000</td> <td>   -0.508</td> <td>   -0.472</td>\n",
       "</tr>\n",
       "<tr>\n",
       "  <th>d_road_regime_Separated carriageways</th>                          <td>   -0.3084</td> <td>    0.011</td> <td>  -29.340</td> <td> 0.000</td> <td>   -0.329</td> <td>   -0.288</td>\n",
       "</tr>\n",
       "<tr>\n",
       "  <th>d_reserved_lane_NA</th>                                            <td>    0.0012</td> <td>    0.017</td> <td>    0.070</td> <td> 0.944</td> <td>   -0.031</td> <td>    0.034</td>\n",
       "</tr>\n",
       "<tr>\n",
       "  <th>d_reserved_lane_Reserved channel</th>                              <td>   -0.1326</td> <td>    0.024</td> <td>   -5.415</td> <td> 0.000</td> <td>   -0.181</td> <td>   -0.085</td>\n",
       "</tr>\n",
       "<tr>\n",
       "  <th>d_road_gradient_NA</th>                                            <td>    0.2226</td> <td>    0.011</td> <td>   20.198</td> <td> 0.000</td> <td>    0.201</td> <td>    0.244</td>\n",
       "</tr>\n",
       "<tr>\n",
       "  <th>d_road_gradient_Slope</th>                                         <td>    0.0703</td> <td>    0.008</td> <td>    8.429</td> <td> 0.000</td> <td>    0.054</td> <td>    0.087</td>\n",
       "</tr>\n",
       "<tr>\n",
       "  <th>d_road_plan_Curved right</th>                                      <td>    0.0146</td> <td>    0.013</td> <td>    1.137</td> <td> 0.256</td> <td>   -0.011</td> <td>    0.040</td>\n",
       "</tr>\n",
       "<tr>\n",
       "  <th>d_road_plan_NA</th>                                                <td>   -0.3535</td> <td>    0.015</td> <td>  -23.176</td> <td> 0.000</td> <td>   -0.383</td> <td>   -0.324</td>\n",
       "</tr>\n",
       "<tr>\n",
       "  <th>d_road_plan_Straight part</th>                                     <td>   -0.2734</td> <td>    0.010</td> <td>  -28.080</td> <td> 0.000</td> <td>   -0.293</td> <td>   -0.254</td>\n",
       "</tr>\n",
       "<tr>\n",
       "  <th>d_road_condition_normal</th>                                       <td>    0.1448</td> <td>    0.014</td> <td>   10.530</td> <td> 0.000</td> <td>    0.118</td> <td>    0.172</td>\n",
       "</tr>\n",
       "<tr>\n",
       "  <th>d_road_condition_wet</th>                                          <td>    0.0182</td> <td>    0.017</td> <td>    1.089</td> <td> 0.276</td> <td>   -0.015</td> <td>    0.051</td>\n",
       "</tr>\n",
       "<tr>\n",
       "  <th>d_infrastructure_Carrefour arranged</th>                           <td>    0.2502</td> <td>    0.018</td> <td>   13.950</td> <td> 0.000</td> <td>    0.215</td> <td>    0.285</td>\n",
       "</tr>\n",
       "<tr>\n",
       "  <th>d_infrastructure_NA</th>                                           <td>   -0.0166</td> <td>    0.014</td> <td>   -1.195</td> <td> 0.232</td> <td>   -0.044</td> <td>    0.011</td>\n",
       "</tr>\n",
       "<tr>\n",
       "  <th>d_accident_situation_On the road</th>                              <td>   -0.3092</td> <td>    0.010</td> <td>  -29.481</td> <td> 0.000</td> <td>   -0.330</td> <td>   -0.289</td>\n",
       "</tr>\n",
       "<tr>\n",
       "  <th>d_accident_situation_On the verge</th>                             <td>    0.6976</td> <td>    0.016</td> <td>   44.708</td> <td> 0.000</td> <td>    0.667</td> <td>    0.728</td>\n",
       "</tr>\n",
       "<tr>\n",
       "  <th>d_place_in_car_1</th>                                              <td>   -0.6858</td> <td>    0.050</td> <td>  -13.819</td> <td> 0.000</td> <td>   -0.783</td> <td>   -0.588</td>\n",
       "</tr>\n",
       "<tr>\n",
       "  <th>d_place_in_car_2</th>                                              <td>    0.0124</td> <td>    0.030</td> <td>    0.408</td> <td> 0.683</td> <td>   -0.047</td> <td>    0.072</td>\n",
       "</tr>\n",
       "<tr>\n",
       "  <th>d_place_in_car_3</th>                                              <td>   -0.4246</td> <td>    0.039</td> <td>  -10.888</td> <td> 0.000</td> <td>   -0.501</td> <td>   -0.348</td>\n",
       "</tr>\n",
       "<tr>\n",
       "  <th>d_place_in_car_4</th>                                              <td>   -0.3905</td> <td>    0.041</td> <td>   -9.524</td> <td> 0.000</td> <td>   -0.471</td> <td>   -0.310</td>\n",
       "</tr>\n",
       "<tr>\n",
       "  <th>d_place_in_car_NA</th>                                             <td>   -0.0628</td> <td>    0.016</td> <td>   -3.933</td> <td> 0.000</td> <td>   -0.094</td> <td>   -0.032</td>\n",
       "</tr>\n",
       "<tr>\n",
       "  <th>d_user_type_Passenger</th>                                         <td>   -0.6043</td> <td>    0.049</td> <td>  -12.305</td> <td> 0.000</td> <td>   -0.701</td> <td>   -0.508</td>\n",
       "</tr>\n",
       "<tr>\n",
       "  <th>d_user_type_Pedestrian</th>                                        <td>    0.5056</td> <td>    0.047</td> <td>   10.706</td> <td> 0.000</td> <td>    0.413</td> <td>    0.598</td>\n",
       "</tr>\n",
       "<tr>\n",
       "  <th>d_sex_Male</th>                                                    <td>    0.2459</td> <td>    0.006</td> <td>   37.850</td> <td> 0.000</td> <td>    0.233</td> <td>    0.259</td>\n",
       "</tr>\n",
       "<tr>\n",
       "  <th>d_equipment_used_no</th>                                           <td>    1.2598</td> <td>    0.016</td> <td>   77.543</td> <td> 0.000</td> <td>    1.228</td> <td>    1.292</td>\n",
       "</tr>\n",
       "<tr>\n",
       "  <th>d_equipment_used_yes</th>                                          <td>   -0.0656</td> <td>    0.009</td> <td>   -7.202</td> <td> 0.000</td> <td>   -0.083</td> <td>   -0.048</td>\n",
       "</tr>\n",
       "<tr>\n",
       "  <th>d_pedestrian_action_not specified or not applicable</th>           <td>-7.294e-05</td> <td>    0.034</td> <td>   -0.002</td> <td> 0.998</td> <td>   -0.067</td> <td>    0.067</td>\n",
       "</tr>\n",
       "<tr>\n",
       "  <th>d_pedestrian_alone_NA</th>                                         <td>   -0.0486</td> <td>    0.037</td> <td>   -1.317</td> <td> 0.188</td> <td>   -0.121</td> <td>    0.024</td>\n",
       "</tr>\n",
       "<tr>\n",
       "  <th>d_pedestrian_alone_Only</th>                                       <td>    0.1803</td> <td>    0.020</td> <td>    9.126</td> <td> 0.000</td> <td>    0.142</td> <td>    0.219</td>\n",
       "</tr>\n",
       "<tr>\n",
       "  <th>year</th>                                                          <td>   -0.0004</td> <td>    0.000</td> <td>   -1.181</td> <td> 0.238</td> <td>   -0.001</td> <td>    0.000</td>\n",
       "</tr>\n",
       "<tr>\n",
       "  <th>month</th>                                                         <td>    0.0026</td> <td>    0.001</td> <td>    3.032</td> <td> 0.002</td> <td>    0.001</td> <td>    0.004</td>\n",
       "</tr>\n",
       "<tr>\n",
       "  <th>hour</th>                                                          <td>    0.0021</td> <td>    0.001</td> <td>    3.348</td> <td> 0.001</td> <td>    0.001</td> <td>    0.003</td>\n",
       "</tr>\n",
       "<tr>\n",
       "  <th>user_age</th>                                                      <td>    0.0015</td> <td>    0.000</td> <td>    9.316</td> <td> 0.000</td> <td>    0.001</td> <td>    0.002</td>\n",
       "</tr>\n",
       "</table>"
      ],
      "text/plain": [
       "<class 'statsmodels.iolib.summary.Summary'>\n",
       "\"\"\"\n",
       "                 Generalized Linear Model Regression Results                  \n",
       "==============================================================================\n",
       "Dep. Variable:                      y   No. Observations:               778601\n",
       "Model:                            GLM   Df Residuals:                   778548\n",
       "Model Family:                Binomial   Df Model:                           52\n",
       "Link Function:                  logit   Scale:                          1.0000\n",
       "Method:                          IRLS   Log-Likelihood:            -3.7755e+05\n",
       "Date:                Sat, 06 Jun 2020   Deviance:                   7.5509e+05\n",
       "Time:                        22:21:24   Pearson chi2:                 7.83e+05\n",
       "No. Iterations:                     6                                         \n",
       "Covariance Type:            nonrobust                                         \n",
       "=================================================================================================================================\n",
       "                                                                    coef    std err          z      P>|z|      [0.025      0.975]\n",
       "---------------------------------------------------------------------------------------------------------------------------------\n",
       "d_lighting_Night with public lighting on                          0.1898      0.009     22.300      0.000       0.173       0.206\n",
       "d_lighting_Night without public lighting                          0.3233      0.011     30.379      0.000       0.302       0.344\n",
       "d_lighting_Twilight or dawn                                       0.1165      0.012      9.682      0.000       0.093       0.140\n",
       "d_localization_Out of agglomeration                               0.7703      0.008     95.881      0.000       0.755       0.786\n",
       "d_intersection_type_Intersection in T                            -0.0772      0.015     -5.061      0.000      -0.107      -0.047\n",
       "d_intersection_type_Intersection in X                            -0.1482      0.014    -10.340      0.000      -0.176      -0.120\n",
       "d_intersection_type_Out of intersection                           0.1624      0.012     13.793      0.000       0.139       0.185\n",
       "d_weather_Heavy rain                                             -0.0826      0.023     -3.619      0.000      -0.127      -0.038\n",
       "d_weather_Light rain                                             -0.2482      0.016    -15.888      0.000      -0.279      -0.218\n",
       "d_weather_Normal                                                 -0.1275      0.012    -10.635      0.000      -0.151      -0.104\n",
       "d_collision_type_Other collision                                 -0.1250      0.630     -0.198      0.843      -1.359       1.109\n",
       "d_collision_type_Three or more vehicles - multiple collisions    -0.6133      0.630     -0.974      0.330      -1.848       0.621\n",
       "d_collision_type_Three vehicles and more - in chain              -1.2402      0.630     -1.968      0.049      -2.476      -0.005\n",
       "d_collision_type_Two vehicles - by the side                      -0.2257      0.630     -0.358      0.720      -1.460       1.009\n",
       "d_collision_type_Two vehicles - from the rear                    -0.6120      0.630     -0.972      0.331      -1.846       0.623\n",
       "d_collision_type_Two vehicles - frontal                           0.1144      0.630      0.182      0.856      -1.120       1.349\n",
       "d_collision_type_Without collision                                0.2334      0.630      0.371      0.711      -1.001       1.468\n",
       "d_road_category_Departmental Road                                 0.6558      0.007     88.362      0.000       0.641       0.670\n",
       "d_road_category_Highway                                          -0.0252      0.015     -1.634      0.102      -0.055       0.005\n",
       "d_road_category_National Road                                     0.3862      0.011     33.653      0.000       0.364       0.409\n",
       "d_road_regime_NA                                                 -0.1335      0.013    -10.077      0.000      -0.159      -0.108\n",
       "d_road_regime_One way                                            -0.4902      0.009    -53.033      0.000      -0.508      -0.472\n",
       "d_road_regime_Separated carriageways                             -0.3084      0.011    -29.340      0.000      -0.329      -0.288\n",
       "d_reserved_lane_NA                                                0.0012      0.017      0.070      0.944      -0.031       0.034\n",
       "d_reserved_lane_Reserved channel                                 -0.1326      0.024     -5.415      0.000      -0.181      -0.085\n",
       "d_road_gradient_NA                                                0.2226      0.011     20.198      0.000       0.201       0.244\n",
       "d_road_gradient_Slope                                             0.0703      0.008      8.429      0.000       0.054       0.087\n",
       "d_road_plan_Curved right                                          0.0146      0.013      1.137      0.256      -0.011       0.040\n",
       "d_road_plan_NA                                                   -0.3535      0.015    -23.176      0.000      -0.383      -0.324\n",
       "d_road_plan_Straight part                                        -0.2734      0.010    -28.080      0.000      -0.293      -0.254\n",
       "d_road_condition_normal                                           0.1448      0.014     10.530      0.000       0.118       0.172\n",
       "d_road_condition_wet                                              0.0182      0.017      1.089      0.276      -0.015       0.051\n",
       "d_infrastructure_Carrefour arranged                               0.2502      0.018     13.950      0.000       0.215       0.285\n",
       "d_infrastructure_NA                                              -0.0166      0.014     -1.195      0.232      -0.044       0.011\n",
       "d_accident_situation_On the road                                 -0.3092      0.010    -29.481      0.000      -0.330      -0.289\n",
       "d_accident_situation_On the verge                                 0.6976      0.016     44.708      0.000       0.667       0.728\n",
       "d_place_in_car_1                                                 -0.6858      0.050    -13.819      0.000      -0.783      -0.588\n",
       "d_place_in_car_2                                                  0.0124      0.030      0.408      0.683      -0.047       0.072\n",
       "d_place_in_car_3                                                 -0.4246      0.039    -10.888      0.000      -0.501      -0.348\n",
       "d_place_in_car_4                                                 -0.3905      0.041     -9.524      0.000      -0.471      -0.310\n",
       "d_place_in_car_NA                                                -0.0628      0.016     -3.933      0.000      -0.094      -0.032\n",
       "d_user_type_Passenger                                            -0.6043      0.049    -12.305      0.000      -0.701      -0.508\n",
       "d_user_type_Pedestrian                                            0.5056      0.047     10.706      0.000       0.413       0.598\n",
       "d_sex_Male                                                        0.2459      0.006     37.850      0.000       0.233       0.259\n",
       "d_equipment_used_no                                               1.2598      0.016     77.543      0.000       1.228       1.292\n",
       "d_equipment_used_yes                                             -0.0656      0.009     -7.202      0.000      -0.083      -0.048\n",
       "d_pedestrian_action_not specified or not applicable           -7.294e-05      0.034     -0.002      0.998      -0.067       0.067\n",
       "d_pedestrian_alone_NA                                            -0.0486      0.037     -1.317      0.188      -0.121       0.024\n",
       "d_pedestrian_alone_Only                                           0.1803      0.020      9.126      0.000       0.142       0.219\n",
       "year                                                             -0.0004      0.000     -1.181      0.238      -0.001       0.000\n",
       "month                                                             0.0026      0.001      3.032      0.002       0.001       0.004\n",
       "hour                                                              0.0021      0.001      3.348      0.001       0.001       0.003\n",
       "user_age                                                          0.0015      0.000      9.316      0.000       0.001       0.002\n",
       "=================================================================================================================================\n",
       "\"\"\""
      ]
     },
     "execution_count": 7,
     "metadata": {},
     "output_type": "execute_result"
    }
   ],
   "source": [
    "mod = sm.GLM(y_train['y'],x_train,family = sm.families.Binomial())\n",
    "res= mod.fit()\n",
    "res.summary()"
   ]
  },
  {
   "cell_type": "code",
   "execution_count": 8,
   "metadata": {},
   "outputs": [
    {
     "data": {
      "text/html": [
       "<div>\n",
       "<style scoped>\n",
       "    .dataframe tbody tr th:only-of-type {\n",
       "        vertical-align: middle;\n",
       "    }\n",
       "\n",
       "    .dataframe tbody tr th {\n",
       "        vertical-align: top;\n",
       "    }\n",
       "\n",
       "    .dataframe thead th {\n",
       "        text-align: right;\n",
       "    }\n",
       "</style>\n",
       "<table border=\"1\" class=\"dataframe\">\n",
       "  <thead>\n",
       "    <tr style=\"text-align: right;\">\n",
       "      <th>col_0</th>\n",
       "      <th>0</th>\n",
       "      <th>1</th>\n",
       "    </tr>\n",
       "    <tr>\n",
       "      <th>y</th>\n",
       "      <th></th>\n",
       "      <th></th>\n",
       "    </tr>\n",
       "  </thead>\n",
       "  <tbody>\n",
       "    <tr>\n",
       "      <th>0</th>\n",
       "      <td>32964</td>\n",
       "      <td>547015</td>\n",
       "    </tr>\n",
       "    <tr>\n",
       "      <th>1</th>\n",
       "      <td>56227</td>\n",
       "      <td>142395</td>\n",
       "    </tr>\n",
       "  </tbody>\n",
       "</table>\n",
       "</div>"
      ],
      "text/plain": [
       "col_0      0       1\n",
       "y                   \n",
       "0      32964  547015\n",
       "1      56227  142395"
      ]
     },
     "execution_count": 8,
     "metadata": {},
     "output_type": "execute_result"
    }
   ],
   "source": [
    "prob = res.predict()\n",
    "preds = np.array([1 if x<0.5 else 0 for x in prob])\n",
    "pd.crosstab((y_train['y']),preds)"
   ]
  },
  {
   "cell_type": "code",
   "execution_count": 9,
   "metadata": {},
   "outputs": [
    {
     "data": {
      "text/plain": [
       "<matplotlib.legend.Legend at 0x7f9da04442e0>"
      ]
     },
     "execution_count": 9,
     "metadata": {},
     "output_type": "execute_result"
    },
    {
     "data": {
      "image/png": "[encoded data removed]",
      "text/plain": [
       "<Figure size 432x288 with 1 Axes>"
      ]
     },
     "metadata": {
      "needs_background": "light"
     },
     "output_type": "display_data"
    }
   ],
   "source": [
    "from sklearn.metrics import roc_curve\n",
    "fpr, tpr, _ = roc_curve(y_train.y, res.predict())\n",
    "plt.figure()\n",
    "lw = 2\n",
    "plt.plot(fpr, tpr, color='darkorange',\n",
    "         lw=lw, label='ROC curve')\n",
    "plt.plot([0, 1], [0, 1], color='navy', lw=lw, linestyle='--')\n",
    "plt.xlim([0.0, 1.0])\n",
    "plt.ylim([0.0, 1.05])\n",
    "plt.xlabel('False Positive Rate')\n",
    "plt.ylabel('True Positive Rate')\n",
    "plt.title('Receiver operating characteristic example')\n",
    "plt.legend(loc=\"lower right\")\n",
    "# plt.show()"
   ]
  },
  {
   "cell_type": "markdown",
   "metadata": {},
   "source": [
    "### Modeling with SVM - small set, 20 best features from mutual info"
   ]
  },
  {
   "cell_type": "markdown",
   "metadata": {},
   "source": [
    "As the dataset is huge - using SVM with other kernel than linear is out of question. Running it on 2 features only, with radial kernel, would take >10 minutes. That is why I have used linear kernel only. Linear kernel is still infeasible to run on the full dataset. Main train dataset has ~7 mln observations, fitting linear svm becomes infeasible at 100 000 obs - at 10 000 the speed is acceptable."
   ]
  },
  {
   "cell_type": "code",
   "execution_count": 10,
   "metadata": {},
   "outputs": [],
   "source": [
    "from sklearn.svm import SVC"
   ]
  },
  {
   "cell_type": "markdown",
   "metadata": {},
   "source": [
    "Reducing train set size - the same random state in x and y gives proper observations"
   ]
  },
  {
   "cell_type": "code",
   "execution_count": 11,
   "metadata": {},
   "outputs": [],
   "source": [
    "x_train_small = x_train.sample(n = 10000, random_state = 42)\n",
    "y_train_small = y_train.sample(n = 10000, random_state = 42)"
   ]
  },
  {
   "cell_type": "markdown",
   "metadata": {},
   "source": [
    "Running SVM on default parameters, best 20 features obtained before are selected."
   ]
  },
  {
   "cell_type": "code",
   "execution_count": 12,
   "metadata": {},
   "outputs": [
    {
     "data": {
      "text/plain": [
       "SVC(C=1.0, break_ties=False, cache_size=200, class_weight=None, coef0=0.0,\n",
       "    decision_function_shape='ovr', degree=3, gamma='scale', kernel='rbf',\n",
       "    max_iter=-1, probability=True, random_state=None, shrinking=True, tol=0.001,\n",
       "    verbose=False)"
      ]
     },
     "execution_count": 12,
     "metadata": {},
     "output_type": "execute_result"
    }
   ],
   "source": [
    "features = list(minfos_df.head(20).column)\n",
    "reg = SVC(kernel = 'rbf', probability = True)\n",
    "reg.fit(x_train_small[features], y_train_small['y'])"
   ]
  },
  {
   "cell_type": "code",
   "execution_count": 13,
   "metadata": {},
   "outputs": [],
   "source": [
    "# predsTest = reg.predict_proba(x_test[features])\n",
    "\n",
    "# print(\"AUC for train set \" , roc_auc_score(y_train.y, predsTrain[:,1]))\n",
    "# print(\"AUC for test set \" , roc_auc_score(y_test.y, predsTest[:,1]))"
   ]
  },
  {
   "cell_type": "markdown",
   "metadata": {},
   "source": [
    "Above takes very long to run - AUC on test set was 0.625, lower than the best model from logistic regression (0.715)"
   ]
  },
  {
   "cell_type": "markdown",
   "metadata": {},
   "source": [
    "SVM with 20 features - finding the best C"
   ]
  },
  {
   "cell_type": "markdown",
   "metadata": {},
   "source": [
    "Trying to find the best c value on the smaller train set with 10 000 observations - obtained above. Number of features is set at 20, as this was correct number shown by Logistic Regression. Again, the kernel is linear."
   ]
  },
  {
   "cell_type": "code",
   "execution_count": 14,
   "metadata": {},
   "outputs": [],
   "source": [
    "# from sklearn.model_selection import KFold\n",
    "# from sklearn.metrics import mean_squared_error\n",
    "# import random\n",
    "# kf = KFold(n_splits=3, shuffle=True, random_state=random.randint(0,10000))\n",
    "\n",
    "# scores = []\n",
    "# cs = [0.1, 0.5, 1, 1.5, 2, 10]\n",
    "# no_features_to_include = 20\n",
    "# features = list(minfos_df.head(no_features_to_include).column)\n",
    "\n",
    "# for c in cs:\n",
    "#     print('running for c: ', c)\n",
    "\n",
    "#     r2_train = []\n",
    "#     r2_test = []\n",
    "\n",
    "#     for train, test in kf.split(x_train_small.index.values):\n",
    "#         reg = SVC(kernel = 'linear', probability = True, C = c)\n",
    "#         reg.fit(x_train_small.iloc[train][features], y_train_small.iloc[train]['y'])\n",
    "        \n",
    "#         predsTrain = reg.predict_proba(x_train_small.iloc[train][features])\n",
    "#         preds = reg.predict_proba(x_train_small.iloc[test][features])\n",
    "\n",
    "#         r2_test.append(roc_auc_score(y_train_small.iloc[test].y, preds[:,1]))\n",
    "#         r2_train.append(roc_auc_score(y_train_small.iloc[train].y, predsTrain[:,1]))\n",
    "\n",
    "#     a = (c, np.mean(r2_test), np.mean(r2_train))\n",
    "#     scores.append(a)  \n",
    "\n",
    "# #     print(a)\n",
    "# roc_scores_svm = pd.DataFrame(scores, columns = ['c', 'test', 'train'])\n",
    "# roc_scores_svm.to_pickle('models_cache/roc_scores_svm_from_minfo.pkl')"
   ]
  },
  {
   "cell_type": "markdown",
   "metadata": {},
   "source": [
    "Note: above cell is cached and read below, no nneed to re-run"
   ]
  },
  {
   "cell_type": "code",
   "execution_count": 15,
   "metadata": {},
   "outputs": [],
   "source": [
    "roc_scores_svm = pd.read_pickle('models_cache/roc_scores_svm_from_minfo.pkl')"
   ]
  },
  {
   "cell_type": "code",
   "execution_count": 16,
   "metadata": {},
   "outputs": [
    {
     "data": {
      "text/html": [
       "<div>\n",
       "<style scoped>\n",
       "    .dataframe tbody tr th:only-of-type {\n",
       "        vertical-align: middle;\n",
       "    }\n",
       "\n",
       "    .dataframe tbody tr th {\n",
       "        vertical-align: top;\n",
       "    }\n",
       "\n",
       "    .dataframe thead th {\n",
       "        text-align: right;\n",
       "    }\n",
       "</style>\n",
       "<table border=\"1\" class=\"dataframe\">\n",
       "  <thead>\n",
       "    <tr style=\"text-align: right;\">\n",
       "      <th></th>\n",
       "      <th>no_features</th>\n",
       "      <th>test</th>\n",
       "      <th>train</th>\n",
       "    </tr>\n",
       "  </thead>\n",
       "  <tbody>\n",
       "    <tr>\n",
       "      <th>0</th>\n",
       "      <td>0.1</td>\n",
       "      <td>0.677838</td>\n",
       "      <td>0.686063</td>\n",
       "    </tr>\n",
       "    <tr>\n",
       "      <th>1</th>\n",
       "      <td>0.5</td>\n",
       "      <td>0.673228</td>\n",
       "      <td>0.680600</td>\n",
       "    </tr>\n",
       "    <tr>\n",
       "      <th>2</th>\n",
       "      <td>1.0</td>\n",
       "      <td>0.682514</td>\n",
       "      <td>0.691938</td>\n",
       "    </tr>\n",
       "    <tr>\n",
       "      <th>3</th>\n",
       "      <td>1.5</td>\n",
       "      <td>0.697586</td>\n",
       "      <td>0.700556</td>\n",
       "    </tr>\n",
       "    <tr>\n",
       "      <th>4</th>\n",
       "      <td>2.0</td>\n",
       "      <td>0.699163</td>\n",
       "      <td>0.703936</td>\n",
       "    </tr>\n",
       "    <tr>\n",
       "      <th>5</th>\n",
       "      <td>10.0</td>\n",
       "      <td>0.696553</td>\n",
       "      <td>0.703841</td>\n",
       "    </tr>\n",
       "  </tbody>\n",
       "</table>\n",
       "</div>"
      ],
      "text/plain": [
       "   no_features      test     train\n",
       "0          0.1  0.677838  0.686063\n",
       "1          0.5  0.673228  0.680600\n",
       "2          1.0  0.682514  0.691938\n",
       "3          1.5  0.697586  0.700556\n",
       "4          2.0  0.699163  0.703936\n",
       "5         10.0  0.696553  0.703841"
      ]
     },
     "execution_count": 16,
     "metadata": {},
     "output_type": "execute_result"
    }
   ],
   "source": [
    "roc_scores_svm"
   ]
  },
  {
   "cell_type": "markdown",
   "metadata": {},
   "source": [
    "Performance did not improve much - best value was for c = 1.5, and result obtained for test set from cross validation was 0.699. Using the same procedure, fitting SVM with rbf kernel."
   ]
  },
  {
   "cell_type": "code",
   "execution_count": 17,
   "metadata": {},
   "outputs": [],
   "source": [
    "# from sklearn.model_selection import KFold\n",
    "# from sklearn.metrics import mean_squared_error\n",
    "# import random\n",
    "# kf = KFold(n_splits=3, shuffle=True, random_state=random.randint(0,10000))\n",
    "\n",
    "# scores = []\n",
    "# cs = [0.1, 0.5, 1, 1.5, 2, 10]\n",
    "# no_features_to_include = 20\n",
    "# features = list(minfos_df.head(no_features_to_include).column)\n",
    "\n",
    "# for c in cs:\n",
    "#     print('running for c: ', c)\n",
    "\n",
    "#     r2_train = []\n",
    "#     r2_test = []\n",
    "\n",
    "#     for train, test in kf.split(x_train_small.index.values):\n",
    "#         reg = SVC(kernel = 'rbf', probability = True, C = c)\n",
    "#         reg.fit(x_train_small.iloc[train][features], y_train_small.iloc[train]['y'])\n",
    "        \n",
    "#         predsTrain = reg.predict_proba(x_train_small.iloc[train][features])\n",
    "#         preds = reg.predict_proba(x_train_small.iloc[test][features])\n",
    "\n",
    "#         r2_test.append(roc_auc_score(y_train_small.iloc[test].y, preds[:,1]))\n",
    "#         r2_train.append(roc_auc_score(y_train_small.iloc[train].y, predsTrain[:,1]))\n",
    "\n",
    "#     a = (c, np.mean(r2_test), np.mean(r2_train))\n",
    "#     scores.append(a)  \n",
    "\n",
    "# #     print(a)\n",
    "# roc_scores_svm_rbf = pd.DataFrame(scores, columns = ['no_features', 'test', 'train'])\n",
    "# roc_scores_svm_rbf.to_pickle('models_cache/roc_scores_svm_rbf_from_minfo.pkl')"
   ]
  },
  {
   "cell_type": "markdown",
   "metadata": {},
   "source": [
    "Note: above cell is cached and read below, no nneed to re-run"
   ]
  },
  {
   "cell_type": "code",
   "execution_count": 18,
   "metadata": {},
   "outputs": [],
   "source": [
    "roc_scores_svm_rbf = pd.read_pickle('models_cache/roc_scores_svm_rbf_from_minfo.pkl')"
   ]
  },
  {
   "cell_type": "code",
   "execution_count": 19,
   "metadata": {},
   "outputs": [
    {
     "data": {
      "text/html": [
       "<div>\n",
       "<style scoped>\n",
       "    .dataframe tbody tr th:only-of-type {\n",
       "        vertical-align: middle;\n",
       "    }\n",
       "\n",
       "    .dataframe tbody tr th {\n",
       "        vertical-align: top;\n",
       "    }\n",
       "\n",
       "    .dataframe thead th {\n",
       "        text-align: right;\n",
       "    }\n",
       "</style>\n",
       "<table border=\"1\" class=\"dataframe\">\n",
       "  <thead>\n",
       "    <tr style=\"text-align: right;\">\n",
       "      <th></th>\n",
       "      <th>no_features</th>\n",
       "      <th>test</th>\n",
       "      <th>train</th>\n",
       "    </tr>\n",
       "  </thead>\n",
       "  <tbody>\n",
       "    <tr>\n",
       "      <th>0</th>\n",
       "      <td>0.1</td>\n",
       "      <td>0.680796</td>\n",
       "      <td>0.700328</td>\n",
       "    </tr>\n",
       "    <tr>\n",
       "      <th>1</th>\n",
       "      <td>0.5</td>\n",
       "      <td>0.675718</td>\n",
       "      <td>0.705103</td>\n",
       "    </tr>\n",
       "    <tr>\n",
       "      <th>2</th>\n",
       "      <td>1.0</td>\n",
       "      <td>0.678240</td>\n",
       "      <td>0.712834</td>\n",
       "    </tr>\n",
       "    <tr>\n",
       "      <th>3</th>\n",
       "      <td>1.5</td>\n",
       "      <td>0.665435</td>\n",
       "      <td>0.709508</td>\n",
       "    </tr>\n",
       "    <tr>\n",
       "      <th>4</th>\n",
       "      <td>2.0</td>\n",
       "      <td>0.656149</td>\n",
       "      <td>0.704020</td>\n",
       "    </tr>\n",
       "    <tr>\n",
       "      <th>5</th>\n",
       "      <td>10.0</td>\n",
       "      <td>0.631586</td>\n",
       "      <td>0.709276</td>\n",
       "    </tr>\n",
       "  </tbody>\n",
       "</table>\n",
       "</div>"
      ],
      "text/plain": [
       "   no_features      test     train\n",
       "0          0.1  0.680796  0.700328\n",
       "1          0.5  0.675718  0.705103\n",
       "2          1.0  0.678240  0.712834\n",
       "3          1.5  0.665435  0.709508\n",
       "4          2.0  0.656149  0.704020\n",
       "5         10.0  0.631586  0.709276"
      ]
     },
     "execution_count": 19,
     "metadata": {},
     "output_type": "execute_result"
    }
   ],
   "source": [
    "roc_scores_svm_rbf"
   ]
  },
  {
   "cell_type": "markdown",
   "metadata": {},
   "source": [
    "Performance using radial kernel got even worse than using linear kernel."
   ]
  },
  {
   "cell_type": "markdown",
   "metadata": {},
   "source": [
    "### SVM with 20 features using Stochastic Gradient Descent - finding the best C"
   ]
  },
  {
   "cell_type": "markdown",
   "metadata": {},
   "source": [
    "Using SGDClassifier with 'hinge' loss, it is equivalent to running standard SVM classifier, but allows for parallel computing. This allows for using full set for training."
   ]
  },
  {
   "cell_type": "markdown",
   "metadata": {},
   "source": [
    "In SGD there is parameter alpha performing the regularization. Its relation to c in SVM function is C_svc * n_samples = 1 / alpha_sgd"
   ]
  },
  {
   "cell_type": "markdown",
   "metadata": {},
   "source": [
    "alpha_sgd = 1 / (C_svc * n_samples)"
   ]
  },
  {
   "cell_type": "markdown",
   "metadata": {},
   "source": [
    "https://stats.stackexchange.com/questions/216095/how-does-alpha-relate-to-c-in-scikit-learns-sgdclassifier\n"
   ]
  },
  {
   "cell_type": "code",
   "execution_count": 20,
   "metadata": {},
   "outputs": [],
   "source": [
    "from sklearn.linear_model import SGDClassifier\n",
    "from sklearn.calibration import CalibratedClassifierCV"
   ]
  },
  {
   "cell_type": "code",
   "execution_count": 21,
   "metadata": {},
   "outputs": [],
   "source": [
    "features = list(minfos_df.head(20).column)\n",
    "reg = SGDClassifier(n_jobs = -1)\n",
    "reg.fit(x_train[features], y_train['y'])\n",
    "\n",
    "calibrator = CalibratedClassifierCV(reg, cv='prefit')\n",
    "calib_model =calibrator.fit(x_train[features], y_train['y'])"
   ]
  },
  {
   "cell_type": "code",
   "execution_count": 22,
   "metadata": {},
   "outputs": [
    {
     "name": "stdout",
     "output_type": "stream",
     "text": [
      "AUC for test set  0.6828794940439905\n"
     ]
    }
   ],
   "source": [
    "predsTest = calib_model.predict_proba(x_test[features])\n",
    "# print(\"AUC for train set \" , roc_auc_score(y_train.y, predsTrain[:,1]))\n",
    "print(\"AUC for test set \" , roc_auc_score(y_test.y, predsTest[:,1]))"
   ]
  },
  {
   "cell_type": "code",
   "execution_count": 23,
   "metadata": {},
   "outputs": [],
   "source": [
    "# from sklearn.model_selection import KFold\n",
    "# from sklearn.metrics import mean_squared_error\n",
    "# import random\n",
    "# kf = KFold(n_splits=3, shuffle=True, random_state=random.randint(0,10000))\n",
    "\n",
    "# scores = []\n",
    "# cs = [0.1, 0.5, 1, 1.5, 2, 10]\n",
    "# no_features_to_include = 20\n",
    "# features = list(minfos_df.head(no_features_to_include).column)\n",
    "\n",
    "# for c in cs:\n",
    "#     print('running for c: ', c)\n",
    "\n",
    "#     r2_train = []\n",
    "#     r2_test = []\n",
    "\n",
    "#     for train, test in kf.split(x_train.index.values):\n",
    "#         n_samples = x_train.iloc[train][features].shape[0]\n",
    "#         alpha_sgd = 1 / (c * n_samples)\n",
    "# #         print('computed alpha:', alpha_sgd)\n",
    "        \n",
    "#         reg = SGDClassifier(n_jobs = -1, alpha = alpha_sgd)\n",
    "#         reg.fit(x_train.iloc[train][features], y_train.iloc[train]['y'])\n",
    "        \n",
    "#         calibrator = CalibratedClassifierCV(reg, cv='prefit')\n",
    "#         calib_model =calibrator.fit(x_train.iloc[train][features], y_train.iloc[train]['y'])\n",
    "        \n",
    "#         predsTrain = calib_model.predict_proba(x_train.iloc[train][features])\n",
    "#         preds = calib_model.predict_proba(x_train.iloc[test][features])\n",
    "        \n",
    "#         r2_test.append(roc_auc_score(y_train.iloc[test].y, preds[:,1]))\n",
    "#         r2_train.append(roc_auc_score(y_train.iloc[train].y, predsTrain[:,1]))\n",
    "\n",
    "#     a = (c, np.mean(r2_test), np.mean(r2_train))\n",
    "#     scores.append(a)  \n",
    "\n",
    "# #     print(a)\n",
    "# roc_scores_sgd = pd.DataFrame(scores, columns = ['c', 'test', 'train'])\n",
    "# roc_scores_sgd.to_pickle('models_cache/roc_scores_sgd_from_minfo.pkl')"
   ]
  },
  {
   "cell_type": "code",
   "execution_count": 24,
   "metadata": {},
   "outputs": [],
   "source": [
    "roc_scores_sgd = pd.read_pickle('models_cache/roc_scores_sgd_from_minfo.pkl')"
   ]
  },
  {
   "cell_type": "code",
   "execution_count": 25,
   "metadata": {},
   "outputs": [
    {
     "data": {
      "text/html": [
       "<div>\n",
       "<style scoped>\n",
       "    .dataframe tbody tr th:only-of-type {\n",
       "        vertical-align: middle;\n",
       "    }\n",
       "\n",
       "    .dataframe tbody tr th {\n",
       "        vertical-align: top;\n",
       "    }\n",
       "\n",
       "    .dataframe thead th {\n",
       "        text-align: right;\n",
       "    }\n",
       "</style>\n",
       "<table border=\"1\" class=\"dataframe\">\n",
       "  <thead>\n",
       "    <tr style=\"text-align: right;\">\n",
       "      <th></th>\n",
       "      <th>c</th>\n",
       "      <th>test</th>\n",
       "      <th>train</th>\n",
       "    </tr>\n",
       "  </thead>\n",
       "  <tbody>\n",
       "    <tr>\n",
       "      <th>0</th>\n",
       "      <td>0.1</td>\n",
       "      <td>0.732488</td>\n",
       "      <td>0.732324</td>\n",
       "    </tr>\n",
       "    <tr>\n",
       "      <th>1</th>\n",
       "      <td>0.5</td>\n",
       "      <td>0.734136</td>\n",
       "      <td>0.734158</td>\n",
       "    </tr>\n",
       "    <tr>\n",
       "      <th>2</th>\n",
       "      <td>1.0</td>\n",
       "      <td>0.708720</td>\n",
       "      <td>0.709347</td>\n",
       "    </tr>\n",
       "    <tr>\n",
       "      <th>3</th>\n",
       "      <td>1.5</td>\n",
       "      <td>0.733063</td>\n",
       "      <td>0.732837</td>\n",
       "    </tr>\n",
       "    <tr>\n",
       "      <th>4</th>\n",
       "      <td>2.0</td>\n",
       "      <td>0.735335</td>\n",
       "      <td>0.735096</td>\n",
       "    </tr>\n",
       "    <tr>\n",
       "      <th>5</th>\n",
       "      <td>10.0</td>\n",
       "      <td>0.698826</td>\n",
       "      <td>0.699061</td>\n",
       "    </tr>\n",
       "  </tbody>\n",
       "</table>\n",
       "</div>"
      ],
      "text/plain": [
       "      c      test     train\n",
       "0   0.1  0.732488  0.732324\n",
       "1   0.5  0.734136  0.734158\n",
       "2   1.0  0.708720  0.709347\n",
       "3   1.5  0.733063  0.732837\n",
       "4   2.0  0.735335  0.735096\n",
       "5  10.0  0.698826  0.699061"
      ]
     },
     "execution_count": 25,
     "metadata": {},
     "output_type": "execute_result"
    }
   ],
   "source": [
    "roc_scores_sgd"
   ]
  },
  {
   "cell_type": "markdown",
   "metadata": {},
   "source": [
    "Best alpha is 2.0. Now fitting to the full dataset and checking GOF for test set."
   ]
  },
  {
   "cell_type": "code",
   "execution_count": 26,
   "metadata": {},
   "outputs": [],
   "source": [
    "features = list(minfos_df.head(20).column)\n",
    "reg = SGDClassifier(n_jobs = -1,alpha = 1/(1.5*x_train.shape[0]))\n",
    "reg.fit(x_train[features], y_train['y'])\n",
    "\n",
    "calibrator = CalibratedClassifierCV(reg, cv='prefit')\n",
    "calib_model =calibrator.fit(x_train[features], y_train['y'])"
   ]
  },
  {
   "cell_type": "code",
   "execution_count": 27,
   "metadata": {},
   "outputs": [
    {
     "name": "stdout",
     "output_type": "stream",
     "text": [
      "AUC for train set  0.7352921547320131\n",
      "AUC for test set  0.7071204373612293\n"
     ]
    }
   ],
   "source": [
    "predsTrain = calib_model.predict_proba(x_train[features])\n",
    "predsTest = calib_model.predict_proba(x_test[features])\n",
    "print(\"AUC for train set \" , roc_auc_score(y_train.y, predsTrain[:,1]))\n",
    "print(\"AUC for test set \" , roc_auc_score(y_test.y, predsTest[:,1]))"
   ]
  },
  {
   "cell_type": "markdown",
   "metadata": {},
   "source": [
    "Not much improvement over the LR"
   ]
  },
  {
   "cell_type": "markdown",
   "metadata": {},
   "source": [
    "### Feature generation"
   ]
  },
  {
   "cell_type": "markdown",
   "metadata": {},
   "source": [
    "#### Using features that looked promising from EDA"
   ]
  },
  {
   "cell_type": "code",
   "execution_count": 28,
   "metadata": {},
   "outputs": [
    {
     "name": "stderr",
     "output_type": "stream",
     "text": [
      "/home/kamo1997/miniconda3/envs/env/lib/python3.8/site-packages/sklearn/linear_model/_logistic.py:938: ConvergenceWarning: lbfgs failed to converge (status=1):\n",
      "STOP: TOTAL NO. of ITERATIONS REACHED LIMIT.\n",
      "\n",
      "Increase the number of iterations (max_iter) or scale the data as shown in:\n",
      "    https://scikit-learn.org/stable/modules/preprocessing.html\n",
      "Please also refer to the documentation for alternative solver options:\n",
      "    https://scikit-learn.org/stable/modules/linear_model.html#logistic-regression\n",
      "  n_iter_i = _check_optimize_result(\n"
     ]
    },
    {
     "name": "stdout",
     "output_type": "stream",
     "text": [
      "AUC for train set  0.7420392519739142\n",
      "AUC for test set  0.7095722400354767\n"
     ]
    }
   ],
   "source": [
    "import matplotlib.pyplot as plt\n",
    "plt.style.use('seaborn-ticks')\n",
    "%matplotlib inline\n",
    "cols_to_log = [\n",
    " 'd_lighting_Night without public lighting',\n",
    " 'd_lighting_Twilight or dawn',\n",
    " 'd_localization_Out of agglomeration',\n",
    " 'd_intersection_type_Out of intersection',\n",
    " 'd_weather_Normal',\n",
    " 'd_collision_type_Other collision',\n",
    " 'd_collision_type_Two vehicles - frontal',\n",
    " 'd_collision_type_Without collision',\n",
    " 'd_road_category_Departmental Road',\n",
    " 'd_road_regime_One way',\n",
    " 'd_road_regime_Separated carriageways',\n",
    " 'd_reserved_lane_NA',\n",
    " 'd_road_gradient_NA',\n",
    " 'd_road_plan_NA',\n",
    " 'd_road_plan_Straight part',\n",
    " 'd_road_condition_normal',\n",
    " 'd_road_condition_wet',\n",
    " 'd_accident_situation_On the verge',\n",
    " 'd_place_in_car_1',\n",
    " 'd_place_in_car_NA',\n",
    " 'd_user_type_Pedestrian',\n",
    " 'd_equipment_used_no',\n",
    " 'd_pedestrian_action_not specified or not applicable',\n",
    " 'd_pedestrian_alone_NA',\n",
    " 'hour',\n",
    " 'user_age'\n",
    " ]\n",
    "\n",
    "features = cols_to_log\n",
    "reg = LogisticRegression()\n",
    "reg.fit(x_train[features], y_train['y'])\n",
    "\n",
    "predsTrain = reg.predict_proba(x_train[features])\n",
    "predsTest = reg.predict_proba(x_test[features])\n",
    "\n",
    "print(\"AUC for train set \" , roc_auc_score(y_train.y, predsTrain[:,1]))\n",
    "print(\"AUC for test set \" , roc_auc_score(y_test.y, predsTest[:,1]))\n"
   ]
  },
  {
   "cell_type": "markdown",
   "metadata": {},
   "source": [
    "Value of AUC using features selected by hand is a little bit smaller than using 20 best features from mutual info. Now trying if binning continuous variables will help, as it looked promising in the EDA part."
   ]
  },
  {
   "cell_type": "code",
   "execution_count": 29,
   "metadata": {},
   "outputs": [
    {
     "name": "stderr",
     "output_type": "stream",
     "text": [
      "/home/kamo1997/miniconda3/envs/env/lib/python3.8/site-packages/sklearn/linear_model/_logistic.py:938: ConvergenceWarning: lbfgs failed to converge (status=1):\n",
      "STOP: TOTAL NO. of ITERATIONS REACHED LIMIT.\n",
      "\n",
      "Increase the number of iterations (max_iter) or scale the data as shown in:\n",
      "    https://scikit-learn.org/stable/modules/preprocessing.html\n",
      "Please also refer to the documentation for alternative solver options:\n",
      "    https://scikit-learn.org/stable/modules/linear_model.html#logistic-regression\n",
      "  n_iter_i = _check_optimize_result(\n"
     ]
    },
    {
     "name": "stdout",
     "output_type": "stream",
     "text": [
      "AUC for train set  0.7446775037381534\n",
      "AUC for test set  0.7137410529079219\n"
     ]
    }
   ],
   "source": [
    "features = list(minfos_df.head(20).column) + ['hour', 'user_age']\n",
    "reg = LogisticRegression()\n",
    "reg.fit(x_train[features], y_train['y'])\n",
    "\n",
    "predsTrain = reg.predict_proba(x_train[features])\n",
    "predsTest = reg.predict_proba(x_test[features])\n",
    "\n",
    "print(\"AUC for train set \" , roc_auc_score(y_train.y, predsTrain[:,1]))\n",
    "print(\"AUC for test set \" , roc_auc_score(y_test.y, predsTest[:,1]))\n"
   ]
  },
  {
   "cell_type": "markdown",
   "metadata": {},
   "source": [
    "#### Binning categorical variables - user age"
   ]
  },
  {
   "cell_type": "code",
   "execution_count": 30,
   "metadata": {},
   "outputs": [],
   "source": [
    "temp_age = pd.concat([x_train[['user_age']], y_train['y']], axis=1)"
   ]
  },
  {
   "cell_type": "code",
   "execution_count": 31,
   "metadata": {},
   "outputs": [
    {
     "data": {
      "text/plain": [
       "<matplotlib.axes._subplots.AxesSubplot at 0x7f9da03d8310>"
      ]
     },
     "execution_count": 31,
     "metadata": {},
     "output_type": "execute_result"
    },
    {
     "data": {
      "image/png": "[encoded data removed]",
      "text/plain": [
       "<Figure size 432x288 with 1 Axes>"
      ]
     },
     "metadata": {
      "needs_background": "light"
     },
     "output_type": "display_data"
    }
   ],
   "source": [
    "a = pd.crosstab(temp_age['user_age']//10, columns=temp_age['y'], \n",
    "                 normalize='index').reset_index()\n",
    "b = pd.melt(a, id_vars=['user_age'], value_vars=[0, 1])\n",
    "\n",
    "b\n",
    "\n",
    "sns.barplot(x = 'user_age', y = 'value', data = b.query('y==1'))"
   ]
  },
  {
   "cell_type": "markdown",
   "metadata": {},
   "source": [
    "The plot above presents percentage of people at given age who were killed. As can be seen there is some regularity - very young and very old people are more likely to die. "
   ]
  },
  {
   "cell_type": "markdown",
   "metadata": {},
   "source": [
    "#### Benchmark"
   ]
  },
  {
   "cell_type": "code",
   "execution_count": 32,
   "metadata": {},
   "outputs": [
    {
     "name": "stderr",
     "output_type": "stream",
     "text": [
      "/home/kamo1997/miniconda3/envs/env/lib/python3.8/site-packages/sklearn/linear_model/_logistic.py:938: ConvergenceWarning: lbfgs failed to converge (status=1):\n",
      "STOP: TOTAL NO. of ITERATIONS REACHED LIMIT.\n",
      "\n",
      "Increase the number of iterations (max_iter) or scale the data as shown in:\n",
      "    https://scikit-learn.org/stable/modules/preprocessing.html\n",
      "Please also refer to the documentation for alternative solver options:\n",
      "    https://scikit-learn.org/stable/modules/linear_model.html#logistic-regression\n",
      "  n_iter_i = _check_optimize_result(\n"
     ]
    },
    {
     "name": "stdout",
     "output_type": "stream",
     "text": [
      "AUC for train set  0.7442413463574252\n",
      "AUC for test set  0.7135150656321438\n"
     ]
    }
   ],
   "source": [
    "features = list(minfos_df.head(20).column) + ['user_age']\n",
    "\n",
    "x_train_age = x_train.copy()\n",
    "x_train_age['user_age'] = x_train_age['user_age']\n",
    "\n",
    "x_test_age = x_test.copy()\n",
    "x_test_age['user_age'] = x_test['user_age']\n",
    "\n",
    "reg = LogisticRegression()\n",
    "reg.fit(x_train_age[features], y_train['y'])\n",
    "\n",
    "predsTrain = reg.predict_proba(x_train_age[features])\n",
    "predsTest = reg.predict_proba(x_test_age[features])\n",
    "\n",
    "print(\"AUC for train set \" , roc_auc_score(y_train.y, predsTrain[:,1]))\n",
    "print(\"AUC for test set \" , roc_auc_score(y_test.y, predsTest[:,1]))\n"
   ]
  },
  {
   "cell_type": "markdown",
   "metadata": {},
   "source": [
    "#### Finding the best bin width"
   ]
  },
  {
   "cell_type": "code",
   "execution_count": 33,
   "metadata": {},
   "outputs": [
    {
     "name": "stdout",
     "output_type": "stream",
     "text": [
      "testing bin width of: 10\n"
     ]
    },
    {
     "name": "stderr",
     "output_type": "stream",
     "text": [
      "/home/kamo1997/miniconda3/envs/env/lib/python3.8/site-packages/sklearn/linear_model/_logistic.py:938: ConvergenceWarning: lbfgs failed to converge (status=1):\n",
      "STOP: TOTAL NO. of ITERATIONS REACHED LIMIT.\n",
      "\n",
      "Increase the number of iterations (max_iter) or scale the data as shown in:\n",
      "    https://scikit-learn.org/stable/modules/preprocessing.html\n",
      "Please also refer to the documentation for alternative solver options:\n",
      "    https://scikit-learn.org/stable/modules/linear_model.html#logistic-regression\n",
      "  n_iter_i = _check_optimize_result(\n"
     ]
    },
    {
     "name": "stdout",
     "output_type": "stream",
     "text": [
      "AUC for train set  0.7509616285171397\n",
      "AUC for test set  0.7199356590696651\n",
      "testing bin width of: 15\n",
      "AUC for train set  0.7482501910008074\n",
      "AUC for test set  0.7180935481748916\n",
      "testing bin width of: 20\n",
      "AUC for train set  0.7499088677963751\n",
      "AUC for test set  0.717719662931461\n",
      "testing bin width of: 25\n",
      "AUC for train set  0.7488322798726931\n",
      "AUC for test set  0.7178856545344641\n",
      "testing bin width of: 30\n",
      "AUC for train set  0.7473060754110781\n",
      "AUC for test set  0.7166482122862552\n"
     ]
    }
   ],
   "source": [
    "features = list(minfos_df.head(20).column) + ['user_age']\n",
    "\n",
    "for bin_width in [10, 15, 20, 25, 30]:\n",
    "    print('testing bin width of:', bin_width)\n",
    "    x_train_age = x_train[features].copy()\n",
    "    x_train_age['user_age'] = x_train_age['user_age']//bin_width\n",
    "    x_train_age = pd.concat([x_train_age.drop('user_age', axis = 1), \n",
    "                             pd.get_dummies(x_train_age['user_age'],drop_first = 1)], axis = 1)\n",
    "\n",
    "    x_test_age = x_test[features].copy()\n",
    "    x_test_age['user_age'] = x_test_age['user_age']//bin_width\n",
    "    x_test_age = pd.concat([x_test_age.drop('user_age', axis = 1), \n",
    "                             pd.get_dummies(x_test_age['user_age'],drop_first = 1)], axis = 1)\n",
    "\n",
    "\n",
    "    reg = LogisticRegression()\n",
    "    reg.fit(x_train_age, y_train['y'])\n",
    "\n",
    "    predsTrain = reg.predict_proba(x_train_age)\n",
    "    predsTest = reg.predict_proba(x_test_age)\n",
    "\n",
    "    print(\"AUC for train set \" , roc_auc_score(y_train.y, predsTrain[:,1]))\n",
    "    print(\"AUC for test set \" , roc_auc_score(y_test.y, predsTest[:,1]))\n",
    "\n"
   ]
  },
  {
   "cell_type": "markdown",
   "metadata": {},
   "source": [
    "Small improvement!"
   ]
  },
  {
   "cell_type": "markdown",
   "metadata": {},
   "source": [
    "Benchmark:\n",
    "\n",
    "- AUC for train set  0.7436704000408136\n",
    "- AUC for test set  0.7163762566270527\n",
    "\n"
   ]
  },
  {
   "cell_type": "markdown",
   "metadata": {},
   "source": [
    "Adding age variable with bin width of 10 really gave an improvement (0.0003 on AUC but still) "
   ]
  },
  {
   "cell_type": "markdown",
   "metadata": {},
   "source": [
    "#### Feature generation - hour of accident"
   ]
  },
  {
   "cell_type": "code",
   "execution_count": 34,
   "metadata": {},
   "outputs": [
    {
     "data": {
      "text/plain": [
       "<matplotlib.axes._subplots.AxesSubplot at 0x7f9da0274220>"
      ]
     },
     "execution_count": 34,
     "metadata": {},
     "output_type": "execute_result"
    },
    {
     "data": {
      "image/png": "[encoded data removed]",
      "text/plain": [
       "<Figure size 432x288 with 1 Axes>"
      ]
     },
     "metadata": {
      "needs_background": "light"
     },
     "output_type": "display_data"
    }
   ],
   "source": [
    "temp_h = pd.concat([x_train[['hour']], y_train['y']], axis=1)\n",
    "a = pd.crosstab(temp_h['hour'], columns=temp_age['y'], \n",
    "                 normalize='index').reset_index()\n",
    "b = pd.melt(a, id_vars=['hour'], value_vars=[0, 1])\n",
    "\n",
    "b\n",
    "\n",
    "sns.barplot(x = 'hour', y = 'value', data = b.query('y==1'))"
   ]
  },
  {
   "cell_type": "markdown",
   "metadata": {},
   "source": [
    "Worst hours are 5, 6 and 7."
   ]
  },
  {
   "cell_type": "markdown",
   "metadata": {},
   "source": [
    "#### Putting all hours as dummies"
   ]
  },
  {
   "cell_type": "code",
   "execution_count": 35,
   "metadata": {},
   "outputs": [
    {
     "name": "stderr",
     "output_type": "stream",
     "text": [
      "/home/kamo1997/miniconda3/envs/env/lib/python3.8/site-packages/sklearn/linear_model/_logistic.py:938: ConvergenceWarning: lbfgs failed to converge (status=1):\n",
      "STOP: TOTAL NO. of ITERATIONS REACHED LIMIT.\n",
      "\n",
      "Increase the number of iterations (max_iter) or scale the data as shown in:\n",
      "    https://scikit-learn.org/stable/modules/preprocessing.html\n",
      "Please also refer to the documentation for alternative solver options:\n",
      "    https://scikit-learn.org/stable/modules/linear_model.html#logistic-regression\n",
      "  n_iter_i = _check_optimize_result(\n"
     ]
    },
    {
     "name": "stdout",
     "output_type": "stream",
     "text": [
      "AUC for train set  0.746051283808023\n",
      "AUC for test set  0.7144940120733068\n"
     ]
    }
   ],
   "source": [
    "features = list(minfos_df.head(20).column) + ['hour']\n",
    "\n",
    "\n",
    "x_train_h = x_train[features].copy()\n",
    "x_train_h['hour'] = x_train_h['hour']\n",
    "x_train_h = pd.concat([x_train_h.drop('hour', axis = 1), \n",
    "                         pd.get_dummies(x_train_h['hour'],drop_first = 1)], axis = 1)\n",
    "\n",
    "x_test_h = x_test[features].copy()\n",
    "x_test_h['hour'] = x_test_h['hour']\n",
    "x_test_h = pd.concat([x_test_h.drop('hour', axis = 1), \n",
    "                         pd.get_dummies(x_test_h['hour'],drop_first = 1)], axis = 1)\n",
    "\n",
    "reg = LogisticRegression()\n",
    "reg.fit(x_train_h, y_train['y'])\n",
    "\n",
    "predsTrain = reg.predict_proba(x_train_h)\n",
    "predsTest = reg.predict_proba(x_test_h)\n",
    "\n",
    "print(\"AUC for train set \" , roc_auc_score(y_train.y, predsTrain[:,1]))\n",
    "print(\"AUC for test set \" , roc_auc_score(y_test.y, predsTest[:,1]))"
   ]
  },
  {
   "cell_type": "markdown",
   "metadata": {},
   "source": [
    "Even with all hours present the results are better than without them!"
   ]
  },
  {
   "cell_type": "markdown",
   "metadata": {},
   "source": [
    "#### Dropping irrelevant hours (judging from the plot above)"
   ]
  },
  {
   "cell_type": "code",
   "execution_count": 36,
   "metadata": {},
   "outputs": [
    {
     "name": "stderr",
     "output_type": "stream",
     "text": [
      "/home/kamo1997/miniconda3/envs/env/lib/python3.8/site-packages/sklearn/linear_model/_logistic.py:938: ConvergenceWarning: lbfgs failed to converge (status=1):\n",
      "STOP: TOTAL NO. of ITERATIONS REACHED LIMIT.\n",
      "\n",
      "Increase the number of iterations (max_iter) or scale the data as shown in:\n",
      "    https://scikit-learn.org/stable/modules/preprocessing.html\n",
      "Please also refer to the documentation for alternative solver options:\n",
      "    https://scikit-learn.org/stable/modules/linear_model.html#logistic-regression\n",
      "  n_iter_i = _check_optimize_result(\n"
     ]
    },
    {
     "name": "stdout",
     "output_type": "stream",
     "text": [
      "AUC for train set  0.7459877982823887\n",
      "AUC for test set  0.7144947871141105\n"
     ]
    }
   ],
   "source": [
    "features = list(minfos_df.head(20).column) + ['hour']\n",
    "hours_to_drop = [5,6]\n",
    "\n",
    "\n",
    "x_train_h = x_train[features].copy()\n",
    "x_train_h['hour'] = x_train_h['hour']\n",
    "x_train_h = pd.concat([x_train_h.drop('hour', axis = 1), \n",
    "                         pd.get_dummies(x_train_h['hour'],drop_first = 1)], axis = 1)\n",
    "x_train_h.drop(hours_to_drop, axis = 1, inplace = True)\n",
    "\n",
    "x_test_h = x_test[features].copy()\n",
    "x_test_h['hour'] = x_test_h['hour']\n",
    "x_test_h = pd.concat([x_test_h.drop('hour', axis = 1), \n",
    "                         pd.get_dummies(x_test_h['hour'],drop_first = 1)], axis = 1)\n",
    "x_test_h.drop(hours_to_drop, axis = 1, inplace = True)\n",
    "\n",
    "reg = LogisticRegression()\n",
    "reg.fit(x_train_h, y_train['y'])\n",
    "\n",
    "predsTrain = reg.predict_proba(x_train_h)\n",
    "predsTest = reg.predict_proba(x_test_h)\n",
    "\n",
    "print(\"AUC for train set \" , roc_auc_score(y_train.y, predsTrain[:,1]))\n",
    "print(\"AUC for test set \" , roc_auc_score(y_test.y, predsTest[:,1]))"
   ]
  },
  {
   "cell_type": "markdown",
   "metadata": {},
   "source": [
    "### Imbalance methods"
   ]
  },
  {
   "cell_type": "code",
   "execution_count": 37,
   "metadata": {},
   "outputs": [
    {
     "data": {
      "text/plain": [
       "(778601, 53)"
      ]
     },
     "execution_count": 37,
     "metadata": {},
     "output_type": "execute_result"
    }
   ],
   "source": [
    "x_train.shape"
   ]
  },
  {
   "cell_type": "markdown",
   "metadata": {},
   "source": [
    "The dataset is slightly imbalanced. Only 23% of people involved in the accidents were seriously injured or killed. That is why we have decided to include methods for fighting this imbalance. The dataset is very big - with around 80 000 observations in train set. That is why undersampling seems a good choice. It will be also faster to test more possible combinations."
   ]
  },
  {
   "cell_type": "markdown",
   "metadata": {},
   "source": [
    "#### Benchmark"
   ]
  },
  {
   "cell_type": "code",
   "execution_count": 38,
   "metadata": {},
   "outputs": [
    {
     "name": "stdout",
     "output_type": "stream",
     "text": [
      "AUC for train set  0.7449061773364156\n",
      "AUC for test set  0.7138230627089149\n"
     ]
    }
   ],
   "source": [
    "features = list(minfos_df.head(20).column)\n",
    "reg = LogisticRegression()\n",
    "reg.fit(x_train[features], y_train['y'])\n",
    "\n",
    "predsTrain = reg.predict_proba(x_train[features])\n",
    "predsTest = reg.predict_proba(x_test[features])\n",
    "\n",
    "print(\"AUC for train set \" , roc_auc_score(y_train.y, predsTrain[:,1]))\n",
    "print(\"AUC for test set \" , roc_auc_score(y_test.y, predsTest[:,1]))"
   ]
  },
  {
   "cell_type": "markdown",
   "metadata": {},
   "source": [
    "#### Downsampling to obtain 50/50 distribution of 0s nad 1s"
   ]
  },
  {
   "cell_type": "code",
   "execution_count": 39,
   "metadata": {},
   "outputs": [
    {
     "data": {
      "text/plain": [
       "0    579979\n",
       "1    198622\n",
       "Name: y, dtype: int64"
      ]
     },
     "execution_count": 39,
     "metadata": {},
     "output_type": "execute_result"
    }
   ],
   "source": [
    "y_train.y.value_counts()"
   ]
  },
  {
   "cell_type": "markdown",
   "metadata": {},
   "source": [
    "For perfect imbalance we need to drop 381150 instances with y=0."
   ]
  },
  {
   "cell_type": "code",
   "execution_count": 40,
   "metadata": {},
   "outputs": [],
   "source": [
    "from random import shuffle\n",
    "trainIndex0 = list(y_train.query(\"y==0\").index.values)\n",
    "shuffle(trainIndex0)"
   ]
  },
  {
   "cell_type": "code",
   "execution_count": 41,
   "metadata": {},
   "outputs": [],
   "source": [
    "x_train_u = x_train.drop(trainIndex0[0:381150])\n",
    "y_train_u = y_train.drop(trainIndex0[0:381150])"
   ]
  },
  {
   "cell_type": "code",
   "execution_count": 42,
   "metadata": {},
   "outputs": [
    {
     "name": "stdout",
     "output_type": "stream",
     "text": [
      "0    198829\n",
      "1    198622\n",
      "Name: y, dtype: int64\n",
      "(397451, 53)\n"
     ]
    }
   ],
   "source": [
    "print(y_train_u.y.value_counts())\n",
    "print(x_train_u.shape)"
   ]
  },
  {
   "cell_type": "code",
   "execution_count": 43,
   "metadata": {},
   "outputs": [
    {
     "name": "stdout",
     "output_type": "stream",
     "text": [
      "AUC for train set  0.745048488167891\n",
      "AUC for test set  0.7141584026750909\n"
     ]
    }
   ],
   "source": [
    "features_u = list(minfos_df.head(20).column)\n",
    "reg_u = LogisticRegression()\n",
    "reg_u.fit(x_train_u[features_u], y_train_u['y'])\n",
    "\n",
    "predsTrain = reg_u.predict_proba(x_train_u[features_u])\n",
    "predsTest = reg_u.predict_proba(x_test[features_u])\n",
    "\n",
    "print(\"AUC for train set \" , roc_auc_score(y_train_u.y, predsTrain[:,1]))\n",
    "print(\"AUC for test set \" , roc_auc_score(y_test.y, predsTest[:,1]))"
   ]
  },
  {
   "cell_type": "markdown",
   "metadata": {},
   "source": [
    "Downsampling improved the results on the test set by small amount. "
   ]
  },
  {
   "cell_type": "code",
   "execution_count": 44,
   "metadata": {},
   "outputs": [
    {
     "data": {
      "text/plain": [
       "<matplotlib.legend.Legend at 0x7f9d98bc4040>"
      ]
     },
     "execution_count": 44,
     "metadata": {},
     "output_type": "execute_result"
    },
    {
     "data": {
      "image/png": "[encoded data removed]",
      "text/plain": [
       "<Figure size 432x288 with 1 Axes>"
      ]
     },
     "metadata": {
      "needs_background": "light"
     },
     "output_type": "display_data"
    }
   ],
   "source": [
    "from sklearn.metrics import roc_curve\n",
    "fpr_u, tpr_u, _ = roc_curve(y_test.y, reg_u.predict_proba(x_test[features_u])[:,1])\n",
    "fpr, tpr, _ = roc_curve(y_test.y, reg.predict_proba(x_test[features])[:,1])\n",
    "plt.figure()\n",
    "lw = 2\n",
    "plt.plot(fpr_u, tpr_u, color='darkorange',\n",
    "         lw=lw, label='ROC for undersampled')\n",
    "plt.plot(fpr, tpr, color='red',\n",
    "         lw=lw, label='ROC for standard')\n",
    "\n",
    "plt.plot([0, 1], [0, 1], color='navy', lw=lw, linestyle='--')\n",
    "plt.xlim([0.0, 1.0])\n",
    "plt.ylim([0.0, 1.05])\n",
    "plt.xlabel('False Positive Rate')\n",
    "plt.ylabel('True Positive Rate')\n",
    "plt.title('Receiver operating characteristic example')\n",
    "plt.legend(loc=\"lower right\")\n",
    "# plt.show()"
   ]
  },
  {
   "cell_type": "markdown",
   "metadata": {},
   "source": [
    "ROC with and without resampling are essentially the same."
   ]
  },
  {
   "cell_type": "markdown",
   "metadata": {},
   "source": [
    "Note: 95918 observations 50/50 are enought to create the same accuracy."
   ]
  },
  {
   "cell_type": "code",
   "execution_count": 45,
   "metadata": {},
   "outputs": [
    {
     "data": {
      "text/plain": [
       "[<matplotlib.lines.Line2D at 0x7f9d98b68190>]"
      ]
     },
     "execution_count": 45,
     "metadata": {},
     "output_type": "execute_result"
    },
    {
     "data": {
      "image/png": "[encoded data removed]",
      "text/plain": [
       "<Figure size 432x288 with 1 Axes>"
      ]
     },
     "metadata": {
      "needs_background": "light"
     },
     "output_type": "display_data"
    }
   ],
   "source": [
    "plt.scatter(reg.predict_proba(x_test[features])[:2000,1], reg_u.predict_proba(x_test[features_u])[:2000,1], s=0.2)\n",
    "plt.plot([0, 1], [0, 1], color='navy', lw=lw, linestyle='--')"
   ]
  },
  {
   "cell_type": "markdown",
   "metadata": {},
   "source": [
    "This picture shows predicted probability by 2 models for saample of observations. On axis x there is standard model, while on axis y - with downsampling. As can be seen, downsampling actually caused systematically bigger probability of obtaining 1."
   ]
  },
  {
   "cell_type": "markdown",
   "metadata": {},
   "source": [
    "More fancy methods for resampling take a very long time to run. or actually can't run them on such big dataset."
   ]
  },
  {
   "cell_type": "code",
   "execution_count": 46,
   "metadata": {},
   "outputs": [],
   "source": [
    "# from sklearn.datasets import make_classification\n",
    "# from imblearn.under_sampling import ClusterCentroids \n",
    "\n",
    "# cc = ClusterCentroids(random_state=42,sampling_strategy=0.5,n_jobs = -1)\n",
    "# x_train_cl, y_train_cl = cc.fit_resample(x_train, y_train)"
   ]
  },
  {
   "cell_type": "code",
   "execution_count": 47,
   "metadata": {},
   "outputs": [],
   "source": [
    "# from imblearn.under_sampling import TomekLinks\n",
    "\n",
    "# cc = TomekLinks(n_jobs = -1)\n",
    "# x_train_cl, y_train_cl = cc.fit_sample(x_train, y_train)"
   ]
  },
  {
   "cell_type": "markdown",
   "metadata": {},
   "source": [
    "### KNN modeling"
   ]
  },
  {
   "cell_type": "code",
   "execution_count": 48,
   "metadata": {},
   "outputs": [],
   "source": [
    "from sklearn.model_selection import KFold\n",
    "from sklearn import metrics\n",
    "from sklearn import neighbors"
   ]
  },
  {
   "cell_type": "code",
   "execution_count": 49,
   "metadata": {},
   "outputs": [],
   "source": [
    "x_train_small = x_train.sample(n = 100000, random_state = 42)\n",
    "y_train_small = y_train.sample(n = 100000, random_state = 42)"
   ]
  },
  {
   "cell_type": "code",
   "execution_count": 50,
   "metadata": {},
   "outputs": [],
   "source": [
    "# from sklearn.model_selection import KFold\n",
    "# from sklearn.metrics import mean_squared_error\n",
    "# import random\n",
    "# kf = KFold(n_splits=3, shuffle=True, random_state=random.randint(0,10000))\n",
    "\n",
    "# scores = []\n",
    "# ks = [5, 50, 100]\n",
    "# no_features_to_include = 20\n",
    "# features = list(minfos_df.head(no_features_to_include).column)\n",
    "\n",
    "# for k in ks:\n",
    "#     print('running for k: ', k)\n",
    "\n",
    "#     r2_train = []\n",
    "#     r2_test = []\n",
    "\n",
    "#     for train, test in kf.split(x_train_small.index.values):\n",
    "\n",
    "#         reg = neighbors.KNeighborsClassifier(k, n_jobs=-1, p=2)\n",
    "#         reg.fit(x_train_small.iloc[train][features], y_train_small.iloc[train]['y'])\n",
    "\n",
    "#         predsTrain = reg.predict_proba(x_train_small.iloc[train][features])\n",
    "#         preds = reg.predict_proba(x_train_small.iloc[test][features])\n",
    "\n",
    "#         r2_test.append(roc_auc_score(y_train_small.iloc[test].y, preds[:,1]))\n",
    "#         r2_train.append(roc_auc_score(y_train_small.iloc[train].y, predsTrain[:,1]))\n",
    "\n",
    "#     a = (k, np.mean(r2_test), np.mean(r2_train))\n",
    "#     scores.append(a)  \n",
    "\n",
    "# roc_scores_knn = pd.DataFrame(scores, columns = ['k', 'test', 'train'])\n",
    "# roc_scores_knn.to_pickle('models_cache/roc_scores_knn_from_minfo.pkl')"
   ]
  },
  {
   "cell_type": "code",
   "execution_count": 51,
   "metadata": {},
   "outputs": [],
   "source": [
    "roc_scores_knn = pd.read_pickle('models_cache/roc_scores_knn_from_minfo.pkl')"
   ]
  },
  {
   "cell_type": "code",
   "execution_count": 52,
   "metadata": {},
   "outputs": [
    {
     "data": {
      "text/html": [
       "<div>\n",
       "<style scoped>\n",
       "    .dataframe tbody tr th:only-of-type {\n",
       "        vertical-align: middle;\n",
       "    }\n",
       "\n",
       "    .dataframe tbody tr th {\n",
       "        vertical-align: top;\n",
       "    }\n",
       "\n",
       "    .dataframe thead th {\n",
       "        text-align: right;\n",
       "    }\n",
       "</style>\n",
       "<table border=\"1\" class=\"dataframe\">\n",
       "  <thead>\n",
       "    <tr style=\"text-align: right;\">\n",
       "      <th></th>\n",
       "      <th>k</th>\n",
       "      <th>test</th>\n",
       "      <th>train</th>\n",
       "    </tr>\n",
       "  </thead>\n",
       "  <tbody>\n",
       "    <tr>\n",
       "      <th>0</th>\n",
       "      <td>5</td>\n",
       "      <td>0.675893</td>\n",
       "      <td>0.695971</td>\n",
       "    </tr>\n",
       "    <tr>\n",
       "      <th>1</th>\n",
       "      <td>50</td>\n",
       "      <td>0.736777</td>\n",
       "      <td>0.744507</td>\n",
       "    </tr>\n",
       "    <tr>\n",
       "      <th>2</th>\n",
       "      <td>100</td>\n",
       "      <td>0.742325</td>\n",
       "      <td>0.748159</td>\n",
       "    </tr>\n",
       "  </tbody>\n",
       "</table>\n",
       "</div>"
      ],
      "text/plain": [
       "     k      test     train\n",
       "0    5  0.675893  0.695971\n",
       "1   50  0.736777  0.744507\n",
       "2  100  0.742325  0.748159"
      ]
     },
     "execution_count": 52,
     "metadata": {},
     "output_type": "execute_result"
    }
   ],
   "source": [
    "roc_scores_knn"
   ]
  },
  {
   "cell_type": "code",
   "execution_count": 53,
   "metadata": {},
   "outputs": [],
   "source": [
    "# predsTest = reg.predict_proba(x_test[features].iloc[:30000, :])\n",
    "# # print(\"AUC for train set \" , roc_auc_score(y_train.y, predsTrain[:,1]))\n",
    "# print(\"AUC for test set \" , roc_auc_score(y_test.iloc[:30000, :].y, predsTest[:,1]))"
   ]
  },
  {
   "cell_type": "markdown",
   "metadata": {},
   "source": [
    "Auc for test set: 0.66155778766371"
   ]
  }
 ],
 "metadata": {
  "kernelspec": {
   "display_name": "Python 3",
   "language": "python",
   "name": "python3"
  },
  "language_info": {
   "codemirror_mode": {
    "name": "ipython",
    "version": 3
   },
   "file_extension": ".py",
   "mimetype": "text/x-python",
   "name": "python",
   "nbconvert_exporter": "python",
   "pygments_lexer": "ipython3",
   "version": "3.8.2"
  }
 },
 "nbformat": 4,
 "nbformat_minor": 4
}
