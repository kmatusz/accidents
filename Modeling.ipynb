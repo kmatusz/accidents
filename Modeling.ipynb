{
 "cells": [
  {
   "cell_type": "code",
   "execution_count": 1,
   "metadata": {},
   "outputs": [],
   "source": [
    "import pandas as pd\n",
    "import numpy as np\n",
    "import seaborn as sns\n",
    "\n",
    "import statsmodels.api as sm\n",
    "from statsmodels.tools.tools import add_constant\n",
    "\n",
    "from sklearn.model_selection import train_test_split, cross_val_score, cross_validate, KFold\n",
    "from sklearn.pipeline import make_pipeline\n",
    "from sklearn.preprocessing import FunctionTransformer, OneHotEncoder\n",
    "from sklearn.impute import SimpleImputer\n",
    "\n",
    "from sklearn.metrics import roc_auc_score, roc_curve\n",
    "\n",
    "from sklearn.neighbors import KNeighborsClassifier\n",
    "from sklearn.linear_model import LogisticRegression\n",
    "\n",
    "\n",
    "pd.set_option(\"display.max_columns\",200)\n",
    "\n",
    "def print_value_counts(df):\n",
    "    for i in df.columns:\n",
    "        print(f'column: {i}')\n",
    "        display(df[i].value_counts())\n",
    "        print()"
   ]
  },
  {
   "cell_type": "markdown",
   "metadata": {},
   "source": [
    "Steps:\n",
    "\n",
    "1. Select relevant cols\n",
    "2. Impute NA - strategies: categorical - mode and NA, numeric median (or sth else)\n",
    "3. one-hot encode categorical\n",
    "4. merge categorical and numeric \n",
    "5. Fit models"
   ]
  },
  {
   "cell_type": "markdown",
   "metadata": {},
   "source": [
    "Contents:\n",
    "\n",
    "- load data\n",
    "- train test split\n",
    "- preprocess categorical vars\n",
    "- preprocess numeric vars\n",
    "- run CV"
   ]
  },
  {
   "cell_type": "markdown",
   "metadata": {},
   "source": [
    "## Load data"
   ]
  },
  {
   "cell_type": "code",
   "execution_count": 2,
   "metadata": {},
   "outputs": [],
   "source": [
    "master_table = pd.read_pickle('data/master_table.pkl')"
   ]
  },
  {
   "cell_type": "code",
   "execution_count": 3,
   "metadata": {},
   "outputs": [
    {
     "output_type": "execute_result",
     "data": {
      "text/plain": "    accident_id                       lighting       localization  \\\n0  200500000001  Night without public lighting  In built-up areas   \n1  200500000001  Night without public lighting  In built-up areas   \n2  200500000001  Night without public lighting  In built-up areas   \n3  200500000001  Night without public lighting  In built-up areas   \n4  200500000001  Night without public lighting  In built-up areas   \n\n     intersection_type weather              collision_type com address  \\\n0  Out of intersection  Normal  Two vehicles - by the side  11   CD41B   \n1  Out of intersection  Normal  Two vehicles - by the side  11   CD41B   \n2  Out of intersection  Normal  Two vehicles - by the side  11   CD41B   \n3  Out of intersection  Normal  Two vehicles - by the side  11   CD41B   \n4  Out of intersection  Normal  Two vehicles - by the side  11   CD41B   \n\n         gps      lat    long departament                time    year  month  \\\n0  Métropole  5051500  294400         590 2005-01-05 19:00:00  2005.0    1.0   \n1  Métropole  5051500  294400         590 2005-01-05 19:00:00  2005.0    1.0   \n2  Métropole  5051500  294400         590 2005-01-05 19:00:00  2005.0    1.0   \n3  Métropole  5051500  294400         590 2005-01-05 19:00:00  2005.0    1.0   \n4  Métropole  5051500  294400         590 2005-01-05 19:00:00  2005.0    1.0   \n\n   hour      road_category    road_regime  no_lanes reserved_lane  \\\n0  19.0  Departmental Road  Bidirectional       2.0           NaN   \n1  19.0  Departmental Road  Bidirectional       2.0           NaN   \n2  19.0  Departmental Road  Bidirectional       2.0           NaN   \n3  19.0  Departmental Road  Bidirectional       2.0           NaN   \n4  19.0  Departmental Road  Bidirectional       2.0           NaN   \n\n  road_gradient      road_plan road_condition infrastructure  \\\n0          Dish  Straight part         normal            NaN   \n1          Dish  Straight part         normal            NaN   \n2          Dish  Straight part         normal            NaN   \n3          Dish  Straight part         normal            NaN   \n4          Dish  Straight part         normal            NaN   \n\n  accident_situation  user_id place_in_car  user_type           injury_type  \\\n0        On the road  1678507            1     Driver          Light injury   \n1        On the road  1678508            1     Driver  Hospitalized wounded   \n2        On the road  1678509            2  Passenger             Unscathed   \n3        On the road  1678510            4  Passenger             Unscathed   \n4        On the road  1678511            5  Passenger             Unscathed   \n\n      sex equipment_used                pedestrian_action pedestrian_alone  \\\n0    Male            yes  not specified or not applicable              NaN   \n1  Female            yes  not specified or not applicable              NaN   \n2    Male            yes  not specified or not applicable              NaN   \n3    Male            yes  not specified or not applicable              NaN   \n4    Male            yes  not specified or not applicable              NaN   \n\n  year_of_birth vechicle_number  y  \n0          1976             A01  0  \n1          1968             B02  1  \n2          1964             B02  0  \n3          2004             B02  0  \n4          1998             B02  0  ",
      "text/html": "<div>\n<style scoped>\n    .dataframe tbody tr th:only-of-type {\n        vertical-align: middle;\n    }\n\n    .dataframe tbody tr th {\n        vertical-align: top;\n    }\n\n    .dataframe thead th {\n        text-align: right;\n    }\n</style>\n<table border=\"1\" class=\"dataframe\">\n  <thead>\n    <tr style=\"text-align: right;\">\n      <th></th>\n      <th>accident_id</th>\n      <th>lighting</th>\n      <th>localization</th>\n      <th>intersection_type</th>\n      <th>weather</th>\n      <th>collision_type</th>\n      <th>com</th>\n      <th>address</th>\n      <th>gps</th>\n      <th>lat</th>\n      <th>long</th>\n      <th>departament</th>\n      <th>time</th>\n      <th>year</th>\n      <th>month</th>\n      <th>hour</th>\n      <th>road_category</th>\n      <th>road_regime</th>\n      <th>no_lanes</th>\n      <th>reserved_lane</th>\n      <th>road_gradient</th>\n      <th>road_plan</th>\n      <th>road_condition</th>\n      <th>infrastructure</th>\n      <th>accident_situation</th>\n      <th>user_id</th>\n      <th>place_in_car</th>\n      <th>user_type</th>\n      <th>injury_type</th>\n      <th>sex</th>\n      <th>equipment_used</th>\n      <th>pedestrian_action</th>\n      <th>pedestrian_alone</th>\n      <th>year_of_birth</th>\n      <th>vechicle_number</th>\n      <th>y</th>\n    </tr>\n  </thead>\n  <tbody>\n    <tr>\n      <th>0</th>\n      <td>200500000001</td>\n      <td>Night without public lighting</td>\n      <td>In built-up areas</td>\n      <td>Out of intersection</td>\n      <td>Normal</td>\n      <td>Two vehicles - by the side</td>\n      <td>11</td>\n      <td>CD41B</td>\n      <td>Métropole</td>\n      <td>5051500</td>\n      <td>294400</td>\n      <td>590</td>\n      <td>2005-01-05 19:00:00</td>\n      <td>2005.0</td>\n      <td>1.0</td>\n      <td>19.0</td>\n      <td>Departmental Road</td>\n      <td>Bidirectional</td>\n      <td>2.0</td>\n      <td>NaN</td>\n      <td>Dish</td>\n      <td>Straight part</td>\n      <td>normal</td>\n      <td>NaN</td>\n      <td>On the road</td>\n      <td>1678507</td>\n      <td>1</td>\n      <td>Driver</td>\n      <td>Light injury</td>\n      <td>Male</td>\n      <td>yes</td>\n      <td>not specified or not applicable</td>\n      <td>NaN</td>\n      <td>1976</td>\n      <td>A01</td>\n      <td>0</td>\n    </tr>\n    <tr>\n      <th>1</th>\n      <td>200500000001</td>\n      <td>Night without public lighting</td>\n      <td>In built-up areas</td>\n      <td>Out of intersection</td>\n      <td>Normal</td>\n      <td>Two vehicles - by the side</td>\n      <td>11</td>\n      <td>CD41B</td>\n      <td>Métropole</td>\n      <td>5051500</td>\n      <td>294400</td>\n      <td>590</td>\n      <td>2005-01-05 19:00:00</td>\n      <td>2005.0</td>\n      <td>1.0</td>\n      <td>19.0</td>\n      <td>Departmental Road</td>\n      <td>Bidirectional</td>\n      <td>2.0</td>\n      <td>NaN</td>\n      <td>Dish</td>\n      <td>Straight part</td>\n      <td>normal</td>\n      <td>NaN</td>\n      <td>On the road</td>\n      <td>1678508</td>\n      <td>1</td>\n      <td>Driver</td>\n      <td>Hospitalized wounded</td>\n      <td>Female</td>\n      <td>yes</td>\n      <td>not specified or not applicable</td>\n      <td>NaN</td>\n      <td>1968</td>\n      <td>B02</td>\n      <td>1</td>\n    </tr>\n    <tr>\n      <th>2</th>\n      <td>200500000001</td>\n      <td>Night without public lighting</td>\n      <td>In built-up areas</td>\n      <td>Out of intersection</td>\n      <td>Normal</td>\n      <td>Two vehicles - by the side</td>\n      <td>11</td>\n      <td>CD41B</td>\n      <td>Métropole</td>\n      <td>5051500</td>\n      <td>294400</td>\n      <td>590</td>\n      <td>2005-01-05 19:00:00</td>\n      <td>2005.0</td>\n      <td>1.0</td>\n      <td>19.0</td>\n      <td>Departmental Road</td>\n      <td>Bidirectional</td>\n      <td>2.0</td>\n      <td>NaN</td>\n      <td>Dish</td>\n      <td>Straight part</td>\n      <td>normal</td>\n      <td>NaN</td>\n      <td>On the road</td>\n      <td>1678509</td>\n      <td>2</td>\n      <td>Passenger</td>\n      <td>Unscathed</td>\n      <td>Male</td>\n      <td>yes</td>\n      <td>not specified or not applicable</td>\n      <td>NaN</td>\n      <td>1964</td>\n      <td>B02</td>\n      <td>0</td>\n    </tr>\n    <tr>\n      <th>3</th>\n      <td>200500000001</td>\n      <td>Night without public lighting</td>\n      <td>In built-up areas</td>\n      <td>Out of intersection</td>\n      <td>Normal</td>\n      <td>Two vehicles - by the side</td>\n      <td>11</td>\n      <td>CD41B</td>\n      <td>Métropole</td>\n      <td>5051500</td>\n      <td>294400</td>\n      <td>590</td>\n      <td>2005-01-05 19:00:00</td>\n      <td>2005.0</td>\n      <td>1.0</td>\n      <td>19.0</td>\n      <td>Departmental Road</td>\n      <td>Bidirectional</td>\n      <td>2.0</td>\n      <td>NaN</td>\n      <td>Dish</td>\n      <td>Straight part</td>\n      <td>normal</td>\n      <td>NaN</td>\n      <td>On the road</td>\n      <td>1678510</td>\n      <td>4</td>\n      <td>Passenger</td>\n      <td>Unscathed</td>\n      <td>Male</td>\n      <td>yes</td>\n      <td>not specified or not applicable</td>\n      <td>NaN</td>\n      <td>2004</td>\n      <td>B02</td>\n      <td>0</td>\n    </tr>\n    <tr>\n      <th>4</th>\n      <td>200500000001</td>\n      <td>Night without public lighting</td>\n      <td>In built-up areas</td>\n      <td>Out of intersection</td>\n      <td>Normal</td>\n      <td>Two vehicles - by the side</td>\n      <td>11</td>\n      <td>CD41B</td>\n      <td>Métropole</td>\n      <td>5051500</td>\n      <td>294400</td>\n      <td>590</td>\n      <td>2005-01-05 19:00:00</td>\n      <td>2005.0</td>\n      <td>1.0</td>\n      <td>19.0</td>\n      <td>Departmental Road</td>\n      <td>Bidirectional</td>\n      <td>2.0</td>\n      <td>NaN</td>\n      <td>Dish</td>\n      <td>Straight part</td>\n      <td>normal</td>\n      <td>NaN</td>\n      <td>On the road</td>\n      <td>1678511</td>\n      <td>5</td>\n      <td>Passenger</td>\n      <td>Unscathed</td>\n      <td>Male</td>\n      <td>yes</td>\n      <td>not specified or not applicable</td>\n      <td>NaN</td>\n      <td>1998</td>\n      <td>B02</td>\n      <td>0</td>\n    </tr>\n  </tbody>\n</table>\n</div>"
     },
     "metadata": {},
     "execution_count": 3
    }
   ],
   "source": [
    "master_table.head()"
   ]
  },
  {
   "cell_type": "markdown",
   "metadata": {},
   "source": [
    "## EDA with filtering approach and feature selection"
   ]
  },
  {
   "cell_type": "code",
   "execution_count": 4,
   "metadata": {},
   "outputs": [],
   "source": [
    "master_table['year_of_birth'] = master_table['year_of_birth'].astype(float)"
   ]
  },
  {
   "cell_type": "code",
   "execution_count": 5,
   "metadata": {},
   "outputs": [],
   "source": [
    "cols_to_model = [\n",
    "#  'accident_id',\n",
    " 'lighting',\n",
    " 'localization',\n",
    " 'intersection_type',\n",
    " 'weather',\n",
    " 'collision_type',\n",
    "#  'com',\n",
    "#  'address',\n",
    "#  'gps',\n",
    "#  'lat',\n",
    "#  'long',\n",
    "#  'departament',\n",
    "#  'time',\n",
    " 'year',\n",
    " 'month',\n",
    " 'hour',\n",
    " 'road_category',\n",
    " 'road_regime',\n",
    " 'no_lanes',\n",
    " 'reserved_lane',\n",
    " 'road_gradient',\n",
    " 'road_plan',\n",
    " 'road_condition',\n",
    " 'infrastructure',\n",
    " 'accident_situation',\n",
    "#  'user_id',\n",
    " 'place_in_car',\n",
    " 'user_type',\n",
    "#  'injury_type',\n",
    " 'sex',\n",
    " 'equipment_used',\n",
    " 'pedestrian_action',\n",
    " 'pedestrian_alone',\n",
    " 'year_of_birth',\n",
    "#  'vechicle_number',\n",
    "#  'y'\n",
    "]\n"
   ]
  },
  {
   "cell_type": "code",
   "execution_count": 6,
   "metadata": {},
   "outputs": [
    {
     "output_type": "execute_result",
     "data": {
      "text/plain": "lighting               object\nlocalization           object\nintersection_type      object\nweather                object\ncollision_type         object\nyear                  float64\nmonth                 float64\nhour                  float64\nroad_category          object\nroad_regime            object\nno_lanes              float64\nreserved_lane          object\nroad_gradient          object\nroad_plan              object\nroad_condition         object\ninfrastructure         object\naccident_situation     object\nplace_in_car           object\nuser_type              object\nsex                    object\nequipment_used         object\npedestrian_action      object\npedestrian_alone       object\nyear_of_birth         float64\ndtype: object"
     },
     "metadata": {},
     "execution_count": 6
    }
   ],
   "source": [
    "master_table[cols_to_model].dtypes"
   ]
  },
  {
   "cell_type": "markdown",
   "metadata": {},
   "source": [
    "TODO:\n",
    "\n",
    "- get dummies (with na)\n",
    "- 0 variance\n",
    "- m"
   ]
  },
  {
   "cell_type": "code",
   "execution_count": null,
   "metadata": {},
   "outputs": [],
   "source": []
  },
  {
   "cell_type": "markdown",
   "metadata": {},
   "source": [
    "### Categorical columns"
   ]
  },
  {
   "cell_type": "code",
   "execution_count": 7,
   "metadata": {},
   "outputs": [
    {
     "output_type": "execute_result",
     "data": {
      "text/plain": "                        lighting       localization    intersection_type  \\\n0  Night without public lighting  In built-up areas  Out of intersection   \n1  Night without public lighting  In built-up areas  Out of intersection   \n2  Night without public lighting  In built-up areas  Out of intersection   \n3  Night without public lighting  In built-up areas  Out of intersection   \n4  Night without public lighting  In built-up areas  Out of intersection   \n\n  weather              collision_type      road_category    road_regime  \\\n0  Normal  Two vehicles - by the side  Departmental Road  Bidirectional   \n1  Normal  Two vehicles - by the side  Departmental Road  Bidirectional   \n2  Normal  Two vehicles - by the side  Departmental Road  Bidirectional   \n3  Normal  Two vehicles - by the side  Departmental Road  Bidirectional   \n4  Normal  Two vehicles - by the side  Departmental Road  Bidirectional   \n\n  reserved_lane road_gradient      road_plan road_condition infrastructure  \\\n0           NaN          Dish  Straight part         normal            NaN   \n1           NaN          Dish  Straight part         normal            NaN   \n2           NaN          Dish  Straight part         normal            NaN   \n3           NaN          Dish  Straight part         normal            NaN   \n4           NaN          Dish  Straight part         normal            NaN   \n\n  accident_situation place_in_car  user_type     sex equipment_used  \\\n0        On the road            1     Driver    Male            yes   \n1        On the road            1     Driver  Female            yes   \n2        On the road            2  Passenger    Male            yes   \n3        On the road            4  Passenger    Male            yes   \n4        On the road            5  Passenger    Male            yes   \n\n                 pedestrian_action pedestrian_alone  \n0  not specified or not applicable              NaN  \n1  not specified or not applicable              NaN  \n2  not specified or not applicable              NaN  \n3  not specified or not applicable              NaN  \n4  not specified or not applicable              NaN  ",
      "text/html": "<div>\n<style scoped>\n    .dataframe tbody tr th:only-of-type {\n        vertical-align: middle;\n    }\n\n    .dataframe tbody tr th {\n        vertical-align: top;\n    }\n\n    .dataframe thead th {\n        text-align: right;\n    }\n</style>\n<table border=\"1\" class=\"dataframe\">\n  <thead>\n    <tr style=\"text-align: right;\">\n      <th></th>\n      <th>lighting</th>\n      <th>localization</th>\n      <th>intersection_type</th>\n      <th>weather</th>\n      <th>collision_type</th>\n      <th>road_category</th>\n      <th>road_regime</th>\n      <th>reserved_lane</th>\n      <th>road_gradient</th>\n      <th>road_plan</th>\n      <th>road_condition</th>\n      <th>infrastructure</th>\n      <th>accident_situation</th>\n      <th>place_in_car</th>\n      <th>user_type</th>\n      <th>sex</th>\n      <th>equipment_used</th>\n      <th>pedestrian_action</th>\n      <th>pedestrian_alone</th>\n    </tr>\n  </thead>\n  <tbody>\n    <tr>\n      <th>0</th>\n      <td>Night without public lighting</td>\n      <td>In built-up areas</td>\n      <td>Out of intersection</td>\n      <td>Normal</td>\n      <td>Two vehicles - by the side</td>\n      <td>Departmental Road</td>\n      <td>Bidirectional</td>\n      <td>NaN</td>\n      <td>Dish</td>\n      <td>Straight part</td>\n      <td>normal</td>\n      <td>NaN</td>\n      <td>On the road</td>\n      <td>1</td>\n      <td>Driver</td>\n      <td>Male</td>\n      <td>yes</td>\n      <td>not specified or not applicable</td>\n      <td>NaN</td>\n    </tr>\n    <tr>\n      <th>1</th>\n      <td>Night without public lighting</td>\n      <td>In built-up areas</td>\n      <td>Out of intersection</td>\n      <td>Normal</td>\n      <td>Two vehicles - by the side</td>\n      <td>Departmental Road</td>\n      <td>Bidirectional</td>\n      <td>NaN</td>\n      <td>Dish</td>\n      <td>Straight part</td>\n      <td>normal</td>\n      <td>NaN</td>\n      <td>On the road</td>\n      <td>1</td>\n      <td>Driver</td>\n      <td>Female</td>\n      <td>yes</td>\n      <td>not specified or not applicable</td>\n      <td>NaN</td>\n    </tr>\n    <tr>\n      <th>2</th>\n      <td>Night without public lighting</td>\n      <td>In built-up areas</td>\n      <td>Out of intersection</td>\n      <td>Normal</td>\n      <td>Two vehicles - by the side</td>\n      <td>Departmental Road</td>\n      <td>Bidirectional</td>\n      <td>NaN</td>\n      <td>Dish</td>\n      <td>Straight part</td>\n      <td>normal</td>\n      <td>NaN</td>\n      <td>On the road</td>\n      <td>2</td>\n      <td>Passenger</td>\n      <td>Male</td>\n      <td>yes</td>\n      <td>not specified or not applicable</td>\n      <td>NaN</td>\n    </tr>\n    <tr>\n      <th>3</th>\n      <td>Night without public lighting</td>\n      <td>In built-up areas</td>\n      <td>Out of intersection</td>\n      <td>Normal</td>\n      <td>Two vehicles - by the side</td>\n      <td>Departmental Road</td>\n      <td>Bidirectional</td>\n      <td>NaN</td>\n      <td>Dish</td>\n      <td>Straight part</td>\n      <td>normal</td>\n      <td>NaN</td>\n      <td>On the road</td>\n      <td>4</td>\n      <td>Passenger</td>\n      <td>Male</td>\n      <td>yes</td>\n      <td>not specified or not applicable</td>\n      <td>NaN</td>\n    </tr>\n    <tr>\n      <th>4</th>\n      <td>Night without public lighting</td>\n      <td>In built-up areas</td>\n      <td>Out of intersection</td>\n      <td>Normal</td>\n      <td>Two vehicles - by the side</td>\n      <td>Departmental Road</td>\n      <td>Bidirectional</td>\n      <td>NaN</td>\n      <td>Dish</td>\n      <td>Straight part</td>\n      <td>normal</td>\n      <td>NaN</td>\n      <td>On the road</td>\n      <td>5</td>\n      <td>Passenger</td>\n      <td>Male</td>\n      <td>yes</td>\n      <td>not specified or not applicable</td>\n      <td>NaN</td>\n    </tr>\n  </tbody>\n</table>\n</div>"
     },
     "metadata": {},
     "execution_count": 7
    }
   ],
   "source": [
    "df_cat = master_table[cols_to_model].select_dtypes('object')\n",
    "df_cat.head()"
   ]
  },
  {
   "cell_type": "markdown",
   "metadata": {},
   "source": [
    "Replacing NA's - for now with 'NA'"
   ]
  },
  {
   "cell_type": "code",
   "execution_count": 8,
   "metadata": {},
   "outputs": [
    {
     "output_type": "execute_result",
     "data": {
      "text/plain": "                        lighting       localization    intersection_type  \\\n0  Night without public lighting  In built-up areas  Out of intersection   \n1  Night without public lighting  In built-up areas  Out of intersection   \n2  Night without public lighting  In built-up areas  Out of intersection   \n3  Night without public lighting  In built-up areas  Out of intersection   \n4  Night without public lighting  In built-up areas  Out of intersection   \n\n  weather              collision_type      road_category    road_regime  \\\n0  Normal  Two vehicles - by the side  Departmental Road  Bidirectional   \n1  Normal  Two vehicles - by the side  Departmental Road  Bidirectional   \n2  Normal  Two vehicles - by the side  Departmental Road  Bidirectional   \n3  Normal  Two vehicles - by the side  Departmental Road  Bidirectional   \n4  Normal  Two vehicles - by the side  Departmental Road  Bidirectional   \n\n  reserved_lane road_gradient      road_plan road_condition infrastructure  \\\n0            NA          Dish  Straight part         normal             NA   \n1            NA          Dish  Straight part         normal             NA   \n2            NA          Dish  Straight part         normal             NA   \n3            NA          Dish  Straight part         normal             NA   \n4            NA          Dish  Straight part         normal             NA   \n\n  accident_situation place_in_car  user_type     sex equipment_used  \\\n0        On the road            1     Driver    Male            yes   \n1        On the road            1     Driver  Female            yes   \n2        On the road            2  Passenger    Male            yes   \n3        On the road            4  Passenger    Male            yes   \n4        On the road            5  Passenger    Male            yes   \n\n                 pedestrian_action pedestrian_alone  \n0  not specified or not applicable               NA  \n1  not specified or not applicable               NA  \n2  not specified or not applicable               NA  \n3  not specified or not applicable               NA  \n4  not specified or not applicable               NA  ",
      "text/html": "<div>\n<style scoped>\n    .dataframe tbody tr th:only-of-type {\n        vertical-align: middle;\n    }\n\n    .dataframe tbody tr th {\n        vertical-align: top;\n    }\n\n    .dataframe thead th {\n        text-align: right;\n    }\n</style>\n<table border=\"1\" class=\"dataframe\">\n  <thead>\n    <tr style=\"text-align: right;\">\n      <th></th>\n      <th>lighting</th>\n      <th>localization</th>\n      <th>intersection_type</th>\n      <th>weather</th>\n      <th>collision_type</th>\n      <th>road_category</th>\n      <th>road_regime</th>\n      <th>reserved_lane</th>\n      <th>road_gradient</th>\n      <th>road_plan</th>\n      <th>road_condition</th>\n      <th>infrastructure</th>\n      <th>accident_situation</th>\n      <th>place_in_car</th>\n      <th>user_type</th>\n      <th>sex</th>\n      <th>equipment_used</th>\n      <th>pedestrian_action</th>\n      <th>pedestrian_alone</th>\n    </tr>\n  </thead>\n  <tbody>\n    <tr>\n      <th>0</th>\n      <td>Night without public lighting</td>\n      <td>In built-up areas</td>\n      <td>Out of intersection</td>\n      <td>Normal</td>\n      <td>Two vehicles - by the side</td>\n      <td>Departmental Road</td>\n      <td>Bidirectional</td>\n      <td>NA</td>\n      <td>Dish</td>\n      <td>Straight part</td>\n      <td>normal</td>\n      <td>NA</td>\n      <td>On the road</td>\n      <td>1</td>\n      <td>Driver</td>\n      <td>Male</td>\n      <td>yes</td>\n      <td>not specified or not applicable</td>\n      <td>NA</td>\n    </tr>\n    <tr>\n      <th>1</th>\n      <td>Night without public lighting</td>\n      <td>In built-up areas</td>\n      <td>Out of intersection</td>\n      <td>Normal</td>\n      <td>Two vehicles - by the side</td>\n      <td>Departmental Road</td>\n      <td>Bidirectional</td>\n      <td>NA</td>\n      <td>Dish</td>\n      <td>Straight part</td>\n      <td>normal</td>\n      <td>NA</td>\n      <td>On the road</td>\n      <td>1</td>\n      <td>Driver</td>\n      <td>Female</td>\n      <td>yes</td>\n      <td>not specified or not applicable</td>\n      <td>NA</td>\n    </tr>\n    <tr>\n      <th>2</th>\n      <td>Night without public lighting</td>\n      <td>In built-up areas</td>\n      <td>Out of intersection</td>\n      <td>Normal</td>\n      <td>Two vehicles - by the side</td>\n      <td>Departmental Road</td>\n      <td>Bidirectional</td>\n      <td>NA</td>\n      <td>Dish</td>\n      <td>Straight part</td>\n      <td>normal</td>\n      <td>NA</td>\n      <td>On the road</td>\n      <td>2</td>\n      <td>Passenger</td>\n      <td>Male</td>\n      <td>yes</td>\n      <td>not specified or not applicable</td>\n      <td>NA</td>\n    </tr>\n    <tr>\n      <th>3</th>\n      <td>Night without public lighting</td>\n      <td>In built-up areas</td>\n      <td>Out of intersection</td>\n      <td>Normal</td>\n      <td>Two vehicles - by the side</td>\n      <td>Departmental Road</td>\n      <td>Bidirectional</td>\n      <td>NA</td>\n      <td>Dish</td>\n      <td>Straight part</td>\n      <td>normal</td>\n      <td>NA</td>\n      <td>On the road</td>\n      <td>4</td>\n      <td>Passenger</td>\n      <td>Male</td>\n      <td>yes</td>\n      <td>not specified or not applicable</td>\n      <td>NA</td>\n    </tr>\n    <tr>\n      <th>4</th>\n      <td>Night without public lighting</td>\n      <td>In built-up areas</td>\n      <td>Out of intersection</td>\n      <td>Normal</td>\n      <td>Two vehicles - by the side</td>\n      <td>Departmental Road</td>\n      <td>Bidirectional</td>\n      <td>NA</td>\n      <td>Dish</td>\n      <td>Straight part</td>\n      <td>normal</td>\n      <td>NA</td>\n      <td>On the road</td>\n      <td>5</td>\n      <td>Passenger</td>\n      <td>Male</td>\n      <td>yes</td>\n      <td>not specified or not applicable</td>\n      <td>NA</td>\n    </tr>\n  </tbody>\n</table>\n</div>"
     },
     "metadata": {},
     "execution_count": 8
    }
   ],
   "source": [
    "si = SimpleImputer(missing_values=np.nan, strategy='constant', fill_value = 'NA', add_indicator=False)\n",
    "temp = si.fit_transform(df_cat)\n",
    "df_cat2 = pd.DataFrame(temp, columns = df_cat.columns)\n",
    "df_cat2.head()"
   ]
  },
  {
   "cell_type": "markdown",
   "metadata": {},
   "source": [
    "One hot encoding"
   ]
  },
  {
   "cell_type": "code",
   "execution_count": 10,
   "metadata": {},
   "outputs": [],
   "source": [
    "df_cat3 = pd.get_dummies(df_cat2, drop_first = True)"
   ]
  },
  {
   "cell_type": "code",
   "execution_count": 11,
   "metadata": {},
   "outputs": [],
   "source": [
    "df_cat3.columns = ['d_' + col for col in list(df_cat3.columns)]"
   ]
  },
  {
   "cell_type": "code",
   "execution_count": 12,
   "metadata": {},
   "outputs": [],
   "source": [
    "df_cat_out = df_cat3.copy()"
   ]
  },
  {
   "cell_type": "code",
   "execution_count": 13,
   "metadata": {},
   "outputs": [
    {
     "output_type": "execute_result",
     "data": {
      "text/plain": "   d_lighting_Night with public lighting not lit  \\\n0                                              0   \n1                                              0   \n2                                              0   \n3                                              0   \n4                                              0   \n\n   d_lighting_Night with public lighting on  \\\n0                                         0   \n1                                         0   \n2                                         0   \n3                                         0   \n4                                         0   \n\n   d_lighting_Night without public lighting  d_lighting_Twilight or dawn  \\\n0                                         1                            0   \n1                                         1                            0   \n2                                         1                            0   \n3                                         1                            0   \n4                                         1                            0   \n\n   d_localization_Out of agglomeration  d_intersection_type_Intersection in T  \\\n0                                    0                                      0   \n1                                    0                                      0   \n2                                    0                                      0   \n3                                    0                                      0   \n4                                    0                                      0   \n\n   d_intersection_type_Intersection in X  \\\n0                                      0   \n1                                      0   \n2                                      0   \n3                                      0   \n4                                      0   \n\n   d_intersection_type_Intersection in Y  \\\n0                                      0   \n1                                      0   \n2                                      0   \n3                                      0   \n4                                      0   \n\n   d_intersection_type_Intersection with more than 4 branches  \\\n0                                                  0            \n1                                                  0            \n2                                                  0            \n3                                                  0            \n4                                                  0            \n\n   d_intersection_type_Level crossing  d_intersection_type_NA  \\\n0                                   0                       0   \n1                                   0                       0   \n2                                   0                       0   \n3                                   0                       0   \n4                                   0                       0   \n\n   d_intersection_type_Other intersection  \\\n0                                       0   \n1                                       0   \n2                                       0   \n3                                       0   \n4                                       0   \n\n   d_intersection_type_Out of intersection  d_intersection_type_Place  \\\n0                                        1                          0   \n1                                        1                          0   \n2                                        1                          0   \n3                                        1                          0   \n4                                        1                          0   \n\n   d_weather_Dazzling weather  d_weather_Fog - smoke  d_weather_Heavy rain  \\\n0                           0                      0                     0   \n1                           0                      0                     0   \n2                           0                      0                     0   \n3                           0                      0                     0   \n4                           0                      0                     0   \n\n   d_weather_Light rain  d_weather_NA  d_weather_Normal  d_weather_Other  \\\n0                     0             0                 1                0   \n1                     0             0                 1                0   \n2                     0             0                 1                0   \n3                     0             0                 1                0   \n4                     0             0                 1                0   \n\n   d_weather_Snow - hail  d_weather_Strong wind - storm  \\\n0                      0                              0   \n1                      0                              0   \n2                      0                              0   \n3                      0                              0   \n4                      0                              0   \n\n   d_collision_type_Other collision  \\\n0                                 0   \n1                                 0   \n2                                 0   \n3                                 0   \n4                                 0   \n\n   d_collision_type_Three or more vehicles - multiple collisions  \\\n0                                                  0               \n1                                                  0               \n2                                                  0               \n3                                                  0               \n4                                                  0               \n\n   d_collision_type_Three vehicles and more - in chain  \\\n0                                                  0     \n1                                                  0     \n2                                                  0     \n3                                                  0     \n4                                                  0     \n\n   d_collision_type_Two vehicles - by the side  \\\n0                                            1   \n1                                            1   \n2                                            1   \n3                                            1   \n4                                            1   \n\n   d_collision_type_Two vehicles - from the rear  \\\n0                                              0   \n1                                              0   \n2                                              0   \n3                                              0   \n4                                              0   \n\n   d_collision_type_Two vehicles - frontal  \\\n0                                        0   \n1                                        0   \n2                                        0   \n3                                        0   \n4                                        0   \n\n   d_collision_type_Without collision  d_road_category_Departmental Road  \\\n0                                   0                                  1   \n1                                   0                                  1   \n2                                   0                                  1   \n3                                   0                                  1   \n4                                   0                                  1   \n\n   d_road_category_Highway  d_road_category_NA  d_road_category_National Road  \\\n0                        0                   0                              0   \n1                        0                   0                              0   \n2                        0                   0                              0   \n3                        0                   0                              0   \n4                        0                   0                              0   \n\n   d_road_category_Off public network  \\\n0                                   0   \n1                                   0   \n2                                   0   \n3                                   0   \n4                                   0   \n\n   d_road_category_Parking lot open to public traffic  d_road_category_other  \\\n0                                                  0                       0   \n1                                                  0                       0   \n2                                                  0                       0   \n3                                                  0                       0   \n4                                                  0                       0   \n\n   d_road_regime_NA  d_road_regime_One way  \\\n0                 0                      0   \n1                 0                      0   \n2                 0                      0   \n3                 0                      0   \n4                 0                      0   \n\n   d_road_regime_Separated carriageways  \\\n0                                     0   \n1                                     0   \n2                                     0   \n3                                     0   \n4                                     0   \n\n   d_road_regime_With variable assignment channels  \\\n0                                                0   \n1                                                0   \n2                                                0   \n3                                                0   \n4                                                0   \n\n   d_reserved_lane_Cycle Bank  d_reserved_lane_NA  \\\n0                           0                   1   \n1                           0                   1   \n2                           0                   1   \n3                           0                   1   \n4                           0                   1   \n\n   d_reserved_lane_Reserved channel  d_road_gradient_Hill bottom  \\\n0                                 0                            0   \n1                                 0                            0   \n2                                 0                            0   \n3                                 0                            0   \n4                                 0                            0   \n\n   d_road_gradient_Hilltop  d_road_gradient_NA  d_road_gradient_Slope  \\\n0                        0                   0                      0   \n1                        0                   0                      0   \n2                        0                   0                      0   \n3                        0                   0                      0   \n4                        0                   0                      0   \n\n   d_road_plan_Curved right  d_road_plan_In \"S\"  d_road_plan_NA  \\\n0                         0                   0               0   \n1                         0                   0               0   \n2                         0                   0               0   \n3                         0                   0               0   \n4                         0                   0               0   \n\n   d_road_plan_Straight part  d_road_condition_fat - oil  \\\n0                          1                           0   \n1                          1                           0   \n2                          1                           0   \n3                          1                           0   \n4                          1                           0   \n\n   d_road_condition_flooded  d_road_condition_icy  d_road_condition_mud  \\\n0                         0                     0                     0   \n1                         0                     0                     0   \n2                         0                     0                     0   \n3                         0                     0                     0   \n4                         0                     0                     0   \n\n   d_road_condition_normal  d_road_condition_other  d_road_condition_puddles  \\\n0                        1                       0                         0   \n1                        1                       0                         0   \n2                        1                       0                         0   \n3                        1                       0                         0   \n4                        1                       0                         0   \n\n   d_road_condition_snow  d_road_condition_wet  \\\n0                      0                     0   \n1                      0                     0   \n2                      0                     0   \n3                      0                     0   \n4                      0                     0   \n\n   d_infrastructure_Carrefour arranged  \\\n0                                    0   \n1                                    0   \n2                                    0   \n3                                    0   \n4                                    0   \n\n   d_infrastructure_Exchanger or connection brace  d_infrastructure_NA  \\\n0                                               0                    1   \n1                                               0                    1   \n2                                               0                    1   \n3                                               0                    1   \n4                                               0                    1   \n\n   d_infrastructure_Pedestrian area  d_infrastructure_Railway  \\\n0                                 0                         0   \n1                                 0                         0   \n2                                 0                         0   \n3                                 0                         0   \n4                                 0                         0   \n\n   d_infrastructure_Toll zone  d_infrastructure_Underground - tunnel  \\\n0                           0                                      0   \n1                           0                                      0   \n2                           0                                      0   \n3                           0                                      0   \n4                           0                                      0   \n\n   d_accident_situation_On bike path  \\\n0                                  0   \n1                                  0   \n2                                  0   \n3                                  0   \n4                                  0   \n\n   d_accident_situation_On emergency stop band  \\\n0                                            0   \n1                                            0   \n2                                            0   \n3                                            0   \n4                                            0   \n\n   d_accident_situation_On the road  d_accident_situation_On the sidewalk  \\\n0                                 1                                     0   \n1                                 1                                     0   \n2                                 1                                     0   \n3                                 1                                     0   \n4                                 1                                     0   \n\n   d_accident_situation_On the verge  d_place_in_car_1  d_place_in_car_2  \\\n0                                  0                 1                 0   \n1                                  0                 1                 0   \n2                                  0                 0                 1   \n3                                  0                 0                 0   \n4                                  0                 0                 0   \n\n   d_place_in_car_3  d_place_in_car_4  d_place_in_car_5  d_place_in_car_6  \\\n0                 0                 0                 0                 0   \n1                 0                 0                 0                 0   \n2                 0                 0                 0                 0   \n3                 0                 1                 0                 0   \n4                 0                 0                 1                 0   \n\n   d_place_in_car_7  d_place_in_car_8  d_place_in_car_9  d_place_in_car_NA  \\\n0                 0                 0                 0                  0   \n1                 0                 0                 0                  0   \n2                 0                 0                 0                  0   \n3                 0                 0                 0                  0   \n4                 0                 0                 0                  0   \n\n   d_user_type_Passenger  d_user_type_Pedestrian  \\\n0                      0                       0   \n1                      0                       0   \n2                      1                       0   \n3                      1                       0   \n4                      1                       0   \n\n   d_user_type_Pedestrian in rollerblade or scooter  d_sex_Male  \\\n0                                                 0           1   \n1                                                 0           0   \n2                                                 0           1   \n3                                                 0           1   \n4                                                 0           1   \n\n   d_equipment_used_no  d_equipment_used_yes  d_pedestrian_action_Masked  \\\n0                    0                     1                           0   \n1                    0                     1                           0   \n2                    0                     1                           0   \n3                    0                     1                           0   \n4                    0                     1                           0   \n\n   d_pedestrian_action_Meaning bumping vehicle  d_pedestrian_action_NA  \\\n0                                            0                       0   \n1                                            0                       0   \n2                                            0                       0   \n3                                            0                       0   \n4                                            0                       0   \n\n   d_pedestrian_action_Opposite direction of the vehicle  \\\n0                                                  0       \n1                                                  0       \n2                                                  0       \n3                                                  0       \n4                                                  0       \n\n   d_pedestrian_action_Other  d_pedestrian_action_Playing - running  \\\n0                          0                                      0   \n1                          0                                      0   \n2                          0                                      0   \n3                          0                                      0   \n4                          0                                      0   \n\n   d_pedestrian_action_With animal  \\\n0                                0   \n1                                0   \n2                                0   \n3                                0   \n4                                0   \n\n   d_pedestrian_action_not specified or not applicable  \\\n0                                                  1     \n1                                                  1     \n2                                                  1     \n3                                                  1     \n4                                                  1     \n\n   d_pedestrian_alone_In a group  d_pedestrian_alone_NA  \\\n0                              0                      1   \n1                              0                      1   \n2                              0                      1   \n3                              0                      1   \n4                              0                      1   \n\n   d_pedestrian_alone_Only  \n0                        0  \n1                        0  \n2                        0  \n3                        0  \n4                        0  ",
      "text/html": "<div>\n<style scoped>\n    .dataframe tbody tr th:only-of-type {\n        vertical-align: middle;\n    }\n\n    .dataframe tbody tr th {\n        vertical-align: top;\n    }\n\n    .dataframe thead th {\n        text-align: right;\n    }\n</style>\n<table border=\"1\" class=\"dataframe\">\n  <thead>\n    <tr style=\"text-align: right;\">\n      <th></th>\n      <th>d_lighting_Night with public lighting not lit</th>\n      <th>d_lighting_Night with public lighting on</th>\n      <th>d_lighting_Night without public lighting</th>\n      <th>d_lighting_Twilight or dawn</th>\n      <th>d_localization_Out of agglomeration</th>\n      <th>d_intersection_type_Intersection in T</th>\n      <th>d_intersection_type_Intersection in X</th>\n      <th>d_intersection_type_Intersection in Y</th>\n      <th>d_intersection_type_Intersection with more than 4 branches</th>\n      <th>d_intersection_type_Level crossing</th>\n      <th>d_intersection_type_NA</th>\n      <th>d_intersection_type_Other intersection</th>\n      <th>d_intersection_type_Out of intersection</th>\n      <th>d_intersection_type_Place</th>\n      <th>d_weather_Dazzling weather</th>\n      <th>d_weather_Fog - smoke</th>\n      <th>d_weather_Heavy rain</th>\n      <th>d_weather_Light rain</th>\n      <th>d_weather_NA</th>\n      <th>d_weather_Normal</th>\n      <th>d_weather_Other</th>\n      <th>d_weather_Snow - hail</th>\n      <th>d_weather_Strong wind - storm</th>\n      <th>d_collision_type_Other collision</th>\n      <th>d_collision_type_Three or more vehicles - multiple collisions</th>\n      <th>d_collision_type_Three vehicles and more - in chain</th>\n      <th>d_collision_type_Two vehicles - by the side</th>\n      <th>d_collision_type_Two vehicles - from the rear</th>\n      <th>d_collision_type_Two vehicles - frontal</th>\n      <th>d_collision_type_Without collision</th>\n      <th>d_road_category_Departmental Road</th>\n      <th>d_road_category_Highway</th>\n      <th>d_road_category_NA</th>\n      <th>d_road_category_National Road</th>\n      <th>d_road_category_Off public network</th>\n      <th>d_road_category_Parking lot open to public traffic</th>\n      <th>d_road_category_other</th>\n      <th>d_road_regime_NA</th>\n      <th>d_road_regime_One way</th>\n      <th>d_road_regime_Separated carriageways</th>\n      <th>d_road_regime_With variable assignment channels</th>\n      <th>d_reserved_lane_Cycle Bank</th>\n      <th>d_reserved_lane_NA</th>\n      <th>d_reserved_lane_Reserved channel</th>\n      <th>d_road_gradient_Hill bottom</th>\n      <th>d_road_gradient_Hilltop</th>\n      <th>d_road_gradient_NA</th>\n      <th>d_road_gradient_Slope</th>\n      <th>d_road_plan_Curved right</th>\n      <th>d_road_plan_In \"S\"</th>\n      <th>d_road_plan_NA</th>\n      <th>d_road_plan_Straight part</th>\n      <th>d_road_condition_fat - oil</th>\n      <th>d_road_condition_flooded</th>\n      <th>d_road_condition_icy</th>\n      <th>d_road_condition_mud</th>\n      <th>d_road_condition_normal</th>\n      <th>d_road_condition_other</th>\n      <th>d_road_condition_puddles</th>\n      <th>d_road_condition_snow</th>\n      <th>d_road_condition_wet</th>\n      <th>d_infrastructure_Carrefour arranged</th>\n      <th>d_infrastructure_Exchanger or connection brace</th>\n      <th>d_infrastructure_NA</th>\n      <th>d_infrastructure_Pedestrian area</th>\n      <th>d_infrastructure_Railway</th>\n      <th>d_infrastructure_Toll zone</th>\n      <th>d_infrastructure_Underground - tunnel</th>\n      <th>d_accident_situation_On bike path</th>\n      <th>d_accident_situation_On emergency stop band</th>\n      <th>d_accident_situation_On the road</th>\n      <th>d_accident_situation_On the sidewalk</th>\n      <th>d_accident_situation_On the verge</th>\n      <th>d_place_in_car_1</th>\n      <th>d_place_in_car_2</th>\n      <th>d_place_in_car_3</th>\n      <th>d_place_in_car_4</th>\n      <th>d_place_in_car_5</th>\n      <th>d_place_in_car_6</th>\n      <th>d_place_in_car_7</th>\n      <th>d_place_in_car_8</th>\n      <th>d_place_in_car_9</th>\n      <th>d_place_in_car_NA</th>\n      <th>d_user_type_Passenger</th>\n      <th>d_user_type_Pedestrian</th>\n      <th>d_user_type_Pedestrian in rollerblade or scooter</th>\n      <th>d_sex_Male</th>\n      <th>d_equipment_used_no</th>\n      <th>d_equipment_used_yes</th>\n      <th>d_pedestrian_action_Masked</th>\n      <th>d_pedestrian_action_Meaning bumping vehicle</th>\n      <th>d_pedestrian_action_NA</th>\n      <th>d_pedestrian_action_Opposite direction of the vehicle</th>\n      <th>d_pedestrian_action_Other</th>\n      <th>d_pedestrian_action_Playing - running</th>\n      <th>d_pedestrian_action_With animal</th>\n      <th>d_pedestrian_action_not specified or not applicable</th>\n      <th>d_pedestrian_alone_In a group</th>\n      <th>d_pedestrian_alone_NA</th>\n      <th>d_pedestrian_alone_Only</th>\n    </tr>\n  </thead>\n  <tbody>\n    <tr>\n      <th>0</th>\n      <td>0</td>\n      <td>0</td>\n      <td>1</td>\n      <td>0</td>\n      <td>0</td>\n      <td>0</td>\n      <td>0</td>\n      <td>0</td>\n      <td>0</td>\n      <td>0</td>\n      <td>0</td>\n      <td>0</td>\n      <td>1</td>\n      <td>0</td>\n      <td>0</td>\n      <td>0</td>\n      <td>0</td>\n      <td>0</td>\n      <td>0</td>\n      <td>1</td>\n      <td>0</td>\n      <td>0</td>\n      <td>0</td>\n      <td>0</td>\n      <td>0</td>\n      <td>0</td>\n      <td>1</td>\n      <td>0</td>\n      <td>0</td>\n      <td>0</td>\n      <td>1</td>\n      <td>0</td>\n      <td>0</td>\n      <td>0</td>\n      <td>0</td>\n      <td>0</td>\n      <td>0</td>\n      <td>0</td>\n      <td>0</td>\n      <td>0</td>\n      <td>0</td>\n      <td>0</td>\n      <td>1</td>\n      <td>0</td>\n      <td>0</td>\n      <td>0</td>\n      <td>0</td>\n      <td>0</td>\n      <td>0</td>\n      <td>0</td>\n      <td>0</td>\n      <td>1</td>\n      <td>0</td>\n      <td>0</td>\n      <td>0</td>\n      <td>0</td>\n      <td>1</td>\n      <td>0</td>\n      <td>0</td>\n      <td>0</td>\n      <td>0</td>\n      <td>0</td>\n      <td>0</td>\n      <td>1</td>\n      <td>0</td>\n      <td>0</td>\n      <td>0</td>\n      <td>0</td>\n      <td>0</td>\n      <td>0</td>\n      <td>1</td>\n      <td>0</td>\n      <td>0</td>\n      <td>1</td>\n      <td>0</td>\n      <td>0</td>\n      <td>0</td>\n      <td>0</td>\n      <td>0</td>\n      <td>0</td>\n      <td>0</td>\n      <td>0</td>\n      <td>0</td>\n      <td>0</td>\n      <td>0</td>\n      <td>0</td>\n      <td>1</td>\n      <td>0</td>\n      <td>1</td>\n      <td>0</td>\n      <td>0</td>\n      <td>0</td>\n      <td>0</td>\n      <td>0</td>\n      <td>0</td>\n      <td>0</td>\n      <td>1</td>\n      <td>0</td>\n      <td>1</td>\n      <td>0</td>\n    </tr>\n    <tr>\n      <th>1</th>\n      <td>0</td>\n      <td>0</td>\n      <td>1</td>\n      <td>0</td>\n      <td>0</td>\n      <td>0</td>\n      <td>0</td>\n      <td>0</td>\n      <td>0</td>\n      <td>0</td>\n      <td>0</td>\n      <td>0</td>\n      <td>1</td>\n      <td>0</td>\n      <td>0</td>\n      <td>0</td>\n      <td>0</td>\n      <td>0</td>\n      <td>0</td>\n      <td>1</td>\n      <td>0</td>\n      <td>0</td>\n      <td>0</td>\n      <td>0</td>\n      <td>0</td>\n      <td>0</td>\n      <td>1</td>\n      <td>0</td>\n      <td>0</td>\n      <td>0</td>\n      <td>1</td>\n      <td>0</td>\n      <td>0</td>\n      <td>0</td>\n      <td>0</td>\n      <td>0</td>\n      <td>0</td>\n      <td>0</td>\n      <td>0</td>\n      <td>0</td>\n      <td>0</td>\n      <td>0</td>\n      <td>1</td>\n      <td>0</td>\n      <td>0</td>\n      <td>0</td>\n      <td>0</td>\n      <td>0</td>\n      <td>0</td>\n      <td>0</td>\n      <td>0</td>\n      <td>1</td>\n      <td>0</td>\n      <td>0</td>\n      <td>0</td>\n      <td>0</td>\n      <td>1</td>\n      <td>0</td>\n      <td>0</td>\n      <td>0</td>\n      <td>0</td>\n      <td>0</td>\n      <td>0</td>\n      <td>1</td>\n      <td>0</td>\n      <td>0</td>\n      <td>0</td>\n      <td>0</td>\n      <td>0</td>\n      <td>0</td>\n      <td>1</td>\n      <td>0</td>\n      <td>0</td>\n      <td>1</td>\n      <td>0</td>\n      <td>0</td>\n      <td>0</td>\n      <td>0</td>\n      <td>0</td>\n      <td>0</td>\n      <td>0</td>\n      <td>0</td>\n      <td>0</td>\n      <td>0</td>\n      <td>0</td>\n      <td>0</td>\n      <td>0</td>\n      <td>0</td>\n      <td>1</td>\n      <td>0</td>\n      <td>0</td>\n      <td>0</td>\n      <td>0</td>\n      <td>0</td>\n      <td>0</td>\n      <td>0</td>\n      <td>1</td>\n      <td>0</td>\n      <td>1</td>\n      <td>0</td>\n    </tr>\n    <tr>\n      <th>2</th>\n      <td>0</td>\n      <td>0</td>\n      <td>1</td>\n      <td>0</td>\n      <td>0</td>\n      <td>0</td>\n      <td>0</td>\n      <td>0</td>\n      <td>0</td>\n      <td>0</td>\n      <td>0</td>\n      <td>0</td>\n      <td>1</td>\n      <td>0</td>\n      <td>0</td>\n      <td>0</td>\n      <td>0</td>\n      <td>0</td>\n      <td>0</td>\n      <td>1</td>\n      <td>0</td>\n      <td>0</td>\n      <td>0</td>\n      <td>0</td>\n      <td>0</td>\n      <td>0</td>\n      <td>1</td>\n      <td>0</td>\n      <td>0</td>\n      <td>0</td>\n      <td>1</td>\n      <td>0</td>\n      <td>0</td>\n      <td>0</td>\n      <td>0</td>\n      <td>0</td>\n      <td>0</td>\n      <td>0</td>\n      <td>0</td>\n      <td>0</td>\n      <td>0</td>\n      <td>0</td>\n      <td>1</td>\n      <td>0</td>\n      <td>0</td>\n      <td>0</td>\n      <td>0</td>\n      <td>0</td>\n      <td>0</td>\n      <td>0</td>\n      <td>0</td>\n      <td>1</td>\n      <td>0</td>\n      <td>0</td>\n      <td>0</td>\n      <td>0</td>\n      <td>1</td>\n      <td>0</td>\n      <td>0</td>\n      <td>0</td>\n      <td>0</td>\n      <td>0</td>\n      <td>0</td>\n      <td>1</td>\n      <td>0</td>\n      <td>0</td>\n      <td>0</td>\n      <td>0</td>\n      <td>0</td>\n      <td>0</td>\n      <td>1</td>\n      <td>0</td>\n      <td>0</td>\n      <td>0</td>\n      <td>1</td>\n      <td>0</td>\n      <td>0</td>\n      <td>0</td>\n      <td>0</td>\n      <td>0</td>\n      <td>0</td>\n      <td>0</td>\n      <td>0</td>\n      <td>1</td>\n      <td>0</td>\n      <td>0</td>\n      <td>1</td>\n      <td>0</td>\n      <td>1</td>\n      <td>0</td>\n      <td>0</td>\n      <td>0</td>\n      <td>0</td>\n      <td>0</td>\n      <td>0</td>\n      <td>0</td>\n      <td>1</td>\n      <td>0</td>\n      <td>1</td>\n      <td>0</td>\n    </tr>\n    <tr>\n      <th>3</th>\n      <td>0</td>\n      <td>0</td>\n      <td>1</td>\n      <td>0</td>\n      <td>0</td>\n      <td>0</td>\n      <td>0</td>\n      <td>0</td>\n      <td>0</td>\n      <td>0</td>\n      <td>0</td>\n      <td>0</td>\n      <td>1</td>\n      <td>0</td>\n      <td>0</td>\n      <td>0</td>\n      <td>0</td>\n      <td>0</td>\n      <td>0</td>\n      <td>1</td>\n      <td>0</td>\n      <td>0</td>\n      <td>0</td>\n      <td>0</td>\n      <td>0</td>\n      <td>0</td>\n      <td>1</td>\n      <td>0</td>\n      <td>0</td>\n      <td>0</td>\n      <td>1</td>\n      <td>0</td>\n      <td>0</td>\n      <td>0</td>\n      <td>0</td>\n      <td>0</td>\n      <td>0</td>\n      <td>0</td>\n      <td>0</td>\n      <td>0</td>\n      <td>0</td>\n      <td>0</td>\n      <td>1</td>\n      <td>0</td>\n      <td>0</td>\n      <td>0</td>\n      <td>0</td>\n      <td>0</td>\n      <td>0</td>\n      <td>0</td>\n      <td>0</td>\n      <td>1</td>\n      <td>0</td>\n      <td>0</td>\n      <td>0</td>\n      <td>0</td>\n      <td>1</td>\n      <td>0</td>\n      <td>0</td>\n      <td>0</td>\n      <td>0</td>\n      <td>0</td>\n      <td>0</td>\n      <td>1</td>\n      <td>0</td>\n      <td>0</td>\n      <td>0</td>\n      <td>0</td>\n      <td>0</td>\n      <td>0</td>\n      <td>1</td>\n      <td>0</td>\n      <td>0</td>\n      <td>0</td>\n      <td>0</td>\n      <td>0</td>\n      <td>1</td>\n      <td>0</td>\n      <td>0</td>\n      <td>0</td>\n      <td>0</td>\n      <td>0</td>\n      <td>0</td>\n      <td>1</td>\n      <td>0</td>\n      <td>0</td>\n      <td>1</td>\n      <td>0</td>\n      <td>1</td>\n      <td>0</td>\n      <td>0</td>\n      <td>0</td>\n      <td>0</td>\n      <td>0</td>\n      <td>0</td>\n      <td>0</td>\n      <td>1</td>\n      <td>0</td>\n      <td>1</td>\n      <td>0</td>\n    </tr>\n    <tr>\n      <th>4</th>\n      <td>0</td>\n      <td>0</td>\n      <td>1</td>\n      <td>0</td>\n      <td>0</td>\n      <td>0</td>\n      <td>0</td>\n      <td>0</td>\n      <td>0</td>\n      <td>0</td>\n      <td>0</td>\n      <td>0</td>\n      <td>1</td>\n      <td>0</td>\n      <td>0</td>\n      <td>0</td>\n      <td>0</td>\n      <td>0</td>\n      <td>0</td>\n      <td>1</td>\n      <td>0</td>\n      <td>0</td>\n      <td>0</td>\n      <td>0</td>\n      <td>0</td>\n      <td>0</td>\n      <td>1</td>\n      <td>0</td>\n      <td>0</td>\n      <td>0</td>\n      <td>1</td>\n      <td>0</td>\n      <td>0</td>\n      <td>0</td>\n      <td>0</td>\n      <td>0</td>\n      <td>0</td>\n      <td>0</td>\n      <td>0</td>\n      <td>0</td>\n      <td>0</td>\n      <td>0</td>\n      <td>1</td>\n      <td>0</td>\n      <td>0</td>\n      <td>0</td>\n      <td>0</td>\n      <td>0</td>\n      <td>0</td>\n      <td>0</td>\n      <td>0</td>\n      <td>1</td>\n      <td>0</td>\n      <td>0</td>\n      <td>0</td>\n      <td>0</td>\n      <td>1</td>\n      <td>0</td>\n      <td>0</td>\n      <td>0</td>\n      <td>0</td>\n      <td>0</td>\n      <td>0</td>\n      <td>1</td>\n      <td>0</td>\n      <td>0</td>\n      <td>0</td>\n      <td>0</td>\n      <td>0</td>\n      <td>0</td>\n      <td>1</td>\n      <td>0</td>\n      <td>0</td>\n      <td>0</td>\n      <td>0</td>\n      <td>0</td>\n      <td>0</td>\n      <td>1</td>\n      <td>0</td>\n      <td>0</td>\n      <td>0</td>\n      <td>0</td>\n      <td>0</td>\n      <td>1</td>\n      <td>0</td>\n      <td>0</td>\n      <td>1</td>\n      <td>0</td>\n      <td>1</td>\n      <td>0</td>\n      <td>0</td>\n      <td>0</td>\n      <td>0</td>\n      <td>0</td>\n      <td>0</td>\n      <td>0</td>\n      <td>1</td>\n      <td>0</td>\n      <td>1</td>\n      <td>0</td>\n    </tr>\n  </tbody>\n</table>\n</div>"
     },
     "metadata": {},
     "execution_count": 13
    }
   ],
   "source": [
    "df_cat_out.head()"
   ]
  },
  {
   "cell_type": "code",
   "execution_count": 14,
   "metadata": {},
   "outputs": [
    {
     "output_type": "execute_result",
     "data": {
      "text/plain": "(1876005, 100)"
     },
     "metadata": {},
     "execution_count": 14
    }
   ],
   "source": [
    "df_cat_out.shape"
   ]
  },
  {
   "cell_type": "markdown",
   "metadata": {},
   "source": [
    "### Numeric columns "
   ]
  },
  {
   "cell_type": "code",
   "execution_count": 15,
   "metadata": {},
   "outputs": [],
   "source": [
    "cols_num = [\n",
    " 'year',\n",
    " 'month',\n",
    " 'hour',\n",
    " 'year_of_birth'\n",
    "]"
   ]
  },
  {
   "cell_type": "code",
   "execution_count": 16,
   "metadata": {},
   "outputs": [
    {
     "output_type": "execute_result",
     "data": {
      "text/plain": "     year  month  hour  year_of_birth\n0  2005.0    1.0  19.0         1976.0\n1  2005.0    1.0  19.0         1968.0\n2  2005.0    1.0  19.0         1964.0\n3  2005.0    1.0  19.0         2004.0\n4  2005.0    1.0  19.0         1998.0",
      "text/html": "<div>\n<style scoped>\n    .dataframe tbody tr th:only-of-type {\n        vertical-align: middle;\n    }\n\n    .dataframe tbody tr th {\n        vertical-align: top;\n    }\n\n    .dataframe thead th {\n        text-align: right;\n    }\n</style>\n<table border=\"1\" class=\"dataframe\">\n  <thead>\n    <tr style=\"text-align: right;\">\n      <th></th>\n      <th>year</th>\n      <th>month</th>\n      <th>hour</th>\n      <th>year_of_birth</th>\n    </tr>\n  </thead>\n  <tbody>\n    <tr>\n      <th>0</th>\n      <td>2005.0</td>\n      <td>1.0</td>\n      <td>19.0</td>\n      <td>1976.0</td>\n    </tr>\n    <tr>\n      <th>1</th>\n      <td>2005.0</td>\n      <td>1.0</td>\n      <td>19.0</td>\n      <td>1968.0</td>\n    </tr>\n    <tr>\n      <th>2</th>\n      <td>2005.0</td>\n      <td>1.0</td>\n      <td>19.0</td>\n      <td>1964.0</td>\n    </tr>\n    <tr>\n      <th>3</th>\n      <td>2005.0</td>\n      <td>1.0</td>\n      <td>19.0</td>\n      <td>2004.0</td>\n    </tr>\n    <tr>\n      <th>4</th>\n      <td>2005.0</td>\n      <td>1.0</td>\n      <td>19.0</td>\n      <td>1998.0</td>\n    </tr>\n  </tbody>\n</table>\n</div>"
     },
     "metadata": {},
     "execution_count": 16
    }
   ],
   "source": [
    "df_num = master_table[cols_num]\n",
    "df_num.head()"
   ]
  },
  {
   "cell_type": "code",
   "execution_count": 17,
   "metadata": {},
   "outputs": [
    {
     "output_type": "execute_result",
     "data": {
      "text/plain": "year             0.016829\nmonth            0.016829\nhour             0.016829\nyear_of_birth    0.001253\ndtype: float64"
     },
     "metadata": {},
     "execution_count": 17
    }
   ],
   "source": [
    "df_num.isna().mean()"
   ]
  },
  {
   "cell_type": "markdown",
   "metadata": {},
   "source": [
    "Imputing median"
   ]
  },
  {
   "cell_type": "code",
   "execution_count": 19,
   "metadata": {},
   "outputs": [
    {
     "output_type": "execute_result",
     "data": {
      "text/plain": "     year  month  hour  year_of_birth\n0  2005.0    1.0  19.0         1976.0\n1  2005.0    1.0  19.0         1968.0\n2  2005.0    1.0  19.0         1964.0\n3  2005.0    1.0  19.0         2004.0\n4  2005.0    1.0  19.0         1998.0",
      "text/html": "<div>\n<style scoped>\n    .dataframe tbody tr th:only-of-type {\n        vertical-align: middle;\n    }\n\n    .dataframe tbody tr th {\n        vertical-align: top;\n    }\n\n    .dataframe thead th {\n        text-align: right;\n    }\n</style>\n<table border=\"1\" class=\"dataframe\">\n  <thead>\n    <tr style=\"text-align: right;\">\n      <th></th>\n      <th>year</th>\n      <th>month</th>\n      <th>hour</th>\n      <th>year_of_birth</th>\n    </tr>\n  </thead>\n  <tbody>\n    <tr>\n      <th>0</th>\n      <td>2005.0</td>\n      <td>1.0</td>\n      <td>19.0</td>\n      <td>1976.0</td>\n    </tr>\n    <tr>\n      <th>1</th>\n      <td>2005.0</td>\n      <td>1.0</td>\n      <td>19.0</td>\n      <td>1968.0</td>\n    </tr>\n    <tr>\n      <th>2</th>\n      <td>2005.0</td>\n      <td>1.0</td>\n      <td>19.0</td>\n      <td>1964.0</td>\n    </tr>\n    <tr>\n      <th>3</th>\n      <td>2005.0</td>\n      <td>1.0</td>\n      <td>19.0</td>\n      <td>2004.0</td>\n    </tr>\n    <tr>\n      <th>4</th>\n      <td>2005.0</td>\n      <td>1.0</td>\n      <td>19.0</td>\n      <td>1998.0</td>\n    </tr>\n  </tbody>\n</table>\n</div>"
     },
     "metadata": {},
     "execution_count": 19
    }
   ],
   "source": [
    "si = SimpleImputer(missing_values=np.nan, strategy='median', add_indicator=False)\n",
    "temp = si.fit_transform(df_num)\n",
    "df_num2 = pd.DataFrame(temp, columns = df_num.columns)\n",
    "df_num2.head()"
   ]
  },
  {
   "cell_type": "markdown",
   "metadata": {},
   "source": [
    "Basic feature engineering - age at the time of accident"
   ]
  },
  {
   "cell_type": "code",
   "execution_count": 20,
   "metadata": {},
   "outputs": [],
   "source": [
    "df_num2['user_age'] = df_num2['year'] - df_num2['year_of_birth']\n",
    "df_num3 = df_num2.drop(['year_of_birth'], axis =1 )"
   ]
  },
  {
   "cell_type": "code",
   "execution_count": 21,
   "metadata": {},
   "outputs": [],
   "source": [
    "df_num_out = df_num3.copy()"
   ]
  },
  {
   "cell_type": "code",
   "execution_count": 22,
   "metadata": {},
   "outputs": [
    {
     "output_type": "execute_result",
     "data": {
      "text/plain": "     year  month  hour  user_age\n0  2005.0    1.0  19.0      29.0\n1  2005.0    1.0  19.0      37.0\n2  2005.0    1.0  19.0      41.0\n3  2005.0    1.0  19.0       1.0\n4  2005.0    1.0  19.0       7.0",
      "text/html": "<div>\n<style scoped>\n    .dataframe tbody tr th:only-of-type {\n        vertical-align: middle;\n    }\n\n    .dataframe tbody tr th {\n        vertical-align: top;\n    }\n\n    .dataframe thead th {\n        text-align: right;\n    }\n</style>\n<table border=\"1\" class=\"dataframe\">\n  <thead>\n    <tr style=\"text-align: right;\">\n      <th></th>\n      <th>year</th>\n      <th>month</th>\n      <th>hour</th>\n      <th>user_age</th>\n    </tr>\n  </thead>\n  <tbody>\n    <tr>\n      <th>0</th>\n      <td>2005.0</td>\n      <td>1.0</td>\n      <td>19.0</td>\n      <td>29.0</td>\n    </tr>\n    <tr>\n      <th>1</th>\n      <td>2005.0</td>\n      <td>1.0</td>\n      <td>19.0</td>\n      <td>37.0</td>\n    </tr>\n    <tr>\n      <th>2</th>\n      <td>2005.0</td>\n      <td>1.0</td>\n      <td>19.0</td>\n      <td>41.0</td>\n    </tr>\n    <tr>\n      <th>3</th>\n      <td>2005.0</td>\n      <td>1.0</td>\n      <td>19.0</td>\n      <td>1.0</td>\n    </tr>\n    <tr>\n      <th>4</th>\n      <td>2005.0</td>\n      <td>1.0</td>\n      <td>19.0</td>\n      <td>7.0</td>\n    </tr>\n  </tbody>\n</table>\n</div>"
     },
     "metadata": {},
     "execution_count": 22
    }
   ],
   "source": [
    "df_num_out.head()"
   ]
  },
  {
   "cell_type": "markdown",
   "metadata": {},
   "source": [
    "### Merging categorical and numeric columns"
   ]
  },
  {
   "cell_type": "code",
   "execution_count": 23,
   "metadata": {},
   "outputs": [],
   "source": [
    "df_out = df_cat_out.join(df_num_out)"
   ]
  },
  {
   "cell_type": "code",
   "execution_count": 24,
   "metadata": {},
   "outputs": [],
   "source": [
    "df_out['y'] = master_table.y"
   ]
  },
  {
   "cell_type": "code",
   "execution_count": 25,
   "metadata": {},
   "outputs": [
    {
     "output_type": "execute_result",
     "data": {
      "text/plain": "                                           0   \n1                                              0   \n2                                              0   \n3                                              0   \n4                                              0   \n\n   d_lighting_Night with public lighting on  \\\n0                                         0   \n1                                         0   \n2                                         0   \n3                                         0   \n4                                         0   \n\n   d_lighting_Night without public lighting  d_lighting_Twilight or dawn  \\\n0                                         1                            0   \n1                                         1                            0   \n2                                         1                            0   \n3                                         1                            0   \n4                                         1                            0   \n\n   d_localization_Out of agglomeration  d_intersection_type_Intersection in T  \\\n0                                    0                                      0   \n1                                    0                                      0   \n2                                    0                                      0   \n3                                    0                                      0   \n4                                    0                                      0   \n\n   d_intersection_type_Intersection in X  \\\n0                                      0   \n1                                      0   \n2                                      0   \n3                                      0   \n4                                      0   \n\n   d_intersection_type_Intersection in Y  \\\n0                                      0   \n1                                      0   \n2                                      0   \n3                                      0   \n4                                      0   \n\n   d_intersection_type_Intersection with more than 4 branches  \\\n0                                                  0            \n1                                                  0            \n2                                                  0            \n3                                                  0            \n4                                                  0            \n\n   d_intersection_type_Level crossing  d_intersection_type_NA  \\\n0                                   0                       0   \n1                                   0                       0   \n2                                   0                       0   \n3                                   0                       0   \n4                                   0                       0   \n\n   d_intersection_type_Other intersection  \\\n0                                       0   \n1                                       0   \n2                                       0   \n3                                       0   \n4                                       0   \n\n   d_intersection_type_Out of intersection  d_intersection_type_Place  \\\n0                                        1                          0   \n1                                        1                          0   \n2                                        1                          0   \n3                                        1                          0   \n4                                        1                          0   \n\n   d_weather_Dazzling weather  d_weather_Fog - smoke  d_weather_Heavy rain  \\\n0                           0                      0                     0   \n1                           0                      0                     0   \n2                           0                      0                     0   \n3                           0                      0                     0   \n4                           0                      0                     0   \n\n   d_weather_Light rain  d_weather_NA  d_weather_Normal  d_weather_Other  \\\n0                     0             0                 1                0   \n1                     0             0                 1                0   \n2                     0             0                 1                0   \n3                     0             0                 1                0   \n4                     0             0                 1                0   \n\n   d_weather_Snow - hail  d_weather_Strong wind - storm  \\\n0                      0                              0   \n1                      0                              0   \n2                      0                              0   \n3                      0                              0   \n4                      0                              0   \n\n   d_collision_type_Other collision  \\\n0                                 0   \n1                                 0   \n2                                 0   \n3                                 0   \n4                                 0   \n\n   d_collision_type_Three or more vehicles - multiple collisions  \\\n0                                                  0               \n1                                                  0               \n2                                                  0               \n3                                                  0               \n4                                                  0               \n\n   d_collision_type_Three vehicles and more - in chain  \\\n0                                                  0     \n1                                                  0     \n2                                                  0     \n3                                                  0     \n4                                                  0     \n\n   d_collision_type_Two vehicles - by the side  \\\n0                                            1   \n1                                            1   \n2                                            1   \n3                                            1   \n4                                            1   \n\n   d_collision_type_Two vehicles - from the rear  \\\n0                                              0   \n1                                              0   \n2                                              0   \n3                                              0   \n4                                              0   \n\n   d_collision_type_Two vehicles - frontal  \\\n0                                        0   \n1                                        0   \n2                                        0   \n3                                        0   \n4                                        0   \n\n   d_collision_type_Without collision  d_road_category_Departmental Road  \\\n0                                   0                                  1   \n1                                   0                                  1   \n2                                   0                                  1   \n3                                   0                                  1   \n4                                   0                                  1   \n\n   d_road_category_Highway  d_road_category_NA  d_road_category_National Road  \\\n0                        0                   0                              0   \n1                        0                   0                              0   \n2                        0                   0                              0   \n3                        0                   0                              0   \n4                        0                   0                              0   \n\n   d_road_category_Off public network  \\\n0                                   0   \n1                                   0   \n2                                   0   \n3                                   0   \n4                                   0   \n\n   d_road_category_Parking lot open to public traffic  d_road_category_other  \\\n0                                                  0                       0   \n1                                                  0                       0   \n2                                                  0                       0   \n3                                                  0                       0   \n4                                                  0                       0   \n\n   d_road_regime_NA  d_road_regime_One way  \\\n0                 0                      0   \n1                 0                      0   \n2                 0                      0   \n3                 0                      0   \n4                 0                      0   \n\n   d_road_regime_Separated carriageways  \\\n0                                     0   \n1                                     0   \n2                                     0   \n3                                     0   \n4                                     0   \n\n   d_road_regime_With variable assignment channels  \\\n0                                                0   \n1                                                0   \n2                                                0   \n3                                                0   \n4                                                0   \n\n   d_reserved_lane_Cycle Bank  d_reserved_lane_NA  \\\n0                           0                   1   \n1                           0                   1   \n2                           0                   1   \n3                           0                   1   \n4                           0                   1   \n\n   d_reserved_lane_Reserved channel  d_road_gradient_Hill bottom  \\\n0                                 0                            0   \n1                                 0                            0   \n2                                 0                            0   \n3                                 0                            0   \n4                                 0                            0   \n\n   d_road_gradient_Hilltop  d_road_gradient_NA  d_road_gradient_Slope  \\\n0                        0                   0                      0   \n1                        0                   0                      0   \n2                        0                   0                      0   \n3                        0                   0                      0   \n4                        0                   0                      0   \n\n   d_road_plan_Curved right  d_road_plan_In \"S\"  d_road_plan_NA  \\\n0                         0                   0               0   \n1                         0                   0               0   \n2                         0                   0               0   \n3                         0                   0               0   \n4                         0                   0               0   \n\n   d_road_plan_Straight part  d_road_condition_fat - oil  \\\n0                          1                           0   \n1                          1                           0   \n2                          1                           0   \n3                          1                           0   \n4                          1                           0   \n\n   d_road_condition_flooded  d_road_condition_icy  d_road_condition_mud  \\\n0                         0                     0                     0   \n1                         0                     0                     0   \n2                         0                     0                     0   \n3                         0                     0                     0   \n4                         0                     0                     0   \n\n   d_road_condition_normal  d_road_condition_other  d_road_condition_puddles  \\\n0                        1                       0                         0   \n1                        1                       0                         0   \n2                        1                       0                         0   \n3                        1                       0                         0   \n4                        1                       0                         0   \n\n   d_road_condition_snow  d_road_condition_wet  \\\n0                      0                     0   \n1                      0                     0   \n2                      0                     0   \n3                      0                     0   \n4                      0                     0   \n\n   d_infrastructure_Carrefour arranged  \\\n0                                    0   \n1                                    0   \n2                                    0   \n3                                    0   \n4                                    0   \n\n   d_infrastructure_Exchanger or connection brace  d_infrastructure_NA  \\\n0                                               0                    1   \n1                                               0                    1   \n2                                               0                    1   \n3                                               0                    1   \n4                                               0                    1   \n\n   d_infrastructure_Pedestrian area  d_infrastructure_Railway  \\\n0                                 0                         0   \n1                                 0                         0   \n2                                 0                         0   \n3                                 0                         0   \n4                                 0                         0   \n\n   d_infrastructure_Toll zone  d_infrastructure_Underground - tunnel  \\\n0                           0                                      0   \n1                           0                                      0   \n2                           0                                      0   \n3                           0                                      0   \n4                           0                                      0   \n\n   d_accident_situation_On bike path  \\\n0                                  0   \n1                                  0   \n2                                  0   \n3                                  0   \n4                                  0   \n\n   d_accident_situation_On emergency stop band  \\\n0                                            0   \n1                                            0   \n2                                            0   \n3                                            0   \n4                                            0   \n\n   d_accident_situation_On the road  d_accident_situation_On the sidewalk  \\\n0                                 1                                     0   \n1                                 1                                     0   \n2                                 1                                     0   \n3                                 1                                     0   \n4                                 1                                     0   \n\n   d_accident_situation_On the verge  d_place_in_car_1  d_place_in_car_2  \\\n0                                  0                 1                 0   \n1                                  0                 1                 0   \n2                                  0                 0                 1   \n3                                  0                 0                 0   \n4                                  0                 0                 0   \n\n   d_place_in_car_3  d_place_in_car_4  d_place_in_car_5  d_place_in_car_6  \\\n0                 0                 0                 0                 0   \n1                 0                 0                 0                 0   \n2                 0                 0                 0                 0   \n3                 0                 1                 0                 0   \n4                 0                 0                 1                 0   \n\n   d_place_in_car_7  d_place_in_car_8  d_place_in_car_9  d_place_in_car_NA  \\\n0                 0                 0                 0                  0   \n1                 0                 0                 0                  0   \n2                 0                 0                 0                  0   \n3                 0                 0                 0                  0   \n4                 0                 0                 0                  0   \n\n   d_user_type_Passenger  d_user_type_Pedestrian  \\\n0                      0                       0   \n1                      0                       0   \n2                      1                       0   \n3                      1                       0   \n4                      1                       0   \n\n   d_user_type_Pedestrian in rollerblade or scooter  d_sex_Male  \\\n0                                                 0           1   \n1                                                 0           0   \n2                                                 0           1   \n3                                                 0           1   \n4                                                 0           1   \n\n   d_equipment_used_no  d_equipment_used_yes  d_pedestrian_action_Masked  \\\n0                    0                     1                           0   \n1                    0                     1                           0   \n2                    0                     1                           0   \n3                    0                     1                           0   \n4                    0                     1                           0   \n\n   d_pedestrian_action_Meaning bumping vehicle  d_pedestrian_action_NA  \\\n0                                            0                       0   \n1                                            0                       0   \n2                                            0                       0   \n3                                            0                       0   \n4                                            0                       0   \n\n   d_pedestrian_action_Opposite direction of the vehicle  \\\n0                                                  0       \n1                                                  0       \n2                                                  0       \n3                                                  0       \n4                                                  0       \n\n   d_pedestrian_action_Other  d_pedestrian_action_Playing - running  \\\n0                          0                                      0   \n1                          0                                      0   \n2                          0                                      0   \n3                          0                                      0   \n4                          0                                      0   \n\n   d_pedestrian_action_With animal  \\\n0                                0   \n1                                0   \n2                                0   \n3                                0   \n4                                0   \n\n   d_pedestrian_action_not specified or not applicable  \\\n0                                                  1     \n1                                                  1     \n2                                                  1     \n3                                                  1     \n4                                                  1     \n\n   d_pedestrian_alone_In a group  d_pedestrian_alone_NA  \\\n0                              0                      1   \n1                              0                      1   \n2                              0                      1   \n3                              0                      1   \n4                              0                      1   \n\n   d_pedestrian_alone_Only    year  month  hour  user_age  y  \n0                        0  2005.0    1.0  19.0      29.0  0  \n1                        0  2005.0    1.0  19.0      37.0  1  \n2                        0  2005.0    1.0  19.0      41.0  0  \n3                        0  2005.0    1.0  19.0       1.0  0  \n4                        0  2005.0    1.0  19.0       7.0  0  ",
      "text/html": "<div>\n<style scoped>\n    .dataframe tbody tr th:only-of-type {\n        vertical-align: middle;\n    }\n\n    .dataframe tbody tr th {\n        vertical-align: top;\n    }\n\n    .dataframe thead th {\n        text-align: right;\n    }\n</style>\n<table border=\"1\" class=\"dataframe\">\n  <thead>\n    <tr style=\"text-align: right;\">\n      <th></th>\n      <th>d_lighting_Night with public lighting not lit</th>\n      <th>d_lighting_Night with public lighting on</th>\n      <th>d_lighting_Night without public lighting</th>\n      <th>d_lighting_Twilight or dawn</th>\n      <th>d_localization_Out of agglomeration</th>\n      <th>d_intersection_type_Intersection in T</th>\n      <th>d_intersection_type_Intersection in X</th>\n      <th>d_intersection_type_Intersection in Y</th>\n      <th>d_intersection_type_Intersection with more than 4 branches</th>\n      <th>d_intersection_type_Level crossing</th>\n      <th>d_intersection_type_NA</th>\n      <th>d_intersection_type_Other intersection</th>\n      <th>d_intersection_type_Out of intersection</th>\n      <th>d_intersection_type_Place</th>\n      <th>d_weather_Dazzling weather</th>\n      <th>d_weather_Fog - smoke</th>\n      <th>d_weather_Heavy rain</th>\n      <th>d_weather_Light rain</th>\n      <th>d_weather_NA</th>\n      <th>d_weather_Normal</th>\n      <th>d_weather_Other</th>\n      <th>d_weather_Snow - hail</th>\n      <th>d_weather_Strong wind - storm</th>\n      <th>d_collision_type_Other collision</th>\n      <th>d_collision_type_Three or more vehicles - multiple collisions</th>\n      <th>d_collision_type_Three vehicles and more - in chain</th>\n      <th>d_collision_type_Two vehicles - by the side</th>\n      <th>d_collision_type_Two vehicles - from the rear</th>\n      <th>d_collision_type_Two vehicles - frontal</th>\n      <th>d_collision_type_Without collision</th>\n      <th>d_road_category_Departmental Road</th>\n      <th>d_road_category_Highway</th>\n      <th>d_road_category_NA</th>\n      <th>d_road_category_National Road</th>\n      <th>d_road_category_Off public network</th>\n      <th>d_road_category_Parking lot open to public traffic</th>\n      <th>d_road_category_other</th>\n      <th>d_road_regime_NA</th>\n      <th>d_road_regime_One way</th>\n      <th>d_road_regime_Separated carriageways</th>\n      <th>d_road_regime_With variable assignment channels</th>\n      <th>d_reserved_lane_Cycle Bank</th>\n      <th>d_reserved_lane_NA</th>\n      <th>d_reserved_lane_Reserved channel</th>\n      <th>d_road_gradient_Hill bottom</th>\n      <th>d_road_gradient_Hilltop</th>\n      <th>d_road_gradient_NA</th>\n      <th>d_road_gradient_Slope</th>\n      <th>d_road_plan_Curved right</th>\n      <th>d_road_plan_In \"S\"</th>\n      <th>d_road_plan_NA</th>\n      <th>d_road_plan_Straight part</th>\n      <th>d_road_condition_fat - oil</th>\n      <th>d_road_condition_flooded</th>\n      <th>d_road_condition_icy</th>\n      <th>d_road_condition_mud</th>\n      <th>d_road_condition_normal</th>\n      <th>d_road_condition_other</th>\n      <th>d_road_condition_puddles</th>\n      <th>d_road_condition_snow</th>\n      <th>d_road_condition_wet</th>\n      <th>d_infrastructure_Carrefour arranged</th>\n      <th>d_infrastructure_Exchanger or connection brace</th>\n      <th>d_infrastructure_NA</th>\n      <th>d_infrastructure_Pedestrian area</th>\n      <th>d_infrastructure_Railway</th>\n      <th>d_infrastructure_Toll zone</th>\n      <th>d_infrastructure_Underground - tunnel</th>\n      <th>d_accident_situation_On bike path</th>\n      <th>d_accident_situation_On emergency stop band</th>\n      <th>d_accident_situation_On the road</th>\n      <th>d_accident_situation_On the sidewalk</th>\n      <th>d_accident_situation_On the verge</th>\n      <th>d_place_in_car_1</th>\n      <th>d_place_in_car_2</th>\n      <th>d_place_in_car_3</th>\n      <th>d_place_in_car_4</th>\n      <th>d_place_in_car_5</th>\n      <th>d_place_in_car_6</th>\n      <th>d_place_in_car_7</th>\n      <th>d_place_in_car_8</th>\n      <th>d_place_in_car_9</th>\n      <th>d_place_in_car_NA</th>\n      <th>d_user_type_Passenger</th>\n      <th>d_user_type_Pedestrian</th>\n      <th>d_user_type_Pedestrian in rollerblade or scooter</th>\n      <th>d_sex_Male</th>\n      <th>d_equipment_used_no</th>\n      <th>d_equipment_used_yes</th>\n      <th>d_pedestrian_action_Masked</th>\n      <th>d_pedestrian_action_Meaning bumping vehicle</th>\n      <th>d_pedestrian_action_NA</th>\n      <th>d_pedestrian_action_Opposite direction of the vehicle</th>\n      <th>d_pedestrian_action_Other</th>\n      <th>d_pedestrian_action_Playing - running</th>\n      <th>d_pedestrian_action_With animal</th>\n      <th>d_pedestrian_action_not specified or not applicable</th>\n      <th>d_pedestrian_alone_In a group</th>\n      <th>d_pedestrian_alone_NA</th>\n      <th>d_pedestrian_alone_Only</th>\n      <th>year</th>\n      <th>month</th>\n      <th>hour</th>\n      <th>user_age</th>\n      <th>y</th>\n    </tr>\n  </thead>\n  <tbody>\n    <tr>\n      <th>0</th>\n      <td>0</td>\n      <td>0</td>\n      <td>1</td>\n      <td>0</td>\n      <td>0</td>\n      <td>0</td>\n      <td>0</td>\n      <td>0</td>\n      <td>0</td>\n      <td>0</td>\n      <td>0</td>\n      <td>0</td>\n      <td>1</td>\n      <td>0</td>\n      <td>0</td>\n      <td>0</td>\n      <td>0</td>\n      <td>0</td>\n      <td>0</td>\n      <td>1</td>\n      <td>0</td>\n      <td>0</td>\n      <td>0</td>\n      <td>0</td>\n      <td>0</td>\n      <td>0</td>\n      <td>1</td>\n      <td>0</td>\n      <td>0</td>\n      <td>0</td>\n      <td>1</td>\n      <td>0</td>\n      <td>0</td>\n      <td>0</td>\n      <td>0</td>\n      <td>0</td>\n      <td>0</td>\n      <td>0</td>\n      <td>0</td>\n      <td>0</td>\n      <td>0</td>\n      <td>0</td>\n      <td>1</td>\n      <td>0</td>\n      <td>0</td>\n      <td>0</td>\n      <td>0</td>\n      <td>0</td>\n      <td>0</td>\n      <td>0</td>\n      <td>0</td>\n      <td>1</td>\n      <td>0</td>\n      <td>0</td>\n      <td>0</td>\n      <td>0</td>\n      <td>1</td>\n      <td>0</td>\n      <td>0</td>\n      <td>0</td>\n      <td>0</td>\n      <td>0</td>\n      <td>0</td>\n      <td>1</td>\n      <td>0</td>\n      <td>0</td>\n      <td>0</td>\n      <td>0</td>\n      <td>0</td>\n      <td>0</td>\n      <td>1</td>\n      <td>0</td>\n      <td>0</td>\n      <td>1</td>\n      <td>0</td>\n      <td>0</td>\n      <td>0</td>\n      <td>0</td>\n      <td>0</td>\n      <td>0</td>\n      <td>0</td>\n      <td>0</td>\n      <td>0</td>\n      <td>0</td>\n      <td>0</td>\n      <td>0</td>\n      <td>1</td>\n      <td>0</td>\n      <td>1</td>\n      <td>0</td>\n      <td>0</td>\n      <td>0</td>\n      <td>0</td>\n      <td>0</td>\n      <td>0</td>\n      <td>0</td>\n      <td>1</td>\n      <td>0</td>\n      <td>1</td>\n      <td>0</td>\n      <td>2005.0</td>\n      <td>1.0</td>\n      <td>19.0</td>\n      <td>29.0</td>\n      <td>0</td>\n    </tr>\n    <tr>\n      <th>1</th>\n      <td>0</td>\n      <td>0</td>\n      <td>1</td>\n      <td>0</td>\n      <td>0</td>\n      <td>0</td>\n      <td>0</td>\n      <td>0</td>\n      <td>0</td>\n      <td>0</td>\n      <td>0</td>\n      <td>0</td>\n      <td>1</td>\n      <td>0</td>\n      <td>0</td>\n      <td>0</td>\n      <td>0</td>\n      <td>0</td>\n      <td>0</td>\n      <td>1</td>\n      <td>0</td>\n      <td>0</td>\n      <td>0</td>\n      <td>0</td>\n      <td>0</td>\n      <td>0</td>\n      <td>1</td>\n      <td>0</td>\n      <td>0</td>\n      <td>0</td>\n      <td>1</td>\n      <td>0</td>\n      <td>0</td>\n      <td>0</td>\n      <td>0</td>\n      <td>0</td>\n      <td>0</td>\n      <td>0</td>\n      <td>0</td>\n      <td>0</td>\n      <td>0</td>\n      <td>0</td>\n      <td>1</td>\n      <td>0</td>\n      <td>0</td>\n      <td>0</td>\n      <td>0</td>\n      <td>0</td>\n      <td>0</td>\n      <td>0</td>\n      <td>0</td>\n      <td>1</td>\n      <td>0</td>\n      <td>0</td>\n      <td>0</td>\n      <td>0</td>\n      <td>1</td>\n      <td>0</td>\n      <td>0</td>\n      <td>0</td>\n      <td>0</td>\n      <td>0</td>\n      <td>0</td>\n      <td>1</td>\n      <td>0</td>\n      <td>0</td>\n      <td>0</td>\n      <td>0</td>\n      <td>0</td>\n      <td>0</td>\n      <td>1</td>\n      <td>0</td>\n      <td>0</td>\n      <td>1</td>\n      <td>0</td>\n      <td>0</td>\n      <td>0</td>\n      <td>0</td>\n      <td>0</td>\n      <td>0</td>\n      <td>0</td>\n      <td>0</td>\n      <td>0</td>\n      <td>0</td>\n      <td>0</td>\n      <td>0</td>\n      <td>0</td>\n      <td>0</td>\n      <td>1</td>\n      <td>0</td>\n      <td>0</td>\n      <td>0</td>\n      <td>0</td>\n      <td>0</td>\n      <td>0</td>\n      <td>0</td>\n      <td>1</td>\n      <td>0</td>\n      <td>1</td>\n      <td>0</td>\n      <td>2005.0</td>\n      <td>1.0</td>\n      <td>19.0</td>\n      <td>37.0</td>\n      <td>1</td>\n    </tr>\n    <tr>\n      <th>2</th>\n      <td>0</td>\n      <td>0</td>\n      <td>1</td>\n      <td>0</td>\n      <td>0</td>\n      <td>0</td>\n      <td>0</td>\n      <td>0</td>\n      <td>0</td>\n      <td>0</td>\n      <td>0</td>\n      <td>0</td>\n      <td>1</td>\n      <td>0</td>\n      <td>0</td>\n      <td>0</td>\n      <td>0</td>\n      <td>0</td>\n      <td>0</td>\n      <td>1</td>\n      <td>0</td>\n      <td>0</td>\n      <td>0</td>\n      <td>0</td>\n      <td>0</td>\n      <td>0</td>\n      <td>1</td>\n      <td>0</td>\n      <td>0</td>\n      <td>0</td>\n      <td>1</td>\n      <td>0</td>\n      <td>0</td>\n      <td>0</td>\n      <td>0</td>\n      <td>0</td>\n      <td>0</td>\n      <td>0</td>\n      <td>0</td>\n      <td>0</td>\n      <td>0</td>\n      <td>0</td>\n      <td>1</td>\n      <td>0</td>\n      <td>0</td>\n      <td>0</td>\n      <td>0</td>\n      <td>0</td>\n      <td>0</td>\n      <td>0</td>\n      <td>0</td>\n      <td>1</td>\n      <td>0</td>\n      <td>0</td>\n      <td>0</td>\n      <td>0</td>\n      <td>1</td>\n      <td>0</td>\n      <td>0</td>\n      <td>0</td>\n      <td>0</td>\n      <td>0</td>\n      <td>0</td>\n      <td>1</td>\n      <td>0</td>\n      <td>0</td>\n      <td>0</td>\n      <td>0</td>\n      <td>0</td>\n      <td>0</td>\n      <td>1</td>\n      <td>0</td>\n      <td>0</td>\n      <td>0</td>\n      <td>1</td>\n      <td>0</td>\n      <td>0</td>\n      <td>0</td>\n      <td>0</td>\n      <td>0</td>\n      <td>0</td>\n      <td>0</td>\n      <td>0</td>\n      <td>1</td>\n      <td>0</td>\n      <td>0</td>\n      <td>1</td>\n      <td>0</td>\n      <td>1</td>\n      <td>0</td>\n      <td>0</td>\n      <td>0</td>\n      <td>0</td>\n      <td>0</td>\n      <td>0</td>\n      <td>0</td>\n      <td>1</td>\n      <td>0</td>\n      <td>1</td>\n      <td>0</td>\n      <td>2005.0</td>\n      <td>1.0</td>\n      <td>19.0</td>\n      <td>41.0</td>\n      <td>0</td>\n    </tr>\n    <tr>\n      <th>3</th>\n      <td>0</td>\n      <td>0</td>\n      <td>1</td>\n      <td>0</td>\n      <td>0</td>\n      <td>0</td>\n      <td>0</td>\n      <td>0</td>\n      <td>0</td>\n      <td>0</td>\n      <td>0</td>\n      <td>0</td>\n      <td>1</td>\n      <td>0</td>\n      <td>0</td>\n      <td>0</td>\n      <td>0</td>\n      <td>0</td>\n      <td>0</td>\n      <td>1</td>\n      <td>0</td>\n      <td>0</td>\n      <td>0</td>\n      <td>0</td>\n      <td>0</td>\n      <td>0</td>\n      <td>1</td>\n      <td>0</td>\n      <td>0</td>\n      <td>0</td>\n      <td>1</td>\n      <td>0</td>\n      <td>0</td>\n      <td>0</td>\n      <td>0</td>\n      <td>0</td>\n      <td>0</td>\n      <td>0</td>\n      <td>0</td>\n      <td>0</td>\n      <td>0</td>\n      <td>0</td>\n      <td>1</td>\n      <td>0</td>\n      <td>0</td>\n      <td>0</td>\n      <td>0</td>\n      <td>0</td>\n      <td>0</td>\n      <td>0</td>\n      <td>0</td>\n      <td>1</td>\n      <td>0</td>\n      <td>0</td>\n      <td>0</td>\n      <td>0</td>\n      <td>1</td>\n      <td>0</td>\n      <td>0</td>\n      <td>0</td>\n      <td>0</td>\n      <td>0</td>\n      <td>0</td>\n      <td>1</td>\n      <td>0</td>\n      <td>0</td>\n      <td>0</td>\n      <td>0</td>\n      <td>0</td>\n      <td>0</td>\n      <td>1</td>\n      <td>0</td>\n      <td>0</td>\n      <td>0</td>\n      <td>0</td>\n      <td>0</td>\n      <td>1</td>\n      <td>0</td>\n      <td>0</td>\n      <td>0</td>\n      <td>0</td>\n      <td>0</td>\n      <td>0</td>\n      <td>1</td>\n      <td>0</td>\n      <td>0</td>\n      <td>1</td>\n      <td>0</td>\n      <td>1</td>\n      <td>0</td>\n      <td>0</td>\n      <td>0</td>\n      <td>0</td>\n      <td>0</td>\n      <td>0</td>\n      <td>0</td>\n      <td>1</td>\n      <td>0</td>\n      <td>1</td>\n      <td>0</td>\n      <td>2005.0</td>\n      <td>1.0</td>\n      <td>19.0</td>\n      <td>1.0</td>\n      <td>0</td>\n    </tr>\n    <tr>\n      <th>4</th>\n      <td>0</td>\n      <td>0</td>\n      <td>1</td>\n      <td>0</td>\n      <td>0</td>\n      <td>0</td>\n      <td>0</td>\n      <td>0</td>\n      <td>0</td>\n      <td>0</td>\n      <td>0</td>\n      <td>0</td>\n      <td>1</td>\n      <td>0</td>\n      <td>0</td>\n      <td>0</td>\n      <td>0</td>\n      <td>0</td>\n      <td>0</td>\n      <td>1</td>\n      <td>0</td>\n      <td>0</td>\n      <td>0</td>\n      <td>0</td>\n      <td>0</td>\n      <td>0</td>\n      <td>1</td>\n      <td>0</td>\n      <td>0</td>\n      <td>0</td>\n      <td>1</td>\n      <td>0</td>\n      <td>0</td>\n      <td>0</td>\n      <td>0</td>\n      <td>0</td>\n      <td>0</td>\n      <td>0</td>\n      <td>0</td>\n      <td>0</td>\n      <td>0</td>\n      <td>0</td>\n      <td>1</td>\n      <td>0</td>\n      <td>0</td>\n      <td>0</td>\n      <td>0</td>\n      <td>0</td>\n      <td>0</td>\n      <td>0</td>\n      <td>0</td>\n      <td>1</td>\n      <td>0</td>\n      <td>0</td>\n      <td>0</td>\n      <td>0</td>\n      <td>1</td>\n      <td>0</td>\n      <td>0</td>\n      <td>0</td>\n      <td>0</td>\n      <td>0</td>\n      <td>0</td>\n      <td>1</td>\n      <td>0</td>\n      <td>0</td>\n      <td>0</td>\n      <td>0</td>\n      <td>0</td>\n      <td>0</td>\n      <td>1</td>\n      <td>0</td>\n      <td>0</td>\n      <td>0</td>\n      <td>0</td>\n      <td>0</td>\n      <td>0</td>\n      <td>1</td>\n      <td>0</td>\n      <td>0</td>\n      <td>0</td>\n      <td>0</td>\n      <td>0</td>\n      <td>1</td>\n      <td>0</td>\n      <td>0</td>\n      <td>1</td>\n      <td>0</td>\n      <td>1</td>\n      <td>0</td>\n      <td>0</td>\n      <td>0</td>\n      <td>0</td>\n      <td>0</td>\n      <td>0</td>\n      <td>0</td>\n      <td>1</td>\n      <td>0</td>\n      <td>1</td>\n      <td>0</td>\n      <td>2005.0</td>\n      <td>1.0</td>\n      <td>19.0</td>\n      <td>7.0</td>\n      <td>0</td>\n    </tr>\n  </tbody>\n</table>\n</div>"
     },
     "metadata": {},
     "execution_count": 25
    }
   ],
   "source": [
    "df_out.head()"
   ]
  },
  {
   "cell_type": "markdown",
   "metadata": {},
   "source": [
    "## Feature selection - removing near-zero-variance predictors"
   ]
  },
  {
   "cell_type": "code",
   "execution_count": 26,
   "metadata": {},
   "outputs": [],
   "source": [
    "from sklearn.feature_selection import mutual_info_classif, mutual_info_regression, RFE, VarianceThreshold"
   ]
  },
  {
   "cell_type": "code",
   "execution_count": 27,
   "metadata": {},
   "outputs": [
    {
     "output_type": "execute_result",
     "data": {
      "text/plain": "year         11.797123\nmonth        11.273194\nhour         21.691832\nuser_age    330.088458\ndtype: float64"
     },
     "metadata": {},
     "execution_count": 27
    }
   ],
   "source": [
    "df_num_out.var()"
   ]
  },
  {
   "cell_type": "markdown",
   "metadata": {},
   "source": [
    "Numerical variables are not near-zero-variance"
   ]
  },
  {
   "cell_type": "code",
   "execution_count": 28,
   "metadata": {},
   "outputs": [],
   "source": [
    "variances = []\n",
    "\n",
    "for col in df_out.columns:\n",
    "    variances.append(df_out[col].var())"
   ]
  },
  {
   "cell_type": "code",
   "execution_count": 29,
   "metadata": {},
   "outputs": [
    {
     "output_type": "execute_result",
     "data": {
      "text/plain": "                                col       var\n32               d_road_category_NA  0.000001\n18                     d_weather_NA  0.000062\n10           d_intersection_type_NA  0.000135\n95  d_pedestrian_action_With animal  0.000185\n53         d_road_condition_flooded  0.000385\n55             d_road_condition_mud  0.000437\n81                 d_place_in_car_9  0.000671\n66       d_infrastructure_Toll zone  0.000828\n78                 d_place_in_car_6  0.000863\n91           d_pedestrian_action_NA  0.000944",
      "text/html": "<div>\n<style scoped>\n    .dataframe tbody tr th:only-of-type {\n        vertical-align: middle;\n    }\n\n    .dataframe tbody tr th {\n        vertical-align: top;\n    }\n\n    .dataframe thead th {\n        text-align: right;\n    }\n</style>\n<table border=\"1\" class=\"dataframe\">\n  <thead>\n    <tr style=\"text-align: right;\">\n      <th></th>\n      <th>col</th>\n      <th>var</th>\n    </tr>\n  </thead>\n  <tbody>\n    <tr>\n      <th>32</th>\n      <td>d_road_category_NA</td>\n      <td>0.000001</td>\n    </tr>\n    <tr>\n      <th>18</th>\n      <td>d_weather_NA</td>\n      <td>0.000062</td>\n    </tr>\n    <tr>\n      <th>10</th>\n      <td>d_intersection_type_NA</td>\n      <td>0.000135</td>\n    </tr>\n    <tr>\n      <th>95</th>\n      <td>d_pedestrian_action_With animal</td>\n      <td>0.000185</td>\n    </tr>\n    <tr>\n      <th>53</th>\n      <td>d_road_condition_flooded</td>\n      <td>0.000385</td>\n    </tr>\n    <tr>\n      <th>55</th>\n      <td>d_road_condition_mud</td>\n      <td>0.000437</td>\n    </tr>\n    <tr>\n      <th>81</th>\n      <td>d_place_in_car_9</td>\n      <td>0.000671</td>\n    </tr>\n    <tr>\n      <th>66</th>\n      <td>d_infrastructure_Toll zone</td>\n      <td>0.000828</td>\n    </tr>\n    <tr>\n      <th>78</th>\n      <td>d_place_in_car_6</td>\n      <td>0.000863</td>\n    </tr>\n    <tr>\n      <th>91</th>\n      <td>d_pedestrian_action_NA</td>\n      <td>0.000944</td>\n    </tr>\n  </tbody>\n</table>\n</div>"
     },
     "metadata": {},
     "execution_count": 29
    }
   ],
   "source": [
    "pd.DataFrame({'col': list(df_out.columns), 'var': variances}).sort_values(by = 'var').head(10)"
   ]
  },
  {
   "cell_type": "markdown",
   "metadata": {},
   "source": [
    "For categorical variables - some have very low variance. A better way to filter these out is probably remove variables with very low percentage."
   ]
  },
  {
   "cell_type": "code",
   "execution_count": 31,
   "metadata": {},
   "outputs": [
    {
     "output_type": "execute_result",
     "data": {
      "text/plain": "d_road_category_NA                                     0.000001\nd_weather_NA                                           0.000062\nd_intersection_type_NA                                 0.000135\nd_pedestrian_action_With animal                        0.000185\nd_road_condition_flooded                               0.000385\n                                                         ...   \nd_accident_situation_On the road                       0.881517\nd_infrastructure_NA                                    0.887186\nd_pedestrian_action_not specified or not applicable    0.918675\nd_pedestrian_alone_NA                                  0.920466\nd_reserved_lane_NA                                     0.939200\nLength: 100, dtype: float64"
     },
     "metadata": {},
     "execution_count": 31
    }
   ],
   "source": [
    "df_out.select_dtypes('uint8').apply(lambda x: np.mean(x==1)).sort_values()"
   ]
  },
  {
   "cell_type": "code",
   "execution_count": 32,
   "metadata": {},
   "outputs": [],
   "source": [
    "perc_tre = 0.02\n",
    "\n",
    "one_perc = df_out.select_dtypes('uint8').apply(lambda x: np.mean(x==1))\n",
    "non_zero_var_cols = list(one_perc[one_perc > perc_tre][one_perc < 1 - perc_tre].index)"
   ]
  },
  {
   "cell_type": "code",
   "execution_count": 33,
   "metadata": {},
   "outputs": [],
   "source": [
    "non_zero_var_cols = non_zero_var_cols + list(df_num_out.columns)"
   ]
  },
  {
   "cell_type": "code",
   "execution_count": 34,
   "metadata": {},
   "outputs": [],
   "source": [
    "df_out2 = df_out[non_zero_var_cols + ['y']]"
   ]
  },
  {
   "cell_type": "code",
   "execution_count": 35,
   "metadata": {},
   "outputs": [
    {
     "output_type": "execute_result",
     "data": {
      "text/plain": "   d_lighting_Night with public lighting on  \\\n0                                         0   \n1                                         0   \n2                                         0   \n3                                         0   \n4                                         0   \n\n   d_lighting_Night without public lighting  d_lighting_Twilight or dawn  \\\n0                                         1                            0   \n1                                         1                            0   \n2                                         1                            0   \n3                                         1                            0   \n4                                         1                            0   \n\n   d_localization_Out of agglomeration  d_intersection_type_Intersection in T  \\\n0                                    0                                      0   \n1                                    0                                      0   \n2                                    0                                      0   \n3                                    0                                      0   \n4                                    0                                      0   \n\n   d_intersection_type_Intersection in X  \\\n0                                      0   \n1                                      0   \n2                                      0   \n3                                      0   \n4                                      0   \n\n   d_intersection_type_Out of intersection  d_weather_Heavy rain  \\\n0                                        1                     0   \n1                                        1                     0   \n2                                        1                     0   \n3                                        1                     0   \n4                                        1                     0   \n\n   d_weather_Light rain  d_weather_Normal  d_collision_type_Other collision  \\\n0                     0                 1                                 0   \n1                     0                 1                                 0   \n2                     0                 1                                 0   \n3                     0                 1                                 0   \n4                     0                 1                                 0   \n\n   d_collision_type_Three or more vehicles - multiple collisions  \\\n0                                                  0               \n1                                                  0               \n2                                                  0               \n3                                                  0               \n4                                                  0               \n\n   d_collision_type_Three vehicles and more - in chain  \\\n0                                                  0     \n1                                                  0     \n2                                                  0     \n3                                                  0     \n4                                                  0     \n\n   d_collision_type_Two vehicles - by the side  \\\n0                                            1   \n1                                            1   \n2                                            1   \n3                                            1   \n4                                            1   \n\n   d_collision_type_Two vehicles - from the rear  \\\n0                                              0   \n1                                              0   \n2                                              0   \n3                                              0   \n4                                              0   \n\n   d_collision_type_Two vehicles - frontal  \\\n0                                        0   \n1                                        0   \n2                                        0   \n3                                        0   \n4                                        0   \n\n   d_collision_type_Without collision  d_road_category_Departmental Road  \\\n0                                   0                                  1   \n1                                   0                                  1   \n2                                   0                                  1   \n3                                   0                                  1   \n4                                   0                                  1   \n\n   d_road_category_Highway  d_road_category_National Road  d_road_regime_NA  \\\n0                        0                              0                 0   \n1                        0                              0                 0   \n2                        0                              0                 0   \n3                        0                              0                 0   \n4                        0                              0                 0   \n\n   d_road_regime_One way  d_road_regime_Separated carriageways  \\\n0                      0                                     0   \n1                      0                                     0   \n2                      0                                     0   \n3                      0                                     0   \n4                      0                                     0   \n\n   d_reserved_lane_NA  d_reserved_lane_Reserved channel  d_road_gradient_NA  \\\n0                   1                                 0                   0   \n1                   1                                 0                   0   \n2                   1                                 0                   0   \n3                   1                                 0                   0   \n4                   1                                 0                   0   \n\n   d_road_gradient_Slope  d_road_plan_Curved right  d_road_plan_NA  \\\n0                      0                         0               0   \n1                      0                         0               0   \n2                      0                         0               0   \n3                      0                         0               0   \n4                      0                         0               0   \n\n   d_road_plan_Straight part  d_road_condition_normal  d_road_condition_wet  \\\n0                          1                        1                     0   \n1                          1                        1                     0   \n2                          1                        1                     0   \n3                          1                        1                     0   \n4                          1                        1                     0   \n\n   d_infrastructure_Carrefour arranged  d_infrastructure_NA  \\\n0                                    0                    1   \n1                                    0                    1   \n2                                    0                    1   \n3                                    0                    1   \n4                                    0                    1   \n\n   d_accident_situation_On the road  d_accident_situation_On the verge  \\\n0                                 1                                  0   \n1                                 1                                  0   \n2                                 1                                  0   \n3                                 1                                  0   \n4                                 1                                  0   \n\n   d_place_in_car_1  d_place_in_car_2  d_place_in_car_3  d_place_in_car_4  \\\n0                 1                 0                 0                 0   \n1                 1                 0                 0                 0   \n2                 0                 1                 0                 0   \n3                 0                 0                 0                 1   \n4                 0                 0                 0                 0   \n\n   d_place_in_car_NA  d_user_type_Passenger  d_user_type_Pedestrian  \\\n0                  0                      0                       0   \n1                  0                      0                       0   \n2                  0                      1                       0   \n3                  0                      1                       0   \n4                  0                      1                       0   \n\n   d_sex_Male  d_equipment_used_no  d_equipment_used_yes  \\\n0           1                    0                     1   \n1           0                    0                     1   \n2           1                    0                     1   \n3           1                    0                     1   \n4           1                    0                     1   \n\n   d_pedestrian_action_not specified or not applicable  d_pedestrian_alone_NA  \\\n0                                                  1                        1   \n1                                                  1                        1   \n2                                                  1                        1   \n3                                                  1                        1   \n4                                                  1                        1   \n\n   d_pedestrian_alone_Only    year  month  hour  user_age  y  \n0                        0  2005.0    1.0  19.0      29.0  0  \n1                        0  2005.0    1.0  19.0      37.0  1  \n2                        0  2005.0    1.0  19.0      41.0  0  \n3                        0  2005.0    1.0  19.0       1.0  0  \n4                        0  2005.0    1.0  19.0       7.0  0  ",
      "text/html": "<div>\n<style scoped>\n    .dataframe tbody tr th:only-of-type {\n        vertical-align: middle;\n    }\n\n    .dataframe tbody tr th {\n        vertical-align: top;\n    }\n\n    .dataframe thead th {\n        text-align: right;\n    }\n</style>\n<table border=\"1\" class=\"dataframe\">\n  <thead>\n    <tr style=\"text-align: right;\">\n      <th></th>\n      <th>d_lighting_Night with public lighting on</th>\n      <th>d_lighting_Night without public lighting</th>\n      <th>d_lighting_Twilight or dawn</th>\n      <th>d_localization_Out of agglomeration</th>\n      <th>d_intersection_type_Intersection in T</th>\n      <th>d_intersection_type_Intersection in X</th>\n      <th>d_intersection_type_Out of intersection</th>\n      <th>d_weather_Heavy rain</th>\n      <th>d_weather_Light rain</th>\n      <th>d_weather_Normal</th>\n      <th>d_collision_type_Other collision</th>\n      <th>d_collision_type_Three or more vehicles - multiple collisions</th>\n      <th>d_collision_type_Three vehicles and more - in chain</th>\n      <th>d_collision_type_Two vehicles - by the side</th>\n      <th>d_collision_type_Two vehicles - from the rear</th>\n      <th>d_collision_type_Two vehicles - frontal</th>\n      <th>d_collision_type_Without collision</th>\n      <th>d_road_category_Departmental Road</th>\n      <th>d_road_category_Highway</th>\n      <th>d_road_category_National Road</th>\n      <th>d_road_regime_NA</th>\n      <th>d_road_regime_One way</th>\n      <th>d_road_regime_Separated carriageways</th>\n      <th>d_reserved_lane_NA</th>\n      <th>d_reserved_lane_Reserved channel</th>\n      <th>d_road_gradient_NA</th>\n      <th>d_road_gradient_Slope</th>\n      <th>d_road_plan_Curved right</th>\n      <th>d_road_plan_NA</th>\n      <th>d_road_plan_Straight part</th>\n      <th>d_road_condition_normal</th>\n      <th>d_road_condition_wet</th>\n      <th>d_infrastructure_Carrefour arranged</th>\n      <th>d_infrastructure_NA</th>\n      <th>d_accident_situation_On the road</th>\n      <th>d_accident_situation_On the verge</th>\n      <th>d_place_in_car_1</th>\n      <th>d_place_in_car_2</th>\n      <th>d_place_in_car_3</th>\n      <th>d_place_in_car_4</th>\n      <th>d_place_in_car_NA</th>\n      <th>d_user_type_Passenger</th>\n      <th>d_user_type_Pedestrian</th>\n      <th>d_sex_Male</th>\n      <th>d_equipment_used_no</th>\n      <th>d_equipment_used_yes</th>\n      <th>d_pedestrian_action_not specified or not applicable</th>\n      <th>d_pedestrian_alone_NA</th>\n      <th>d_pedestrian_alone_Only</th>\n      <th>year</th>\n      <th>month</th>\n      <th>hour</th>\n      <th>user_age</th>\n      <th>y</th>\n    </tr>\n  </thead>\n  <tbody>\n    <tr>\n      <th>0</th>\n      <td>0</td>\n      <td>1</td>\n      <td>0</td>\n      <td>0</td>\n      <td>0</td>\n      <td>0</td>\n      <td>1</td>\n      <td>0</td>\n      <td>0</td>\n      <td>1</td>\n      <td>0</td>\n      <td>0</td>\n      <td>0</td>\n      <td>1</td>\n      <td>0</td>\n      <td>0</td>\n      <td>0</td>\n      <td>1</td>\n      <td>0</td>\n      <td>0</td>\n      <td>0</td>\n      <td>0</td>\n      <td>0</td>\n      <td>1</td>\n      <td>0</td>\n      <td>0</td>\n      <td>0</td>\n      <td>0</td>\n      <td>0</td>\n      <td>1</td>\n      <td>1</td>\n      <td>0</td>\n      <td>0</td>\n      <td>1</td>\n      <td>1</td>\n      <td>0</td>\n      <td>1</td>\n      <td>0</td>\n      <td>0</td>\n      <td>0</td>\n      <td>0</td>\n      <td>0</td>\n      <td>0</td>\n      <td>1</td>\n      <td>0</td>\n      <td>1</td>\n      <td>1</td>\n      <td>1</td>\n      <td>0</td>\n      <td>2005.0</td>\n      <td>1.0</td>\n      <td>19.0</td>\n      <td>29.0</td>\n      <td>0</td>\n    </tr>\n    <tr>\n      <th>1</th>\n      <td>0</td>\n      <td>1</td>\n      <td>0</td>\n      <td>0</td>\n      <td>0</td>\n      <td>0</td>\n      <td>1</td>\n      <td>0</td>\n      <td>0</td>\n      <td>1</td>\n      <td>0</td>\n      <td>0</td>\n      <td>0</td>\n      <td>1</td>\n      <td>0</td>\n      <td>0</td>\n      <td>0</td>\n      <td>1</td>\n      <td>0</td>\n      <td>0</td>\n      <td>0</td>\n      <td>0</td>\n      <td>0</td>\n      <td>1</td>\n      <td>0</td>\n      <td>0</td>\n      <td>0</td>\n      <td>0</td>\n      <td>0</td>\n      <td>1</td>\n      <td>1</td>\n      <td>0</td>\n      <td>0</td>\n      <td>1</td>\n      <td>1</td>\n      <td>0</td>\n      <td>1</td>\n      <td>0</td>\n      <td>0</td>\n      <td>0</td>\n      <td>0</td>\n      <td>0</td>\n      <td>0</td>\n      <td>0</td>\n      <td>0</td>\n      <td>1</td>\n      <td>1</td>\n      <td>1</td>\n      <td>0</td>\n      <td>2005.0</td>\n      <td>1.0</td>\n      <td>19.0</td>\n      <td>37.0</td>\n      <td>1</td>\n    </tr>\n    <tr>\n      <th>2</th>\n      <td>0</td>\n      <td>1</td>\n      <td>0</td>\n      <td>0</td>\n      <td>0</td>\n      <td>0</td>\n      <td>1</td>\n      <td>0</td>\n      <td>0</td>\n      <td>1</td>\n      <td>0</td>\n      <td>0</td>\n      <td>0</td>\n      <td>1</td>\n      <td>0</td>\n      <td>0</td>\n      <td>0</td>\n      <td>1</td>\n      <td>0</td>\n      <td>0</td>\n      <td>0</td>\n      <td>0</td>\n      <td>0</td>\n      <td>1</td>\n      <td>0</td>\n      <td>0</td>\n      <td>0</td>\n      <td>0</td>\n      <td>0</td>\n      <td>1</td>\n      <td>1</td>\n      <td>0</td>\n      <td>0</td>\n      <td>1</td>\n      <td>1</td>\n      <td>0</td>\n      <td>0</td>\n      <td>1</td>\n      <td>0</td>\n      <td>0</td>\n      <td>0</td>\n      <td>1</td>\n      <td>0</td>\n      <td>1</td>\n      <td>0</td>\n      <td>1</td>\n      <td>1</td>\n      <td>1</td>\n      <td>0</td>\n      <td>2005.0</td>\n      <td>1.0</td>\n      <td>19.0</td>\n      <td>41.0</td>\n      <td>0</td>\n    </tr>\n    <tr>\n      <th>3</th>\n      <td>0</td>\n      <td>1</td>\n      <td>0</td>\n      <td>0</td>\n      <td>0</td>\n      <td>0</td>\n      <td>1</td>\n      <td>0</td>\n      <td>0</td>\n      <td>1</td>\n      <td>0</td>\n      <td>0</td>\n      <td>0</td>\n      <td>1</td>\n      <td>0</td>\n      <td>0</td>\n      <td>0</td>\n      <td>1</td>\n      <td>0</td>\n      <td>0</td>\n      <td>0</td>\n      <td>0</td>\n      <td>0</td>\n      <td>1</td>\n      <td>0</td>\n      <td>0</td>\n      <td>0</td>\n      <td>0</td>\n      <td>0</td>\n      <td>1</td>\n      <td>1</td>\n      <td>0</td>\n      <td>0</td>\n      <td>1</td>\n      <td>1</td>\n      <td>0</td>\n      <td>0</td>\n      <td>0</td>\n      <td>0</td>\n      <td>1</td>\n      <td>0</td>\n      <td>1</td>\n      <td>0</td>\n      <td>1</td>\n      <td>0</td>\n      <td>1</td>\n      <td>1</td>\n      <td>1</td>\n      <td>0</td>\n      <td>2005.0</td>\n      <td>1.0</td>\n      <td>19.0</td>\n      <td>1.0</td>\n      <td>0</td>\n    </tr>\n    <tr>\n      <th>4</th>\n      <td>0</td>\n      <td>1</td>\n      <td>0</td>\n      <td>0</td>\n      <td>0</td>\n      <td>0</td>\n      <td>1</td>\n      <td>0</td>\n      <td>0</td>\n      <td>1</td>\n      <td>0</td>\n      <td>0</td>\n      <td>0</td>\n      <td>1</td>\n      <td>0</td>\n      <td>0</td>\n      <td>0</td>\n      <td>1</td>\n      <td>0</td>\n      <td>0</td>\n      <td>0</td>\n      <td>0</td>\n      <td>0</td>\n      <td>1</td>\n      <td>0</td>\n      <td>0</td>\n      <td>0</td>\n      <td>0</td>\n      <td>0</td>\n      <td>1</td>\n      <td>1</td>\n      <td>0</td>\n      <td>0</td>\n      <td>1</td>\n      <td>1</td>\n      <td>0</td>\n      <td>0</td>\n      <td>0</td>\n      <td>0</td>\n      <td>0</td>\n      <td>0</td>\n      <td>1</td>\n      <td>0</td>\n      <td>1</td>\n      <td>0</td>\n      <td>1</td>\n      <td>1</td>\n      <td>1</td>\n      <td>0</td>\n      <td>2005.0</td>\n      <td>1.0</td>\n      <td>19.0</td>\n      <td>7.0</td>\n      <td>0</td>\n    </tr>\n  </tbody>\n</table>\n</div>"
     },
     "metadata": {},
     "execution_count": 35
    }
   ],
   "source": [
    "df_out2.head()"
   ]
  },
  {
   "cell_type": "markdown",
   "metadata": {},
   "source": [
    "## Feature selection - mutual information"
   ]
  },
  {
   "cell_type": "code",
   "execution_count": 36,
   "metadata": {},
   "outputs": [],
   "source": [
    "minfos_cat = []"
   ]
  },
  {
   "cell_type": "code",
   "execution_count": 37,
   "metadata": {},
   "outputs": [],
   "source": [
    "for col in df_out2.select_dtypes('uint8').columns:\n",
    "#     print(col)\n",
    "    minfos_cat.append(mutual_info_classif(df_out2[col].values.reshape(-1,1),\n",
    "                                                        df_out2[\"y\"].values, discrete_features = True)[0])"
   ]
  },
  {
   "cell_type": "code",
   "execution_count": 38,
   "metadata": {},
   "outputs": [],
   "source": [
    "minfos2= [(col, val) for col, val in zip(df_out2.select_dtypes('uint8').columns, minfos_cat)]"
   ]
  },
  {
   "cell_type": "code",
   "execution_count": 39,
   "metadata": {},
   "outputs": [
    {
     "output_type": "execute_result",
     "data": {
      "text/plain": "                                 column  mutual_info\n17    d_road_category_Departmental Road     0.018954\n3   d_localization_Out of agglomeration     0.018480\n35    d_accident_situation_On the verge     0.012684\n34     d_accident_situation_On the road     0.007342\n42               d_user_type_Pedestrian     0.006981",
      "text/html": "<div>\n<style scoped>\n    .dataframe tbody tr th:only-of-type {\n        vertical-align: middle;\n    }\n\n    .dataframe tbody tr th {\n        vertical-align: top;\n    }\n\n    .dataframe thead th {\n        text-align: right;\n    }\n</style>\n<table border=\"1\" class=\"dataframe\">\n  <thead>\n    <tr style=\"text-align: right;\">\n      <th></th>\n      <th>column</th>\n      <th>mutual_info</th>\n    </tr>\n  </thead>\n  <tbody>\n    <tr>\n      <th>17</th>\n      <td>d_road_category_Departmental Road</td>\n      <td>0.018954</td>\n    </tr>\n    <tr>\n      <th>3</th>\n      <td>d_localization_Out of agglomeration</td>\n      <td>0.018480</td>\n    </tr>\n    <tr>\n      <th>35</th>\n      <td>d_accident_situation_On the verge</td>\n      <td>0.012684</td>\n    </tr>\n    <tr>\n      <th>34</th>\n      <td>d_accident_situation_On the road</td>\n      <td>0.007342</td>\n    </tr>\n    <tr>\n      <th>42</th>\n      <td>d_user_type_Pedestrian</td>\n      <td>0.006981</td>\n    </tr>\n  </tbody>\n</table>\n</div>"
     },
     "metadata": {},
     "execution_count": 39
    }
   ],
   "source": [
    "pd.DataFrame(minfos2, columns = ['column', 'mutual_info']).sort_values(by='mutual_info', ascending=False).head()"
   ]
  },
  {
   "cell_type": "markdown",
   "metadata": {},
   "source": [
    "Don't run below - takes forever and brakes everything"
   ]
  },
  {
   "cell_type": "code",
   "execution_count": 39,
   "metadata": {},
   "outputs": [],
   "source": [
    "# minfos_num = []\n",
    "# for col in df_out2.select_dtypes('float64').columns:\n",
    "#     print(col)\n",
    "#     minfos_num.append(mutual_info_regression(df_out2[col].values.reshape(-1,1),\n",
    "#                                                         df_out2[\"y\"].values))"
   ]
  },
  {
   "cell_type": "markdown",
   "metadata": {},
   "source": [
    "## Train test split"
   ]
  },
  {
   "cell_type": "markdown",
   "metadata": {},
   "source": [
    "For each accident in the data, there can be multiple users engaged. This means that we should control for data leakage. People from one accident should be placed together in either train or test dataset. One way to achieve this and simultanously keep distribution of y is to sample accident_id, and from that obtain train test split.\n"
   ]
  },
  {
   "cell_type": "code",
   "execution_count": 40,
   "metadata": {},
   "outputs": [
    {
     "output_type": "execute_result",
     "data": {
      "text/plain": "0          200500000001\n1          200500000001\n2          200500000001\n3          200500000001\n4          200500000001\n               ...     \n1876000    201600059431\n1876001    201600059431\n1876002    201600059432\n1876003    201600059432\n1876004    201600059432\nName: accident_id, Length: 1876005, dtype: object"
     },
     "metadata": {},
     "execution_count": 40
    }
   ],
   "source": [
    "master_table['accident_id']"
   ]
  },
  {
   "cell_type": "code",
   "execution_count": 42,
   "metadata": {},
   "outputs": [],
   "source": [
    "df_out2['accident_id'] = master_table['accident_id']#.groupby('y').accident_id.count()"
   ]
  },
  {
   "cell_type": "markdown",
   "metadata": {},
   "source": [
    "Test what proportion of y we need in both train and test datasets"
   ]
  },
  {
   "cell_type": "code",
   "execution_count": 43,
   "metadata": {},
   "outputs": [
    {
     "output_type": "execute_result",
     "data": {
      "text/plain": "0    0.763189\n1    0.236811\nName: y, dtype: float64"
     },
     "metadata": {},
     "execution_count": 43
    }
   ],
   "source": [
    "df_out2.y.value_counts(normalize = True)"
   ]
  },
  {
   "cell_type": "markdown",
   "metadata": {},
   "source": [
    "Around 23% of y is equal to 1 (seriously injured or killed).\n",
    "Randomly select 30% of accident_id and check the distribution of y obtained:"
   ]
  },
  {
   "cell_type": "code",
   "execution_count": 44,
   "metadata": {},
   "outputs": [
    {
     "output_type": "execute_result",
     "data": {
      "text/plain": "    accident_id  d_lighting_Night with public lighting on  \\\n0  200500000001                                         0   \n1  200500000001                                         0   \n2  200500000001                                         0   \n3  200500000001                                         0   \n4  200500000001                                         0   \n\n   d_lighting_Night without public lighting  d_lighting_Twilight or dawn  \\\n0                                         1                            0   \n1                                         1                            0   \n2                                         1                            0   \n3                                         1                            0   \n4                                         1                            0   \n\n   d_localization_Out of agglomeration  d_intersection_type_Intersection in T  \\\n0                                    0                                      0   \n1                                    0                                      0   \n2                                    0                                      0   \n3                                    0                                      0   \n4                                    0                                      0   \n\n   d_intersection_type_Intersection in X  \\\n0                                      0   \n1                                      0   \n2                                      0   \n3                                      0   \n4                                      0   \n\n   d_intersection_type_Out of intersection  d_weather_Heavy rain  \\\n0                                        1                     0   \n1                                        1                     0   \n2                                        1                     0   \n3                                        1                     0   \n4                                        1                     0   \n\n   d_weather_Light rain  d_weather_Normal  d_collision_type_Other collision  \\\n0                     0                 1                                 0   \n1                     0                 1                                 0   \n2                     0                 1                                 0   \n3                     0                 1                                 0   \n4                     0                 1                                 0   \n\n   d_collision_type_Three or more vehicles - multiple collisions  \\\n0                                                  0               \n1                                                  0               \n2                                                  0               \n3                                                  0               \n4                                                  0               \n\n   d_collision_type_Three vehicles and more - in chain  \\\n0                                                  0     \n1                                                  0     \n2                                                  0     \n3                                                  0     \n4                                                  0     \n\n   d_collision_type_Two vehicles - by the side  \\\n0                                            1   \n1                                            1   \n2                                            1   \n3                                            1   \n4                                            1   \n\n   d_collision_type_Two vehicles - from the rear  \\\n0                                              0   \n1                                              0   \n2                                              0   \n3                                              0   \n4                                              0   \n\n   d_collision_type_Two vehicles - frontal  \\\n0                                        0   \n1                                        0   \n2                                        0   \n3                                        0   \n4                                        0   \n\n   d_collision_type_Without collision  d_road_category_Departmental Road  \\\n0                                   0                                  1   \n1                                   0                                  1   \n2                                   0                                  1   \n3                                   0                                  1   \n4                                   0                                  1   \n\n   d_road_category_Highway  d_road_category_National Road  d_road_regime_NA  \\\n0                        0                              0                 0   \n1                        0                              0                 0   \n2                        0                              0                 0   \n3                        0                              0                 0   \n4                        0                              0                 0   \n\n   d_road_regime_One way  d_road_regime_Separated carriageways  \\\n0                      0                                     0   \n1                      0                                     0   \n2                      0                                     0   \n3                      0                                     0   \n4                      0                                     0   \n\n   d_reserved_lane_NA  d_reserved_lane_Reserved channel  d_road_gradient_NA  \\\n0                   1                                 0                   0   \n1                   1                                 0                   0   \n2                   1                                 0                   0   \n3                   1                                 0                   0   \n4                   1                                 0                   0   \n\n   d_road_gradient_Slope  d_road_plan_Curved right  d_road_plan_NA  \\\n0                      0                         0               0   \n1                      0                         0               0   \n2                      0                         0               0   \n3                      0                         0               0   \n4                      0                         0               0   \n\n   d_road_plan_Straight part  d_road_condition_normal  d_road_condition_wet  \\\n0                          1                        1                     0   \n1                          1                        1                     0   \n2                          1                        1                     0   \n3                          1                        1                     0   \n4                          1                        1                     0   \n\n   d_infrastructure_Carrefour arranged  d_infrastructure_NA  \\\n0                                    0                    1   \n1                                    0                    1   \n2                                    0                    1   \n3                                    0                    1   \n4                                    0                    1   \n\n   d_accident_situation_On the road  d_accident_situation_On the verge  \\\n0                                 1                                  0   \n1                                 1                                  0   \n2                                 1                                  0   \n3                                 1                                  0   \n4                                 1                                  0   \n\n   d_place_in_car_1  d_place_in_car_2  d_place_in_car_3  d_place_in_car_4  \\\n0                 1                 0                 0                 0   \n1                 1                 0                 0                 0   \n2                 1                 0                 0                 0   \n3                 1                 0                 0                 0   \n4                 1                 0                 0                 0   \n\n   d_place_in_car_NA  d_user_type_Passenger  d_user_type_Pedestrian  \\\n0                  0                      0                       0   \n1                  0                      0                       0   \n2                  0                      0                       0   \n3                  0                      0                       0   \n4                  0                      0                       0   \n\n   d_sex_Male  d_equipment_used_no  d_equipment_used_yes  \\\n0           1                    0                     1   \n1           1                    0                     1   \n2           1                    0                     1   \n3           0                    0                     1   \n4           0                    0                     1   \n\n   d_pedestrian_action_not specified or not applicable  d_pedestrian_alone_NA  \\\n0                                                  1                        1   \n1                                                  1                        1   \n2                                                  1                        1   \n3                                                  1                        1   \n4                                                  1                        1   \n\n   d_pedestrian_alone_Only    year  month  hour  user_age  y  if_test  \n0                        0  2005.0    1.0  19.0      29.0  0      1.0  \n1                        0  2005.0    1.0  19.0      29.0  0      1.0  \n2                        0  2005.0    1.0  19.0      29.0  0      1.0  \n3                        0  2005.0    1.0  19.0      37.0  1      1.0  \n4                        0  2005.0    1.0  19.0      37.0  1      1.0  ",
      "text/html": "<div>\n<style scoped>\n    .dataframe tbody tr th:only-of-type {\n        vertical-align: middle;\n    }\n\n    .dataframe tbody tr th {\n        vertical-align: top;\n    }\n\n    .dataframe thead th {\n        text-align: right;\n    }\n</style>\n<table border=\"1\" class=\"dataframe\">\n  <thead>\n    <tr style=\"text-align: right;\">\n      <th></th>\n      <th>accident_id</th>\n      <th>d_lighting_Night with public lighting on</th>\n      <th>d_lighting_Night without public lighting</th>\n      <th>d_lighting_Twilight or dawn</th>\n      <th>d_localization_Out of agglomeration</th>\n      <th>d_intersection_type_Intersection in T</th>\n      <th>d_intersection_type_Intersection in X</th>\n      <th>d_intersection_type_Out of intersection</th>\n      <th>d_weather_Heavy rain</th>\n      <th>d_weather_Light rain</th>\n      <th>d_weather_Normal</th>\n      <th>d_collision_type_Other collision</th>\n      <th>d_collision_type_Three or more vehicles - multiple collisions</th>\n      <th>d_collision_type_Three vehicles and more - in chain</th>\n      <th>d_collision_type_Two vehicles - by the side</th>\n      <th>d_collision_type_Two vehicles - from the rear</th>\n      <th>d_collision_type_Two vehicles - frontal</th>\n      <th>d_collision_type_Without collision</th>\n      <th>d_road_category_Departmental Road</th>\n      <th>d_road_category_Highway</th>\n      <th>d_road_category_National Road</th>\n      <th>d_road_regime_NA</th>\n      <th>d_road_regime_One way</th>\n      <th>d_road_regime_Separated carriageways</th>\n      <th>d_reserved_lane_NA</th>\n      <th>d_reserved_lane_Reserved channel</th>\n      <th>d_road_gradient_NA</th>\n      <th>d_road_gradient_Slope</th>\n      <th>d_road_plan_Curved right</th>\n      <th>d_road_plan_NA</th>\n      <th>d_road_plan_Straight part</th>\n      <th>d_road_condition_normal</th>\n      <th>d_road_condition_wet</th>\n      <th>d_infrastructure_Carrefour arranged</th>\n      <th>d_infrastructure_NA</th>\n      <th>d_accident_situation_On the road</th>\n      <th>d_accident_situation_On the verge</th>\n      <th>d_place_in_car_1</th>\n      <th>d_place_in_car_2</th>\n      <th>d_place_in_car_3</th>\n      <th>d_place_in_car_4</th>\n      <th>d_place_in_car_NA</th>\n      <th>d_user_type_Passenger</th>\n      <th>d_user_type_Pedestrian</th>\n      <th>d_sex_Male</th>\n      <th>d_equipment_used_no</th>\n      <th>d_equipment_used_yes</th>\n      <th>d_pedestrian_action_not specified or not applicable</th>\n      <th>d_pedestrian_alone_NA</th>\n      <th>d_pedestrian_alone_Only</th>\n      <th>year</th>\n      <th>month</th>\n      <th>hour</th>\n      <th>user_age</th>\n      <th>y</th>\n      <th>if_test</th>\n    </tr>\n  </thead>\n  <tbody>\n    <tr>\n      <th>0</th>\n      <td>200500000001</td>\n      <td>0</td>\n      <td>1</td>\n      <td>0</td>\n      <td>0</td>\n      <td>0</td>\n      <td>0</td>\n      <td>1</td>\n      <td>0</td>\n      <td>0</td>\n      <td>1</td>\n      <td>0</td>\n      <td>0</td>\n      <td>0</td>\n      <td>1</td>\n      <td>0</td>\n      <td>0</td>\n      <td>0</td>\n      <td>1</td>\n      <td>0</td>\n      <td>0</td>\n      <td>0</td>\n      <td>0</td>\n      <td>0</td>\n      <td>1</td>\n      <td>0</td>\n      <td>0</td>\n      <td>0</td>\n      <td>0</td>\n      <td>0</td>\n      <td>1</td>\n      <td>1</td>\n      <td>0</td>\n      <td>0</td>\n      <td>1</td>\n      <td>1</td>\n      <td>0</td>\n      <td>1</td>\n      <td>0</td>\n      <td>0</td>\n      <td>0</td>\n      <td>0</td>\n      <td>0</td>\n      <td>0</td>\n      <td>1</td>\n      <td>0</td>\n      <td>1</td>\n      <td>1</td>\n      <td>1</td>\n      <td>0</td>\n      <td>2005.0</td>\n      <td>1.0</td>\n      <td>19.0</td>\n      <td>29.0</td>\n      <td>0</td>\n      <td>1.0</td>\n    </tr>\n    <tr>\n      <th>1</th>\n      <td>200500000001</td>\n      <td>0</td>\n      <td>1</td>\n      <td>0</td>\n      <td>0</td>\n      <td>0</td>\n      <td>0</td>\n      <td>1</td>\n      <td>0</td>\n      <td>0</td>\n      <td>1</td>\n      <td>0</td>\n      <td>0</td>\n      <td>0</td>\n      <td>1</td>\n      <td>0</td>\n      <td>0</td>\n      <td>0</td>\n      <td>1</td>\n      <td>0</td>\n      <td>0</td>\n      <td>0</td>\n      <td>0</td>\n      <td>0</td>\n      <td>1</td>\n      <td>0</td>\n      <td>0</td>\n      <td>0</td>\n      <td>0</td>\n      <td>0</td>\n      <td>1</td>\n      <td>1</td>\n      <td>0</td>\n      <td>0</td>\n      <td>1</td>\n      <td>1</td>\n      <td>0</td>\n      <td>1</td>\n      <td>0</td>\n      <td>0</td>\n      <td>0</td>\n      <td>0</td>\n      <td>0</td>\n      <td>0</td>\n      <td>1</td>\n      <td>0</td>\n      <td>1</td>\n      <td>1</td>\n      <td>1</td>\n      <td>0</td>\n      <td>2005.0</td>\n      <td>1.0</td>\n      <td>19.0</td>\n      <td>29.0</td>\n      <td>0</td>\n      <td>1.0</td>\n    </tr>\n    <tr>\n      <th>2</th>\n      <td>200500000001</td>\n      <td>0</td>\n      <td>1</td>\n      <td>0</td>\n      <td>0</td>\n      <td>0</td>\n      <td>0</td>\n      <td>1</td>\n      <td>0</td>\n      <td>0</td>\n      <td>1</td>\n      <td>0</td>\n      <td>0</td>\n      <td>0</td>\n      <td>1</td>\n      <td>0</td>\n      <td>0</td>\n      <td>0</td>\n      <td>1</td>\n      <td>0</td>\n      <td>0</td>\n      <td>0</td>\n      <td>0</td>\n      <td>0</td>\n      <td>1</td>\n      <td>0</td>\n      <td>0</td>\n      <td>0</td>\n      <td>0</td>\n      <td>0</td>\n      <td>1</td>\n      <td>1</td>\n      <td>0</td>\n      <td>0</td>\n      <td>1</td>\n      <td>1</td>\n      <td>0</td>\n      <td>1</td>\n      <td>0</td>\n      <td>0</td>\n      <td>0</td>\n      <td>0</td>\n      <td>0</td>\n      <td>0</td>\n      <td>1</td>\n      <td>0</td>\n      <td>1</td>\n      <td>1</td>\n      <td>1</td>\n      <td>0</td>\n      <td>2005.0</td>\n      <td>1.0</td>\n      <td>19.0</td>\n      <td>29.0</td>\n      <td>0</td>\n      <td>1.0</td>\n    </tr>\n    <tr>\n      <th>3</th>\n      <td>200500000001</td>\n      <td>0</td>\n      <td>1</td>\n      <td>0</td>\n      <td>0</td>\n      <td>0</td>\n      <td>0</td>\n      <td>1</td>\n      <td>0</td>\n      <td>0</td>\n      <td>1</td>\n      <td>0</td>\n      <td>0</td>\n      <td>0</td>\n      <td>1</td>\n      <td>0</td>\n      <td>0</td>\n      <td>0</td>\n      <td>1</td>\n      <td>0</td>\n      <td>0</td>\n      <td>0</td>\n      <td>0</td>\n      <td>0</td>\n      <td>1</td>\n      <td>0</td>\n      <td>0</td>\n      <td>0</td>\n      <td>0</td>\n      <td>0</td>\n      <td>1</td>\n      <td>1</td>\n      <td>0</td>\n      <td>0</td>\n      <td>1</td>\n      <td>1</td>\n      <td>0</td>\n      <td>1</td>\n      <td>0</td>\n      <td>0</td>\n      <td>0</td>\n      <td>0</td>\n      <td>0</td>\n      <td>0</td>\n      <td>0</td>\n      <td>0</td>\n      <td>1</td>\n      <td>1</td>\n      <td>1</td>\n      <td>0</td>\n      <td>2005.0</td>\n      <td>1.0</td>\n      <td>19.0</td>\n      <td>37.0</td>\n      <td>1</td>\n      <td>1.0</td>\n    </tr>\n    <tr>\n      <th>4</th>\n      <td>200500000001</td>\n      <td>0</td>\n      <td>1</td>\n      <td>0</td>\n      <td>0</td>\n      <td>0</td>\n      <td>0</td>\n      <td>1</td>\n      <td>0</td>\n      <td>0</td>\n      <td>1</td>\n      <td>0</td>\n      <td>0</td>\n      <td>0</td>\n      <td>1</td>\n      <td>0</td>\n      <td>0</td>\n      <td>0</td>\n      <td>1</td>\n      <td>0</td>\n      <td>0</td>\n      <td>0</td>\n      <td>0</td>\n      <td>0</td>\n      <td>1</td>\n      <td>0</td>\n      <td>0</td>\n      <td>0</td>\n      <td>0</td>\n      <td>0</td>\n      <td>1</td>\n      <td>1</td>\n      <td>0</td>\n      <td>0</td>\n      <td>1</td>\n      <td>1</td>\n      <td>0</td>\n      <td>1</td>\n      <td>0</td>\n      <td>0</td>\n      <td>0</td>\n      <td>0</td>\n      <td>0</td>\n      <td>0</td>\n      <td>0</td>\n      <td>0</td>\n      <td>1</td>\n      <td>1</td>\n      <td>1</td>\n      <td>0</td>\n      <td>2005.0</td>\n      <td>1.0</td>\n      <td>19.0</td>\n      <td>37.0</td>\n      <td>1</td>\n      <td>1.0</td>\n    </tr>\n  </tbody>\n</table>\n</div>"
     },
     "metadata": {},
     "execution_count": 44
    }
   ],
   "source": [
    "temp = pd.DataFrame({'test_id': df_out2.accident_id.sample(frac = 0.3), 'if_test': 1}).set_index('test_id')\n",
    "\n",
    "temp2 = df_out2.set_index('accident_id').join(temp)\n",
    "temp3 = temp2.reset_index().rename({'index': 'accident_id'}, axis = 1)\n",
    "temp3.head()"
   ]
  },
  {
   "cell_type": "markdown",
   "metadata": {},
   "source": [
    "Finally, create training and test sets"
   ]
  },
  {
   "cell_type": "code",
   "execution_count": 45,
   "metadata": {},
   "outputs": [],
   "source": [
    "test = temp3.query('if_test == 1').drop('if_test', axis =1)\n",
    "train = temp3[temp3.if_test.isna()].drop('if_test', axis =1)"
   ]
  },
  {
   "cell_type": "markdown",
   "metadata": {},
   "source": [
    "Checking if procedure was correct:"
   ]
  },
  {
   "cell_type": "code",
   "execution_count": 68,
   "metadata": {},
   "outputs": [
    {
     "output_type": "stream",
     "name": "stdout",
     "text": "(1604704, 55)\n(777872, 55)\n0.21691103156719246\n0.25472699878643273\n"
    }
   ],
   "source": [
    "print(test.shape)\n",
    "print(train.shape)\n",
    "\n",
    "print(test.y.mean())\n",
    "print(train.y.mean())"
   ]
  },
  {
   "cell_type": "code",
   "execution_count": 46,
   "metadata": {},
   "outputs": [],
   "source": [
    "x_train = train.drop(['y', 'accident_id'], axis = 1)\n",
    "x_test = test.drop(['y', 'accident_id'], axis = 1)\n",
    "\n",
    "y_train = train[['y']]\n",
    "y_test = test[['y']]"
   ]
  },
  {
   "cell_type": "code",
   "execution_count": 47,
   "metadata": {},
   "outputs": [
    {
     "output_type": "execute_result",
     "data": {
      "text/plain": "    d_lighting_Night with public lighting on  \\\n20                                         0   \n21                                         0   \n22                                         0   \n23                                         0   \n24                                         0   \n\n    d_lighting_Night without public lighting  d_lighting_Twilight or dawn  \\\n20                                         1                            0   \n21                                         1                            0   \n22                                         0                            0   \n23                                         0                            0   \n24                                         0                            0   \n\n    d_localization_Out of agglomeration  \\\n20                                    1   \n21                                    1   \n22                                    1   \n23                                    1   \n24                                    1   \n\n    d_intersection_type_Intersection in T  \\\n20                                      0   \n21                                      0   \n22                                      0   \n23                                      0   \n24                                      0   \n\n    d_intersection_type_Intersection in X  \\\n20                                      0   \n21                                      0   \n22                                      0   \n23                                      0   \n24                                      0   \n\n    d_intersection_type_Out of intersection  d_weather_Heavy rain  \\\n20                                        1                     0   \n21                                        1                     0   \n22                                        1                     0   \n23                                        1                     0   \n24                                        1                     0   \n\n    d_weather_Light rain  d_weather_Normal  d_collision_type_Other collision  \\\n20                     1                 0                                 0   \n21                     1                 0                                 0   \n22                     0                 1                                 0   \n23                     0                 1                                 0   \n24                     0                 1                                 0   \n\n    d_collision_type_Three or more vehicles - multiple collisions  \\\n20                                                  0               \n21                                                  0               \n22                                                  1               \n23                                                  1               \n24                                                  1               \n\n    d_collision_type_Three vehicles and more - in chain  \\\n20                                                  0     \n21                                                  0     \n22                                                  0     \n23                                                  0     \n24                                                  0     \n\n    d_collision_type_Two vehicles - by the side  \\\n20                                            0   \n21                                            0   \n22                                            0   \n23                                            0   \n24                                            0   \n\n    d_collision_type_Two vehicles - from the rear  \\\n20                                              0   \n21                                              0   \n22                                              0   \n23                                              0   \n24                                              0   \n\n    d_collision_type_Two vehicles - frontal  \\\n20                                        1   \n21                                        1   \n22                                        0   \n23                                        0   \n24                                        0   \n\n    d_collision_type_Without collision  d_road_category_Departmental Road  \\\n20                                   0                                  0   \n21                                   0                                  0   \n22                                   0                                  1   \n23                                   0                                  1   \n24                                   0                                  1   \n\n    d_road_category_Highway  d_road_category_National Road  d_road_regime_NA  \\\n20                        0                              1                 1   \n21                        0                              1                 1   \n22                        0                              0                 0   \n23                        0                              0                 0   \n24                        0                              0                 0   \n\n    d_road_regime_One way  d_road_regime_Separated carriageways  \\\n20                      0                                     0   \n21                      0                                     0   \n22                      0                                     0   \n23                      0                                     0   \n24                      0                                     0   \n\n    d_reserved_lane_NA  d_reserved_lane_Reserved channel  d_road_gradient_NA  \\\n20                   0                                 0                   0   \n21                   0                                 0                   0   \n22                   1                                 0                   0   \n23                   1                                 0                   0   \n24                   1                                 0                   0   \n\n    d_road_gradient_Slope  d_road_plan_Curved right  d_road_plan_NA  \\\n20                      0                         0               0   \n21                      0                         0               0   \n22                      0                         0               0   \n23                      0                         0               0   \n24                      0                         0               0   \n\n    d_road_plan_Straight part  d_road_condition_normal  d_road_condition_wet  \\\n20                          1                        0                     1   \n21                          1                        0                     1   \n22                          1                        1                     0   \n23                          1                        1                     0   \n24                          1                        1                     0   \n\n    d_infrastructure_Carrefour arranged  d_infrastructure_NA  \\\n20                                    0                    1   \n21                                    0                    1   \n22                                    0                    1   \n23                                    0                    1   \n24                                    0                    1   \n\n    d_accident_situation_On the road  d_accident_situation_On the verge  \\\n20                                 0                                  0   \n21                                 0                                  0   \n22                                 1                                  0   \n23                                 1                                  0   \n24                                 1                                  0   \n\n    d_place_in_car_1  d_place_in_car_2  d_place_in_car_3  d_place_in_car_4  \\\n20                 1                 0                 0                 0   \n21                 1                 0                 0                 0   \n22                 1                 0                 0                 0   \n23                 0                 1                 0                 0   \n24                 1                 0                 0                 0   \n\n    d_place_in_car_NA  d_user_type_Passenger  d_user_type_Pedestrian  \\\n20                  0                      0                       0   \n21                  0                      0                       0   \n22                  0                      0                       0   \n23                  0                      1                       0   \n24                  0                      0                       0   \n\n    d_sex_Male  d_equipment_used_no  d_equipment_used_yes  \\\n20           1                    0                     1   \n21           1                    0                     1   \n22           1                    0                     1   \n23           0                    0                     1   \n24           1                    0                     1   \n\n    d_pedestrian_action_not specified or not applicable  \\\n20                                                  1     \n21                                                  1     \n22                                                  1     \n23                                                  1     \n24                                                  1     \n\n    d_pedestrian_alone_NA  d_pedestrian_alone_Only    year  month  hour  \\\n20                      1                        0  2005.0    1.0  18.0   \n21                      1                        0  2005.0    1.0  18.0   \n22                      1                        0  2005.0    1.0  16.0   \n23                      1                        0  2005.0    1.0  16.0   \n24                      1                        0  2005.0    1.0  16.0   \n\n    user_age  \n20      22.0  \n21      49.0  \n22      85.0  \n23      82.0  \n24      41.0  ",
      "text/html": "<div>\n<style scoped>\n    .dataframe tbody tr th:only-of-type {\n        vertical-align: middle;\n    }\n\n    .dataframe tbody tr th {\n        vertical-align: top;\n    }\n\n    .dataframe thead th {\n        text-align: right;\n    }\n</style>\n<table border=\"1\" class=\"dataframe\">\n  <thead>\n    <tr style=\"text-align: right;\">\n      <th></th>\n      <th>d_lighting_Night with public lighting on</th>\n      <th>d_lighting_Night without public lighting</th>\n      <th>d_lighting_Twilight or dawn</th>\n      <th>d_localization_Out of agglomeration</th>\n      <th>d_intersection_type_Intersection in T</th>\n      <th>d_intersection_type_Intersection in X</th>\n      <th>d_intersection_type_Out of intersection</th>\n      <th>d_weather_Heavy rain</th>\n      <th>d_weather_Light rain</th>\n      <th>d_weather_Normal</th>\n      <th>d_collision_type_Other collision</th>\n      <th>d_collision_type_Three or more vehicles - multiple collisions</th>\n      <th>d_collision_type_Three vehicles and more - in chain</th>\n      <th>d_collision_type_Two vehicles - by the side</th>\n      <th>d_collision_type_Two vehicles - from the rear</th>\n      <th>d_collision_type_Two vehicles - frontal</th>\n      <th>d_collision_type_Without collision</th>\n      <th>d_road_category_Departmental Road</th>\n      <th>d_road_category_Highway</th>\n      <th>d_road_category_National Road</th>\n      <th>d_road_regime_NA</th>\n      <th>d_road_regime_One way</th>\n      <th>d_road_regime_Separated carriageways</th>\n      <th>d_reserved_lane_NA</th>\n      <th>d_reserved_lane_Reserved channel</th>\n      <th>d_road_gradient_NA</th>\n      <th>d_road_gradient_Slope</th>\n      <th>d_road_plan_Curved right</th>\n      <th>d_road_plan_NA</th>\n      <th>d_road_plan_Straight part</th>\n      <th>d_road_condition_normal</th>\n      <th>d_road_condition_wet</th>\n      <th>d_infrastructure_Carrefour arranged</th>\n      <th>d_infrastructure_NA</th>\n      <th>d_accident_situation_On the road</th>\n      <th>d_accident_situation_On the verge</th>\n      <th>d_place_in_car_1</th>\n      <th>d_place_in_car_2</th>\n      <th>d_place_in_car_3</th>\n      <th>d_place_in_car_4</th>\n      <th>d_place_in_car_NA</th>\n      <th>d_user_type_Passenger</th>\n      <th>d_user_type_Pedestrian</th>\n      <th>d_sex_Male</th>\n      <th>d_equipment_used_no</th>\n      <th>d_equipment_used_yes</th>\n      <th>d_pedestrian_action_not specified or not applicable</th>\n      <th>d_pedestrian_alone_NA</th>\n      <th>d_pedestrian_alone_Only</th>\n      <th>year</th>\n      <th>month</th>\n      <th>hour</th>\n      <th>user_age</th>\n    </tr>\n  </thead>\n  <tbody>\n    <tr>\n      <th>20</th>\n      <td>0</td>\n      <td>1</td>\n      <td>0</td>\n      <td>1</td>\n      <td>0</td>\n      <td>0</td>\n      <td>1</td>\n      <td>0</td>\n      <td>1</td>\n      <td>0</td>\n      <td>0</td>\n      <td>0</td>\n      <td>0</td>\n      <td>0</td>\n      <td>0</td>\n      <td>1</td>\n      <td>0</td>\n      <td>0</td>\n      <td>0</td>\n      <td>1</td>\n      <td>1</td>\n      <td>0</td>\n      <td>0</td>\n      <td>0</td>\n      <td>0</td>\n      <td>0</td>\n      <td>0</td>\n      <td>0</td>\n      <td>0</td>\n      <td>1</td>\n      <td>0</td>\n      <td>1</td>\n      <td>0</td>\n      <td>1</td>\n      <td>0</td>\n      <td>0</td>\n      <td>1</td>\n      <td>0</td>\n      <td>0</td>\n      <td>0</td>\n      <td>0</td>\n      <td>0</td>\n      <td>0</td>\n      <td>1</td>\n      <td>0</td>\n      <td>1</td>\n      <td>1</td>\n      <td>1</td>\n      <td>0</td>\n      <td>2005.0</td>\n      <td>1.0</td>\n      <td>18.0</td>\n      <td>22.0</td>\n    </tr>\n    <tr>\n      <th>21</th>\n      <td>0</td>\n      <td>1</td>\n      <td>0</td>\n      <td>1</td>\n      <td>0</td>\n      <td>0</td>\n      <td>1</td>\n      <td>0</td>\n      <td>1</td>\n      <td>0</td>\n      <td>0</td>\n      <td>0</td>\n      <td>0</td>\n      <td>0</td>\n      <td>0</td>\n      <td>1</td>\n      <td>0</td>\n      <td>0</td>\n      <td>0</td>\n      <td>1</td>\n      <td>1</td>\n      <td>0</td>\n      <td>0</td>\n      <td>0</td>\n      <td>0</td>\n      <td>0</td>\n      <td>0</td>\n      <td>0</td>\n      <td>0</td>\n      <td>1</td>\n      <td>0</td>\n      <td>1</td>\n      <td>0</td>\n      <td>1</td>\n      <td>0</td>\n      <td>0</td>\n      <td>1</td>\n      <td>0</td>\n      <td>0</td>\n      <td>0</td>\n      <td>0</td>\n      <td>0</td>\n      <td>0</td>\n      <td>1</td>\n      <td>0</td>\n      <td>1</td>\n      <td>1</td>\n      <td>1</td>\n      <td>0</td>\n      <td>2005.0</td>\n      <td>1.0</td>\n      <td>18.0</td>\n      <td>49.0</td>\n    </tr>\n    <tr>\n      <th>22</th>\n      <td>0</td>\n      <td>0</td>\n      <td>0</td>\n      <td>1</td>\n      <td>0</td>\n      <td>0</td>\n      <td>1</td>\n      <td>0</td>\n      <td>0</td>\n      <td>1</td>\n      <td>0</td>\n      <td>1</td>\n      <td>0</td>\n      <td>0</td>\n      <td>0</td>\n      <td>0</td>\n      <td>0</td>\n      <td>1</td>\n      <td>0</td>\n      <td>0</td>\n      <td>0</td>\n      <td>0</td>\n      <td>0</td>\n      <td>1</td>\n      <td>0</td>\n      <td>0</td>\n      <td>0</td>\n      <td>0</td>\n      <td>0</td>\n      <td>1</td>\n      <td>1</td>\n      <td>0</td>\n      <td>0</td>\n      <td>1</td>\n      <td>1</td>\n      <td>0</td>\n      <td>1</td>\n      <td>0</td>\n      <td>0</td>\n      <td>0</td>\n      <td>0</td>\n      <td>0</td>\n      <td>0</td>\n      <td>1</td>\n      <td>0</td>\n      <td>1</td>\n      <td>1</td>\n      <td>1</td>\n      <td>0</td>\n      <td>2005.0</td>\n      <td>1.0</td>\n      <td>16.0</td>\n      <td>85.0</td>\n    </tr>\n    <tr>\n      <th>23</th>\n      <td>0</td>\n      <td>0</td>\n      <td>0</td>\n      <td>1</td>\n      <td>0</td>\n      <td>0</td>\n      <td>1</td>\n      <td>0</td>\n      <td>0</td>\n      <td>1</td>\n      <td>0</td>\n      <td>1</td>\n      <td>0</td>\n      <td>0</td>\n      <td>0</td>\n      <td>0</td>\n      <td>0</td>\n      <td>1</td>\n      <td>0</td>\n      <td>0</td>\n      <td>0</td>\n      <td>0</td>\n      <td>0</td>\n      <td>1</td>\n      <td>0</td>\n      <td>0</td>\n      <td>0</td>\n      <td>0</td>\n      <td>0</td>\n      <td>1</td>\n      <td>1</td>\n      <td>0</td>\n      <td>0</td>\n      <td>1</td>\n      <td>1</td>\n      <td>0</td>\n      <td>0</td>\n      <td>1</td>\n      <td>0</td>\n      <td>0</td>\n      <td>0</td>\n      <td>1</td>\n      <td>0</td>\n      <td>0</td>\n      <td>0</td>\n      <td>1</td>\n      <td>1</td>\n      <td>1</td>\n      <td>0</td>\n      <td>2005.0</td>\n      <td>1.0</td>\n      <td>16.0</td>\n      <td>82.0</td>\n    </tr>\n    <tr>\n      <th>24</th>\n      <td>0</td>\n      <td>0</td>\n      <td>0</td>\n      <td>1</td>\n      <td>0</td>\n      <td>0</td>\n      <td>1</td>\n      <td>0</td>\n      <td>0</td>\n      <td>1</td>\n      <td>0</td>\n      <td>1</td>\n      <td>0</td>\n      <td>0</td>\n      <td>0</td>\n      <td>0</td>\n      <td>0</td>\n      <td>1</td>\n      <td>0</td>\n      <td>0</td>\n      <td>0</td>\n      <td>0</td>\n      <td>0</td>\n      <td>1</td>\n      <td>0</td>\n      <td>0</td>\n      <td>0</td>\n      <td>0</td>\n      <td>0</td>\n      <td>1</td>\n      <td>1</td>\n      <td>0</td>\n      <td>0</td>\n      <td>1</td>\n      <td>1</td>\n      <td>0</td>\n      <td>1</td>\n      <td>0</td>\n      <td>0</td>\n      <td>0</td>\n      <td>0</td>\n      <td>0</td>\n      <td>0</td>\n      <td>1</td>\n      <td>0</td>\n      <td>1</td>\n      <td>1</td>\n      <td>1</td>\n      <td>0</td>\n      <td>2005.0</td>\n      <td>1.0</td>\n      <td>16.0</td>\n      <td>41.0</td>\n    </tr>\n  </tbody>\n</table>\n</div>"
     },
     "metadata": {},
     "execution_count": 47
    }
   ],
   "source": [
    "x_train.head()"
   ]
  },
  {
   "cell_type": "code",
   "execution_count": 48,
   "metadata": {},
   "outputs": [],
   "source": [
    "# x_train, x_test, y_train, y_test = train_test_split(df_out2.drop('y', axis=1), \n",
    "#                                                     df_out2.y, \n",
    "#                                                     stratify=df_out2.y, \n",
    "#                                                     test_size=0.3, \n",
    "#                                                     random_state = 3)"
   ]
  },
  {
   "cell_type": "markdown",
   "metadata": {},
   "source": [
    "### Modeling"
   ]
  },
  {
   "cell_type": "code",
   "execution_count": 48,
   "metadata": {},
   "outputs": [
    {
     "output_type": "execute_result",
     "data": {
      "text/plain": "<class 'statsmodels.iolib.summary.Summary'>\n\"\"\"\n                 Generalized Linear Model Regression Results                  \n==============================================================================\nDep. Variable:                      y   No. Observations:               777422\nModel:                            GLM   Df Residuals:                   777421\nModel Family:                Binomial   Df Model:                            0\nLink Function:                  logit   Scale:                          1.0000\nMethod:                          IRLS   Log-Likelihood:            -5.3375e+05\nDate:                Sun, 17 May 2020   Deviance:                   1.0675e+06\nTime:                        17:09:55   Pearson chi2:                 7.77e+05\nNo. Iterations:                     4                                         \nCovariance Type:            nonrobust                                         \n=====================================================================================================\n                                        coef    std err          z      P>|z|      [0.025      0.975]\n-----------------------------------------------------------------------------------------------------\nd_road_category_Departmental Road    -0.4178      0.004   -100.053      0.000      -0.426      -0.410\n=====================================================================================================\n\"\"\"",
      "text/html": "<table class=\"simpletable\">\n<caption>Generalized Linear Model Regression Results</caption>\n<tr>\n  <th>Dep. Variable:</th>           <td>y</td>        <th>  No. Observations:  </th>   <td>777422</td>   \n</tr>\n<tr>\n  <th>Model:</th>                  <td>GLM</td>       <th>  Df Residuals:      </th>   <td>777421</td>   \n</tr>\n<tr>\n  <th>Model Family:</th>        <td>Binomial</td>     <th>  Df Model:          </th>   <td>     0</td>   \n</tr>\n<tr>\n  <th>Link Function:</th>         <td>logit</td>      <th>  Scale:             </th>  <td>  1.0000</td>  \n</tr>\n<tr>\n  <th>Method:</th>                <td>IRLS</td>       <th>  Log-Likelihood:    </th> <td>-5.3375e+05</td>\n</tr>\n<tr>\n  <th>Date:</th>            <td>Sun, 17 May 2020</td> <th>  Deviance:          </th> <td>1.0675e+06</td> \n</tr>\n<tr>\n  <th>Time:</th>                <td>17:09:55</td>     <th>  Pearson chi2:      </th>  <td>7.77e+05</td>  \n</tr>\n<tr>\n  <th>No. Iterations:</th>          <td>4</td>        <th>                     </th>      <td> </td>     \n</tr>\n<tr>\n  <th>Covariance Type:</th>     <td>nonrobust</td>    <th>                     </th>      <td> </td>     \n</tr>\n</table>\n<table class=\"simpletable\">\n<tr>\n                  <td></td>                     <th>coef</th>     <th>std err</th>      <th>z</th>      <th>P>|z|</th>  <th>[0.025</th>    <th>0.975]</th>  \n</tr>\n<tr>\n  <th>d_road_category_Departmental Road</th> <td>   -0.4178</td> <td>    0.004</td> <td> -100.053</td> <td> 0.000</td> <td>   -0.426</td> <td>   -0.410</td>\n</tr>\n</table>"
     },
     "metadata": {},
     "execution_count": 48
    }
   ],
   "source": [
    "import statsmodels.formula.api as smf\n",
    "import statsmodels.api as sm\n",
    "cols_to_log = [\n",
    "#  'd_lighting_Night with public lighting on',\n",
    "#  'd_lighting_Night without public lighting',\n",
    "#  'd_lighting_Twilight or dawn',\n",
    "#  'd_localization_Out of agglomeration',\n",
    "#  'd_intersection_type_Intersection in T',\n",
    "#  'd_intersection_type_Intersection in X',\n",
    "#  'd_intersection_type_Out of intersection',\n",
    "#  'd_weather_Heavy rain',\n",
    "#  'd_weather_Light rain',\n",
    "#  'd_weather_Normal',\n",
    "#  'd_collision_type_Other collision',\n",
    "#  'd_collision_type_Three or more vehicles - multiple collisions',\n",
    "#  'd_collision_type_Three vehicles and more - in chain',\n",
    "#  'd_collision_type_Two vehicles - by the side',\n",
    "#  'd_collision_type_Two vehicles - from the rear',\n",
    "#  'd_collision_type_Two vehicles - frontal',\n",
    "#  'd_collision_type_Without collision',\n",
    " 'd_road_category_Departmental Road',\n",
    "#  'd_road_category_Highway',\n",
    "#  'd_road_category_National Road',\n",
    "#  'd_road_regime_NA',\n",
    "#  'd_road_regime_One way',\n",
    "#  'd_road_regime_Separated carriageways',\n",
    "#  'd_reserved_lane_NA',\n",
    "#  'd_reserved_lane_Reserved channel',\n",
    "#  'd_road_gradient_NA',\n",
    "#  'd_road_gradient_Slope',\n",
    "#  'd_road_plan_Curved right',\n",
    "#  'd_road_plan_NA',\n",
    "#  'd_road_plan_Straight part',\n",
    "#  'd_road_condition_normal',\n",
    "#  'd_road_condition_wet',\n",
    "#  'd_infrastructure_Carrefour arranged',\n",
    "#  'd_infrastructure_NA',\n",
    "#  'd_accident_situation_On the road',\n",
    "#  'd_accident_situation_On the verge',\n",
    "#  'd_place_in_car_1',\n",
    "#  'd_place_in_car_2',\n",
    "#  'd_place_in_car_3',\n",
    "#  'd_place_in_car_4',\n",
    "#  'd_place_in_car_NA',\n",
    "#  'd_user_type_Passenger',\n",
    "#  'd_user_type_Pedestrian',\n",
    "#  'd_sex_Male',\n",
    "#  'd_equipment_used_no',\n",
    "#  'd_equipment_used_yes',\n",
    "#  'd_pedestrian_action_not specified or not applicable',\n",
    "#  'd_pedestrian_alone_NA',\n",
    "#  'd_pedestrian_alone_Only',\n",
    "#  'year',\n",
    "#  'month',\n",
    "#  'hour',\n",
    "#  'user_age'\n",
    " ]\n",
    "\n",
    "\n",
    "mod = sm.GLM(y_train['y'],x_train[cols_to_log], family=sm.families.Binomial())\n",
    "res = mod.fit()\n",
    "res.summary()"
   ]
  },
  {
   "cell_type": "markdown",
   "metadata": {},
   "source": [
    "We are following the mutual info result for building GLM."
   ]
  },
  {
   "cell_type": "code",
   "execution_count": 49,
   "metadata": {},
   "outputs": [
    {
     "output_type": "execute_result",
     "data": {
      "text/plain": "<class 'statsmodels.iolib.summary.Summary'>\n\"\"\"\n                 Generalized Linear Model Regression Results                  \n==============================================================================\nDep. Variable:                      y   No. Observations:               777422\nModel:                            GLM   Df Residuals:                   777420\nModel Family:                Binomial   Df Model:                            1\nLink Function:                  logit   Scale:                          1.0000\nMethod:                          IRLS   Log-Likelihood:            -5.3264e+05\nDate:                Sun, 17 May 2020   Deviance:                   1.0653e+06\nTime:                        17:10:06   Pearson chi2:                 7.78e+05\nNo. Iterations:                     4                                         \nCovariance Type:            nonrobust                                         \n=======================================================================================================\n                                          coef    std err          z      P>|z|      [0.025      0.975]\n-------------------------------------------------------------------------------------------------------\nd_localization_Out of agglomeration    -0.2309      0.005    -47.047      0.000      -0.241      -0.221\nd_road_category_Departmental Road      -0.2988      0.005    -61.316      0.000      -0.308      -0.289\n=======================================================================================================\n\"\"\"",
      "text/html": "<table class=\"simpletable\">\n<caption>Generalized Linear Model Regression Results</caption>\n<tr>\n  <th>Dep. Variable:</th>           <td>y</td>        <th>  No. Observations:  </th>   <td>777422</td>   \n</tr>\n<tr>\n  <th>Model:</th>                  <td>GLM</td>       <th>  Df Residuals:      </th>   <td>777420</td>   \n</tr>\n<tr>\n  <th>Model Family:</th>        <td>Binomial</td>     <th>  Df Model:          </th>   <td>     1</td>   \n</tr>\n<tr>\n  <th>Link Function:</th>         <td>logit</td>      <th>  Scale:             </th>  <td>  1.0000</td>  \n</tr>\n<tr>\n  <th>Method:</th>                <td>IRLS</td>       <th>  Log-Likelihood:    </th> <td>-5.3264e+05</td>\n</tr>\n<tr>\n  <th>Date:</th>            <td>Sun, 17 May 2020</td> <th>  Deviance:          </th> <td>1.0653e+06</td> \n</tr>\n<tr>\n  <th>Time:</th>                <td>17:10:06</td>     <th>  Pearson chi2:      </th>  <td>7.78e+05</td>  \n</tr>\n<tr>\n  <th>No. Iterations:</th>          <td>4</td>        <th>                     </th>      <td> </td>     \n</tr>\n<tr>\n  <th>Covariance Type:</th>     <td>nonrobust</td>    <th>                     </th>      <td> </td>     \n</tr>\n</table>\n<table class=\"simpletable\">\n<tr>\n                   <td></td>                      <th>coef</th>     <th>std err</th>      <th>z</th>      <th>P>|z|</th>  <th>[0.025</th>    <th>0.975]</th>  \n</tr>\n<tr>\n  <th>d_localization_Out of agglomeration</th> <td>   -0.2309</td> <td>    0.005</td> <td>  -47.047</td> <td> 0.000</td> <td>   -0.241</td> <td>   -0.221</td>\n</tr>\n<tr>\n  <th>d_road_category_Departmental Road</th>   <td>   -0.2988</td> <td>    0.005</td> <td>  -61.316</td> <td> 0.000</td> <td>   -0.308</td> <td>   -0.289</td>\n</tr>\n</table>"
     },
     "metadata": {},
     "execution_count": 49
    }
   ],
   "source": [
    "cols_to_log = [\n",
    "#  'd_lighting_Night with public lighting on',\n",
    "#  'd_lighting_Night without public lighting',\n",
    "#  'd_lighting_Twilight or dawn',\n",
    " 'd_localization_Out of agglomeration',\n",
    "#  'd_intersection_type_Intersection in T',\n",
    "#  'd_intersection_type_Intersection in X',\n",
    "#  'd_intersection_type_Out of intersection',\n",
    "#  'd_weather_Heavy rain',\n",
    "#  'd_weather_Light rain',\n",
    "#  'd_weather_Normal',\n",
    "#  'd_collision_type_Other collision',\n",
    "#  'd_collision_type_Three or more vehicles - multiple collisions',\n",
    "#  'd_collision_type_Three vehicles and more - in chain',\n",
    "#  'd_collision_type_Two vehicles - by the side',\n",
    "#  'd_collision_type_Two vehicles - from the rear',\n",
    "#  'd_collision_type_Two vehicles - frontal',\n",
    "#  'd_collision_type_Without collision',\n",
    " 'd_road_category_Departmental Road',\n",
    "#  'd_road_category_Highway',\n",
    "#  'd_road_category_National Road',\n",
    "#  'd_road_regime_NA',\n",
    "#  'd_road_regime_One way',\n",
    "#  'd_road_regime_Separated carriageways',\n",
    "#  'd_reserved_lane_NA',\n",
    "#  'd_reserved_lane_Reserved channel',\n",
    "#  'd_road_gradient_NA',\n",
    "#  'd_road_gradient_Slope',\n",
    "#  'd_road_plan_Curved right',\n",
    "#  'd_road_plan_NA',\n",
    "#  'd_road_plan_Straight part',\n",
    "#  'd_road_condition_normal',\n",
    "#  'd_road_condition_wet',\n",
    "#  'd_infrastructure_Carrefour arranged',\n",
    "#  'd_infrastructure_NA',\n",
    "#  'd_accident_situation_On the road',\n",
    "#  'd_accident_situation_On the verge',\n",
    "#  'd_place_in_car_1',\n",
    "#  'd_place_in_car_2',\n",
    "#  'd_place_in_car_3',\n",
    "#  'd_place_in_car_4',\n",
    "#  'd_place_in_car_NA',\n",
    "#  'd_user_type_Passenger',\n",
    "#  'd_user_type_Pedestrian',\n",
    "#  'd_sex_Male',\n",
    "#  'd_equipment_used_no',\n",
    "#  'd_equipment_used_yes',\n",
    "#  'd_pedestrian_action_not specified or not applicable',\n",
    "#  'd_pedestrian_alone_NA',\n",
    "#  'd_pedestrian_alone_Only',\n",
    "#  'year',\n",
    "#  'month',\n",
    "#  'hour',\n",
    "#  'user_age'\n",
    " ]\n",
    "mod = sm.GLM(y_train['y'],x_train[cols_to_log],family = sm.families.Binomial())\n",
    "res= mod.fit()\n",
    "res.summary()"
   ]
  },
  {
   "cell_type": "code",
   "execution_count": 57,
   "metadata": {},
   "outputs": [
    {
     "output_type": "execute_result",
     "data": {
      "text/plain": "<class 'statsmodels.iolib.summary.Summary'>\n\"\"\"\n                 Generalized Linear Model Regression Results                  \n==============================================================================\nDep. Variable:                      y   No. Observations:               777422\nModel:                            GLM   Df Residuals:                   777417\nModel Family:                Binomial   Df Model:                            4\nLink Function:                  logit   Scale:                          1.0000\nMethod:                          IRLS   Log-Likelihood:            -4.0902e+05\nDate:                Sun, 17 May 2020   Deviance:                   8.1805e+05\nTime:                        17:16:15   Pearson chi2:                 7.69e+05\nNo. Iterations:                     4                                         \nCovariance Type:            nonrobust                                         \n=======================================================================================================\n                                          coef    std err          z      P>|z|      [0.025      0.975]\n-------------------------------------------------------------------------------------------------------\nd_localization_Out of agglomeration     0.7053      0.006    115.611      0.000       0.693       0.717\nd_road_category_Departmental Road       0.6517      0.006    110.214      0.000       0.640       0.663\nd_accident_situation_On the road       -1.7867      0.004   -415.285      0.000      -1.795      -1.778\nd_accident_situation_On the verge      -0.3614      0.012    -30.074      0.000      -0.385      -0.338\nd_user_type_Pedestrian                  1.0749      0.009    125.469      0.000       1.058       1.092\n=======================================================================================================\n\"\"\"",
      "text/html": "<table class=\"simpletable\">\n<caption>Generalized Linear Model Regression Results</caption>\n<tr>\n  <th>Dep. Variable:</th>           <td>y</td>        <th>  No. Observations:  </th>   <td>777422</td>   \n</tr>\n<tr>\n  <th>Model:</th>                  <td>GLM</td>       <th>  Df Residuals:      </th>   <td>777417</td>   \n</tr>\n<tr>\n  <th>Model Family:</th>        <td>Binomial</td>     <th>  Df Model:          </th>   <td>     4</td>   \n</tr>\n<tr>\n  <th>Link Function:</th>         <td>logit</td>      <th>  Scale:             </th>  <td>  1.0000</td>  \n</tr>\n<tr>\n  <th>Method:</th>                <td>IRLS</td>       <th>  Log-Likelihood:    </th> <td>-4.0902e+05</td>\n</tr>\n<tr>\n  <th>Date:</th>            <td>Sun, 17 May 2020</td> <th>  Deviance:          </th> <td>8.1805e+05</td> \n</tr>\n<tr>\n  <th>Time:</th>                <td>17:16:15</td>     <th>  Pearson chi2:      </th>  <td>7.69e+05</td>  \n</tr>\n<tr>\n  <th>No. Iterations:</th>          <td>4</td>        <th>                     </th>      <td> </td>     \n</tr>\n<tr>\n  <th>Covariance Type:</th>     <td>nonrobust</td>    <th>                     </th>      <td> </td>     \n</tr>\n</table>\n<table class=\"simpletable\">\n<tr>\n                   <td></td>                      <th>coef</th>     <th>std err</th>      <th>z</th>      <th>P>|z|</th>  <th>[0.025</th>    <th>0.975]</th>  \n</tr>\n<tr>\n  <th>d_localization_Out of agglomeration</th> <td>    0.7053</td> <td>    0.006</td> <td>  115.611</td> <td> 0.000</td> <td>    0.693</td> <td>    0.717</td>\n</tr>\n<tr>\n  <th>d_road_category_Departmental Road</th>   <td>    0.6517</td> <td>    0.006</td> <td>  110.214</td> <td> 0.000</td> <td>    0.640</td> <td>    0.663</td>\n</tr>\n<tr>\n  <th>d_accident_situation_On the road</th>    <td>   -1.7867</td> <td>    0.004</td> <td> -415.285</td> <td> 0.000</td> <td>   -1.795</td> <td>   -1.778</td>\n</tr>\n<tr>\n  <th>d_accident_situation_On the verge</th>   <td>   -0.3614</td> <td>    0.012</td> <td>  -30.074</td> <td> 0.000</td> <td>   -0.385</td> <td>   -0.338</td>\n</tr>\n<tr>\n  <th>d_user_type_Pedestrian</th>              <td>    1.0749</td> <td>    0.009</td> <td>  125.469</td> <td> 0.000</td> <td>    1.058</td> <td>    1.092</td>\n</tr>\n</table>"
     },
     "metadata": {},
     "execution_count": 57
    }
   ],
   "source": [
    "cols_to_log = [\n",
    "#  'd_lighting_Night with public lighting on',\n",
    "#  'd_lighting_Night without public lighting',\n",
    "#  'd_lighting_Twilight or dawn',\n",
    " 'd_localization_Out of agglomeration',\n",
    "#  'd_intersection_type_Intersection in T',\n",
    "#  'd_intersection_type_Intersection in X',\n",
    "#  'd_intersection_type_Out of intersection',\n",
    "#  'd_weather_Heavy rain',\n",
    "#  'd_weather_Light rain',\n",
    "#  'd_weather_Normal',\n",
    "#  'd_collision_type_Other collision',\n",
    "#  'd_collision_type_Three or more vehicles - multiple collisions',\n",
    "#  'd_collision_type_Three vehicles and more - in chain',\n",
    "#  'd_collision_type_Two vehicles - by the side',\n",
    "#  'd_collision_type_Two vehicles - from the rear',\n",
    "#  'd_collision_type_Two vehicles - frontal',\n",
    "#  'd_collision_type_Without collision',\n",
    " 'd_road_category_Departmental Road',\n",
    "#  'd_road_category_Highway',\n",
    "#  'd_road_category_National Road',\n",
    "#  'd_road_regime_NA',\n",
    "#  'd_road_regime_One way',\n",
    "#  'd_road_regime_Separated carriageways',\n",
    "#  'd_reserved_lane_NA',\n",
    "#  'd_reserved_lane_Reserved channel',\n",
    "#  'd_road_gradient_NA',\n",
    "#  'd_road_gradient_Slope',\n",
    "#  'd_road_plan_Curved right',\n",
    "#  'd_road_plan_NA',\n",
    "#  'd_road_plan_Straight part',\n",
    "#  'd_road_condition_normal',\n",
    "#  'd_road_condition_wet',\n",
    "#  'd_infrastructure_Carrefour arranged',\n",
    "#  'd_infrastructure_NA',\n",
    " 'd_accident_situation_On the road',\n",
    " 'd_accident_situation_On the verge',\n",
    "#  'd_place_in_car_1',\n",
    "#  'd_place_in_car_2',\n",
    "#  'd_place_in_car_3',\n",
    "#  'd_place_in_car_4',\n",
    "#  'd_place_in_car_NA',\n",
    "#  'd_user_type_Passenger',\n",
    " 'd_user_type_Pedestrian'\n",
    "#  'd_sex_Male',\n",
    "#  'd_equipment_used_no',\n",
    "#  'd_equipment_used_yes',\n",
    "#  'd_pedestrian_action_not specified or not applicable',\n",
    "#  'd_pedestrian_alone_NA',\n",
    "#  'd_pedestrian_alone_Only',\n",
    "#  'year',\n",
    "#  'month',\n",
    "#  'hour',\n",
    "#  'user_age'\n",
    " ]\n",
    "mod = sm.GLM(y_train['y'],x_train[cols_to_log],family = sm.families.Binomial())\n",
    "res= mod.fit()\n",
    "res.summary()\n"
   ]
  },
  {
   "cell_type": "code",
   "execution_count": null,
   "metadata": {},
   "outputs": [],
   "source": [
    "import matplotlib.pyplot as plt\n",
    "plt.style.use('seaborn-ticks')\n",
    "%matplotlib inline\n",
    "cols_to_log = [\n",
    " 'd_lighting_Night with public lighting on',\n",
    " 'd_lighting_Night without public lighting',\n",
    " 'd_lighting_Twilight or dawn',\n",
    " 'd_localization_Out of agglomeration',\n",
    " 'd_intersection_type_Intersection in T',\n",
    " 'd_intersection_type_Intersection in X',\n",
    " 'd_intersection_type_Out of intersection',\n",
    " 'd_weather_Heavy rain',\n",
    " 'd_weather_Light rain',\n",
    " 'd_weather_Normal',\n",
    " 'd_collision_type_Other collision',\n",
    " 'd_collision_type_Three or more vehicles - multiple collisions',\n",
    " 'd_collision_type_Three vehicles and more - in chain',\n",
    " 'd_collision_type_Two vehicles - by the side',\n",
    " 'd_collision_type_Two vehicles - from the rear',\n",
    " 'd_collision_type_Two vehicles - frontal',\n",
    " 'd_collision_type_Without collision',\n",
    " 'd_road_category_Departmental Road',\n",
    " 'd_road_category_Highway',\n",
    " 'd_road_category_National Road',\n",
    " 'd_road_regime_NA',\n",
    " 'd_road_regime_One way',\n",
    " 'd_road_regime_Separated carriageways',\n",
    " 'd_reserved_lane_NA',\n",
    " 'd_reserved_lane_Reserved channel',\n",
    " 'd_road_gradient_NA',\n",
    " 'd_road_gradient_Slope',\n",
    " 'd_road_plan_Curved right',\n",
    " 'd_road_plan_NA',\n",
    " 'd_road_plan_Straight part',\n",
    " 'd_road_condition_normal',\n",
    " 'd_road_condition_wet',\n",
    " 'd_infrastructure_Carrefour arranged',\n",
    " 'd_infrastructure_NA',\n",
    " 'd_accident_situation_On the road',\n",
    " 'd_accident_situation_On the verge',\n",
    " 'd_place_in_car_1',\n",
    " 'd_place_in_car_2',\n",
    " 'd_place_in_car_3',\n",
    " 'd_place_in_car_4',\n",
    " 'd_place_in_car_NA',\n",
    " 'd_user_type_Passenger',\n",
    " 'd_user_type_Pedestrian'\n",
    " 'd_sex_Male',\n",
    " 'd_equipment_used_no',\n",
    " 'd_equipment_used_yes',\n",
    " 'd_pedestrian_action_not specified or not applicable',\n",
    " 'd_pedestrian_alone_NA',\n",
    " 'd_pedestrian_alone_Only',\n",
    " 'year',\n",
    " 'month',\n",
    " 'hour',\n",
    " 'user_age'\n",
    " ]\n",
    "mod = sm.GLM(y_train['y'],x_train[cols_to_log],family = sm.families.Binomial())\n",
    "res= mod.fit()\n",
    "res.summary()\n",
    "probs = res.predict()\n",
    "fpr, tpr, _ = roc_curve((y_train.y==\"0\"), probs)\n",
    "plt.figure()\n",
    "lw = 2\n",
    "plt.plot(fpr, tpr, color='darkorange',\n",
    "         lw=lw, label='ROC curve')\n",
    "plt.plot([0, 1], [0, 1], color='navy', lw=lw, linestyle='--')\n",
    "plt.xlim([0.0, 1.0])\n",
    "plt.ylim([0.0, 1.05])\n",
    "plt.xlabel('False Positive Rate')\n",
    "plt.ylabel('True Positive Rate')"
   ]
  },
  {
   "cell_type": "markdown",
   "metadata": {},
   "source": [
    "Dont know why it does not show the plot ? any idea ?"
   ]
  },
  {
   "cell_type": "markdown",
   "metadata": {},
   "source": [
    "KNN is slooow"
   ]
  },
  {
   "cell_type": "code",
   "execution_count": 49,
   "metadata": {},
   "outputs": [],
   "source": [
    "# model = KNeighborsClassifier()\n",
    "# a = cross_validate(model, df_out, y_train, cv=3, scoring = 'roc_auc', verbose = 1)"
   ]
  },
  {
   "cell_type": "code",
   "execution_count": 4,
   "metadata": {},
   "outputs": [
    {
     "output_type": "error",
     "ename": "NameError",
     "evalue": "name 'x_train' is not defined",
     "traceback": [
      "\u001b[0;31m---------------------------------------------------------------------------\u001b[0m",
      "\u001b[0;31mNameError\u001b[0m                                 Traceback (most recent call last)",
      "\u001b[0;32m<ipython-input-4-ba1f8570c203>\u001b[0m in \u001b[0;36m<module>\u001b[0;34m\u001b[0m\n\u001b[1;32m      2\u001b[0m \u001b[0;32mfrom\u001b[0m \u001b[0msklearn\u001b[0m\u001b[0;34m.\u001b[0m\u001b[0mmodel_selection\u001b[0m \u001b[0;32mimport\u001b[0m \u001b[0mtrain_test_split\u001b[0m\u001b[0;34m,\u001b[0m \u001b[0mcross_val_score\u001b[0m\u001b[0;34m,\u001b[0m \u001b[0mcross_validate\u001b[0m\u001b[0;34m,\u001b[0m \u001b[0mKFold\u001b[0m\u001b[0;34m\u001b[0m\u001b[0;34m\u001b[0m\u001b[0m\n\u001b[1;32m      3\u001b[0m \u001b[0mmodel1\u001b[0m \u001b[0;34m=\u001b[0m \u001b[0mLogisticRegression\u001b[0m\u001b[0;34m(\u001b[0m\u001b[0mn_jobs\u001b[0m\u001b[0;34m=\u001b[0m\u001b[0;34m-\u001b[0m\u001b[0;36m1\u001b[0m\u001b[0;34m,\u001b[0m \u001b[0mverbose\u001b[0m\u001b[0;34m=\u001b[0m\u001b[0;36m2\u001b[0m\u001b[0;34m)\u001b[0m\u001b[0;34m\u001b[0m\u001b[0;34m\u001b[0m\u001b[0m\n\u001b[0;32m----> 4\u001b[0;31m \u001b[0ma\u001b[0m \u001b[0;34m=\u001b[0m \u001b[0mcross_validate\u001b[0m\u001b[0;34m(\u001b[0m\u001b[0mmodel1\u001b[0m\u001b[0;34m,\u001b[0m \u001b[0mx_train\u001b[0m\u001b[0;34m,\u001b[0m \u001b[0my_train\u001b[0m\u001b[0;34m,\u001b[0m \u001b[0mcv\u001b[0m\u001b[0;34m=\u001b[0m\u001b[0;36m2\u001b[0m\u001b[0;34m,\u001b[0m \u001b[0mscoring\u001b[0m \u001b[0;34m=\u001b[0m \u001b[0;34m'roc_auc'\u001b[0m\u001b[0;34m,\u001b[0m \u001b[0mverbose\u001b[0m \u001b[0;34m=\u001b[0m \u001b[0;36m1\u001b[0m\u001b[0;34m,\u001b[0m \u001b[0mn_jobs\u001b[0m\u001b[0;34m=\u001b[0m\u001b[0;34m-\u001b[0m\u001b[0;36m1\u001b[0m\u001b[0;34m)\u001b[0m\u001b[0;34m\u001b[0m\u001b[0;34m\u001b[0m\u001b[0m\n\u001b[0m",
      "\u001b[0;31mNameError\u001b[0m: name 'x_train' is not defined"
     ]
    }
   ],
   "source": [
    "model1 = LogisticRegression(n_jobs=-1, verbose=2)\n",
    "a = cross_validate(model1, x_train, y_train, cv=2, scoring = 'roc_auc', verbose = 1, n_jobs=-1)"
   ]
  },
  {
   "cell_type": "code",
   "execution_count": 1,
   "metadata": {},
   "outputs": [
    {
     "output_type": "error",
     "ename": "NameError",
     "evalue": "name 'model1' is not defined",
     "traceback": [
      "\u001b[0;31m---------------------------------------------------------------------------\u001b[0m",
      "\u001b[0;31mNameError\u001b[0m                                 Traceback (most recent call last)",
      "\u001b[0;32m<ipython-input-1-e549d6025eac>\u001b[0m in \u001b[0;36m<module>\u001b[0;34m\u001b[0m\n\u001b[0;32m----> 1\u001b[0;31m \u001b[0mfitted\u001b[0m \u001b[0;34m=\u001b[0m \u001b[0mmodel1\u001b[0m\u001b[0;34m.\u001b[0m\u001b[0mfit\u001b[0m\u001b[0;34m(\u001b[0m\u001b[0mx_train\u001b[0m\u001b[0;34m,\u001b[0m \u001b[0my_train\u001b[0m\u001b[0;34m)\u001b[0m\u001b[0;34m\u001b[0m\u001b[0;34m\u001b[0m\u001b[0m\n\u001b[0m",
      "\u001b[0;31mNameError\u001b[0m: name 'model1' is not defined"
     ]
    }
   ],
   "source": [
    "fitted = model1.fit(x_train, y_train)"
   ]
  },
  {
   "cell_type": "code",
   "execution_count": 48,
   "metadata": {},
   "outputs": [
    {
     "output_type": "execute_result",
     "data": {
      "text/plain": "0.7423474357220142"
     },
     "metadata": {},
     "execution_count": 48
    }
   ],
   "source": [
    "roc_auc_score(y_train, fitted.predict_proba(x_train)[:,1])\n"
   ]
  },
  {
   "cell_type": "markdown",
   "metadata": {},
   "source": [
    "## Stepwise feature selection"
   ]
  },
  {
   "cell_type": "code",
   "execution_count": 49,
   "metadata": {},
   "outputs": [],
   "source": [
    "from sklearn.svm import LinearSVC"
   ]
  },
  {
   "cell_type": "code",
   "execution_count": 50,
   "metadata": {},
   "outputs": [],
   "source": [
    "model2 = LinearSVC()"
   ]
  },
  {
   "cell_type": "code",
   "execution_count": 51,
   "metadata": {},
   "outputs": [
    {
     "output_type": "execute_result",
     "data": {
      "text/plain": "LinearSVC(C=1.0, class_weight=None, dual=True, fit_intercept=True,\n          intercept_scaling=1, loss='squared_hinge', max_iter=1000,\n          multi_class='ovr', penalty='l2', random_state=None, tol=0.0001,\n          verbose=0)"
     },
     "metadata": {},
     "execution_count": 51
    }
   ],
   "source": [
    "model2.fit(x_train, y_train)"
   ]
  },
  {
   "cell_type": "code",
   "execution_count": 52,
   "metadata": {},
   "outputs": [],
   "source": [
    "from sklearn.feature_selection import RFECV, RFE"
   ]
  },
  {
   "cell_type": "code",
   "execution_count": 55,
   "metadata": {},
   "outputs": [],
   "source": [
    "rfe = RFE(model2, n_features_to_select = 1)"
   ]
  },
  {
   "cell_type": "code",
   "execution_count": null,
   "metadata": {},
   "outputs": [],
   "source": [
    "rfe.fit(x_train, y_train)"
   ]
  }
 ],
 "metadata": {
  "kernelspec": {
   "display_name": "Python 3",
   "language": "python",
   "name": "python3"
  },
  "language_info": {
   "codemirror_mode": {
    "name": "ipython",
    "version": 3
   },
   "file_extension": ".py",
   "mimetype": "text/x-python",
   "name": "python",
   "nbconvert_exporter": "python",
   "pygments_lexer": "ipython3",
   "version": "3.7.6-final"
  }
 },
 "nbformat": 4,
 "nbformat_minor": 4
}