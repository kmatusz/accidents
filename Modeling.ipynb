{
 "cells": [
  {
   "cell_type": "code",
   "execution_count": 1,
   "metadata": {},
   "outputs": [],
   "source": [
    "import pandas as pd\n",
    "import numpy as np\n",
    "import seaborn as sns"
   ]
  },
  {
   "cell_type": "code",
   "execution_count": 2,
   "metadata": {},
   "outputs": [],
   "source": [
    "places = pd.read_pickle('data/places_preprocessed.pkl')\n",
    "users = pd.read_pickle('data/users_preprocessed.pkl')\n",
    "accidents = pd.read_pickle('data/accidents_preprocessed.pkl')"
   ]
  },
  {
   "cell_type": "code",
   "execution_count": 3,
   "metadata": {},
   "outputs": [],
   "source": [
    "master_table = accidents.set_index(\"accident_id\").join(places.set_index(\"accident_id\"))\n",
    "master_table = master_table.join(users.set_index(\"accident_id\"))"
   ]
  },
  {
   "cell_type": "code",
   "execution_count": 4,
   "metadata": {},
   "outputs": [],
   "source": [
    "master_table = master_table.reset_index()"
   ]
  },
  {
   "cell_type": "markdown",
   "metadata": {},
   "source": [
    "We are trying to model type of injury to a person. In each accident there could be multiple pepole - we need to handle that "
   ]
  },
  {
   "cell_type": "code",
   "execution_count": null,
   "metadata": {},
   "outputs": [],
   "source": [
    "cols = list(master_table.columns)\n",
    "cols"
   ]
  },
  {
   "cell_type": "code",
   "execution_count": null,
   "metadata": {},
   "outputs": [],
   "source": [
    "char_cols = [\n",
    "    'lighting',\n",
    " 'localization',\n",
    " 'intersection_type',\n",
    " 'weather',\n",
    " 'collision_type',\n",
    " 'road_category',\n",
    " 'road_regime',\n",
    " 'reserved_lane',\n",
    " 'road_gradient',\n",
    " 'road_plan',\n",
    " 'road_condition',\n",
    " 'infrastructure',\n",
    " 'accident_situation',\n",
    " 'user_type',\n",
    " 'injury_type',\n",
    " 'sex',\n",
    " 'equipment_used',\n",
    " 'pedestrian_action',\n",
    " 'pedestrian_alone'\n",
    "]"
   ]
  },
  {
   "cell_type": "code",
   "execution_count": null,
   "metadata": {},
   "outputs": [],
   "source": [
    "pieces = []\n",
    "for col in char_cols:\n",
    "    tmp_series = master_table[col].value_counts()\n",
    "    tmp_series.name = col\n",
    "    pieces.append(tmp_series)\n",
    "df_value_counts = pd.concat(pieces, axis=1)"
   ]
  },
  {
   "cell_type": "code",
   "execution_count": null,
   "metadata": {},
   "outputs": [],
   "source": [
    "pieces"
   ]
  },
  {
   "cell_type": "code",
   "execution_count": null,
   "metadata": {},
   "outputs": [],
   "source": [
    "master_table.shape"
   ]
  },
  {
   "cell_type": "code",
   "execution_count": null,
   "metadata": {},
   "outputs": [],
   "source": [
    "master_table.injury_type.value_counts()"
   ]
  },
  {
   "cell_type": "code",
   "execution_count": 5,
   "metadata": {},
   "outputs": [],
   "source": [
    "master_table['y'] = master_table.injury_type.map({\"Unscathed\": 0, \n",
    "                             \"Light injury\": 0,\n",
    "                              \"Hospitalized wounded\": 1,\n",
    "                              \"Killed\": 1\n",
    "                             })"
   ]
  },
  {
   "cell_type": "code",
   "execution_count": null,
   "metadata": {},
   "outputs": [],
   "source": [
    "master_table.y.mean()"
   ]
  },
  {
   "cell_type": "markdown",
   "metadata": {},
   "source": [
    "Using a stratified train test split. Dependence on particular accident doesn't matter much - only few observations."
   ]
  },
  {
   "cell_type": "code",
   "execution_count": 6,
   "metadata": {},
   "outputs": [],
   "source": [
    "from sklearn.model_selection import train_test_split\n",
    "x_train, x_test, y_train, y_test = train_test_split(master_table, master_table.y, stratify=master_table.y, test_size=0.3)"
   ]
  },
  {
   "cell_type": "code",
   "execution_count": null,
   "metadata": {},
   "outputs": [],
   "source": [
    "# x_train.drop('y', axis = 1, inplace = True)\n",
    "# x_test.drop('y', axis = 1, inplace = True)"
   ]
  },
  {
   "cell_type": "code",
   "execution_count": null,
   "metadata": {},
   "outputs": [],
   "source": [
    "x_train.shape"
   ]
  },
  {
   "cell_type": "code",
   "execution_count": null,
   "metadata": {},
   "outputs": [],
   "source": [
    "y_train.shape"
   ]
  },
  {
   "cell_type": "markdown",
   "metadata": {},
   "source": [
    "### First model"
   ]
  },
  {
   "cell_type": "markdown",
   "metadata": {},
   "source": [
    "Logistic regression with 2 features - user type sex and lightning. Also removing nas"
   ]
  },
  {
   "cell_type": "code",
   "execution_count": 7,
   "metadata": {},
   "outputs": [],
   "source": [
    "import statsmodels.api as sm\n",
    "from sklearn.metrics import roc_auc_score, roc_curve"
   ]
  },
  {
   "cell_type": "code",
   "execution_count": null,
   "metadata": {},
   "outputs": [],
   "source": [
    "temp_x_train = x_train[['y', 'sex', 'user_type', 'lighting', 'year']].dropna()"
   ]
  },
  {
   "cell_type": "code",
   "execution_count": 11,
   "metadata": {},
   "outputs": [],
   "source": [
    "def use_all_cols(df):\n",
    "    all_columns = \" + \".join([i for i in df.columns if i != 'y'])\n",
    "    my_formula = \"y ~ \" + all_columns\n",
    "    return my_formula"
   ]
  },
  {
   "cell_type": "code",
   "execution_count": null,
   "metadata": {},
   "outputs": [],
   "source": [
    "use_all_cols(temp_x_train)"
   ]
  },
  {
   "cell_type": "code",
   "execution_count": null,
   "metadata": {},
   "outputs": [],
   "source": [
    "mod = sm.GLM.from_formula(formula=use_all_cols(temp_x_train), data=temp_x_train, family=sm.families.Binomial())\n",
    "res = mod.fit()\n",
    "res.summary()"
   ]
  },
  {
   "cell_type": "code",
   "execution_count": null,
   "metadata": {},
   "outputs": [],
   "source": [
    "roc_auc_score(temp_x_train.y, res.predict())"
   ]
  },
  {
   "cell_type": "markdown",
   "metadata": {},
   "source": [
    "Drop in AUC on test set not bad. However performance is rather questionable."
   ]
  },
  {
   "cell_type": "code",
   "execution_count": 8,
   "metadata": {},
   "outputs": [],
   "source": [
    "import matplotlib.pyplot as plt"
   ]
  },
  {
   "cell_type": "code",
   "execution_count": null,
   "metadata": {},
   "outputs": [],
   "source": [
    "fpr, tpr, _ = roc_curve(temp_x_train.y, res.predict())\n",
    "plt.figure()\n",
    "lw = 2\n",
    "plt.plot(fpr, tpr, color='darkorange',\n",
    "         lw=lw, label='ROC curve')\n",
    "plt.plot([0, 1], [0, 1], color='navy', lw=lw, linestyle='--')\n",
    "plt.xlim([0.0, 1.0])\n",
    "plt.ylim([0.0, 1.05])\n",
    "plt.xlabel('False Positive Rate')\n",
    "plt.ylabel('True Positive Rate')\n",
    "plt.title('Receiver operating characteristic example')\n",
    "plt.legend(loc=\"lower right\")\n",
    "# plt.show()"
   ]
  },
  {
   "cell_type": "markdown",
   "metadata": {},
   "source": [
    "### Model 2"
   ]
  },
  {
   "cell_type": "code",
   "execution_count": 9,
   "metadata": {},
   "outputs": [],
   "source": [
    "temp_x_train = x_train[['y',\n",
    "                        'lighting',\n",
    " 'localization',\n",
    " 'weather',\n",
    " 'collision_type',\n",
    " 'year',\n",
    " 'month',\n",
    " 'hour',\n",
    " 'road_condition',\n",
    " 'user_type',\n",
    " 'sex',\n",
    "]].dropna()"
   ]
  },
  {
   "cell_type": "code",
   "execution_count": 12,
   "metadata": {},
   "outputs": [
    {
     "data": {
      "text/html": [
       "<table class=\"simpletable\">\n",
       "<caption>Generalized Linear Model Regression Results</caption>\n",
       "<tr>\n",
       "  <th>Dep. Variable:</th>           <td>y</td>        <th>  No. Observations:  </th>   <td>1250468</td>  \n",
       "</tr>\n",
       "<tr>\n",
       "  <th>Model:</th>                  <td>GLM</td>       <th>  Df Residuals:      </th>   <td>1250433</td>  \n",
       "</tr>\n",
       "<tr>\n",
       "  <th>Model Family:</th>        <td>Binomial</td>     <th>  Df Model:          </th>   <td>    34</td>   \n",
       "</tr>\n",
       "<tr>\n",
       "  <th>Link Function:</th>         <td>logit</td>      <th>  Scale:             </th>  <td>  1.0000</td>  \n",
       "</tr>\n",
       "<tr>\n",
       "  <th>Method:</th>                <td>IRLS</td>       <th>  Log-Likelihood:    </th> <td>-6.2267e+05</td>\n",
       "</tr>\n",
       "<tr>\n",
       "  <th>Date:</th>            <td>Wed, 08 Apr 2020</td> <th>  Deviance:          </th> <td>1.2453e+06</td> \n",
       "</tr>\n",
       "<tr>\n",
       "  <th>Time:</th>                <td>22:04:23</td>     <th>  Pearson chi2:      </th>  <td>1.26e+06</td>  \n",
       "</tr>\n",
       "<tr>\n",
       "  <th>No. Iterations:</th>          <td>6</td>        <th>                     </th>      <td> </td>     \n",
       "</tr>\n",
       "<tr>\n",
       "  <th>Covariance Type:</th>     <td>nonrobust</td>    <th>                     </th>      <td> </td>     \n",
       "</tr>\n",
       "</table>\n",
       "<table class=\"simpletable\">\n",
       "<tr>\n",
       "                                 <td></td>                                   <th>coef</th>     <th>std err</th>      <th>z</th>      <th>P>|z|</th>  <th>[0.025</th>    <th>0.975]</th>  \n",
       "</tr>\n",
       "<tr>\n",
       "  <th>Intercept</th>                                                      <td>    2.6231</td> <td>    1.290</td> <td>    2.033</td> <td> 0.042</td> <td>    0.094</td> <td>    5.152</td>\n",
       "</tr>\n",
       "<tr>\n",
       "  <th>lighting[T.Night with public lighting not lit]</th>                 <td>    0.1052</td> <td>    0.025</td> <td>    4.216</td> <td> 0.000</td> <td>    0.056</td> <td>    0.154</td>\n",
       "</tr>\n",
       "<tr>\n",
       "  <th>lighting[T.Night with public lighting on]</th>                      <td>    0.1033</td> <td>    0.007</td> <td>   15.024</td> <td> 0.000</td> <td>    0.090</td> <td>    0.117</td>\n",
       "</tr>\n",
       "<tr>\n",
       "  <th>lighting[T.Night without public lighting]</th>                      <td>    0.3963</td> <td>    0.008</td> <td>   50.035</td> <td> 0.000</td> <td>    0.381</td> <td>    0.412</td>\n",
       "</tr>\n",
       "<tr>\n",
       "  <th>lighting[T.Twilight or dawn]</th>                                   <td>    0.1507</td> <td>    0.009</td> <td>   16.163</td> <td> 0.000</td> <td>    0.132</td> <td>    0.169</td>\n",
       "</tr>\n",
       "<tr>\n",
       "  <th>localization[T.Out of agglomeration]</th>                           <td>    1.0605</td> <td>    0.005</td> <td>  203.765</td> <td> 0.000</td> <td>    1.050</td> <td>    1.071</td>\n",
       "</tr>\n",
       "<tr>\n",
       "  <th>weather[T.Dazzling weather]</th>                                    <td>    0.3143</td> <td>    0.024</td> <td>   13.370</td> <td> 0.000</td> <td>    0.268</td> <td>    0.360</td>\n",
       "</tr>\n",
       "<tr>\n",
       "  <th>weather[T.Fog - smoke]</th>                                         <td>    0.0855</td> <td>    0.026</td> <td>    3.246</td> <td> 0.001</td> <td>    0.034</td> <td>    0.137</td>\n",
       "</tr>\n",
       "<tr>\n",
       "  <th>weather[T.Heavy rain]</th>                                          <td>   -0.0691</td> <td>    0.019</td> <td>   -3.607</td> <td> 0.000</td> <td>   -0.107</td> <td>   -0.032</td>\n",
       "</tr>\n",
       "<tr>\n",
       "  <th>weather[T.Light rain]</th>                                          <td>   -0.2325</td> <td>    0.014</td> <td>  -16.329</td> <td> 0.000</td> <td>   -0.260</td> <td>   -0.205</td>\n",
       "</tr>\n",
       "<tr>\n",
       "  <th>weather[T.Normal]</th>                                              <td>   -0.0884</td> <td>    0.013</td> <td>   -6.907</td> <td> 0.000</td> <td>   -0.113</td> <td>   -0.063</td>\n",
       "</tr>\n",
       "<tr>\n",
       "  <th>weather[T.Other]</th>                                               <td>    0.0802</td> <td>    0.029</td> <td>    2.766</td> <td> 0.006</td> <td>    0.023</td> <td>    0.137</td>\n",
       "</tr>\n",
       "<tr>\n",
       "  <th>weather[T.Snow - hail]</th>                                         <td>   -0.2050</td> <td>    0.037</td> <td>   -5.610</td> <td> 0.000</td> <td>   -0.277</td> <td>   -0.133</td>\n",
       "</tr>\n",
       "<tr>\n",
       "  <th>weather[T.Strong wind - storm]</th>                                 <td>    0.2101</td> <td>    0.043</td> <td>    4.874</td> <td> 0.000</td> <td>    0.126</td> <td>    0.295</td>\n",
       "</tr>\n",
       "<tr>\n",
       "  <th>collision_type[T.Three or more vehicles - multiple collisions]</th> <td>   -0.5422</td> <td>    0.011</td> <td>  -50.716</td> <td> 0.000</td> <td>   -0.563</td> <td>   -0.521</td>\n",
       "</tr>\n",
       "<tr>\n",
       "  <th>collision_type[T.Three vehicles and more - in chain]</th>           <td>   -1.4030</td> <td>    0.015</td> <td>  -95.622</td> <td> 0.000</td> <td>   -1.432</td> <td>   -1.374</td>\n",
       "</tr>\n",
       "<tr>\n",
       "  <th>collision_type[T.Two vehicles - by the side]</th>                   <td>   -0.1954</td> <td>    0.006</td> <td>  -30.117</td> <td> 0.000</td> <td>   -0.208</td> <td>   -0.183</td>\n",
       "</tr>\n",
       "<tr>\n",
       "  <th>collision_type[T.Two vehicles - from the rear]</th>                 <td>   -0.6838</td> <td>    0.009</td> <td>  -76.820</td> <td> 0.000</td> <td>   -0.701</td> <td>   -0.666</td>\n",
       "</tr>\n",
       "<tr>\n",
       "  <th>collision_type[T.Two vehicles - frontal]</th>                       <td>    0.3988</td> <td>    0.008</td> <td>   52.856</td> <td> 0.000</td> <td>    0.384</td> <td>    0.414</td>\n",
       "</tr>\n",
       "<tr>\n",
       "  <th>collision_type[T.Without collision]</th>                            <td>    0.4159</td> <td>    0.009</td> <td>   47.901</td> <td> 0.000</td> <td>    0.399</td> <td>    0.433</td>\n",
       "</tr>\n",
       "<tr>\n",
       "  <th>road_condition[T.flooded]</th>                                      <td>    0.0616</td> <td>    0.113</td> <td>    0.544</td> <td> 0.586</td> <td>   -0.160</td> <td>    0.284</td>\n",
       "</tr>\n",
       "<tr>\n",
       "  <th>road_condition[T.icy]</th>                                          <td>    0.0930</td> <td>    0.053</td> <td>    1.768</td> <td> 0.077</td> <td>   -0.010</td> <td>    0.196</td>\n",
       "</tr>\n",
       "<tr>\n",
       "  <th>road_condition[T.mud]</th>                                          <td>    0.3723</td> <td>    0.099</td> <td>    3.755</td> <td> 0.000</td> <td>    0.178</td> <td>    0.567</td>\n",
       "</tr>\n",
       "<tr>\n",
       "  <th>road_condition[T.normal]</th>                                       <td>    0.0912</td> <td>    0.045</td> <td>    2.036</td> <td> 0.042</td> <td>    0.003</td> <td>    0.179</td>\n",
       "</tr>\n",
       "<tr>\n",
       "  <th>road_condition[T.other]</th>                                        <td>    0.5076</td> <td>    0.053</td> <td>    9.592</td> <td> 0.000</td> <td>    0.404</td> <td>    0.611</td>\n",
       "</tr>\n",
       "<tr>\n",
       "  <th>road_condition[T.puddles]</th>                                      <td>    0.0874</td> <td>    0.081</td> <td>    1.073</td> <td> 0.283</td> <td>   -0.072</td> <td>    0.247</td>\n",
       "</tr>\n",
       "<tr>\n",
       "  <th>road_condition[T.snow]</th>                                         <td>   -0.1336</td> <td>    0.065</td> <td>   -2.063</td> <td> 0.039</td> <td>   -0.261</td> <td>   -0.007</td>\n",
       "</tr>\n",
       "<tr>\n",
       "  <th>road_condition[T.wet]</th>                                          <td>    0.0182</td> <td>    0.045</td> <td>    0.403</td> <td> 0.687</td> <td>   -0.070</td> <td>    0.107</td>\n",
       "</tr>\n",
       "<tr>\n",
       "  <th>user_type[T.Passenger]</th>                                         <td>    0.0678</td> <td>    0.006</td> <td>   11.106</td> <td> 0.000</td> <td>    0.056</td> <td>    0.080</td>\n",
       "</tr>\n",
       "<tr>\n",
       "  <th>user_type[T.Pedestrian]</th>                                        <td>    1.2236</td> <td>    0.008</td> <td>  148.933</td> <td> 0.000</td> <td>    1.207</td> <td>    1.240</td>\n",
       "</tr>\n",
       "<tr>\n",
       "  <th>user_type[T.Pedestrian in rollerblade or scooter]</th>              <td>    0.9646</td> <td>    0.046</td> <td>   21.041</td> <td> 0.000</td> <td>    0.875</td> <td>    1.054</td>\n",
       "</tr>\n",
       "<tr>\n",
       "  <th>sex[T.Male]</th>                                                    <td>    0.1869</td> <td>    0.005</td> <td>   37.772</td> <td> 0.000</td> <td>    0.177</td> <td>    0.197</td>\n",
       "</tr>\n",
       "<tr>\n",
       "  <th>year</th>                                                           <td>   -0.0022</td> <td>    0.001</td> <td>   -3.451</td> <td> 0.001</td> <td>   -0.003</td> <td>   -0.001</td>\n",
       "</tr>\n",
       "<tr>\n",
       "  <th>month</th>                                                          <td>    0.0029</td> <td>    0.001</td> <td>    4.391</td> <td> 0.000</td> <td>    0.002</td> <td>    0.004</td>\n",
       "</tr>\n",
       "<tr>\n",
       "  <th>hour</th>                                                           <td>    0.0021</td> <td>    0.000</td> <td>    4.373</td> <td> 0.000</td> <td>    0.001</td> <td>    0.003</td>\n",
       "</tr>\n",
       "</table>"
      ],
      "text/plain": [
       "<class 'statsmodels.iolib.summary.Summary'>\n",
       "\"\"\"\n",
       "                 Generalized Linear Model Regression Results                  \n",
       "==============================================================================\n",
       "Dep. Variable:                      y   No. Observations:              1250468\n",
       "Model:                            GLM   Df Residuals:                  1250433\n",
       "Model Family:                Binomial   Df Model:                           34\n",
       "Link Function:                  logit   Scale:                          1.0000\n",
       "Method:                          IRLS   Log-Likelihood:            -6.2267e+05\n",
       "Date:                Wed, 08 Apr 2020   Deviance:                   1.2453e+06\n",
       "Time:                        22:04:23   Pearson chi2:                 1.26e+06\n",
       "No. Iterations:                     6                                         \n",
       "Covariance Type:            nonrobust                                         \n",
       "==================================================================================================================================\n",
       "                                                                     coef    std err          z      P>|z|      [0.025      0.975]\n",
       "----------------------------------------------------------------------------------------------------------------------------------\n",
       "Intercept                                                          2.6231      1.290      2.033      0.042       0.094       5.152\n",
       "lighting[T.Night with public lighting not lit]                     0.1052      0.025      4.216      0.000       0.056       0.154\n",
       "lighting[T.Night with public lighting on]                          0.1033      0.007     15.024      0.000       0.090       0.117\n",
       "lighting[T.Night without public lighting]                          0.3963      0.008     50.035      0.000       0.381       0.412\n",
       "lighting[T.Twilight or dawn]                                       0.1507      0.009     16.163      0.000       0.132       0.169\n",
       "localization[T.Out of agglomeration]                               1.0605      0.005    203.765      0.000       1.050       1.071\n",
       "weather[T.Dazzling weather]                                        0.3143      0.024     13.370      0.000       0.268       0.360\n",
       "weather[T.Fog - smoke]                                             0.0855      0.026      3.246      0.001       0.034       0.137\n",
       "weather[T.Heavy rain]                                             -0.0691      0.019     -3.607      0.000      -0.107      -0.032\n",
       "weather[T.Light rain]                                             -0.2325      0.014    -16.329      0.000      -0.260      -0.205\n",
       "weather[T.Normal]                                                 -0.0884      0.013     -6.907      0.000      -0.113      -0.063\n",
       "weather[T.Other]                                                   0.0802      0.029      2.766      0.006       0.023       0.137\n",
       "weather[T.Snow - hail]                                            -0.2050      0.037     -5.610      0.000      -0.277      -0.133\n",
       "weather[T.Strong wind - storm]                                     0.2101      0.043      4.874      0.000       0.126       0.295\n",
       "collision_type[T.Three or more vehicles - multiple collisions]    -0.5422      0.011    -50.716      0.000      -0.563      -0.521\n",
       "collision_type[T.Three vehicles and more - in chain]              -1.4030      0.015    -95.622      0.000      -1.432      -1.374\n",
       "collision_type[T.Two vehicles - by the side]                      -0.1954      0.006    -30.117      0.000      -0.208      -0.183\n",
       "collision_type[T.Two vehicles - from the rear]                    -0.6838      0.009    -76.820      0.000      -0.701      -0.666\n",
       "collision_type[T.Two vehicles - frontal]                           0.3988      0.008     52.856      0.000       0.384       0.414\n",
       "collision_type[T.Without collision]                                0.4159      0.009     47.901      0.000       0.399       0.433\n",
       "road_condition[T.flooded]                                          0.0616      0.113      0.544      0.586      -0.160       0.284\n",
       "road_condition[T.icy]                                              0.0930      0.053      1.768      0.077      -0.010       0.196\n",
       "road_condition[T.mud]                                              0.3723      0.099      3.755      0.000       0.178       0.567\n",
       "road_condition[T.normal]                                           0.0912      0.045      2.036      0.042       0.003       0.179\n",
       "road_condition[T.other]                                            0.5076      0.053      9.592      0.000       0.404       0.611\n",
       "road_condition[T.puddles]                                          0.0874      0.081      1.073      0.283      -0.072       0.247\n",
       "road_condition[T.snow]                                            -0.1336      0.065     -2.063      0.039      -0.261      -0.007\n",
       "road_condition[T.wet]                                              0.0182      0.045      0.403      0.687      -0.070       0.107\n",
       "user_type[T.Passenger]                                             0.0678      0.006     11.106      0.000       0.056       0.080\n",
       "user_type[T.Pedestrian]                                            1.2236      0.008    148.933      0.000       1.207       1.240\n",
       "user_type[T.Pedestrian in rollerblade or scooter]                  0.9646      0.046     21.041      0.000       0.875       1.054\n",
       "sex[T.Male]                                                        0.1869      0.005     37.772      0.000       0.177       0.197\n",
       "year                                                              -0.0022      0.001     -3.451      0.001      -0.003      -0.001\n",
       "month                                                              0.0029      0.001      4.391      0.000       0.002       0.004\n",
       "hour                                                               0.0021      0.000      4.373      0.000       0.001       0.003\n",
       "==================================================================================================================================\n",
       "\"\"\""
      ]
     },
     "execution_count": 12,
     "metadata": {},
     "output_type": "execute_result"
    }
   ],
   "source": [
    "mod = sm.GLM.from_formula(formula=use_all_cols(temp_x_train), data=temp_x_train, family=sm.families.Binomial())\n",
    "res = mod.fit()\n",
    "res.summary()"
   ]
  },
  {
   "cell_type": "code",
   "execution_count": 13,
   "metadata": {},
   "outputs": [
    {
     "data": {
      "text/plain": [
       "0.7044569516018537"
      ]
     },
     "execution_count": 13,
     "metadata": {},
     "output_type": "execute_result"
    }
   ],
   "source": [
    "roc_auc_score(temp_x_train.y, res.predict())"
   ]
  },
  {
   "cell_type": "code",
   "execution_count": null,
   "metadata": {},
   "outputs": [],
   "source": []
  }
 ],
 "metadata": {
  "kernelspec": {
   "display_name": "Python [conda env:ML] *",
   "language": "python",
   "name": "conda-env-ML-py"
  },
  "language_info": {
   "codemirror_mode": {
    "name": "ipython",
    "version": 3
   },
   "file_extension": ".py",
   "mimetype": "text/x-python",
   "name": "python",
   "nbconvert_exporter": "python",
   "pygments_lexer": "ipython3",
   "version": "3.7.5"
  }
 },
 "nbformat": 4,
 "nbformat_minor": 4
}
