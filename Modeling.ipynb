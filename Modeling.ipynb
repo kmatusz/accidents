{
 "cells": [
  {
   "cell_type": "code",
   "execution_count": 1,
   "metadata": {},
   "outputs": [],
   "source": [
    "import pandas as pd\n",
    "import numpy as np\n",
    "import seaborn as sns\n",
    "\n",
    "import statsmodels.api as sm\n",
    "from statsmodels.tools.tools import add_constant\n",
    "\n",
    "from sklearn.model_selection import train_test_split, cross_val_score, cross_validate, KFold\n",
    "from sklearn.pipeline import make_pipeline\n",
    "from sklearn.preprocessing import FunctionTransformer, OneHotEncoder\n",
    "from sklearn.impute import SimpleImputer\n",
    "\n",
    "from sklearn.metrics import roc_auc_score, roc_curve\n",
    "\n",
    "from sklearn.neighbors import KNeighborsClassifier\n",
    "from sklearn.linear_model import LogisticRegression\n",
    "\n",
    "\n",
    "pd.set_option(\"display.max_columns\",200)\n",
    "\n",
    "def print_value_counts(df):\n",
    "    for i in df.columns:\n",
    "        print(f'column: {i}')\n",
    "        display(df[i].value_counts())\n",
    "        print()"
   ]
  },
  {
   "cell_type": "markdown",
   "metadata": {},
   "source": [
    "Steps:\n",
    "\n",
    "1. Select relevant cols\n",
    "2. Impute NA - strategies: categorical - mode and NA, numeric median (or sth else)\n",
    "3. one-hot encode categorical\n",
    "4. merge categorical and numeric \n",
    "5. Fit models"
   ]
  },
  {
   "cell_type": "markdown",
   "metadata": {},
   "source": [
    "Contents:\n",
    "\n",
    "- load data\n",
    "- train test split\n",
    "- preprocess categorical vars\n",
    "- preprocess numeric vars\n",
    "- run CV"
   ]
  },
  {
   "cell_type": "markdown",
   "metadata": {},
   "source": [
    "## Load data"
   ]
  },
  {
   "cell_type": "code",
   "execution_count": 2,
   "metadata": {},
   "outputs": [],
   "source": [
    "master_table = pd.read_pickle('data/master_table.pkl')"
   ]
  },
  {
   "cell_type": "code",
   "execution_count": 3,
   "metadata": {},
   "outputs": [
    {
     "output_type": "execute_result",
     "data": {
      "text/plain": "    accident_id                       lighting       localization  \\\n0  200500000001  Night without public lighting  In built-up areas   \n1  200500000001  Night without public lighting  In built-up areas   \n2  200500000001  Night without public lighting  In built-up areas   \n3  200500000001  Night without public lighting  In built-up areas   \n4  200500000001  Night without public lighting  In built-up areas   \n\n     intersection_type weather              collision_type com address  \\\n0  Out of intersection  Normal  Two vehicles - by the side  11   CD41B   \n1  Out of intersection  Normal  Two vehicles - by the side  11   CD41B   \n2  Out of intersection  Normal  Two vehicles - by the side  11   CD41B   \n3  Out of intersection  Normal  Two vehicles - by the side  11   CD41B   \n4  Out of intersection  Normal  Two vehicles - by the side  11   CD41B   \n\n         gps      lat    long departament                time    year  month  \\\n0  Métropole  5051500  294400         590 2005-01-05 19:00:00  2005.0    1.0   \n1  Métropole  5051500  294400         590 2005-01-05 19:00:00  2005.0    1.0   \n2  Métropole  5051500  294400         590 2005-01-05 19:00:00  2005.0    1.0   \n3  Métropole  5051500  294400         590 2005-01-05 19:00:00  2005.0    1.0   \n4  Métropole  5051500  294400         590 2005-01-05 19:00:00  2005.0    1.0   \n\n   hour      road_category    road_regime  no_lanes reserved_lane  \\\n0  19.0  Departmental Road  Bidirectional       2.0           NaN   \n1  19.0  Departmental Road  Bidirectional       2.0           NaN   \n2  19.0  Departmental Road  Bidirectional       2.0           NaN   \n3  19.0  Departmental Road  Bidirectional       2.0           NaN   \n4  19.0  Departmental Road  Bidirectional       2.0           NaN   \n\n  road_gradient      road_plan road_condition infrastructure  \\\n0          Dish  Straight part         normal            NaN   \n1          Dish  Straight part         normal            NaN   \n2          Dish  Straight part         normal            NaN   \n3          Dish  Straight part         normal            NaN   \n4          Dish  Straight part         normal            NaN   \n\n  accident_situation  user_id place_in_car  user_type           injury_type  \\\n0        On the road  1678507            1     Driver          Light injury   \n1        On the road  1678508            1     Driver  Hospitalized wounded   \n2        On the road  1678509            2  Passenger             Unscathed   \n3        On the road  1678510            4  Passenger             Unscathed   \n4        On the road  1678511            5  Passenger             Unscathed   \n\n      sex equipment_used                pedestrian_action pedestrian_alone  \\\n0    Male            yes  not specified or not applicable              NaN   \n1  Female            yes  not specified or not applicable              NaN   \n2    Male            yes  not specified or not applicable              NaN   \n3    Male            yes  not specified or not applicable              NaN   \n4    Male            yes  not specified or not applicable              NaN   \n\n  year_of_birth vechicle_number  y  \n0          1976             A01  0  \n1          1968             B02  1  \n2          1964             B02  0  \n3          2004             B02  0  \n4          1998             B02  0  ",
      "text/html": "<div>\n<style scoped>\n    .dataframe tbody tr th:only-of-type {\n        vertical-align: middle;\n    }\n\n    .dataframe tbody tr th {\n        vertical-align: top;\n    }\n\n    .dataframe thead th {\n        text-align: right;\n    }\n</style>\n<table border=\"1\" class=\"dataframe\">\n  <thead>\n    <tr style=\"text-align: right;\">\n      <th></th>\n      <th>accident_id</th>\n      <th>lighting</th>\n      <th>localization</th>\n      <th>intersection_type</th>\n      <th>weather</th>\n      <th>collision_type</th>\n      <th>com</th>\n      <th>address</th>\n      <th>gps</th>\n      <th>lat</th>\n      <th>long</th>\n      <th>departament</th>\n      <th>time</th>\n      <th>year</th>\n      <th>month</th>\n      <th>hour</th>\n      <th>road_category</th>\n      <th>road_regime</th>\n      <th>no_lanes</th>\n      <th>reserved_lane</th>\n      <th>road_gradient</th>\n      <th>road_plan</th>\n      <th>road_condition</th>\n      <th>infrastructure</th>\n      <th>accident_situation</th>\n      <th>user_id</th>\n      <th>place_in_car</th>\n      <th>user_type</th>\n      <th>injury_type</th>\n      <th>sex</th>\n      <th>equipment_used</th>\n      <th>pedestrian_action</th>\n      <th>pedestrian_alone</th>\n      <th>year_of_birth</th>\n      <th>vechicle_number</th>\n      <th>y</th>\n    </tr>\n  </thead>\n  <tbody>\n    <tr>\n      <th>0</th>\n      <td>200500000001</td>\n      <td>Night without public lighting</td>\n      <td>In built-up areas</td>\n      <td>Out of intersection</td>\n      <td>Normal</td>\n      <td>Two vehicles - by the side</td>\n      <td>11</td>\n      <td>CD41B</td>\n      <td>Métropole</td>\n      <td>5051500</td>\n      <td>294400</td>\n      <td>590</td>\n      <td>2005-01-05 19:00:00</td>\n      <td>2005.0</td>\n      <td>1.0</td>\n      <td>19.0</td>\n      <td>Departmental Road</td>\n      <td>Bidirectional</td>\n      <td>2.0</td>\n      <td>NaN</td>\n      <td>Dish</td>\n      <td>Straight part</td>\n      <td>normal</td>\n      <td>NaN</td>\n      <td>On the road</td>\n      <td>1678507</td>\n      <td>1</td>\n      <td>Driver</td>\n      <td>Light injury</td>\n      <td>Male</td>\n      <td>yes</td>\n      <td>not specified or not applicable</td>\n      <td>NaN</td>\n      <td>1976</td>\n      <td>A01</td>\n      <td>0</td>\n    </tr>\n    <tr>\n      <th>1</th>\n      <td>200500000001</td>\n      <td>Night without public lighting</td>\n      <td>In built-up areas</td>\n      <td>Out of intersection</td>\n      <td>Normal</td>\n      <td>Two vehicles - by the side</td>\n      <td>11</td>\n      <td>CD41B</td>\n      <td>Métropole</td>\n      <td>5051500</td>\n      <td>294400</td>\n      <td>590</td>\n      <td>2005-01-05 19:00:00</td>\n      <td>2005.0</td>\n      <td>1.0</td>\n      <td>19.0</td>\n      <td>Departmental Road</td>\n      <td>Bidirectional</td>\n      <td>2.0</td>\n      <td>NaN</td>\n      <td>Dish</td>\n      <td>Straight part</td>\n      <td>normal</td>\n      <td>NaN</td>\n      <td>On the road</td>\n      <td>1678508</td>\n      <td>1</td>\n      <td>Driver</td>\n      <td>Hospitalized wounded</td>\n      <td>Female</td>\n      <td>yes</td>\n      <td>not specified or not applicable</td>\n      <td>NaN</td>\n      <td>1968</td>\n      <td>B02</td>\n      <td>1</td>\n    </tr>\n    <tr>\n      <th>2</th>\n      <td>200500000001</td>\n      <td>Night without public lighting</td>\n      <td>In built-up areas</td>\n      <td>Out of intersection</td>\n      <td>Normal</td>\n      <td>Two vehicles - by the side</td>\n      <td>11</td>\n      <td>CD41B</td>\n      <td>Métropole</td>\n      <td>5051500</td>\n      <td>294400</td>\n      <td>590</td>\n      <td>2005-01-05 19:00:00</td>\n      <td>2005.0</td>\n      <td>1.0</td>\n      <td>19.0</td>\n      <td>Departmental Road</td>\n      <td>Bidirectional</td>\n      <td>2.0</td>\n      <td>NaN</td>\n      <td>Dish</td>\n      <td>Straight part</td>\n      <td>normal</td>\n      <td>NaN</td>\n      <td>On the road</td>\n      <td>1678509</td>\n      <td>2</td>\n      <td>Passenger</td>\n      <td>Unscathed</td>\n      <td>Male</td>\n      <td>yes</td>\n      <td>not specified or not applicable</td>\n      <td>NaN</td>\n      <td>1964</td>\n      <td>B02</td>\n      <td>0</td>\n    </tr>\n    <tr>\n      <th>3</th>\n      <td>200500000001</td>\n      <td>Night without public lighting</td>\n      <td>In built-up areas</td>\n      <td>Out of intersection</td>\n      <td>Normal</td>\n      <td>Two vehicles - by the side</td>\n      <td>11</td>\n      <td>CD41B</td>\n      <td>Métropole</td>\n      <td>5051500</td>\n      <td>294400</td>\n      <td>590</td>\n      <td>2005-01-05 19:00:00</td>\n      <td>2005.0</td>\n      <td>1.0</td>\n      <td>19.0</td>\n      <td>Departmental Road</td>\n      <td>Bidirectional</td>\n      <td>2.0</td>\n      <td>NaN</td>\n      <td>Dish</td>\n      <td>Straight part</td>\n      <td>normal</td>\n      <td>NaN</td>\n      <td>On the road</td>\n      <td>1678510</td>\n      <td>4</td>\n      <td>Passenger</td>\n      <td>Unscathed</td>\n      <td>Male</td>\n      <td>yes</td>\n      <td>not specified or not applicable</td>\n      <td>NaN</td>\n      <td>2004</td>\n      <td>B02</td>\n      <td>0</td>\n    </tr>\n    <tr>\n      <th>4</th>\n      <td>200500000001</td>\n      <td>Night without public lighting</td>\n      <td>In built-up areas</td>\n      <td>Out of intersection</td>\n      <td>Normal</td>\n      <td>Two vehicles - by the side</td>\n      <td>11</td>\n      <td>CD41B</td>\n      <td>Métropole</td>\n      <td>5051500</td>\n      <td>294400</td>\n      <td>590</td>\n      <td>2005-01-05 19:00:00</td>\n      <td>2005.0</td>\n      <td>1.0</td>\n      <td>19.0</td>\n      <td>Departmental Road</td>\n      <td>Bidirectional</td>\n      <td>2.0</td>\n      <td>NaN</td>\n      <td>Dish</td>\n      <td>Straight part</td>\n      <td>normal</td>\n      <td>NaN</td>\n      <td>On the road</td>\n      <td>1678511</td>\n      <td>5</td>\n      <td>Passenger</td>\n      <td>Unscathed</td>\n      <td>Male</td>\n      <td>yes</td>\n      <td>not specified or not applicable</td>\n      <td>NaN</td>\n      <td>1998</td>\n      <td>B02</td>\n      <td>0</td>\n    </tr>\n  </tbody>\n</table>\n</div>"
     },
     "metadata": {},
     "execution_count": 3
    }
   ],
   "source": [
    "master_table.head()"
   ]
  },
  {
   "cell_type": "markdown",
   "metadata": {},
   "source": [
    "## EDA with filtering approach and feature selection"
   ]
  },
  {
   "cell_type": "code",
   "execution_count": 4,
   "metadata": {},
   "outputs": [],
   "source": [
    "master_table['year_of_birth'] = master_table['year_of_birth'].astype(float)"
   ]
  },
  {
   "cell_type": "code",
   "execution_count": 5,
   "metadata": {},
   "outputs": [],
   "source": [
    "cols_to_model = [\n",
    "#  'accident_id',\n",
    " 'lighting',\n",
    " 'localization',\n",
    " 'intersection_type',\n",
    " 'weather',\n",
    " 'collision_type',\n",
    "#  'com',\n",
    "#  'address',\n",
    "#  'gps',\n",
    "#  'lat',\n",
    "#  'long',\n",
    "#  'departament',\n",
    "#  'time',\n",
    " 'year',\n",
    " 'month',\n",
    " 'hour',\n",
    " 'road_category',\n",
    " 'road_regime',\n",
    " 'no_lanes',\n",
    " 'reserved_lane',\n",
    " 'road_gradient',\n",
    " 'road_plan',\n",
    " 'road_condition',\n",
    " 'infrastructure',\n",
    " 'accident_situation',\n",
    "#  'user_id',\n",
    " 'place_in_car',\n",
    " 'user_type',\n",
    "#  'injury_type',\n",
    " 'sex',\n",
    " 'equipment_used',\n",
    " 'pedestrian_action',\n",
    " 'pedestrian_alone',\n",
    " 'year_of_birth',\n",
    "#  'vechicle_number',\n",
    "#  'y'\n",
    "]\n"
   ]
  },
  {
   "cell_type": "code",
   "execution_count": 6,
   "metadata": {},
   "outputs": [
    {
     "output_type": "execute_result",
     "data": {
      "text/plain": "lighting               object\nlocalization           object\nintersection_type      object\nweather                object\ncollision_type         object\nyear                  float64\nmonth                 float64\nhour                  float64\nroad_category          object\nroad_regime            object\nno_lanes              float64\nreserved_lane          object\nroad_gradient          object\nroad_plan              object\nroad_condition         object\ninfrastructure         object\naccident_situation     object\nplace_in_car           object\nuser_type              object\nsex                    object\nequipment_used         object\npedestrian_action      object\npedestrian_alone       object\nyear_of_birth         float64\ndtype: object"
     },
     "metadata": {},
     "execution_count": 6
    }
   ],
   "source": [
    "master_table[cols_to_model].dtypes"
   ]
  },
  {
   "cell_type": "markdown",
   "metadata": {},
   "source": [
    "TODO:\n",
    "\n",
    "- get dummies (with na)\n",
    "- 0 variance\n",
    "- m"
   ]
  },
  {
   "cell_type": "code",
   "execution_count": null,
   "metadata": {},
   "outputs": [],
   "source": []
  },
  {
   "cell_type": "markdown",
   "metadata": {},
   "source": [
    "### Categorical columns"
   ]
  },
  {
   "cell_type": "code",
   "execution_count": 7,
   "metadata": {},
   "outputs": [
    {
     "output_type": "execute_result",
     "data": {
      "text/plain": "                        lighting       localization    intersection_type  \\\n0  Night without public lighting  In built-up areas  Out of intersection   \n1  Night without public lighting  In built-up areas  Out of intersection   \n2  Night without public lighting  In built-up areas  Out of intersection   \n3  Night without public lighting  In built-up areas  Out of intersection   \n4  Night without public lighting  In built-up areas  Out of intersection   \n\n  weather              collision_type      road_category    road_regime  \\\n0  Normal  Two vehicles - by the side  Departmental Road  Bidirectional   \n1  Normal  Two vehicles - by the side  Departmental Road  Bidirectional   \n2  Normal  Two vehicles - by the side  Departmental Road  Bidirectional   \n3  Normal  Two vehicles - by the side  Departmental Road  Bidirectional   \n4  Normal  Two vehicles - by the side  Departmental Road  Bidirectional   \n\n  reserved_lane road_gradient      road_plan road_condition infrastructure  \\\n0           NaN          Dish  Straight part         normal            NaN   \n1           NaN          Dish  Straight part         normal            NaN   \n2           NaN          Dish  Straight part         normal            NaN   \n3           NaN          Dish  Straight part         normal            NaN   \n4           NaN          Dish  Straight part         normal            NaN   \n\n  accident_situation place_in_car  user_type     sex equipment_used  \\\n0        On the road            1     Driver    Male            yes   \n1        On the road            1     Driver  Female            yes   \n2        On the road            2  Passenger    Male            yes   \n3        On the road            4  Passenger    Male            yes   \n4        On the road            5  Passenger    Male            yes   \n\n                 pedestrian_action pedestrian_alone  \n0  not specified or not applicable              NaN  \n1  not specified or not applicable              NaN  \n2  not specified or not applicable              NaN  \n3  not specified or not applicable              NaN  \n4  not specified or not applicable              NaN  ",
      "text/html": "<div>\n<style scoped>\n    .dataframe tbody tr th:only-of-type {\n        vertical-align: middle;\n    }\n\n    .dataframe tbody tr th {\n        vertical-align: top;\n    }\n\n    .dataframe thead th {\n        text-align: right;\n    }\n</style>\n<table border=\"1\" class=\"dataframe\">\n  <thead>\n    <tr style=\"text-align: right;\">\n      <th></th>\n      <th>lighting</th>\n      <th>localization</th>\n      <th>intersection_type</th>\n      <th>weather</th>\n      <th>collision_type</th>\n      <th>road_category</th>\n      <th>road_regime</th>\n      <th>reserved_lane</th>\n      <th>road_gradient</th>\n      <th>road_plan</th>\n      <th>road_condition</th>\n      <th>infrastructure</th>\n      <th>accident_situation</th>\n      <th>place_in_car</th>\n      <th>user_type</th>\n      <th>sex</th>\n      <th>equipment_used</th>\n      <th>pedestrian_action</th>\n      <th>pedestrian_alone</th>\n    </tr>\n  </thead>\n  <tbody>\n    <tr>\n      <th>0</th>\n      <td>Night without public lighting</td>\n      <td>In built-up areas</td>\n      <td>Out of intersection</td>\n      <td>Normal</td>\n      <td>Two vehicles - by the side</td>\n      <td>Departmental Road</td>\n      <td>Bidirectional</td>\n      <td>NaN</td>\n      <td>Dish</td>\n      <td>Straight part</td>\n      <td>normal</td>\n      <td>NaN</td>\n      <td>On the road</td>\n      <td>1</td>\n      <td>Driver</td>\n      <td>Male</td>\n      <td>yes</td>\n      <td>not specified or not applicable</td>\n      <td>NaN</td>\n    </tr>\n    <tr>\n      <th>1</th>\n      <td>Night without public lighting</td>\n      <td>In built-up areas</td>\n      <td>Out of intersection</td>\n      <td>Normal</td>\n      <td>Two vehicles - by the side</td>\n      <td>Departmental Road</td>\n      <td>Bidirectional</td>\n      <td>NaN</td>\n      <td>Dish</td>\n      <td>Straight part</td>\n      <td>normal</td>\n      <td>NaN</td>\n      <td>On the road</td>\n      <td>1</td>\n      <td>Driver</td>\n      <td>Female</td>\n      <td>yes</td>\n      <td>not specified or not applicable</td>\n      <td>NaN</td>\n    </tr>\n    <tr>\n      <th>2</th>\n      <td>Night without public lighting</td>\n      <td>In built-up areas</td>\n      <td>Out of intersection</td>\n      <td>Normal</td>\n      <td>Two vehicles - by the side</td>\n      <td>Departmental Road</td>\n      <td>Bidirectional</td>\n      <td>NaN</td>\n      <td>Dish</td>\n      <td>Straight part</td>\n      <td>normal</td>\n      <td>NaN</td>\n      <td>On the road</td>\n      <td>2</td>\n      <td>Passenger</td>\n      <td>Male</td>\n      <td>yes</td>\n      <td>not specified or not applicable</td>\n      <td>NaN</td>\n    </tr>\n    <tr>\n      <th>3</th>\n      <td>Night without public lighting</td>\n      <td>In built-up areas</td>\n      <td>Out of intersection</td>\n      <td>Normal</td>\n      <td>Two vehicles - by the side</td>\n      <td>Departmental Road</td>\n      <td>Bidirectional</td>\n      <td>NaN</td>\n      <td>Dish</td>\n      <td>Straight part</td>\n      <td>normal</td>\n      <td>NaN</td>\n      <td>On the road</td>\n      <td>4</td>\n      <td>Passenger</td>\n      <td>Male</td>\n      <td>yes</td>\n      <td>not specified or not applicable</td>\n      <td>NaN</td>\n    </tr>\n    <tr>\n      <th>4</th>\n      <td>Night without public lighting</td>\n      <td>In built-up areas</td>\n      <td>Out of intersection</td>\n      <td>Normal</td>\n      <td>Two vehicles - by the side</td>\n      <td>Departmental Road</td>\n      <td>Bidirectional</td>\n      <td>NaN</td>\n      <td>Dish</td>\n      <td>Straight part</td>\n      <td>normal</td>\n      <td>NaN</td>\n      <td>On the road</td>\n      <td>5</td>\n      <td>Passenger</td>\n      <td>Male</td>\n      <td>yes</td>\n      <td>not specified or not applicable</td>\n      <td>NaN</td>\n    </tr>\n  </tbody>\n</table>\n</div>"
     },
     "metadata": {},
     "execution_count": 7
    }
   ],
   "source": [
    "df_cat = master_table[cols_to_model].select_dtypes('object')\n",
    "df_cat.head()"
   ]
  },
  {
   "cell_type": "markdown",
   "metadata": {},
   "source": [
    "Replacing NA's - for now with 'NA'"
   ]
  },
  {
   "cell_type": "code",
   "execution_count": 8,
   "metadata": {},
   "outputs": [
    {
     "output_type": "execute_result",
     "data": {
      "text/plain": "                        lighting       localization    intersection_type  \\\n0  Night without public lighting  In built-up areas  Out of intersection   \n1  Night without public lighting  In built-up areas  Out of intersection   \n2  Night without public lighting  In built-up areas  Out of intersection   \n3  Night without public lighting  In built-up areas  Out of intersection   \n4  Night without public lighting  In built-up areas  Out of intersection   \n\n  weather              collision_type      road_category    road_regime  \\\n0  Normal  Two vehicles - by the side  Departmental Road  Bidirectional   \n1  Normal  Two vehicles - by the side  Departmental Road  Bidirectional   \n2  Normal  Two vehicles - by the side  Departmental Road  Bidirectional   \n3  Normal  Two vehicles - by the side  Departmental Road  Bidirectional   \n4  Normal  Two vehicles - by the side  Departmental Road  Bidirectional   \n\n  reserved_lane road_gradient      road_plan road_condition infrastructure  \\\n0            NA          Dish  Straight part         normal             NA   \n1            NA          Dish  Straight part         normal             NA   \n2            NA          Dish  Straight part         normal             NA   \n3            NA          Dish  Straight part         normal             NA   \n4            NA          Dish  Straight part         normal             NA   \n\n  accident_situation place_in_car  user_type     sex equipment_used  \\\n0        On the road            1     Driver    Male            yes   \n1        On the road            1     Driver  Female            yes   \n2        On the road            2  Passenger    Male            yes   \n3        On the road            4  Passenger    Male            yes   \n4        On the road            5  Passenger    Male            yes   \n\n                 pedestrian_action pedestrian_alone  \n0  not specified or not applicable               NA  \n1  not specified or not applicable               NA  \n2  not specified or not applicable               NA  \n3  not specified or not applicable               NA  \n4  not specified or not applicable               NA  ",
      "text/html": "<div>\n<style scoped>\n    .dataframe tbody tr th:only-of-type {\n        vertical-align: middle;\n    }\n\n    .dataframe tbody tr th {\n        vertical-align: top;\n    }\n\n    .dataframe thead th {\n        text-align: right;\n    }\n</style>\n<table border=\"1\" class=\"dataframe\">\n  <thead>\n    <tr style=\"text-align: right;\">\n      <th></th>\n      <th>lighting</th>\n      <th>localization</th>\n      <th>intersection_type</th>\n      <th>weather</th>\n      <th>collision_type</th>\n      <th>road_category</th>\n      <th>road_regime</th>\n      <th>reserved_lane</th>\n      <th>road_gradient</th>\n      <th>road_plan</th>\n      <th>road_condition</th>\n      <th>infrastructure</th>\n      <th>accident_situation</th>\n      <th>place_in_car</th>\n      <th>user_type</th>\n      <th>sex</th>\n      <th>equipment_used</th>\n      <th>pedestrian_action</th>\n      <th>pedestrian_alone</th>\n    </tr>\n  </thead>\n  <tbody>\n    <tr>\n      <th>0</th>\n      <td>Night without public lighting</td>\n      <td>In built-up areas</td>\n      <td>Out of intersection</td>\n      <td>Normal</td>\n      <td>Two vehicles - by the side</td>\n      <td>Departmental Road</td>\n      <td>Bidirectional</td>\n      <td>NA</td>\n      <td>Dish</td>\n      <td>Straight part</td>\n      <td>normal</td>\n      <td>NA</td>\n      <td>On the road</td>\n      <td>1</td>\n      <td>Driver</td>\n      <td>Male</td>\n      <td>yes</td>\n      <td>not specified or not applicable</td>\n      <td>NA</td>\n    </tr>\n    <tr>\n      <th>1</th>\n      <td>Night without public lighting</td>\n      <td>In built-up areas</td>\n      <td>Out of intersection</td>\n      <td>Normal</td>\n      <td>Two vehicles - by the side</td>\n      <td>Departmental Road</td>\n      <td>Bidirectional</td>\n      <td>NA</td>\n      <td>Dish</td>\n      <td>Straight part</td>\n      <td>normal</td>\n      <td>NA</td>\n      <td>On the road</td>\n      <td>1</td>\n      <td>Driver</td>\n      <td>Female</td>\n      <td>yes</td>\n      <td>not specified or not applicable</td>\n      <td>NA</td>\n    </tr>\n    <tr>\n      <th>2</th>\n      <td>Night without public lighting</td>\n      <td>In built-up areas</td>\n      <td>Out of intersection</td>\n      <td>Normal</td>\n      <td>Two vehicles - by the side</td>\n      <td>Departmental Road</td>\n      <td>Bidirectional</td>\n      <td>NA</td>\n      <td>Dish</td>\n      <td>Straight part</td>\n      <td>normal</td>\n      <td>NA</td>\n      <td>On the road</td>\n      <td>2</td>\n      <td>Passenger</td>\n      <td>Male</td>\n      <td>yes</td>\n      <td>not specified or not applicable</td>\n      <td>NA</td>\n    </tr>\n    <tr>\n      <th>3</th>\n      <td>Night without public lighting</td>\n      <td>In built-up areas</td>\n      <td>Out of intersection</td>\n      <td>Normal</td>\n      <td>Two vehicles - by the side</td>\n      <td>Departmental Road</td>\n      <td>Bidirectional</td>\n      <td>NA</td>\n      <td>Dish</td>\n      <td>Straight part</td>\n      <td>normal</td>\n      <td>NA</td>\n      <td>On the road</td>\n      <td>4</td>\n      <td>Passenger</td>\n      <td>Male</td>\n      <td>yes</td>\n      <td>not specified or not applicable</td>\n      <td>NA</td>\n    </tr>\n    <tr>\n      <th>4</th>\n      <td>Night without public lighting</td>\n      <td>In built-up areas</td>\n      <td>Out of intersection</td>\n      <td>Normal</td>\n      <td>Two vehicles - by the side</td>\n      <td>Departmental Road</td>\n      <td>Bidirectional</td>\n      <td>NA</td>\n      <td>Dish</td>\n      <td>Straight part</td>\n      <td>normal</td>\n      <td>NA</td>\n      <td>On the road</td>\n      <td>5</td>\n      <td>Passenger</td>\n      <td>Male</td>\n      <td>yes</td>\n      <td>not specified or not applicable</td>\n      <td>NA</td>\n    </tr>\n  </tbody>\n</table>\n</div>"
     },
     "metadata": {},
     "execution_count": 8
    }
   ],
   "source": [
    "si = SimpleImputer(missing_values=np.nan, strategy='constant', fill_value = 'NA', add_indicator=False)\n",
    "temp = si.fit_transform(df_cat)\n",
    "df_cat2 = pd.DataFrame(temp, columns = df_cat.columns)\n",
    "df_cat2.head()"
   ]
  },
  {
   "cell_type": "markdown",
   "metadata": {},
   "source": [
    "One hot encoding"
   ]
  },
  {
   "cell_type": "code",
   "execution_count": 9,
   "metadata": {},
   "outputs": [],
   "source": [
    "df_cat3 = pd.get_dummies(df_cat2, drop_first = True)"
   ]
  },
  {
   "cell_type": "code",
   "execution_count": 10,
   "metadata": {},
   "outputs": [],
   "source": [
    "df_cat3.columns = ['d_' + col for col in list(df_cat3.columns)]"
   ]
  },
  {
   "cell_type": "code",
   "execution_count": 11,
   "metadata": {},
   "outputs": [],
   "source": [
    "df_cat_out = df_cat3.copy()"
   ]
  },
  {
   "cell_type": "code",
   "execution_count": 12,
   "metadata": {},
   "outputs": [
    {
     "output_type": "execute_result",
     "data": {
      "text/plain": "   d_lighting_Night with public lighting not lit  \\\n0                                              0   \n1                                              0   \n2                                              0   \n3                                              0   \n4                                              0   \n\n   d_lighting_Night with public lighting on  \\\n0                                         0   \n1                                         0   \n2                                         0   \n3                                         0   \n4                                         0   \n\n   d_lighting_Night without public lighting  d_lighting_Twilight or dawn  \\\n0                                         1                            0   \n1                                         1                            0   \n2                                         1                            0   \n3                                         1                            0   \n4                                         1                            0   \n\n   d_localization_Out of agglomeration  d_intersection_type_Intersection in T  \\\n0                                    0                                      0   \n1                                    0                                      0   \n2                                    0                                      0   \n3                                    0                                      0   \n4                                    0                                      0   \n\n   d_intersection_type_Intersection in X  \\\n0                                      0   \n1                                      0   \n2                                      0   \n3                                      0   \n4                                      0   \n\n   d_intersection_type_Intersection in Y  \\\n0                                      0   \n1                                      0   \n2                                      0   \n3                                      0   \n4                                      0   \n\n   d_intersection_type_Intersection with more than 4 branches  \\\n0                                                  0            \n1                                                  0            \n2                                                  0            \n3                                                  0            \n4                                                  0            \n\n   d_intersection_type_Level crossing  d_intersection_type_NA  \\\n0                                   0                       0   \n1                                   0                       0   \n2                                   0                       0   \n3                                   0                       0   \n4                                   0                       0   \n\n   d_intersection_type_Other intersection  \\\n0                                       0   \n1                                       0   \n2                                       0   \n3                                       0   \n4                                       0   \n\n   d_intersection_type_Out of intersection  d_intersection_type_Place  \\\n0                                        1                          0   \n1                                        1                          0   \n2                                        1                          0   \n3                                        1                          0   \n4                                        1                          0   \n\n   d_weather_Dazzling weather  d_weather_Fog - smoke  d_weather_Heavy rain  \\\n0                           0                      0                     0   \n1                           0                      0                     0   \n2                           0                      0                     0   \n3                           0                      0                     0   \n4                           0                      0                     0   \n\n   d_weather_Light rain  d_weather_NA  d_weather_Normal  d_weather_Other  \\\n0                     0             0                 1                0   \n1                     0             0                 1                0   \n2                     0             0                 1                0   \n3                     0             0                 1                0   \n4                     0             0                 1                0   \n\n   d_weather_Snow - hail  d_weather_Strong wind - storm  \\\n0                      0                              0   \n1                      0                              0   \n2                      0                              0   \n3                      0                              0   \n4                      0                              0   \n\n   d_collision_type_Other collision  \\\n0                                 0   \n1                                 0   \n2                                 0   \n3                                 0   \n4                                 0   \n\n   d_collision_type_Three or more vehicles - multiple collisions  \\\n0                                                  0               \n1                                                  0               \n2                                                  0               \n3                                                  0               \n4                                                  0               \n\n   d_collision_type_Three vehicles and more - in chain  \\\n0                                                  0     \n1                                                  0     \n2                                                  0     \n3                                                  0     \n4                                                  0     \n\n   d_collision_type_Two vehicles - by the side  \\\n0                                            1   \n1                                            1   \n2                                            1   \n3                                            1   \n4                                            1   \n\n   d_collision_type_Two vehicles - from the rear  \\\n0                                              0   \n1                                              0   \n2                                              0   \n3                                              0   \n4                                              0   \n\n   d_collision_type_Two vehicles - frontal  \\\n0                                        0   \n1                                        0   \n2                                        0   \n3                                        0   \n4                                        0   \n\n   d_collision_type_Without collision  d_road_category_Departmental Road  \\\n0                                   0                                  1   \n1                                   0                                  1   \n2                                   0                                  1   \n3                                   0                                  1   \n4                                   0                                  1   \n\n   d_road_category_Highway  d_road_category_NA  d_road_category_National Road  \\\n0                        0                   0                              0   \n1                        0                   0                              0   \n2                        0                   0                              0   \n3                        0                   0                              0   \n4                        0                   0                              0   \n\n   d_road_category_Off public network  \\\n0                                   0   \n1                                   0   \n2                                   0   \n3                                   0   \n4                                   0   \n\n   d_road_category_Parking lot open to public traffic  d_road_category_other  \\\n0                                                  0                       0   \n1                                                  0                       0   \n2                                                  0                       0   \n3                                                  0                       0   \n4                                                  0                       0   \n\n   d_road_regime_NA  d_road_regime_One way  \\\n0                 0                      0   \n1                 0                      0   \n2                 0                      0   \n3                 0                      0   \n4                 0                      0   \n\n   d_road_regime_Separated carriageways  \\\n0                                     0   \n1                                     0   \n2                                     0   \n3                                     0   \n4                                     0   \n\n   d_road_regime_With variable assignment channels  \\\n0                                                0   \n1                                                0   \n2                                                0   \n3                                                0   \n4                                                0   \n\n   d_reserved_lane_Cycle Bank  d_reserved_lane_NA  \\\n0                           0                   1   \n1                           0                   1   \n2                           0                   1   \n3                           0                   1   \n4                           0                   1   \n\n   d_reserved_lane_Reserved channel  d_road_gradient_Hill bottom  \\\n0                                 0                            0   \n1                                 0                            0   \n2                                 0                            0   \n3                                 0                            0   \n4                                 0                            0   \n\n   d_road_gradient_Hilltop  d_road_gradient_NA  d_road_gradient_Slope  \\\n0                        0                   0                      0   \n1                        0                   0                      0   \n2                        0                   0                      0   \n3                        0                   0                      0   \n4                        0                   0                      0   \n\n   d_road_plan_Curved right  d_road_plan_In \"S\"  d_road_plan_NA  \\\n0                         0                   0               0   \n1                         0                   0               0   \n2                         0                   0               0   \n3                         0                   0               0   \n4                         0                   0               0   \n\n   d_road_plan_Straight part  d_road_condition_fat - oil  \\\n0                          1                           0   \n1                          1                           0   \n2                          1                           0   \n3                          1                           0   \n4                          1                           0   \n\n   d_road_condition_flooded  d_road_condition_icy  d_road_condition_mud  \\\n0                         0                     0                     0   \n1                         0                     0                     0   \n2                         0                     0                     0   \n3                         0                     0                     0   \n4                         0                     0                     0   \n\n   d_road_condition_normal  d_road_condition_other  d_road_condition_puddles  \\\n0                        1                       0                         0   \n1                        1                       0                         0   \n2                        1                       0                         0   \n3                        1                       0                         0   \n4                        1                       0                         0   \n\n   d_road_condition_snow  d_road_condition_wet  \\\n0                      0                     0   \n1                      0                     0   \n2                      0                     0   \n3                      0                     0   \n4                      0                     0   \n\n   d_infrastructure_Carrefour arranged  \\\n0                                    0   \n1                                    0   \n2                                    0   \n3                                    0   \n4                                    0   \n\n   d_infrastructure_Exchanger or connection brace  d_infrastructure_NA  \\\n0                                               0                    1   \n1                                               0                    1   \n2                                               0                    1   \n3                                               0                    1   \n4                                               0                    1   \n\n   d_infrastructure_Pedestrian area  d_infrastructure_Railway  \\\n0                                 0                         0   \n1                                 0                         0   \n2                                 0                         0   \n3                                 0                         0   \n4                                 0                         0   \n\n   d_infrastructure_Toll zone  d_infrastructure_Underground - tunnel  \\\n0                           0                                      0   \n1                           0                                      0   \n2                           0                                      0   \n3                           0                                      0   \n4                           0                                      0   \n\n   d_accident_situation_On bike path  \\\n0                                  0   \n1                                  0   \n2                                  0   \n3                                  0   \n4                                  0   \n\n   d_accident_situation_On emergency stop band  \\\n0                                            0   \n1                                            0   \n2                                            0   \n3                                            0   \n4                                            0   \n\n   d_accident_situation_On the road  d_accident_situation_On the sidewalk  \\\n0                                 1                                     0   \n1                                 1                                     0   \n2                                 1                                     0   \n3                                 1                                     0   \n4                                 1                                     0   \n\n   d_accident_situation_On the verge  d_place_in_car_1  d_place_in_car_2  \\\n0                                  0                 1                 0   \n1                                  0                 1                 0   \n2                                  0                 0                 1   \n3                                  0                 0                 0   \n4                                  0                 0                 0   \n\n   d_place_in_car_3  d_place_in_car_4  d_place_in_car_5  d_place_in_car_6  \\\n0                 0                 0                 0                 0   \n1                 0                 0                 0                 0   \n2                 0                 0                 0                 0   \n3                 0                 1                 0                 0   \n4                 0                 0                 1                 0   \n\n   d_place_in_car_7  d_place_in_car_8  d_place_in_car_9  d_place_in_car_NA  \\\n0                 0                 0                 0                  0   \n1                 0                 0                 0                  0   \n2                 0                 0                 0                  0   \n3                 0                 0                 0                  0   \n4                 0                 0                 0                  0   \n\n   d_user_type_Passenger  d_user_type_Pedestrian  \\\n0                      0                       0   \n1                      0                       0   \n2                      1                       0   \n3                      1                       0   \n4                      1                       0   \n\n   d_user_type_Pedestrian in rollerblade or scooter  d_sex_Male  \\\n0                                                 0           1   \n1                                                 0           0   \n2                                                 0           1   \n3                                                 0           1   \n4                                                 0           1   \n\n   d_equipment_used_no  d_equipment_used_yes  d_pedestrian_action_Masked  \\\n0                    0                     1                           0   \n1                    0                     1                           0   \n2                    0                     1                           0   \n3                    0                     1                           0   \n4                    0                     1                           0   \n\n   d_pedestrian_action_Meaning bumping vehicle  d_pedestrian_action_NA  \\\n0                                            0                       0   \n1                                            0                       0   \n2                                            0                       0   \n3                                            0                       0   \n4                                            0                       0   \n\n   d_pedestrian_action_Opposite direction of the vehicle  \\\n0                                                  0       \n1                                                  0       \n2                                                  0       \n3                                                  0       \n4                                                  0       \n\n   d_pedestrian_action_Other  d_pedestrian_action_Playing - running  \\\n0                          0                                      0   \n1                          0                                      0   \n2                          0                                      0   \n3                          0                                      0   \n4                          0                                      0   \n\n   d_pedestrian_action_With animal  \\\n0                                0   \n1                                0   \n2                                0   \n3                                0   \n4                                0   \n\n   d_pedestrian_action_not specified or not applicable  \\\n0                                                  1     \n1                                                  1     \n2                                                  1     \n3                                                  1     \n4                                                  1     \n\n   d_pedestrian_alone_In a group  d_pedestrian_alone_NA  \\\n0                              0                      1   \n1                              0                      1   \n2                              0                      1   \n3                              0                      1   \n4                              0                      1   \n\n   d_pedestrian_alone_Only  \n0                        0  \n1                        0  \n2                        0  \n3                        0  \n4                        0  ",
      "text/html": "<div>\n<style scoped>\n    .dataframe tbody tr th:only-of-type {\n        vertical-align: middle;\n    }\n\n    .dataframe tbody tr th {\n        vertical-align: top;\n    }\n\n    .dataframe thead th {\n        text-align: right;\n    }\n</style>\n<table border=\"1\" class=\"dataframe\">\n  <thead>\n    <tr style=\"text-align: right;\">\n      <th></th>\n      <th>d_lighting_Night with public lighting not lit</th>\n      <th>d_lighting_Night with public lighting on</th>\n      <th>d_lighting_Night without public lighting</th>\n      <th>d_lighting_Twilight or dawn</th>\n      <th>d_localization_Out of agglomeration</th>\n      <th>d_intersection_type_Intersection in T</th>\n      <th>d_intersection_type_Intersection in X</th>\n      <th>d_intersection_type_Intersection in Y</th>\n      <th>d_intersection_type_Intersection with more than 4 branches</th>\n      <th>d_intersection_type_Level crossing</th>\n      <th>d_intersection_type_NA</th>\n      <th>d_intersection_type_Other intersection</th>\n      <th>d_intersection_type_Out of intersection</th>\n      <th>d_intersection_type_Place</th>\n      <th>d_weather_Dazzling weather</th>\n      <th>d_weather_Fog - smoke</th>\n      <th>d_weather_Heavy rain</th>\n      <th>d_weather_Light rain</th>\n      <th>d_weather_NA</th>\n      <th>d_weather_Normal</th>\n      <th>d_weather_Other</th>\n      <th>d_weather_Snow - hail</th>\n      <th>d_weather_Strong wind - storm</th>\n      <th>d_collision_type_Other collision</th>\n      <th>d_collision_type_Three or more vehicles - multiple collisions</th>\n      <th>d_collision_type_Three vehicles and more - in chain</th>\n      <th>d_collision_type_Two vehicles - by the side</th>\n      <th>d_collision_type_Two vehicles - from the rear</th>\n      <th>d_collision_type_Two vehicles - frontal</th>\n      <th>d_collision_type_Without collision</th>\n      <th>d_road_category_Departmental Road</th>\n      <th>d_road_category_Highway</th>\n      <th>d_road_category_NA</th>\n      <th>d_road_category_National Road</th>\n      <th>d_road_category_Off public network</th>\n      <th>d_road_category_Parking lot open to public traffic</th>\n      <th>d_road_category_other</th>\n      <th>d_road_regime_NA</th>\n      <th>d_road_regime_One way</th>\n      <th>d_road_regime_Separated carriageways</th>\n      <th>d_road_regime_With variable assignment channels</th>\n      <th>d_reserved_lane_Cycle Bank</th>\n      <th>d_reserved_lane_NA</th>\n      <th>d_reserved_lane_Reserved channel</th>\n      <th>d_road_gradient_Hill bottom</th>\n      <th>d_road_gradient_Hilltop</th>\n      <th>d_road_gradient_NA</th>\n      <th>d_road_gradient_Slope</th>\n      <th>d_road_plan_Curved right</th>\n      <th>d_road_plan_In \"S\"</th>\n      <th>d_road_plan_NA</th>\n      <th>d_road_plan_Straight part</th>\n      <th>d_road_condition_fat - oil</th>\n      <th>d_road_condition_flooded</th>\n      <th>d_road_condition_icy</th>\n      <th>d_road_condition_mud</th>\n      <th>d_road_condition_normal</th>\n      <th>d_road_condition_other</th>\n      <th>d_road_condition_puddles</th>\n      <th>d_road_condition_snow</th>\n      <th>d_road_condition_wet</th>\n      <th>d_infrastructure_Carrefour arranged</th>\n      <th>d_infrastructure_Exchanger or connection brace</th>\n      <th>d_infrastructure_NA</th>\n      <th>d_infrastructure_Pedestrian area</th>\n      <th>d_infrastructure_Railway</th>\n      <th>d_infrastructure_Toll zone</th>\n      <th>d_infrastructure_Underground - tunnel</th>\n      <th>d_accident_situation_On bike path</th>\n      <th>d_accident_situation_On emergency stop band</th>\n      <th>d_accident_situation_On the road</th>\n      <th>d_accident_situation_On the sidewalk</th>\n      <th>d_accident_situation_On the verge</th>\n      <th>d_place_in_car_1</th>\n      <th>d_place_in_car_2</th>\n      <th>d_place_in_car_3</th>\n      <th>d_place_in_car_4</th>\n      <th>d_place_in_car_5</th>\n      <th>d_place_in_car_6</th>\n      <th>d_place_in_car_7</th>\n      <th>d_place_in_car_8</th>\n      <th>d_place_in_car_9</th>\n      <th>d_place_in_car_NA</th>\n      <th>d_user_type_Passenger</th>\n      <th>d_user_type_Pedestrian</th>\n      <th>d_user_type_Pedestrian in rollerblade or scooter</th>\n      <th>d_sex_Male</th>\n      <th>d_equipment_used_no</th>\n      <th>d_equipment_used_yes</th>\n      <th>d_pedestrian_action_Masked</th>\n      <th>d_pedestrian_action_Meaning bumping vehicle</th>\n      <th>d_pedestrian_action_NA</th>\n      <th>d_pedestrian_action_Opposite direction of the vehicle</th>\n      <th>d_pedestrian_action_Other</th>\n      <th>d_pedestrian_action_Playing - running</th>\n      <th>d_pedestrian_action_With animal</th>\n      <th>d_pedestrian_action_not specified or not applicable</th>\n      <th>d_pedestrian_alone_In a group</th>\n      <th>d_pedestrian_alone_NA</th>\n      <th>d_pedestrian_alone_Only</th>\n    </tr>\n  </thead>\n  <tbody>\n    <tr>\n      <th>0</th>\n      <td>0</td>\n      <td>0</td>\n      <td>1</td>\n      <td>0</td>\n      <td>0</td>\n      <td>0</td>\n      <td>0</td>\n      <td>0</td>\n      <td>0</td>\n      <td>0</td>\n      <td>0</td>\n      <td>0</td>\n      <td>1</td>\n      <td>0</td>\n      <td>0</td>\n      <td>0</td>\n      <td>0</td>\n      <td>0</td>\n      <td>0</td>\n      <td>1</td>\n      <td>0</td>\n      <td>0</td>\n      <td>0</td>\n      <td>0</td>\n      <td>0</td>\n      <td>0</td>\n      <td>1</td>\n      <td>0</td>\n      <td>0</td>\n      <td>0</td>\n      <td>1</td>\n      <td>0</td>\n      <td>0</td>\n      <td>0</td>\n      <td>0</td>\n      <td>0</td>\n      <td>0</td>\n      <td>0</td>\n      <td>0</td>\n      <td>0</td>\n      <td>0</td>\n      <td>0</td>\n      <td>1</td>\n      <td>0</td>\n      <td>0</td>\n      <td>0</td>\n      <td>0</td>\n      <td>0</td>\n      <td>0</td>\n      <td>0</td>\n      <td>0</td>\n      <td>1</td>\n      <td>0</td>\n      <td>0</td>\n      <td>0</td>\n      <td>0</td>\n      <td>1</td>\n      <td>0</td>\n      <td>0</td>\n      <td>0</td>\n      <td>0</td>\n      <td>0</td>\n      <td>0</td>\n      <td>1</td>\n      <td>0</td>\n      <td>0</td>\n      <td>0</td>\n      <td>0</td>\n      <td>0</td>\n      <td>0</td>\n      <td>1</td>\n      <td>0</td>\n      <td>0</td>\n      <td>1</td>\n      <td>0</td>\n      <td>0</td>\n      <td>0</td>\n      <td>0</td>\n      <td>0</td>\n      <td>0</td>\n      <td>0</td>\n      <td>0</td>\n      <td>0</td>\n      <td>0</td>\n      <td>0</td>\n      <td>0</td>\n      <td>1</td>\n      <td>0</td>\n      <td>1</td>\n      <td>0</td>\n      <td>0</td>\n      <td>0</td>\n      <td>0</td>\n      <td>0</td>\n      <td>0</td>\n      <td>0</td>\n      <td>1</td>\n      <td>0</td>\n      <td>1</td>\n      <td>0</td>\n    </tr>\n    <tr>\n      <th>1</th>\n      <td>0</td>\n      <td>0</td>\n      <td>1</td>\n      <td>0</td>\n      <td>0</td>\n      <td>0</td>\n      <td>0</td>\n      <td>0</td>\n      <td>0</td>\n      <td>0</td>\n      <td>0</td>\n      <td>0</td>\n      <td>1</td>\n      <td>0</td>\n      <td>0</td>\n      <td>0</td>\n      <td>0</td>\n      <td>0</td>\n      <td>0</td>\n      <td>1</td>\n      <td>0</td>\n      <td>0</td>\n      <td>0</td>\n      <td>0</td>\n      <td>0</td>\n      <td>0</td>\n      <td>1</td>\n      <td>0</td>\n      <td>0</td>\n      <td>0</td>\n      <td>1</td>\n      <td>0</td>\n      <td>0</td>\n      <td>0</td>\n      <td>0</td>\n      <td>0</td>\n      <td>0</td>\n      <td>0</td>\n      <td>0</td>\n      <td>0</td>\n      <td>0</td>\n      <td>0</td>\n      <td>1</td>\n      <td>0</td>\n      <td>0</td>\n      <td>0</td>\n      <td>0</td>\n      <td>0</td>\n      <td>0</td>\n      <td>0</td>\n      <td>0</td>\n      <td>1</td>\n      <td>0</td>\n      <td>0</td>\n      <td>0</td>\n      <td>0</td>\n      <td>1</td>\n      <td>0</td>\n      <td>0</td>\n      <td>0</td>\n      <td>0</td>\n      <td>0</td>\n      <td>0</td>\n      <td>1</td>\n      <td>0</td>\n      <td>0</td>\n      <td>0</td>\n      <td>0</td>\n      <td>0</td>\n      <td>0</td>\n      <td>1</td>\n      <td>0</td>\n      <td>0</td>\n      <td>1</td>\n      <td>0</td>\n      <td>0</td>\n      <td>0</td>\n      <td>0</td>\n      <td>0</td>\n      <td>0</td>\n      <td>0</td>\n      <td>0</td>\n      <td>0</td>\n      <td>0</td>\n      <td>0</td>\n      <td>0</td>\n      <td>0</td>\n      <td>0</td>\n      <td>1</td>\n      <td>0</td>\n      <td>0</td>\n      <td>0</td>\n      <td>0</td>\n      <td>0</td>\n      <td>0</td>\n      <td>0</td>\n      <td>1</td>\n      <td>0</td>\n      <td>1</td>\n      <td>0</td>\n    </tr>\n    <tr>\n      <th>2</th>\n      <td>0</td>\n      <td>0</td>\n      <td>1</td>\n      <td>0</td>\n      <td>0</td>\n      <td>0</td>\n      <td>0</td>\n      <td>0</td>\n      <td>0</td>\n      <td>0</td>\n      <td>0</td>\n      <td>0</td>\n      <td>1</td>\n      <td>0</td>\n      <td>0</td>\n      <td>0</td>\n      <td>0</td>\n      <td>0</td>\n      <td>0</td>\n      <td>1</td>\n      <td>0</td>\n      <td>0</td>\n      <td>0</td>\n      <td>0</td>\n      <td>0</td>\n      <td>0</td>\n      <td>1</td>\n      <td>0</td>\n      <td>0</td>\n      <td>0</td>\n      <td>1</td>\n      <td>0</td>\n      <td>0</td>\n      <td>0</td>\n      <td>0</td>\n      <td>0</td>\n      <td>0</td>\n      <td>0</td>\n      <td>0</td>\n      <td>0</td>\n      <td>0</td>\n      <td>0</td>\n      <td>1</td>\n      <td>0</td>\n      <td>0</td>\n      <td>0</td>\n      <td>0</td>\n      <td>0</td>\n      <td>0</td>\n      <td>0</td>\n      <td>0</td>\n      <td>1</td>\n      <td>0</td>\n      <td>0</td>\n      <td>0</td>\n      <td>0</td>\n      <td>1</td>\n      <td>0</td>\n      <td>0</td>\n      <td>0</td>\n      <td>0</td>\n      <td>0</td>\n      <td>0</td>\n      <td>1</td>\n      <td>0</td>\n      <td>0</td>\n      <td>0</td>\n      <td>0</td>\n      <td>0</td>\n      <td>0</td>\n      <td>1</td>\n      <td>0</td>\n      <td>0</td>\n      <td>0</td>\n      <td>1</td>\n      <td>0</td>\n      <td>0</td>\n      <td>0</td>\n      <td>0</td>\n      <td>0</td>\n      <td>0</td>\n      <td>0</td>\n      <td>0</td>\n      <td>1</td>\n      <td>0</td>\n      <td>0</td>\n      <td>1</td>\n      <td>0</td>\n      <td>1</td>\n      <td>0</td>\n      <td>0</td>\n      <td>0</td>\n      <td>0</td>\n      <td>0</td>\n      <td>0</td>\n      <td>0</td>\n      <td>1</td>\n      <td>0</td>\n      <td>1</td>\n      <td>0</td>\n    </tr>\n    <tr>\n      <th>3</th>\n      <td>0</td>\n      <td>0</td>\n      <td>1</td>\n      <td>0</td>\n      <td>0</td>\n      <td>0</td>\n      <td>0</td>\n      <td>0</td>\n      <td>0</td>\n      <td>0</td>\n      <td>0</td>\n      <td>0</td>\n      <td>1</td>\n      <td>0</td>\n      <td>0</td>\n      <td>0</td>\n      <td>0</td>\n      <td>0</td>\n      <td>0</td>\n      <td>1</td>\n      <td>0</td>\n      <td>0</td>\n      <td>0</td>\n      <td>0</td>\n      <td>0</td>\n      <td>0</td>\n      <td>1</td>\n      <td>0</td>\n      <td>0</td>\n      <td>0</td>\n      <td>1</td>\n      <td>0</td>\n      <td>0</td>\n      <td>0</td>\n      <td>0</td>\n      <td>0</td>\n      <td>0</td>\n      <td>0</td>\n      <td>0</td>\n      <td>0</td>\n      <td>0</td>\n      <td>0</td>\n      <td>1</td>\n      <td>0</td>\n      <td>0</td>\n      <td>0</td>\n      <td>0</td>\n      <td>0</td>\n      <td>0</td>\n      <td>0</td>\n      <td>0</td>\n      <td>1</td>\n      <td>0</td>\n      <td>0</td>\n      <td>0</td>\n      <td>0</td>\n      <td>1</td>\n      <td>0</td>\n      <td>0</td>\n      <td>0</td>\n      <td>0</td>\n      <td>0</td>\n      <td>0</td>\n      <td>1</td>\n      <td>0</td>\n      <td>0</td>\n      <td>0</td>\n      <td>0</td>\n      <td>0</td>\n      <td>0</td>\n      <td>1</td>\n      <td>0</td>\n      <td>0</td>\n      <td>0</td>\n      <td>0</td>\n      <td>0</td>\n      <td>1</td>\n      <td>0</td>\n      <td>0</td>\n      <td>0</td>\n      <td>0</td>\n      <td>0</td>\n      <td>0</td>\n      <td>1</td>\n      <td>0</td>\n      <td>0</td>\n      <td>1</td>\n      <td>0</td>\n      <td>1</td>\n      <td>0</td>\n      <td>0</td>\n      <td>0</td>\n      <td>0</td>\n      <td>0</td>\n      <td>0</td>\n      <td>0</td>\n      <td>1</td>\n      <td>0</td>\n      <td>1</td>\n      <td>0</td>\n    </tr>\n    <tr>\n      <th>4</th>\n      <td>0</td>\n      <td>0</td>\n      <td>1</td>\n      <td>0</td>\n      <td>0</td>\n      <td>0</td>\n      <td>0</td>\n      <td>0</td>\n      <td>0</td>\n      <td>0</td>\n      <td>0</td>\n      <td>0</td>\n      <td>1</td>\n      <td>0</td>\n      <td>0</td>\n      <td>0</td>\n      <td>0</td>\n      <td>0</td>\n      <td>0</td>\n      <td>1</td>\n      <td>0</td>\n      <td>0</td>\n      <td>0</td>\n      <td>0</td>\n      <td>0</td>\n      <td>0</td>\n      <td>1</td>\n      <td>0</td>\n      <td>0</td>\n      <td>0</td>\n      <td>1</td>\n      <td>0</td>\n      <td>0</td>\n      <td>0</td>\n      <td>0</td>\n      <td>0</td>\n      <td>0</td>\n      <td>0</td>\n      <td>0</td>\n      <td>0</td>\n      <td>0</td>\n      <td>0</td>\n      <td>1</td>\n      <td>0</td>\n      <td>0</td>\n      <td>0</td>\n      <td>0</td>\n      <td>0</td>\n      <td>0</td>\n      <td>0</td>\n      <td>0</td>\n      <td>1</td>\n      <td>0</td>\n      <td>0</td>\n      <td>0</td>\n      <td>0</td>\n      <td>1</td>\n      <td>0</td>\n      <td>0</td>\n      <td>0</td>\n      <td>0</td>\n      <td>0</td>\n      <td>0</td>\n      <td>1</td>\n      <td>0</td>\n      <td>0</td>\n      <td>0</td>\n      <td>0</td>\n      <td>0</td>\n      <td>0</td>\n      <td>1</td>\n      <td>0</td>\n      <td>0</td>\n      <td>0</td>\n      <td>0</td>\n      <td>0</td>\n      <td>0</td>\n      <td>1</td>\n      <td>0</td>\n      <td>0</td>\n      <td>0</td>\n      <td>0</td>\n      <td>0</td>\n      <td>1</td>\n      <td>0</td>\n      <td>0</td>\n      <td>1</td>\n      <td>0</td>\n      <td>1</td>\n      <td>0</td>\n      <td>0</td>\n      <td>0</td>\n      <td>0</td>\n      <td>0</td>\n      <td>0</td>\n      <td>0</td>\n      <td>1</td>\n      <td>0</td>\n      <td>1</td>\n      <td>0</td>\n    </tr>\n  </tbody>\n</table>\n</div>"
     },
     "metadata": {},
     "execution_count": 12
    }
   ],
   "source": [
    "df_cat_out.head()"
   ]
  },
  {
   "cell_type": "code",
   "execution_count": 13,
   "metadata": {},
   "outputs": [
    {
     "output_type": "execute_result",
     "data": {
      "text/plain": "(1876005, 100)"
     },
     "metadata": {},
     "execution_count": 13
    }
   ],
   "source": [
    "df_cat_out.shape"
   ]
  },
  {
   "cell_type": "markdown",
   "metadata": {},
   "source": [
    "### Numeric columns "
   ]
  },
  {
   "cell_type": "code",
   "execution_count": 14,
   "metadata": {},
   "outputs": [],
   "source": [
    "cols_num = [\n",
    " 'year',\n",
    " 'month',\n",
    " 'hour',\n",
    " 'year_of_birth'\n",
    "]"
   ]
  },
  {
   "cell_type": "code",
   "execution_count": 15,
   "metadata": {},
   "outputs": [
    {
     "output_type": "execute_result",
     "data": {
      "text/plain": "     year  month  hour  year_of_birth\n0  2005.0    1.0  19.0         1976.0\n1  2005.0    1.0  19.0         1968.0\n2  2005.0    1.0  19.0         1964.0\n3  2005.0    1.0  19.0         2004.0\n4  2005.0    1.0  19.0         1998.0",
      "text/html": "<div>\n<style scoped>\n    .dataframe tbody tr th:only-of-type {\n        vertical-align: middle;\n    }\n\n    .dataframe tbody tr th {\n        vertical-align: top;\n    }\n\n    .dataframe thead th {\n        text-align: right;\n    }\n</style>\n<table border=\"1\" class=\"dataframe\">\n  <thead>\n    <tr style=\"text-align: right;\">\n      <th></th>\n      <th>year</th>\n      <th>month</th>\n      <th>hour</th>\n      <th>year_of_birth</th>\n    </tr>\n  </thead>\n  <tbody>\n    <tr>\n      <th>0</th>\n      <td>2005.0</td>\n      <td>1.0</td>\n      <td>19.0</td>\n      <td>1976.0</td>\n    </tr>\n    <tr>\n      <th>1</th>\n      <td>2005.0</td>\n      <td>1.0</td>\n      <td>19.0</td>\n      <td>1968.0</td>\n    </tr>\n    <tr>\n      <th>2</th>\n      <td>2005.0</td>\n      <td>1.0</td>\n      <td>19.0</td>\n      <td>1964.0</td>\n    </tr>\n    <tr>\n      <th>3</th>\n      <td>2005.0</td>\n      <td>1.0</td>\n      <td>19.0</td>\n      <td>2004.0</td>\n    </tr>\n    <tr>\n      <th>4</th>\n      <td>2005.0</td>\n      <td>1.0</td>\n      <td>19.0</td>\n      <td>1998.0</td>\n    </tr>\n  </tbody>\n</table>\n</div>"
     },
     "metadata": {},
     "execution_count": 15
    }
   ],
   "source": [
    "df_num = master_table[cols_num]\n",
    "df_num.head()"
   ]
  },
  {
   "cell_type": "code",
   "execution_count": 17,
   "metadata": {},
   "outputs": [
    {
     "output_type": "execute_result",
     "data": {
      "text/plain": "year             0.016829\nmonth            0.016829\nhour             0.016829\nyear_of_birth    0.001253\ndtype: float64"
     },
     "metadata": {},
     "execution_count": 17
    }
   ],
   "source": [
    "df_num.isna().mean()"
   ]
  },
  {
   "cell_type": "markdown",
   "metadata": {},
   "source": [
    "Imputing median"
   ]
  },
  {
   "cell_type": "code",
   "execution_count": 18,
   "metadata": {},
   "outputs": [
    {
     "output_type": "execute_result",
     "data": {
      "text/plain": "     year  month  hour  year_of_birth\n0  2005.0    1.0  19.0         1976.0\n1  2005.0    1.0  19.0         1968.0\n2  2005.0    1.0  19.0         1964.0\n3  2005.0    1.0  19.0         2004.0\n4  2005.0    1.0  19.0         1998.0",
      "text/html": "<div>\n<style scoped>\n    .dataframe tbody tr th:only-of-type {\n        vertical-align: middle;\n    }\n\n    .dataframe tbody tr th {\n        vertical-align: top;\n    }\n\n    .dataframe thead th {\n        text-align: right;\n    }\n</style>\n<table border=\"1\" class=\"dataframe\">\n  <thead>\n    <tr style=\"text-align: right;\">\n      <th></th>\n      <th>year</th>\n      <th>month</th>\n      <th>hour</th>\n      <th>year_of_birth</th>\n    </tr>\n  </thead>\n  <tbody>\n    <tr>\n      <th>0</th>\n      <td>2005.0</td>\n      <td>1.0</td>\n      <td>19.0</td>\n      <td>1976.0</td>\n    </tr>\n    <tr>\n      <th>1</th>\n      <td>2005.0</td>\n      <td>1.0</td>\n      <td>19.0</td>\n      <td>1968.0</td>\n    </tr>\n    <tr>\n      <th>2</th>\n      <td>2005.0</td>\n      <td>1.0</td>\n      <td>19.0</td>\n      <td>1964.0</td>\n    </tr>\n    <tr>\n      <th>3</th>\n      <td>2005.0</td>\n      <td>1.0</td>\n      <td>19.0</td>\n      <td>2004.0</td>\n    </tr>\n    <tr>\n      <th>4</th>\n      <td>2005.0</td>\n      <td>1.0</td>\n      <td>19.0</td>\n      <td>1998.0</td>\n    </tr>\n  </tbody>\n</table>\n</div>"
     },
     "metadata": {},
     "execution_count": 18
    }
   ],
   "source": [
    "si = SimpleImputer(missing_values=np.nan, strategy='median', add_indicator=False)\n",
    "temp = si.fit_transform(df_num)\n",
    "df_num2 = pd.DataFrame(temp, columns = df_num.columns)\n",
    "df_num2.head()"
   ]
  },
  {
   "cell_type": "markdown",
   "metadata": {},
   "source": [
    "Basic feature engineering - age at the time of accident"
   ]
  },
  {
   "cell_type": "code",
   "execution_count": 19,
   "metadata": {},
   "outputs": [],
   "source": [
    "df_num2['user_age'] = df_num2['year'] - df_num2['year_of_birth']\n",
    "df_num3 = df_num2.drop(['year_of_birth'], axis =1 )"
   ]
  },
  {
   "cell_type": "code",
   "execution_count": 20,
   "metadata": {},
   "outputs": [],
   "source": [
    "df_num_out = df_num3.copy()"
   ]
  },
  {
   "cell_type": "code",
   "execution_count": 21,
   "metadata": {},
   "outputs": [
    {
     "output_type": "execute_result",
     "data": {
      "text/plain": "     year  month  hour  user_age\n0  2005.0    1.0  19.0      29.0\n1  2005.0    1.0  19.0      37.0\n2  2005.0    1.0  19.0      41.0\n3  2005.0    1.0  19.0       1.0\n4  2005.0    1.0  19.0       7.0",
      "text/html": "<div>\n<style scoped>\n    .dataframe tbody tr th:only-of-type {\n        vertical-align: middle;\n    }\n\n    .dataframe tbody tr th {\n        vertical-align: top;\n    }\n\n    .dataframe thead th {\n        text-align: right;\n    }\n</style>\n<table border=\"1\" class=\"dataframe\">\n  <thead>\n    <tr style=\"text-align: right;\">\n      <th></th>\n      <th>year</th>\n      <th>month</th>\n      <th>hour</th>\n      <th>user_age</th>\n    </tr>\n  </thead>\n  <tbody>\n    <tr>\n      <th>0</th>\n      <td>2005.0</td>\n      <td>1.0</td>\n      <td>19.0</td>\n      <td>29.0</td>\n    </tr>\n    <tr>\n      <th>1</th>\n      <td>2005.0</td>\n      <td>1.0</td>\n      <td>19.0</td>\n      <td>37.0</td>\n    </tr>\n    <tr>\n      <th>2</th>\n      <td>2005.0</td>\n      <td>1.0</td>\n      <td>19.0</td>\n      <td>41.0</td>\n    </tr>\n    <tr>\n      <th>3</th>\n      <td>2005.0</td>\n      <td>1.0</td>\n      <td>19.0</td>\n      <td>1.0</td>\n    </tr>\n    <tr>\n      <th>4</th>\n      <td>2005.0</td>\n      <td>1.0</td>\n      <td>19.0</td>\n      <td>7.0</td>\n    </tr>\n  </tbody>\n</table>\n</div>"
     },
     "metadata": {},
     "execution_count": 21
    }
   ],
   "source": [
    "df_num_out.head()"
   ]
  },
  {
   "cell_type": "markdown",
   "metadata": {},
   "source": [
    "### Merging categorical and numeric columns"
   ]
  },
  {
   "cell_type": "code",
   "execution_count": 22,
   "metadata": {},
   "outputs": [],
   "source": [
    "df_out = df_cat_out.join(df_num_out)"
   ]
  },
  {
   "cell_type": "code",
   "execution_count": 23,
   "metadata": {},
   "outputs": [],
   "source": [
    "df_out['y'] = master_table.y"
   ]
  },
  {
   "cell_type": "code",
   "execution_count": 24,
   "metadata": {},
   "outputs": [
    {
     "output_type": "execute_result",
     "data": {
      "text/plain": "                                           0   \n1                                              0   \n2                                              0   \n3                                              0   \n4                                              0   \n\n   d_lighting_Night with public lighting on  \\\n0                                         0   \n1                                         0   \n2                                         0   \n3                                         0   \n4                                         0   \n\n   d_lighting_Night without public lighting  d_lighting_Twilight or dawn  \\\n0                                         1                            0   \n1                                         1                            0   \n2                                         1                            0   \n3                                         1                            0   \n4                                         1                            0   \n\n   d_localization_Out of agglomeration  d_intersection_type_Intersection in T  \\\n0                                    0                                      0   \n1                                    0                                      0   \n2                                    0                                      0   \n3                                    0                                      0   \n4                                    0                                      0   \n\n   d_intersection_type_Intersection in X  \\\n0                                      0   \n1                                      0   \n2                                      0   \n3                                      0   \n4                                      0   \n\n   d_intersection_type_Intersection in Y  \\\n0                                      0   \n1                                      0   \n2                                      0   \n3                                      0   \n4                                      0   \n\n   d_intersection_type_Intersection with more than 4 branches  \\\n0                                                  0            \n1                                                  0            \n2                                                  0            \n3                                                  0            \n4                                                  0            \n\n   d_intersection_type_Level crossing  d_intersection_type_NA  \\\n0                                   0                       0   \n1                                   0                       0   \n2                                   0                       0   \n3                                   0                       0   \n4                                   0                       0   \n\n   d_intersection_type_Other intersection  \\\n0                                       0   \n1                                       0   \n2                                       0   \n3                                       0   \n4                                       0   \n\n   d_intersection_type_Out of intersection  d_intersection_type_Place  \\\n0                                        1                          0   \n1                                        1                          0   \n2                                        1                          0   \n3                                        1                          0   \n4                                        1                          0   \n\n   d_weather_Dazzling weather  d_weather_Fog - smoke  d_weather_Heavy rain  \\\n0                           0                      0                     0   \n1                           0                      0                     0   \n2                           0                      0                     0   \n3                           0                      0                     0   \n4                           0                      0                     0   \n\n   d_weather_Light rain  d_weather_NA  d_weather_Normal  d_weather_Other  \\\n0                     0             0                 1                0   \n1                     0             0                 1                0   \n2                     0             0                 1                0   \n3                     0             0                 1                0   \n4                     0             0                 1                0   \n\n   d_weather_Snow - hail  d_weather_Strong wind - storm  \\\n0                      0                              0   \n1                      0                              0   \n2                      0                              0   \n3                      0                              0   \n4                      0                              0   \n\n   d_collision_type_Other collision  \\\n0                                 0   \n1                                 0   \n2                                 0   \n3                                 0   \n4                                 0   \n\n   d_collision_type_Three or more vehicles - multiple collisions  \\\n0                                                  0               \n1                                                  0               \n2                                                  0               \n3                                                  0               \n4                                                  0               \n\n   d_collision_type_Three vehicles and more - in chain  \\\n0                                                  0     \n1                                                  0     \n2                                                  0     \n3                                                  0     \n4                                                  0     \n\n   d_collision_type_Two vehicles - by the side  \\\n0                                            1   \n1                                            1   \n2                                            1   \n3                                            1   \n4                                            1   \n\n   d_collision_type_Two vehicles - from the rear  \\\n0                                              0   \n1                                              0   \n2                                              0   \n3                                              0   \n4                                              0   \n\n   d_collision_type_Two vehicles - frontal  \\\n0                                        0   \n1                                        0   \n2                                        0   \n3                                        0   \n4                                        0   \n\n   d_collision_type_Without collision  d_road_category_Departmental Road  \\\n0                                   0                                  1   \n1                                   0                                  1   \n2                                   0                                  1   \n3                                   0                                  1   \n4                                   0                                  1   \n\n   d_road_category_Highway  d_road_category_NA  d_road_category_National Road  \\\n0                        0                   0                              0   \n1                        0                   0                              0   \n2                        0                   0                              0   \n3                        0                   0                              0   \n4                        0                   0                              0   \n\n   d_road_category_Off public network  \\\n0                                   0   \n1                                   0   \n2                                   0   \n3                                   0   \n4                                   0   \n\n   d_road_category_Parking lot open to public traffic  d_road_category_other  \\\n0                                                  0                       0   \n1                                                  0                       0   \n2                                                  0                       0   \n3                                                  0                       0   \n4                                                  0                       0   \n\n   d_road_regime_NA  d_road_regime_One way  \\\n0                 0                      0   \n1                 0                      0   \n2                 0                      0   \n3                 0                      0   \n4                 0                      0   \n\n   d_road_regime_Separated carriageways  \\\n0                                     0   \n1                                     0   \n2                                     0   \n3                                     0   \n4                                     0   \n\n   d_road_regime_With variable assignment channels  \\\n0                                                0   \n1                                                0   \n2                                                0   \n3                                                0   \n4                                                0   \n\n   d_reserved_lane_Cycle Bank  d_reserved_lane_NA  \\\n0                           0                   1   \n1                           0                   1   \n2                           0                   1   \n3                           0                   1   \n4                           0                   1   \n\n   d_reserved_lane_Reserved channel  d_road_gradient_Hill bottom  \\\n0                                 0                            0   \n1                                 0                            0   \n2                                 0                            0   \n3                                 0                            0   \n4                                 0                            0   \n\n   d_road_gradient_Hilltop  d_road_gradient_NA  d_road_gradient_Slope  \\\n0                        0                   0                      0   \n1                        0                   0                      0   \n2                        0                   0                      0   \n3                        0                   0                      0   \n4                        0                   0                      0   \n\n   d_road_plan_Curved right  d_road_plan_In \"S\"  d_road_plan_NA  \\\n0                         0                   0               0   \n1                         0                   0               0   \n2                         0                   0               0   \n3                         0                   0               0   \n4                         0                   0               0   \n\n   d_road_plan_Straight part  d_road_condition_fat - oil  \\\n0                          1                           0   \n1                          1                           0   \n2                          1                           0   \n3                          1                           0   \n4                          1                           0   \n\n   d_road_condition_flooded  d_road_condition_icy  d_road_condition_mud  \\\n0                         0                     0                     0   \n1                         0                     0                     0   \n2                         0                     0                     0   \n3                         0                     0                     0   \n4                         0                     0                     0   \n\n   d_road_condition_normal  d_road_condition_other  d_road_condition_puddles  \\\n0                        1                       0                         0   \n1                        1                       0                         0   \n2                        1                       0                         0   \n3                        1                       0                         0   \n4                        1                       0                         0   \n\n   d_road_condition_snow  d_road_condition_wet  \\\n0                      0                     0   \n1                      0                     0   \n2                      0                     0   \n3                      0                     0   \n4                      0                     0   \n\n   d_infrastructure_Carrefour arranged  \\\n0                                    0   \n1                                    0   \n2                                    0   \n3                                    0   \n4                                    0   \n\n   d_infrastructure_Exchanger or connection brace  d_infrastructure_NA  \\\n0                                               0                    1   \n1                                               0                    1   \n2                                               0                    1   \n3                                               0                    1   \n4                                               0                    1   \n\n   d_infrastructure_Pedestrian area  d_infrastructure_Railway  \\\n0                                 0                         0   \n1                                 0                         0   \n2                                 0                         0   \n3                                 0                         0   \n4                                 0                         0   \n\n   d_infrastructure_Toll zone  d_infrastructure_Underground - tunnel  \\\n0                           0                                      0   \n1                           0                                      0   \n2                           0                                      0   \n3                           0                                      0   \n4                           0                                      0   \n\n   d_accident_situation_On bike path  \\\n0                                  0   \n1                                  0   \n2                                  0   \n3                                  0   \n4                                  0   \n\n   d_accident_situation_On emergency stop band  \\\n0                                            0   \n1                                            0   \n2                                            0   \n3                                            0   \n4                                            0   \n\n   d_accident_situation_On the road  d_accident_situation_On the sidewalk  \\\n0                                 1                                     0   \n1                                 1                                     0   \n2                                 1                                     0   \n3                                 1                                     0   \n4                                 1                                     0   \n\n   d_accident_situation_On the verge  d_place_in_car_1  d_place_in_car_2  \\\n0                                  0                 1                 0   \n1                                  0                 1                 0   \n2                                  0                 0                 1   \n3                                  0                 0                 0   \n4                                  0                 0                 0   \n\n   d_place_in_car_3  d_place_in_car_4  d_place_in_car_5  d_place_in_car_6  \\\n0                 0                 0                 0                 0   \n1                 0                 0                 0                 0   \n2                 0                 0                 0                 0   \n3                 0                 1                 0                 0   \n4                 0                 0                 1                 0   \n\n   d_place_in_car_7  d_place_in_car_8  d_place_in_car_9  d_place_in_car_NA  \\\n0                 0                 0                 0                  0   \n1                 0                 0                 0                  0   \n2                 0                 0                 0                  0   \n3                 0                 0                 0                  0   \n4                 0                 0                 0                  0   \n\n   d_user_type_Passenger  d_user_type_Pedestrian  \\\n0                      0                       0   \n1                      0                       0   \n2                      1                       0   \n3                      1                       0   \n4                      1                       0   \n\n   d_user_type_Pedestrian in rollerblade or scooter  d_sex_Male  \\\n0                                                 0           1   \n1                                                 0           0   \n2                                                 0           1   \n3                                                 0           1   \n4                                                 0           1   \n\n   d_equipment_used_no  d_equipment_used_yes  d_pedestrian_action_Masked  \\\n0                    0                     1                           0   \n1                    0                     1                           0   \n2                    0                     1                           0   \n3                    0                     1                           0   \n4                    0                     1                           0   \n\n   d_pedestrian_action_Meaning bumping vehicle  d_pedestrian_action_NA  \\\n0                                            0                       0   \n1                                            0                       0   \n2                                            0                       0   \n3                                            0                       0   \n4                                            0                       0   \n\n   d_pedestrian_action_Opposite direction of the vehicle  \\\n0                                                  0       \n1                                                  0       \n2                                                  0       \n3                                                  0       \n4                                                  0       \n\n   d_pedestrian_action_Other  d_pedestrian_action_Playing - running  \\\n0                          0                                      0   \n1                          0                                      0   \n2                          0                                      0   \n3                          0                                      0   \n4                          0                                      0   \n\n   d_pedestrian_action_With animal  \\\n0                                0   \n1                                0   \n2                                0   \n3                                0   \n4                                0   \n\n   d_pedestrian_action_not specified or not applicable  \\\n0                                                  1     \n1                                                  1     \n2                                                  1     \n3                                                  1     \n4                                                  1     \n\n   d_pedestrian_alone_In a group  d_pedestrian_alone_NA  \\\n0                              0                      1   \n1                              0                      1   \n2                              0                      1   \n3                              0                      1   \n4                              0                      1   \n\n   d_pedestrian_alone_Only    year  month  hour  user_age  y  \n0                        0  2005.0    1.0  19.0      29.0  0  \n1                        0  2005.0    1.0  19.0      37.0  1  \n2                        0  2005.0    1.0  19.0      41.0  0  \n3                        0  2005.0    1.0  19.0       1.0  0  \n4                        0  2005.0    1.0  19.0       7.0  0  ",
      "text/html": "<div>\n<style scoped>\n    .dataframe tbody tr th:only-of-type {\n        vertical-align: middle;\n    }\n\n    .dataframe tbody tr th {\n        vertical-align: top;\n    }\n\n    .dataframe thead th {\n        text-align: right;\n    }\n</style>\n<table border=\"1\" class=\"dataframe\">\n  <thead>\n    <tr style=\"text-align: right;\">\n      <th></th>\n      <th>d_lighting_Night with public lighting not lit</th>\n      <th>d_lighting_Night with public lighting on</th>\n      <th>d_lighting_Night without public lighting</th>\n      <th>d_lighting_Twilight or dawn</th>\n      <th>d_localization_Out of agglomeration</th>\n      <th>d_intersection_type_Intersection in T</th>\n      <th>d_intersection_type_Intersection in X</th>\n      <th>d_intersection_type_Intersection in Y</th>\n      <th>d_intersection_type_Intersection with more than 4 branches</th>\n      <th>d_intersection_type_Level crossing</th>\n      <th>d_intersection_type_NA</th>\n      <th>d_intersection_type_Other intersection</th>\n      <th>d_intersection_type_Out of intersection</th>\n      <th>d_intersection_type_Place</th>\n      <th>d_weather_Dazzling weather</th>\n      <th>d_weather_Fog - smoke</th>\n      <th>d_weather_Heavy rain</th>\n      <th>d_weather_Light rain</th>\n      <th>d_weather_NA</th>\n      <th>d_weather_Normal</th>\n      <th>d_weather_Other</th>\n      <th>d_weather_Snow - hail</th>\n      <th>d_weather_Strong wind - storm</th>\n      <th>d_collision_type_Other collision</th>\n      <th>d_collision_type_Three or more vehicles - multiple collisions</th>\n      <th>d_collision_type_Three vehicles and more - in chain</th>\n      <th>d_collision_type_Two vehicles - by the side</th>\n      <th>d_collision_type_Two vehicles - from the rear</th>\n      <th>d_collision_type_Two vehicles - frontal</th>\n      <th>d_collision_type_Without collision</th>\n      <th>d_road_category_Departmental Road</th>\n      <th>d_road_category_Highway</th>\n      <th>d_road_category_NA</th>\n      <th>d_road_category_National Road</th>\n      <th>d_road_category_Off public network</th>\n      <th>d_road_category_Parking lot open to public traffic</th>\n      <th>d_road_category_other</th>\n      <th>d_road_regime_NA</th>\n      <th>d_road_regime_One way</th>\n      <th>d_road_regime_Separated carriageways</th>\n      <th>d_road_regime_With variable assignment channels</th>\n      <th>d_reserved_lane_Cycle Bank</th>\n      <th>d_reserved_lane_NA</th>\n      <th>d_reserved_lane_Reserved channel</th>\n      <th>d_road_gradient_Hill bottom</th>\n      <th>d_road_gradient_Hilltop</th>\n      <th>d_road_gradient_NA</th>\n      <th>d_road_gradient_Slope</th>\n      <th>d_road_plan_Curved right</th>\n      <th>d_road_plan_In \"S\"</th>\n      <th>d_road_plan_NA</th>\n      <th>d_road_plan_Straight part</th>\n      <th>d_road_condition_fat - oil</th>\n      <th>d_road_condition_flooded</th>\n      <th>d_road_condition_icy</th>\n      <th>d_road_condition_mud</th>\n      <th>d_road_condition_normal</th>\n      <th>d_road_condition_other</th>\n      <th>d_road_condition_puddles</th>\n      <th>d_road_condition_snow</th>\n      <th>d_road_condition_wet</th>\n      <th>d_infrastructure_Carrefour arranged</th>\n      <th>d_infrastructure_Exchanger or connection brace</th>\n      <th>d_infrastructure_NA</th>\n      <th>d_infrastructure_Pedestrian area</th>\n      <th>d_infrastructure_Railway</th>\n      <th>d_infrastructure_Toll zone</th>\n      <th>d_infrastructure_Underground - tunnel</th>\n      <th>d_accident_situation_On bike path</th>\n      <th>d_accident_situation_On emergency stop band</th>\n      <th>d_accident_situation_On the road</th>\n      <th>d_accident_situation_On the sidewalk</th>\n      <th>d_accident_situation_On the verge</th>\n      <th>d_place_in_car_1</th>\n      <th>d_place_in_car_2</th>\n      <th>d_place_in_car_3</th>\n      <th>d_place_in_car_4</th>\n      <th>d_place_in_car_5</th>\n      <th>d_place_in_car_6</th>\n      <th>d_place_in_car_7</th>\n      <th>d_place_in_car_8</th>\n      <th>d_place_in_car_9</th>\n      <th>d_place_in_car_NA</th>\n      <th>d_user_type_Passenger</th>\n      <th>d_user_type_Pedestrian</th>\n      <th>d_user_type_Pedestrian in rollerblade or scooter</th>\n      <th>d_sex_Male</th>\n      <th>d_equipment_used_no</th>\n      <th>d_equipment_used_yes</th>\n      <th>d_pedestrian_action_Masked</th>\n      <th>d_pedestrian_action_Meaning bumping vehicle</th>\n      <th>d_pedestrian_action_NA</th>\n      <th>d_pedestrian_action_Opposite direction of the vehicle</th>\n      <th>d_pedestrian_action_Other</th>\n      <th>d_pedestrian_action_Playing - running</th>\n      <th>d_pedestrian_action_With animal</th>\n      <th>d_pedestrian_action_not specified or not applicable</th>\n      <th>d_pedestrian_alone_In a group</th>\n      <th>d_pedestrian_alone_NA</th>\n      <th>d_pedestrian_alone_Only</th>\n      <th>year</th>\n      <th>month</th>\n      <th>hour</th>\n      <th>user_age</th>\n      <th>y</th>\n    </tr>\n  </thead>\n  <tbody>\n    <tr>\n      <th>0</th>\n      <td>0</td>\n      <td>0</td>\n      <td>1</td>\n      <td>0</td>\n      <td>0</td>\n      <td>0</td>\n      <td>0</td>\n      <td>0</td>\n      <td>0</td>\n      <td>0</td>\n      <td>0</td>\n      <td>0</td>\n      <td>1</td>\n      <td>0</td>\n      <td>0</td>\n      <td>0</td>\n      <td>0</td>\n      <td>0</td>\n      <td>0</td>\n      <td>1</td>\n      <td>0</td>\n      <td>0</td>\n      <td>0</td>\n      <td>0</td>\n      <td>0</td>\n      <td>0</td>\n      <td>1</td>\n      <td>0</td>\n      <td>0</td>\n      <td>0</td>\n      <td>1</td>\n      <td>0</td>\n      <td>0</td>\n      <td>0</td>\n      <td>0</td>\n      <td>0</td>\n      <td>0</td>\n      <td>0</td>\n      <td>0</td>\n      <td>0</td>\n      <td>0</td>\n      <td>0</td>\n      <td>1</td>\n      <td>0</td>\n      <td>0</td>\n      <td>0</td>\n      <td>0</td>\n      <td>0</td>\n      <td>0</td>\n      <td>0</td>\n      <td>0</td>\n      <td>1</td>\n      <td>0</td>\n      <td>0</td>\n      <td>0</td>\n      <td>0</td>\n      <td>1</td>\n      <td>0</td>\n      <td>0</td>\n      <td>0</td>\n      <td>0</td>\n      <td>0</td>\n      <td>0</td>\n      <td>1</td>\n      <td>0</td>\n      <td>0</td>\n      <td>0</td>\n      <td>0</td>\n      <td>0</td>\n      <td>0</td>\n      <td>1</td>\n      <td>0</td>\n      <td>0</td>\n      <td>1</td>\n      <td>0</td>\n      <td>0</td>\n      <td>0</td>\n      <td>0</td>\n      <td>0</td>\n      <td>0</td>\n      <td>0</td>\n      <td>0</td>\n      <td>0</td>\n      <td>0</td>\n      <td>0</td>\n      <td>0</td>\n      <td>1</td>\n      <td>0</td>\n      <td>1</td>\n      <td>0</td>\n      <td>0</td>\n      <td>0</td>\n      <td>0</td>\n      <td>0</td>\n      <td>0</td>\n      <td>0</td>\n      <td>1</td>\n      <td>0</td>\n      <td>1</td>\n      <td>0</td>\n      <td>2005.0</td>\n      <td>1.0</td>\n      <td>19.0</td>\n      <td>29.0</td>\n      <td>0</td>\n    </tr>\n    <tr>\n      <th>1</th>\n      <td>0</td>\n      <td>0</td>\n      <td>1</td>\n      <td>0</td>\n      <td>0</td>\n      <td>0</td>\n      <td>0</td>\n      <td>0</td>\n      <td>0</td>\n      <td>0</td>\n      <td>0</td>\n      <td>0</td>\n      <td>1</td>\n      <td>0</td>\n      <td>0</td>\n      <td>0</td>\n      <td>0</td>\n      <td>0</td>\n      <td>0</td>\n      <td>1</td>\n      <td>0</td>\n      <td>0</td>\n      <td>0</td>\n      <td>0</td>\n      <td>0</td>\n      <td>0</td>\n      <td>1</td>\n      <td>0</td>\n      <td>0</td>\n      <td>0</td>\n      <td>1</td>\n      <td>0</td>\n      <td>0</td>\n      <td>0</td>\n      <td>0</td>\n      <td>0</td>\n      <td>0</td>\n      <td>0</td>\n      <td>0</td>\n      <td>0</td>\n      <td>0</td>\n      <td>0</td>\n      <td>1</td>\n      <td>0</td>\n      <td>0</td>\n      <td>0</td>\n      <td>0</td>\n      <td>0</td>\n      <td>0</td>\n      <td>0</td>\n      <td>0</td>\n      <td>1</td>\n      <td>0</td>\n      <td>0</td>\n      <td>0</td>\n      <td>0</td>\n      <td>1</td>\n      <td>0</td>\n      <td>0</td>\n      <td>0</td>\n      <td>0</td>\n      <td>0</td>\n      <td>0</td>\n      <td>1</td>\n      <td>0</td>\n      <td>0</td>\n      <td>0</td>\n      <td>0</td>\n      <td>0</td>\n      <td>0</td>\n      <td>1</td>\n      <td>0</td>\n      <td>0</td>\n      <td>1</td>\n      <td>0</td>\n      <td>0</td>\n      <td>0</td>\n      <td>0</td>\n      <td>0</td>\n      <td>0</td>\n      <td>0</td>\n      <td>0</td>\n      <td>0</td>\n      <td>0</td>\n      <td>0</td>\n      <td>0</td>\n      <td>0</td>\n      <td>0</td>\n      <td>1</td>\n      <td>0</td>\n      <td>0</td>\n      <td>0</td>\n      <td>0</td>\n      <td>0</td>\n      <td>0</td>\n      <td>0</td>\n      <td>1</td>\n      <td>0</td>\n      <td>1</td>\n      <td>0</td>\n      <td>2005.0</td>\n      <td>1.0</td>\n      <td>19.0</td>\n      <td>37.0</td>\n      <td>1</td>\n    </tr>\n    <tr>\n      <th>2</th>\n      <td>0</td>\n      <td>0</td>\n      <td>1</td>\n      <td>0</td>\n      <td>0</td>\n      <td>0</td>\n      <td>0</td>\n      <td>0</td>\n      <td>0</td>\n      <td>0</td>\n      <td>0</td>\n      <td>0</td>\n      <td>1</td>\n      <td>0</td>\n      <td>0</td>\n      <td>0</td>\n      <td>0</td>\n      <td>0</td>\n      <td>0</td>\n      <td>1</td>\n      <td>0</td>\n      <td>0</td>\n      <td>0</td>\n      <td>0</td>\n      <td>0</td>\n      <td>0</td>\n      <td>1</td>\n      <td>0</td>\n      <td>0</td>\n      <td>0</td>\n      <td>1</td>\n      <td>0</td>\n      <td>0</td>\n      <td>0</td>\n      <td>0</td>\n      <td>0</td>\n      <td>0</td>\n      <td>0</td>\n      <td>0</td>\n      <td>0</td>\n      <td>0</td>\n      <td>0</td>\n      <td>1</td>\n      <td>0</td>\n      <td>0</td>\n      <td>0</td>\n      <td>0</td>\n      <td>0</td>\n      <td>0</td>\n      <td>0</td>\n      <td>0</td>\n      <td>1</td>\n      <td>0</td>\n      <td>0</td>\n      <td>0</td>\n      <td>0</td>\n      <td>1</td>\n      <td>0</td>\n      <td>0</td>\n      <td>0</td>\n      <td>0</td>\n      <td>0</td>\n      <td>0</td>\n      <td>1</td>\n      <td>0</td>\n      <td>0</td>\n      <td>0</td>\n      <td>0</td>\n      <td>0</td>\n      <td>0</td>\n      <td>1</td>\n      <td>0</td>\n      <td>0</td>\n      <td>0</td>\n      <td>1</td>\n      <td>0</td>\n      <td>0</td>\n      <td>0</td>\n      <td>0</td>\n      <td>0</td>\n      <td>0</td>\n      <td>0</td>\n      <td>0</td>\n      <td>1</td>\n      <td>0</td>\n      <td>0</td>\n      <td>1</td>\n      <td>0</td>\n      <td>1</td>\n      <td>0</td>\n      <td>0</td>\n      <td>0</td>\n      <td>0</td>\n      <td>0</td>\n      <td>0</td>\n      <td>0</td>\n      <td>1</td>\n      <td>0</td>\n      <td>1</td>\n      <td>0</td>\n      <td>2005.0</td>\n      <td>1.0</td>\n      <td>19.0</td>\n      <td>41.0</td>\n      <td>0</td>\n    </tr>\n    <tr>\n      <th>3</th>\n      <td>0</td>\n      <td>0</td>\n      <td>1</td>\n      <td>0</td>\n      <td>0</td>\n      <td>0</td>\n      <td>0</td>\n      <td>0</td>\n      <td>0</td>\n      <td>0</td>\n      <td>0</td>\n      <td>0</td>\n      <td>1</td>\n      <td>0</td>\n      <td>0</td>\n      <td>0</td>\n      <td>0</td>\n      <td>0</td>\n      <td>0</td>\n      <td>1</td>\n      <td>0</td>\n      <td>0</td>\n      <td>0</td>\n      <td>0</td>\n      <td>0</td>\n      <td>0</td>\n      <td>1</td>\n      <td>0</td>\n      <td>0</td>\n      <td>0</td>\n      <td>1</td>\n      <td>0</td>\n      <td>0</td>\n      <td>0</td>\n      <td>0</td>\n      <td>0</td>\n      <td>0</td>\n      <td>0</td>\n      <td>0</td>\n      <td>0</td>\n      <td>0</td>\n      <td>0</td>\n      <td>1</td>\n      <td>0</td>\n      <td>0</td>\n      <td>0</td>\n      <td>0</td>\n      <td>0</td>\n      <td>0</td>\n      <td>0</td>\n      <td>0</td>\n      <td>1</td>\n      <td>0</td>\n      <td>0</td>\n      <td>0</td>\n      <td>0</td>\n      <td>1</td>\n      <td>0</td>\n      <td>0</td>\n      <td>0</td>\n      <td>0</td>\n      <td>0</td>\n      <td>0</td>\n      <td>1</td>\n      <td>0</td>\n      <td>0</td>\n      <td>0</td>\n      <td>0</td>\n      <td>0</td>\n      <td>0</td>\n      <td>1</td>\n      <td>0</td>\n      <td>0</td>\n      <td>0</td>\n      <td>0</td>\n      <td>0</td>\n      <td>1</td>\n      <td>0</td>\n      <td>0</td>\n      <td>0</td>\n      <td>0</td>\n      <td>0</td>\n      <td>0</td>\n      <td>1</td>\n      <td>0</td>\n      <td>0</td>\n      <td>1</td>\n      <td>0</td>\n      <td>1</td>\n      <td>0</td>\n      <td>0</td>\n      <td>0</td>\n      <td>0</td>\n      <td>0</td>\n      <td>0</td>\n      <td>0</td>\n      <td>1</td>\n      <td>0</td>\n      <td>1</td>\n      <td>0</td>\n      <td>2005.0</td>\n      <td>1.0</td>\n      <td>19.0</td>\n      <td>1.0</td>\n      <td>0</td>\n    </tr>\n    <tr>\n      <th>4</th>\n      <td>0</td>\n      <td>0</td>\n      <td>1</td>\n      <td>0</td>\n      <td>0</td>\n      <td>0</td>\n      <td>0</td>\n      <td>0</td>\n      <td>0</td>\n      <td>0</td>\n      <td>0</td>\n      <td>0</td>\n      <td>1</td>\n      <td>0</td>\n      <td>0</td>\n      <td>0</td>\n      <td>0</td>\n      <td>0</td>\n      <td>0</td>\n      <td>1</td>\n      <td>0</td>\n      <td>0</td>\n      <td>0</td>\n      <td>0</td>\n      <td>0</td>\n      <td>0</td>\n      <td>1</td>\n      <td>0</td>\n      <td>0</td>\n      <td>0</td>\n      <td>1</td>\n      <td>0</td>\n      <td>0</td>\n      <td>0</td>\n      <td>0</td>\n      <td>0</td>\n      <td>0</td>\n      <td>0</td>\n      <td>0</td>\n      <td>0</td>\n      <td>0</td>\n      <td>0</td>\n      <td>1</td>\n      <td>0</td>\n      <td>0</td>\n      <td>0</td>\n      <td>0</td>\n      <td>0</td>\n      <td>0</td>\n      <td>0</td>\n      <td>0</td>\n      <td>1</td>\n      <td>0</td>\n      <td>0</td>\n      <td>0</td>\n      <td>0</td>\n      <td>1</td>\n      <td>0</td>\n      <td>0</td>\n      <td>0</td>\n      <td>0</td>\n      <td>0</td>\n      <td>0</td>\n      <td>1</td>\n      <td>0</td>\n      <td>0</td>\n      <td>0</td>\n      <td>0</td>\n      <td>0</td>\n      <td>0</td>\n      <td>1</td>\n      <td>0</td>\n      <td>0</td>\n      <td>0</td>\n      <td>0</td>\n      <td>0</td>\n      <td>0</td>\n      <td>1</td>\n      <td>0</td>\n      <td>0</td>\n      <td>0</td>\n      <td>0</td>\n      <td>0</td>\n      <td>1</td>\n      <td>0</td>\n      <td>0</td>\n      <td>1</td>\n      <td>0</td>\n      <td>1</td>\n      <td>0</td>\n      <td>0</td>\n      <td>0</td>\n      <td>0</td>\n      <td>0</td>\n      <td>0</td>\n      <td>0</td>\n      <td>1</td>\n      <td>0</td>\n      <td>1</td>\n      <td>0</td>\n      <td>2005.0</td>\n      <td>1.0</td>\n      <td>19.0</td>\n      <td>7.0</td>\n      <td>0</td>\n    </tr>\n  </tbody>\n</table>\n</div>"
     },
     "metadata": {},
     "execution_count": 24
    }
   ],
   "source": [
    "df_out.head()"
   ]
  },
  {
   "cell_type": "markdown",
   "metadata": {},
   "source": [
    "## Feature selection - removing near-zero-variance predictors"
   ]
  },
  {
   "cell_type": "code",
   "execution_count": 25,
   "metadata": {},
   "outputs": [],
   "source": [
    "from sklearn.feature_selection import mutual_info_classif, mutual_info_regression, RFE, VarianceThreshold"
   ]
  },
  {
   "cell_type": "code",
   "execution_count": 26,
   "metadata": {},
   "outputs": [
    {
     "output_type": "execute_result",
     "data": {
      "text/plain": "year         11.797123\nmonth        11.273194\nhour         21.691832\nuser_age    330.088458\ndtype: float64"
     },
     "metadata": {},
     "execution_count": 26
    }
   ],
   "source": [
    "df_num_out.var()"
   ]
  },
  {
   "cell_type": "markdown",
   "metadata": {},
   "source": [
    "Numerical variables are not near-zero-variance"
   ]
  },
  {
   "cell_type": "code",
   "execution_count": 27,
   "metadata": {},
   "outputs": [],
   "source": [
    "variances = []\n",
    "\n",
    "for col in df_out.columns:\n",
    "    variances.append(df_out[col].var())"
   ]
  },
  {
   "cell_type": "code",
   "execution_count": 28,
   "metadata": {},
   "outputs": [
    {
     "output_type": "execute_result",
     "data": {
      "text/plain": "                                col       var\n32               d_road_category_NA  0.000001\n18                     d_weather_NA  0.000062\n10           d_intersection_type_NA  0.000135\n95  d_pedestrian_action_With animal  0.000185\n53         d_road_condition_flooded  0.000385\n55             d_road_condition_mud  0.000437\n81                 d_place_in_car_9  0.000671\n66       d_infrastructure_Toll zone  0.000828\n78                 d_place_in_car_6  0.000863\n91           d_pedestrian_action_NA  0.000944",
      "text/html": "<div>\n<style scoped>\n    .dataframe tbody tr th:only-of-type {\n        vertical-align: middle;\n    }\n\n    .dataframe tbody tr th {\n        vertical-align: top;\n    }\n\n    .dataframe thead th {\n        text-align: right;\n    }\n</style>\n<table border=\"1\" class=\"dataframe\">\n  <thead>\n    <tr style=\"text-align: right;\">\n      <th></th>\n      <th>col</th>\n      <th>var</th>\n    </tr>\n  </thead>\n  <tbody>\n    <tr>\n      <th>32</th>\n      <td>d_road_category_NA</td>\n      <td>0.000001</td>\n    </tr>\n    <tr>\n      <th>18</th>\n      <td>d_weather_NA</td>\n      <td>0.000062</td>\n    </tr>\n    <tr>\n      <th>10</th>\n      <td>d_intersection_type_NA</td>\n      <td>0.000135</td>\n    </tr>\n    <tr>\n      <th>95</th>\n      <td>d_pedestrian_action_With animal</td>\n      <td>0.000185</td>\n    </tr>\n    <tr>\n      <th>53</th>\n      <td>d_road_condition_flooded</td>\n      <td>0.000385</td>\n    </tr>\n    <tr>\n      <th>55</th>\n      <td>d_road_condition_mud</td>\n      <td>0.000437</td>\n    </tr>\n    <tr>\n      <th>81</th>\n      <td>d_place_in_car_9</td>\n      <td>0.000671</td>\n    </tr>\n    <tr>\n      <th>66</th>\n      <td>d_infrastructure_Toll zone</td>\n      <td>0.000828</td>\n    </tr>\n    <tr>\n      <th>78</th>\n      <td>d_place_in_car_6</td>\n      <td>0.000863</td>\n    </tr>\n    <tr>\n      <th>91</th>\n      <td>d_pedestrian_action_NA</td>\n      <td>0.000944</td>\n    </tr>\n  </tbody>\n</table>\n</div>"
     },
     "metadata": {},
     "execution_count": 28
    }
   ],
   "source": [
    "pd.DataFrame({'col': list(df_out.columns), 'var': variances}).sort_values(by = 'var').head(10)"
   ]
  },
  {
   "cell_type": "markdown",
   "metadata": {},
   "source": [
    "For categorical variables - some have very low variance. A better way to filter these out is probably remove variables with very low percentage."
   ]
  },
  {
   "cell_type": "code",
   "execution_count": 29,
   "metadata": {},
   "outputs": [
    {
     "output_type": "execute_result",
     "data": {
      "text/plain": "d_road_category_NA                                     0.000001\nd_weather_NA                                           0.000062\nd_intersection_type_NA                                 0.000135\nd_pedestrian_action_With animal                        0.000185\nd_road_condition_flooded                               0.000385\n                                                         ...   \nd_accident_situation_On the road                       0.881517\nd_infrastructure_NA                                    0.887186\nd_pedestrian_action_not specified or not applicable    0.918675\nd_pedestrian_alone_NA                                  0.920466\nd_reserved_lane_NA                                     0.939200\nLength: 100, dtype: float64"
     },
     "metadata": {},
     "execution_count": 29
    }
   ],
   "source": [
    "df_out.select_dtypes('uint8').apply(lambda x: np.mean(x==1)).sort_values()"
   ]
  },
  {
   "cell_type": "code",
   "execution_count": 30,
   "metadata": {},
   "outputs": [],
   "source": [
    "perc_tre = 0.02\n",
    "\n",
    "one_perc = df_out.select_dtypes('uint8').apply(lambda x: np.mean(x==1))\n",
    "non_zero_var_cols = list(one_perc[one_perc > perc_tre][one_perc < 1 - perc_tre].index)"
   ]
  },
  {
   "cell_type": "code",
   "execution_count": 31,
   "metadata": {},
   "outputs": [],
   "source": [
    "non_zero_var_cols = non_zero_var_cols + list(df_num_out.columns)"
   ]
  },
  {
   "cell_type": "code",
   "execution_count": 32,
   "metadata": {},
   "outputs": [],
   "source": [
    "df_out2 = df_out[non_zero_var_cols + ['y']]"
   ]
  },
  {
   "cell_type": "code",
   "execution_count": 33,
   "metadata": {},
   "outputs": [
    {
     "output_type": "execute_result",
     "data": {
      "text/plain": "   d_lighting_Night with public lighting on  \\\n0                                         0   \n1                                         0   \n2                                         0   \n3                                         0   \n4                                         0   \n\n   d_lighting_Night without public lighting  d_lighting_Twilight or dawn  \\\n0                                         1                            0   \n1                                         1                            0   \n2                                         1                            0   \n3                                         1                            0   \n4                                         1                            0   \n\n   d_localization_Out of agglomeration  d_intersection_type_Intersection in T  \\\n0                                    0                                      0   \n1                                    0                                      0   \n2                                    0                                      0   \n3                                    0                                      0   \n4                                    0                                      0   \n\n   d_intersection_type_Intersection in X  \\\n0                                      0   \n1                                      0   \n2                                      0   \n3                                      0   \n4                                      0   \n\n   d_intersection_type_Out of intersection  d_weather_Heavy rain  \\\n0                                        1                     0   \n1                                        1                     0   \n2                                        1                     0   \n3                                        1                     0   \n4                                        1                     0   \n\n   d_weather_Light rain  d_weather_Normal  d_collision_type_Other collision  \\\n0                     0                 1                                 0   \n1                     0                 1                                 0   \n2                     0                 1                                 0   \n3                     0                 1                                 0   \n4                     0                 1                                 0   \n\n   d_collision_type_Three or more vehicles - multiple collisions  \\\n0                                                  0               \n1                                                  0               \n2                                                  0               \n3                                                  0               \n4                                                  0               \n\n   d_collision_type_Three vehicles and more - in chain  \\\n0                                                  0     \n1                                                  0     \n2                                                  0     \n3                                                  0     \n4                                                  0     \n\n   d_collision_type_Two vehicles - by the side  \\\n0                                            1   \n1                                            1   \n2                                            1   \n3                                            1   \n4                                            1   \n\n   d_collision_type_Two vehicles - from the rear  \\\n0                                              0   \n1                                              0   \n2                                              0   \n3                                              0   \n4                                              0   \n\n   d_collision_type_Two vehicles - frontal  \\\n0                                        0   \n1                                        0   \n2                                        0   \n3                                        0   \n4                                        0   \n\n   d_collision_type_Without collision  d_road_category_Departmental Road  \\\n0                                   0                                  1   \n1                                   0                                  1   \n2                                   0                                  1   \n3                                   0                                  1   \n4                                   0                                  1   \n\n   d_road_category_Highway  d_road_category_National Road  d_road_regime_NA  \\\n0                        0                              0                 0   \n1                        0                              0                 0   \n2                        0                              0                 0   \n3                        0                              0                 0   \n4                        0                              0                 0   \n\n   d_road_regime_One way  d_road_regime_Separated carriageways  \\\n0                      0                                     0   \n1                      0                                     0   \n2                      0                                     0   \n3                      0                                     0   \n4                      0                                     0   \n\n   d_reserved_lane_NA  d_reserved_lane_Reserved channel  d_road_gradient_NA  \\\n0                   1                                 0                   0   \n1                   1                                 0                   0   \n2                   1                                 0                   0   \n3                   1                                 0                   0   \n4                   1                                 0                   0   \n\n   d_road_gradient_Slope  d_road_plan_Curved right  d_road_plan_NA  \\\n0                      0                         0               0   \n1                      0                         0               0   \n2                      0                         0               0   \n3                      0                         0               0   \n4                      0                         0               0   \n\n   d_road_plan_Straight part  d_road_condition_normal  d_road_condition_wet  \\\n0                          1                        1                     0   \n1                          1                        1                     0   \n2                          1                        1                     0   \n3                          1                        1                     0   \n4                          1                        1                     0   \n\n   d_infrastructure_Carrefour arranged  d_infrastructure_NA  \\\n0                                    0                    1   \n1                                    0                    1   \n2                                    0                    1   \n3                                    0                    1   \n4                                    0                    1   \n\n   d_accident_situation_On the road  d_accident_situation_On the verge  \\\n0                                 1                                  0   \n1                                 1                                  0   \n2                                 1                                  0   \n3                                 1                                  0   \n4                                 1                                  0   \n\n   d_place_in_car_1  d_place_in_car_2  d_place_in_car_3  d_place_in_car_4  \\\n0                 1                 0                 0                 0   \n1                 1                 0                 0                 0   \n2                 0                 1                 0                 0   \n3                 0                 0                 0                 1   \n4                 0                 0                 0                 0   \n\n   d_place_in_car_NA  d_user_type_Passenger  d_user_type_Pedestrian  \\\n0                  0                      0                       0   \n1                  0                      0                       0   \n2                  0                      1                       0   \n3                  0                      1                       0   \n4                  0                      1                       0   \n\n   d_sex_Male  d_equipment_used_no  d_equipment_used_yes  \\\n0           1                    0                     1   \n1           0                    0                     1   \n2           1                    0                     1   \n3           1                    0                     1   \n4           1                    0                     1   \n\n   d_pedestrian_action_not specified or not applicable  d_pedestrian_alone_NA  \\\n0                                                  1                        1   \n1                                                  1                        1   \n2                                                  1                        1   \n3                                                  1                        1   \n4                                                  1                        1   \n\n   d_pedestrian_alone_Only    year  month  hour  user_age  y  \n0                        0  2005.0    1.0  19.0      29.0  0  \n1                        0  2005.0    1.0  19.0      37.0  1  \n2                        0  2005.0    1.0  19.0      41.0  0  \n3                        0  2005.0    1.0  19.0       1.0  0  \n4                        0  2005.0    1.0  19.0       7.0  0  ",
      "text/html": "<div>\n<style scoped>\n    .dataframe tbody tr th:only-of-type {\n        vertical-align: middle;\n    }\n\n    .dataframe tbody tr th {\n        vertical-align: top;\n    }\n\n    .dataframe thead th {\n        text-align: right;\n    }\n</style>\n<table border=\"1\" class=\"dataframe\">\n  <thead>\n    <tr style=\"text-align: right;\">\n      <th></th>\n      <th>d_lighting_Night with public lighting on</th>\n      <th>d_lighting_Night without public lighting</th>\n      <th>d_lighting_Twilight or dawn</th>\n      <th>d_localization_Out of agglomeration</th>\n      <th>d_intersection_type_Intersection in T</th>\n      <th>d_intersection_type_Intersection in X</th>\n      <th>d_intersection_type_Out of intersection</th>\n      <th>d_weather_Heavy rain</th>\n      <th>d_weather_Light rain</th>\n      <th>d_weather_Normal</th>\n      <th>d_collision_type_Other collision</th>\n      <th>d_collision_type_Three or more vehicles - multiple collisions</th>\n      <th>d_collision_type_Three vehicles and more - in chain</th>\n      <th>d_collision_type_Two vehicles - by the side</th>\n      <th>d_collision_type_Two vehicles - from the rear</th>\n      <th>d_collision_type_Two vehicles - frontal</th>\n      <th>d_collision_type_Without collision</th>\n      <th>d_road_category_Departmental Road</th>\n      <th>d_road_category_Highway</th>\n      <th>d_road_category_National Road</th>\n      <th>d_road_regime_NA</th>\n      <th>d_road_regime_One way</th>\n      <th>d_road_regime_Separated carriageways</th>\n      <th>d_reserved_lane_NA</th>\n      <th>d_reserved_lane_Reserved channel</th>\n      <th>d_road_gradient_NA</th>\n      <th>d_road_gradient_Slope</th>\n      <th>d_road_plan_Curved right</th>\n      <th>d_road_plan_NA</th>\n      <th>d_road_plan_Straight part</th>\n      <th>d_road_condition_normal</th>\n      <th>d_road_condition_wet</th>\n      <th>d_infrastructure_Carrefour arranged</th>\n      <th>d_infrastructure_NA</th>\n      <th>d_accident_situation_On the road</th>\n      <th>d_accident_situation_On the verge</th>\n      <th>d_place_in_car_1</th>\n      <th>d_place_in_car_2</th>\n      <th>d_place_in_car_3</th>\n      <th>d_place_in_car_4</th>\n      <th>d_place_in_car_NA</th>\n      <th>d_user_type_Passenger</th>\n      <th>d_user_type_Pedestrian</th>\n      <th>d_sex_Male</th>\n      <th>d_equipment_used_no</th>\n      <th>d_equipment_used_yes</th>\n      <th>d_pedestrian_action_not specified or not applicable</th>\n      <th>d_pedestrian_alone_NA</th>\n      <th>d_pedestrian_alone_Only</th>\n      <th>year</th>\n      <th>month</th>\n      <th>hour</th>\n      <th>user_age</th>\n      <th>y</th>\n    </tr>\n  </thead>\n  <tbody>\n    <tr>\n      <th>0</th>\n      <td>0</td>\n      <td>1</td>\n      <td>0</td>\n      <td>0</td>\n      <td>0</td>\n      <td>0</td>\n      <td>1</td>\n      <td>0</td>\n      <td>0</td>\n      <td>1</td>\n      <td>0</td>\n      <td>0</td>\n      <td>0</td>\n      <td>1</td>\n      <td>0</td>\n      <td>0</td>\n      <td>0</td>\n      <td>1</td>\n      <td>0</td>\n      <td>0</td>\n      <td>0</td>\n      <td>0</td>\n      <td>0</td>\n      <td>1</td>\n      <td>0</td>\n      <td>0</td>\n      <td>0</td>\n      <td>0</td>\n      <td>0</td>\n      <td>1</td>\n      <td>1</td>\n      <td>0</td>\n      <td>0</td>\n      <td>1</td>\n      <td>1</td>\n      <td>0</td>\n      <td>1</td>\n      <td>0</td>\n      <td>0</td>\n      <td>0</td>\n      <td>0</td>\n      <td>0</td>\n      <td>0</td>\n      <td>1</td>\n      <td>0</td>\n      <td>1</td>\n      <td>1</td>\n      <td>1</td>\n      <td>0</td>\n      <td>2005.0</td>\n      <td>1.0</td>\n      <td>19.0</td>\n      <td>29.0</td>\n      <td>0</td>\n    </tr>\n    <tr>\n      <th>1</th>\n      <td>0</td>\n      <td>1</td>\n      <td>0</td>\n      <td>0</td>\n      <td>0</td>\n      <td>0</td>\n      <td>1</td>\n      <td>0</td>\n      <td>0</td>\n      <td>1</td>\n      <td>0</td>\n      <td>0</td>\n      <td>0</td>\n      <td>1</td>\n      <td>0</td>\n      <td>0</td>\n      <td>0</td>\n      <td>1</td>\n      <td>0</td>\n      <td>0</td>\n      <td>0</td>\n      <td>0</td>\n      <td>0</td>\n      <td>1</td>\n      <td>0</td>\n      <td>0</td>\n      <td>0</td>\n      <td>0</td>\n      <td>0</td>\n      <td>1</td>\n      <td>1</td>\n      <td>0</td>\n      <td>0</td>\n      <td>1</td>\n      <td>1</td>\n      <td>0</td>\n      <td>1</td>\n      <td>0</td>\n      <td>0</td>\n      <td>0</td>\n      <td>0</td>\n      <td>0</td>\n      <td>0</td>\n      <td>0</td>\n      <td>0</td>\n      <td>1</td>\n      <td>1</td>\n      <td>1</td>\n      <td>0</td>\n      <td>2005.0</td>\n      <td>1.0</td>\n      <td>19.0</td>\n      <td>37.0</td>\n      <td>1</td>\n    </tr>\n    <tr>\n      <th>2</th>\n      <td>0</td>\n      <td>1</td>\n      <td>0</td>\n      <td>0</td>\n      <td>0</td>\n      <td>0</td>\n      <td>1</td>\n      <td>0</td>\n      <td>0</td>\n      <td>1</td>\n      <td>0</td>\n      <td>0</td>\n      <td>0</td>\n      <td>1</td>\n      <td>0</td>\n      <td>0</td>\n      <td>0</td>\n      <td>1</td>\n      <td>0</td>\n      <td>0</td>\n      <td>0</td>\n      <td>0</td>\n      <td>0</td>\n      <td>1</td>\n      <td>0</td>\n      <td>0</td>\n      <td>0</td>\n      <td>0</td>\n      <td>0</td>\n      <td>1</td>\n      <td>1</td>\n      <td>0</td>\n      <td>0</td>\n      <td>1</td>\n      <td>1</td>\n      <td>0</td>\n      <td>0</td>\n      <td>1</td>\n      <td>0</td>\n      <td>0</td>\n      <td>0</td>\n      <td>1</td>\n      <td>0</td>\n      <td>1</td>\n      <td>0</td>\n      <td>1</td>\n      <td>1</td>\n      <td>1</td>\n      <td>0</td>\n      <td>2005.0</td>\n      <td>1.0</td>\n      <td>19.0</td>\n      <td>41.0</td>\n      <td>0</td>\n    </tr>\n    <tr>\n      <th>3</th>\n      <td>0</td>\n      <td>1</td>\n      <td>0</td>\n      <td>0</td>\n      <td>0</td>\n      <td>0</td>\n      <td>1</td>\n      <td>0</td>\n      <td>0</td>\n      <td>1</td>\n      <td>0</td>\n      <td>0</td>\n      <td>0</td>\n      <td>1</td>\n      <td>0</td>\n      <td>0</td>\n      <td>0</td>\n      <td>1</td>\n      <td>0</td>\n      <td>0</td>\n      <td>0</td>\n      <td>0</td>\n      <td>0</td>\n      <td>1</td>\n      <td>0</td>\n      <td>0</td>\n      <td>0</td>\n      <td>0</td>\n      <td>0</td>\n      <td>1</td>\n      <td>1</td>\n      <td>0</td>\n      <td>0</td>\n      <td>1</td>\n      <td>1</td>\n      <td>0</td>\n      <td>0</td>\n      <td>0</td>\n      <td>0</td>\n      <td>1</td>\n      <td>0</td>\n      <td>1</td>\n      <td>0</td>\n      <td>1</td>\n      <td>0</td>\n      <td>1</td>\n      <td>1</td>\n      <td>1</td>\n      <td>0</td>\n      <td>2005.0</td>\n      <td>1.0</td>\n      <td>19.0</td>\n      <td>1.0</td>\n      <td>0</td>\n    </tr>\n    <tr>\n      <th>4</th>\n      <td>0</td>\n      <td>1</td>\n      <td>0</td>\n      <td>0</td>\n      <td>0</td>\n      <td>0</td>\n      <td>1</td>\n      <td>0</td>\n      <td>0</td>\n      <td>1</td>\n      <td>0</td>\n      <td>0</td>\n      <td>0</td>\n      <td>1</td>\n      <td>0</td>\n      <td>0</td>\n      <td>0</td>\n      <td>1</td>\n      <td>0</td>\n      <td>0</td>\n      <td>0</td>\n      <td>0</td>\n      <td>0</td>\n      <td>1</td>\n      <td>0</td>\n      <td>0</td>\n      <td>0</td>\n      <td>0</td>\n      <td>0</td>\n      <td>1</td>\n      <td>1</td>\n      <td>0</td>\n      <td>0</td>\n      <td>1</td>\n      <td>1</td>\n      <td>0</td>\n      <td>0</td>\n      <td>0</td>\n      <td>0</td>\n      <td>0</td>\n      <td>0</td>\n      <td>1</td>\n      <td>0</td>\n      <td>1</td>\n      <td>0</td>\n      <td>1</td>\n      <td>1</td>\n      <td>1</td>\n      <td>0</td>\n      <td>2005.0</td>\n      <td>1.0</td>\n      <td>19.0</td>\n      <td>7.0</td>\n      <td>0</td>\n    </tr>\n  </tbody>\n</table>\n</div>"
     },
     "metadata": {},
     "execution_count": 33
    }
   ],
   "source": [
    "df_out2.head()"
   ]
  },
  {
   "cell_type": "markdown",
   "metadata": {},
   "source": [
    "## Feature selection - mutual information"
   ]
  },
  {
   "cell_type": "code",
   "execution_count": 34,
   "metadata": {},
   "outputs": [],
   "source": [
    "minfos_cat = []"
   ]
  },
  {
   "cell_type": "code",
   "execution_count": 35,
   "metadata": {},
   "outputs": [],
   "source": [
    "for col in df_out2.select_dtypes('uint8').columns:\n",
    "#     print(col)\n",
    "    minfos_cat.append(mutual_info_classif(df_out2[col].values.reshape(-1,1),\n",
    "                                                        df_out2[\"y\"].values, discrete_features = True)[0])"
   ]
  },
  {
   "cell_type": "code",
   "execution_count": 36,
   "metadata": {},
   "outputs": [],
   "source": [
    "minfos2= [(col, val) for col, val in zip(df_out2.select_dtypes('uint8').columns, minfos_cat)]"
   ]
  },
  {
   "cell_type": "code",
   "execution_count": 37,
   "metadata": {},
   "outputs": [
    {
     "output_type": "execute_result",
     "data": {
      "text/plain": "                                 column  mutual_info\n17    d_road_category_Departmental Road     0.018954\n3   d_localization_Out of agglomeration     0.018480\n35    d_accident_situation_On the verge     0.012684\n34     d_accident_situation_On the road     0.007342\n42               d_user_type_Pedestrian     0.006981",
      "text/html": "<div>\n<style scoped>\n    .dataframe tbody tr th:only-of-type {\n        vertical-align: middle;\n    }\n\n    .dataframe tbody tr th {\n        vertical-align: top;\n    }\n\n    .dataframe thead th {\n        text-align: right;\n    }\n</style>\n<table border=\"1\" class=\"dataframe\">\n  <thead>\n    <tr style=\"text-align: right;\">\n      <th></th>\n      <th>column</th>\n      <th>mutual_info</th>\n    </tr>\n  </thead>\n  <tbody>\n    <tr>\n      <th>17</th>\n      <td>d_road_category_Departmental Road</td>\n      <td>0.018954</td>\n    </tr>\n    <tr>\n      <th>3</th>\n      <td>d_localization_Out of agglomeration</td>\n      <td>0.018480</td>\n    </tr>\n    <tr>\n      <th>35</th>\n      <td>d_accident_situation_On the verge</td>\n      <td>0.012684</td>\n    </tr>\n    <tr>\n      <th>34</th>\n      <td>d_accident_situation_On the road</td>\n      <td>0.007342</td>\n    </tr>\n    <tr>\n      <th>42</th>\n      <td>d_user_type_Pedestrian</td>\n      <td>0.006981</td>\n    </tr>\n  </tbody>\n</table>\n</div>"
     },
     "metadata": {},
     "execution_count": 37
    }
   ],
   "source": [
    "pd.DataFrame(minfos2, columns = ['column', 'mutual_info']).sort_values(by='mutual_info', ascending=False).head()"
   ]
  },
  {
   "cell_type": "markdown",
   "metadata": {},
   "source": [
    "Don't run below - takes forever and brakes everything"
   ]
  },
  {
   "cell_type": "code",
   "execution_count": 39,
   "metadata": {},
   "outputs": [],
   "source": [
    "# minfos_num = []\n",
    "# for col in df_out2.select_dtypes('float64').columns:\n",
    "#     print(col)\n",
    "#     minfos_num.append(mutual_info_regression(df_out2[col].values.reshape(-1,1),\n",
    "#                                                         df_out2[\"y\"].values))"
   ]
  },
  {
   "cell_type": "markdown",
   "metadata": {},
   "source": [
    "## Train test split"
   ]
  },
  {
   "cell_type": "markdown",
   "metadata": {},
   "source": [
    "For each accident in the data, there can be multiple users engaged. This means that we should control for data leakage. People from one accident should be placed together in either train or test dataset. One way to achieve this and simultanously keep distribution of y is to sample accident_id, and from that obtain train test split.\n"
   ]
  },
  {
   "cell_type": "code",
   "execution_count": 38,
   "metadata": {},
   "outputs": [
    {
     "output_type": "execute_result",
     "data": {
      "text/plain": "0          200500000001\n1          200500000001\n2          200500000001\n3          200500000001\n4          200500000001\n               ...     \n1876000    201600059431\n1876001    201600059431\n1876002    201600059432\n1876003    201600059432\n1876004    201600059432\nName: accident_id, Length: 1876005, dtype: object"
     },
     "metadata": {},
     "execution_count": 38
    }
   ],
   "source": [
    "master_table['accident_id']"
   ]
  },
  {
   "cell_type": "code",
   "execution_count": 39,
   "metadata": {},
   "outputs": [],
   "source": [
    "df_out2['accident_id'] = master_table['accident_id']#.groupby('y').accident_id.count()"
   ]
  },
  {
   "cell_type": "markdown",
   "metadata": {},
   "source": [
    "Test what proportion of y we need in both train and test datasets"
   ]
  },
  {
   "cell_type": "code",
   "execution_count": 40,
   "metadata": {},
   "outputs": [
    {
     "output_type": "execute_result",
     "data": {
      "text/plain": "0    0.763189\n1    0.236811\nName: y, dtype: float64"
     },
     "metadata": {},
     "execution_count": 40
    }
   ],
   "source": [
    "df_out2.y.value_counts(normalize = True)"
   ]
  },
  {
   "cell_type": "markdown",
   "metadata": {},
   "source": [
    "Around 23% of y is equal to 1 (seriously injured or killed).\n",
    "Randomly select 30% of accident_id and check the distribution of y obtained:"
   ]
  },
  {
   "cell_type": "code",
   "execution_count": 41,
   "metadata": {},
   "outputs": [
    {
     "output_type": "execute_result",
     "data": {
      "text/plain": "    accident_id  d_lighting_Night with public lighting on  \\\n0  200500000001                                         0   \n1  200500000001                                         0   \n2  200500000001                                         0   \n3  200500000001                                         0   \n4  200500000001                                         0   \n\n   d_lighting_Night without public lighting  d_lighting_Twilight or dawn  \\\n0                                         1                            0   \n1                                         1                            0   \n2                                         1                            0   \n3                                         1                            0   \n4                                         1                            0   \n\n   d_localization_Out of agglomeration  d_intersection_type_Intersection in T  \\\n0                                    0                                      0   \n1                                    0                                      0   \n2                                    0                                      0   \n3                                    0                                      0   \n4                                    0                                      0   \n\n   d_intersection_type_Intersection in X  \\\n0                                      0   \n1                                      0   \n2                                      0   \n3                                      0   \n4                                      0   \n\n   d_intersection_type_Out of intersection  d_weather_Heavy rain  \\\n0                                        1                     0   \n1                                        1                     0   \n2                                        1                     0   \n3                                        1                     0   \n4                                        1                     0   \n\n   d_weather_Light rain  d_weather_Normal  d_collision_type_Other collision  \\\n0                     0                 1                                 0   \n1                     0                 1                                 0   \n2                     0                 1                                 0   \n3                     0                 1                                 0   \n4                     0                 1                                 0   \n\n   d_collision_type_Three or more vehicles - multiple collisions  \\\n0                                                  0               \n1                                                  0               \n2                                                  0               \n3                                                  0               \n4                                                  0               \n\n   d_collision_type_Three vehicles and more - in chain  \\\n0                                                  0     \n1                                                  0     \n2                                                  0     \n3                                                  0     \n4                                                  0     \n\n   d_collision_type_Two vehicles - by the side  \\\n0                                            1   \n1                                            1   \n2                                            1   \n3                                            1   \n4                                            1   \n\n   d_collision_type_Two vehicles - from the rear  \\\n0                                              0   \n1                                              0   \n2                                              0   \n3                                              0   \n4                                              0   \n\n   d_collision_type_Two vehicles - frontal  \\\n0                                        0   \n1                                        0   \n2                                        0   \n3                                        0   \n4                                        0   \n\n   d_collision_type_Without collision  d_road_category_Departmental Road  \\\n0                                   0                                  1   \n1                                   0                                  1   \n2                                   0                                  1   \n3                                   0                                  1   \n4                                   0                                  1   \n\n   d_road_category_Highway  d_road_category_National Road  d_road_regime_NA  \\\n0                        0                              0                 0   \n1                        0                              0                 0   \n2                        0                              0                 0   \n3                        0                              0                 0   \n4                        0                              0                 0   \n\n   d_road_regime_One way  d_road_regime_Separated carriageways  \\\n0                      0                                     0   \n1                      0                                     0   \n2                      0                                     0   \n3                      0                                     0   \n4                      0                                     0   \n\n   d_reserved_lane_NA  d_reserved_lane_Reserved channel  d_road_gradient_NA  \\\n0                   1                                 0                   0   \n1                   1                                 0                   0   \n2                   1                                 0                   0   \n3                   1                                 0                   0   \n4                   1                                 0                   0   \n\n   d_road_gradient_Slope  d_road_plan_Curved right  d_road_plan_NA  \\\n0                      0                         0               0   \n1                      0                         0               0   \n2                      0                         0               0   \n3                      0                         0               0   \n4                      0                         0               0   \n\n   d_road_plan_Straight part  d_road_condition_normal  d_road_condition_wet  \\\n0                          1                        1                     0   \n1                          1                        1                     0   \n2                          1                        1                     0   \n3                          1                        1                     0   \n4                          1                        1                     0   \n\n   d_infrastructure_Carrefour arranged  d_infrastructure_NA  \\\n0                                    0                    1   \n1                                    0                    1   \n2                                    0                    1   \n3                                    0                    1   \n4                                    0                    1   \n\n   d_accident_situation_On the road  d_accident_situation_On the verge  \\\n0                                 1                                  0   \n1                                 1                                  0   \n2                                 1                                  0   \n3                                 1                                  0   \n4                                 1                                  0   \n\n   d_place_in_car_1  d_place_in_car_2  d_place_in_car_3  d_place_in_car_4  \\\n0                 1                 0                 0                 0   \n1                 1                 0                 0                 0   \n2                 1                 0                 0                 0   \n3                 1                 0                 0                 0   \n4                 0                 1                 0                 0   \n\n   d_place_in_car_NA  d_user_type_Passenger  d_user_type_Pedestrian  \\\n0                  0                      0                       0   \n1                  0                      0                       0   \n2                  0                      0                       0   \n3                  0                      0                       0   \n4                  0                      1                       0   \n\n   d_sex_Male  d_equipment_used_no  d_equipment_used_yes  \\\n0           1                    0                     1   \n1           1                    0                     1   \n2           0                    0                     1   \n3           0                    0                     1   \n4           1                    0                     1   \n\n   d_pedestrian_action_not specified or not applicable  d_pedestrian_alone_NA  \\\n0                                                  1                        1   \n1                                                  1                        1   \n2                                                  1                        1   \n3                                                  1                        1   \n4                                                  1                        1   \n\n   d_pedestrian_alone_Only    year  month  hour  user_age  y  if_test  \n0                        0  2005.0    1.0  19.0      29.0  0      1.0  \n1                        0  2005.0    1.0  19.0      29.0  0      1.0  \n2                        0  2005.0    1.0  19.0      37.0  1      1.0  \n3                        0  2005.0    1.0  19.0      37.0  1      1.0  \n4                        0  2005.0    1.0  19.0      41.0  0      1.0  ",
      "text/html": "<div>\n<style scoped>\n    .dataframe tbody tr th:only-of-type {\n        vertical-align: middle;\n    }\n\n    .dataframe tbody tr th {\n        vertical-align: top;\n    }\n\n    .dataframe thead th {\n        text-align: right;\n    }\n</style>\n<table border=\"1\" class=\"dataframe\">\n  <thead>\n    <tr style=\"text-align: right;\">\n      <th></th>\n      <th>accident_id</th>\n      <th>d_lighting_Night with public lighting on</th>\n      <th>d_lighting_Night without public lighting</th>\n      <th>d_lighting_Twilight or dawn</th>\n      <th>d_localization_Out of agglomeration</th>\n      <th>d_intersection_type_Intersection in T</th>\n      <th>d_intersection_type_Intersection in X</th>\n      <th>d_intersection_type_Out of intersection</th>\n      <th>d_weather_Heavy rain</th>\n      <th>d_weather_Light rain</th>\n      <th>d_weather_Normal</th>\n      <th>d_collision_type_Other collision</th>\n      <th>d_collision_type_Three or more vehicles - multiple collisions</th>\n      <th>d_collision_type_Three vehicles and more - in chain</th>\n      <th>d_collision_type_Two vehicles - by the side</th>\n      <th>d_collision_type_Two vehicles - from the rear</th>\n      <th>d_collision_type_Two vehicles - frontal</th>\n      <th>d_collision_type_Without collision</th>\n      <th>d_road_category_Departmental Road</th>\n      <th>d_road_category_Highway</th>\n      <th>d_road_category_National Road</th>\n      <th>d_road_regime_NA</th>\n      <th>d_road_regime_One way</th>\n      <th>d_road_regime_Separated carriageways</th>\n      <th>d_reserved_lane_NA</th>\n      <th>d_reserved_lane_Reserved channel</th>\n      <th>d_road_gradient_NA</th>\n      <th>d_road_gradient_Slope</th>\n      <th>d_road_plan_Curved right</th>\n      <th>d_road_plan_NA</th>\n      <th>d_road_plan_Straight part</th>\n      <th>d_road_condition_normal</th>\n      <th>d_road_condition_wet</th>\n      <th>d_infrastructure_Carrefour arranged</th>\n      <th>d_infrastructure_NA</th>\n      <th>d_accident_situation_On the road</th>\n      <th>d_accident_situation_On the verge</th>\n      <th>d_place_in_car_1</th>\n      <th>d_place_in_car_2</th>\n      <th>d_place_in_car_3</th>\n      <th>d_place_in_car_4</th>\n      <th>d_place_in_car_NA</th>\n      <th>d_user_type_Passenger</th>\n      <th>d_user_type_Pedestrian</th>\n      <th>d_sex_Male</th>\n      <th>d_equipment_used_no</th>\n      <th>d_equipment_used_yes</th>\n      <th>d_pedestrian_action_not specified or not applicable</th>\n      <th>d_pedestrian_alone_NA</th>\n      <th>d_pedestrian_alone_Only</th>\n      <th>year</th>\n      <th>month</th>\n      <th>hour</th>\n      <th>user_age</th>\n      <th>y</th>\n      <th>if_test</th>\n    </tr>\n  </thead>\n  <tbody>\n    <tr>\n      <th>0</th>\n      <td>200500000001</td>\n      <td>0</td>\n      <td>1</td>\n      <td>0</td>\n      <td>0</td>\n      <td>0</td>\n      <td>0</td>\n      <td>1</td>\n      <td>0</td>\n      <td>0</td>\n      <td>1</td>\n      <td>0</td>\n      <td>0</td>\n      <td>0</td>\n      <td>1</td>\n      <td>0</td>\n      <td>0</td>\n      <td>0</td>\n      <td>1</td>\n      <td>0</td>\n      <td>0</td>\n      <td>0</td>\n      <td>0</td>\n      <td>0</td>\n      <td>1</td>\n      <td>0</td>\n      <td>0</td>\n      <td>0</td>\n      <td>0</td>\n      <td>0</td>\n      <td>1</td>\n      <td>1</td>\n      <td>0</td>\n      <td>0</td>\n      <td>1</td>\n      <td>1</td>\n      <td>0</td>\n      <td>1</td>\n      <td>0</td>\n      <td>0</td>\n      <td>0</td>\n      <td>0</td>\n      <td>0</td>\n      <td>0</td>\n      <td>1</td>\n      <td>0</td>\n      <td>1</td>\n      <td>1</td>\n      <td>1</td>\n      <td>0</td>\n      <td>2005.0</td>\n      <td>1.0</td>\n      <td>19.0</td>\n      <td>29.0</td>\n      <td>0</td>\n      <td>1.0</td>\n    </tr>\n    <tr>\n      <th>1</th>\n      <td>200500000001</td>\n      <td>0</td>\n      <td>1</td>\n      <td>0</td>\n      <td>0</td>\n      <td>0</td>\n      <td>0</td>\n      <td>1</td>\n      <td>0</td>\n      <td>0</td>\n      <td>1</td>\n      <td>0</td>\n      <td>0</td>\n      <td>0</td>\n      <td>1</td>\n      <td>0</td>\n      <td>0</td>\n      <td>0</td>\n      <td>1</td>\n      <td>0</td>\n      <td>0</td>\n      <td>0</td>\n      <td>0</td>\n      <td>0</td>\n      <td>1</td>\n      <td>0</td>\n      <td>0</td>\n      <td>0</td>\n      <td>0</td>\n      <td>0</td>\n      <td>1</td>\n      <td>1</td>\n      <td>0</td>\n      <td>0</td>\n      <td>1</td>\n      <td>1</td>\n      <td>0</td>\n      <td>1</td>\n      <td>0</td>\n      <td>0</td>\n      <td>0</td>\n      <td>0</td>\n      <td>0</td>\n      <td>0</td>\n      <td>1</td>\n      <td>0</td>\n      <td>1</td>\n      <td>1</td>\n      <td>1</td>\n      <td>0</td>\n      <td>2005.0</td>\n      <td>1.0</td>\n      <td>19.0</td>\n      <td>29.0</td>\n      <td>0</td>\n      <td>1.0</td>\n    </tr>\n    <tr>\n      <th>2</th>\n      <td>200500000001</td>\n      <td>0</td>\n      <td>1</td>\n      <td>0</td>\n      <td>0</td>\n      <td>0</td>\n      <td>0</td>\n      <td>1</td>\n      <td>0</td>\n      <td>0</td>\n      <td>1</td>\n      <td>0</td>\n      <td>0</td>\n      <td>0</td>\n      <td>1</td>\n      <td>0</td>\n      <td>0</td>\n      <td>0</td>\n      <td>1</td>\n      <td>0</td>\n      <td>0</td>\n      <td>0</td>\n      <td>0</td>\n      <td>0</td>\n      <td>1</td>\n      <td>0</td>\n      <td>0</td>\n      <td>0</td>\n      <td>0</td>\n      <td>0</td>\n      <td>1</td>\n      <td>1</td>\n      <td>0</td>\n      <td>0</td>\n      <td>1</td>\n      <td>1</td>\n      <td>0</td>\n      <td>1</td>\n      <td>0</td>\n      <td>0</td>\n      <td>0</td>\n      <td>0</td>\n      <td>0</td>\n      <td>0</td>\n      <td>0</td>\n      <td>0</td>\n      <td>1</td>\n      <td>1</td>\n      <td>1</td>\n      <td>0</td>\n      <td>2005.0</td>\n      <td>1.0</td>\n      <td>19.0</td>\n      <td>37.0</td>\n      <td>1</td>\n      <td>1.0</td>\n    </tr>\n    <tr>\n      <th>3</th>\n      <td>200500000001</td>\n      <td>0</td>\n      <td>1</td>\n      <td>0</td>\n      <td>0</td>\n      <td>0</td>\n      <td>0</td>\n      <td>1</td>\n      <td>0</td>\n      <td>0</td>\n      <td>1</td>\n      <td>0</td>\n      <td>0</td>\n      <td>0</td>\n      <td>1</td>\n      <td>0</td>\n      <td>0</td>\n      <td>0</td>\n      <td>1</td>\n      <td>0</td>\n      <td>0</td>\n      <td>0</td>\n      <td>0</td>\n      <td>0</td>\n      <td>1</td>\n      <td>0</td>\n      <td>0</td>\n      <td>0</td>\n      <td>0</td>\n      <td>0</td>\n      <td>1</td>\n      <td>1</td>\n      <td>0</td>\n      <td>0</td>\n      <td>1</td>\n      <td>1</td>\n      <td>0</td>\n      <td>1</td>\n      <td>0</td>\n      <td>0</td>\n      <td>0</td>\n      <td>0</td>\n      <td>0</td>\n      <td>0</td>\n      <td>0</td>\n      <td>0</td>\n      <td>1</td>\n      <td>1</td>\n      <td>1</td>\n      <td>0</td>\n      <td>2005.0</td>\n      <td>1.0</td>\n      <td>19.0</td>\n      <td>37.0</td>\n      <td>1</td>\n      <td>1.0</td>\n    </tr>\n    <tr>\n      <th>4</th>\n      <td>200500000001</td>\n      <td>0</td>\n      <td>1</td>\n      <td>0</td>\n      <td>0</td>\n      <td>0</td>\n      <td>0</td>\n      <td>1</td>\n      <td>0</td>\n      <td>0</td>\n      <td>1</td>\n      <td>0</td>\n      <td>0</td>\n      <td>0</td>\n      <td>1</td>\n      <td>0</td>\n      <td>0</td>\n      <td>0</td>\n      <td>1</td>\n      <td>0</td>\n      <td>0</td>\n      <td>0</td>\n      <td>0</td>\n      <td>0</td>\n      <td>1</td>\n      <td>0</td>\n      <td>0</td>\n      <td>0</td>\n      <td>0</td>\n      <td>0</td>\n      <td>1</td>\n      <td>1</td>\n      <td>0</td>\n      <td>0</td>\n      <td>1</td>\n      <td>1</td>\n      <td>0</td>\n      <td>0</td>\n      <td>1</td>\n      <td>0</td>\n      <td>0</td>\n      <td>0</td>\n      <td>1</td>\n      <td>0</td>\n      <td>1</td>\n      <td>0</td>\n      <td>1</td>\n      <td>1</td>\n      <td>1</td>\n      <td>0</td>\n      <td>2005.0</td>\n      <td>1.0</td>\n      <td>19.0</td>\n      <td>41.0</td>\n      <td>0</td>\n      <td>1.0</td>\n    </tr>\n  </tbody>\n</table>\n</div>"
     },
     "metadata": {},
     "execution_count": 41
    }
   ],
   "source": [
    "temp = pd.DataFrame({'test_id': df_out2.accident_id.sample(frac = 0.3), 'if_test': 1}).set_index('test_id')\n",
    "\n",
    "temp2 = df_out2.set_index('accident_id').join(temp)\n",
    "temp3 = temp2.reset_index().rename({'index': 'accident_id'}, axis = 1)\n",
    "temp3.head()"
   ]
  },
  {
   "cell_type": "markdown",
   "metadata": {},
   "source": [
    "Finally, create training and test sets"
   ]
  },
  {
   "cell_type": "code",
   "execution_count": 42,
   "metadata": {},
   "outputs": [],
   "source": [
    "test = temp3.query('if_test == 1').drop('if_test', axis =1)\n",
    "train = temp3[temp3.if_test.isna()].drop('if_test', axis =1)"
   ]
  },
  {
   "cell_type": "markdown",
   "metadata": {},
   "source": [
    "Checking if procedure was correct:"
   ]
  },
  {
   "cell_type": "code",
   "execution_count": 43,
   "metadata": {},
   "outputs": [
    {
     "output_type": "stream",
     "name": "stdout",
     "text": "(1602813, 55)\n(777375, 55)\n0.21665222330989328\n0.2553503778742563\n"
    }
   ],
   "source": [
    "print(test.shape)\n",
    "print(train.shape)\n",
    "\n",
    "print(test.y.mean())\n",
    "print(train.y.mean())"
   ]
  },
  {
   "cell_type": "code",
   "execution_count": 44,
   "metadata": {},
   "outputs": [],
   "source": [
    "x_train = train.drop(['y', 'accident_id'], axis = 1)\n",
    "x_test = test.drop(['y', 'accident_id'], axis = 1)\n",
    "\n",
    "y_train = train[['y']]\n",
    "y_test = test[['y']]"
   ]
  },
  {
   "cell_type": "code",
   "execution_count": 45,
   "metadata": {},
   "outputs": [
    {
     "output_type": "execute_result",
     "data": {
      "text/plain": "    d_lighting_Night with public lighting on  \\\n14                                         0   \n15                                         0   \n16                                         0   \n17                                         0   \n18                                         0   \n\n    d_lighting_Night without public lighting  d_lighting_Twilight or dawn  \\\n14                                         1                            0   \n15                                         1                            0   \n16                                         0                            0   \n17                                         0                            0   \n18                                         0                            0   \n\n    d_localization_Out of agglomeration  \\\n14                                    1   \n15                                    1   \n16                                    1   \n17                                    1   \n18                                    1   \n\n    d_intersection_type_Intersection in T  \\\n14                                      0   \n15                                      0   \n16                                      0   \n17                                      0   \n18                                      0   \n\n    d_intersection_type_Intersection in X  \\\n14                                      0   \n15                                      0   \n16                                      0   \n17                                      0   \n18                                      0   \n\n    d_intersection_type_Out of intersection  d_weather_Heavy rain  \\\n14                                        1                     0   \n15                                        1                     0   \n16                                        1                     0   \n17                                        1                     0   \n18                                        1                     0   \n\n    d_weather_Light rain  d_weather_Normal  d_collision_type_Other collision  \\\n14                     1                 0                                 0   \n15                     1                 0                                 0   \n16                     0                 1                                 0   \n17                     0                 1                                 0   \n18                     0                 1                                 0   \n\n    d_collision_type_Three or more vehicles - multiple collisions  \\\n14                                                  0               \n15                                                  0               \n16                                                  1               \n17                                                  1               \n18                                                  1               \n\n    d_collision_type_Three vehicles and more - in chain  \\\n14                                                  0     \n15                                                  0     \n16                                                  0     \n17                                                  0     \n18                                                  0     \n\n    d_collision_type_Two vehicles - by the side  \\\n14                                            0   \n15                                            0   \n16                                            0   \n17                                            0   \n18                                            0   \n\n    d_collision_type_Two vehicles - from the rear  \\\n14                                              0   \n15                                              0   \n16                                              0   \n17                                              0   \n18                                              0   \n\n    d_collision_type_Two vehicles - frontal  \\\n14                                        1   \n15                                        1   \n16                                        0   \n17                                        0   \n18                                        0   \n\n    d_collision_type_Without collision  d_road_category_Departmental Road  \\\n14                                   0                                  0   \n15                                   0                                  0   \n16                                   0                                  1   \n17                                   0                                  1   \n18                                   0                                  1   \n\n    d_road_category_Highway  d_road_category_National Road  d_road_regime_NA  \\\n14                        0                              1                 1   \n15                        0                              1                 1   \n16                        0                              0                 0   \n17                        0                              0                 0   \n18                        0                              0                 0   \n\n    d_road_regime_One way  d_road_regime_Separated carriageways  \\\n14                      0                                     0   \n15                      0                                     0   \n16                      0                                     0   \n17                      0                                     0   \n18                      0                                     0   \n\n    d_reserved_lane_NA  d_reserved_lane_Reserved channel  d_road_gradient_NA  \\\n14                   0                                 0                   0   \n15                   0                                 0                   0   \n16                   1                                 0                   0   \n17                   1                                 0                   0   \n18                   1                                 0                   0   \n\n    d_road_gradient_Slope  d_road_plan_Curved right  d_road_plan_NA  \\\n14                      0                         0               0   \n15                      0                         0               0   \n16                      0                         0               0   \n17                      0                         0               0   \n18                      0                         0               0   \n\n    d_road_plan_Straight part  d_road_condition_normal  d_road_condition_wet  \\\n14                          1                        0                     1   \n15                          1                        0                     1   \n16                          1                        1                     0   \n17                          1                        1                     0   \n18                          1                        1                     0   \n\n    d_infrastructure_Carrefour arranged  d_infrastructure_NA  \\\n14                                    0                    1   \n15                                    0                    1   \n16                                    0                    1   \n17                                    0                    1   \n18                                    0                    1   \n\n    d_accident_situation_On the road  d_accident_situation_On the verge  \\\n14                                 0                                  0   \n15                                 0                                  0   \n16                                 1                                  0   \n17                                 1                                  0   \n18                                 1                                  0   \n\n    d_place_in_car_1  d_place_in_car_2  d_place_in_car_3  d_place_in_car_4  \\\n14                 1                 0                 0                 0   \n15                 1                 0                 0                 0   \n16                 1                 0                 0                 0   \n17                 0                 1                 0                 0   \n18                 1                 0                 0                 0   \n\n    d_place_in_car_NA  d_user_type_Passenger  d_user_type_Pedestrian  \\\n14                  0                      0                       0   \n15                  0                      0                       0   \n16                  0                      0                       0   \n17                  0                      1                       0   \n18                  0                      0                       0   \n\n    d_sex_Male  d_equipment_used_no  d_equipment_used_yes  \\\n14           1                    0                     1   \n15           1                    0                     1   \n16           1                    0                     1   \n17           0                    0                     1   \n18           1                    0                     1   \n\n    d_pedestrian_action_not specified or not applicable  \\\n14                                                  1     \n15                                                  1     \n16                                                  1     \n17                                                  1     \n18                                                  1     \n\n    d_pedestrian_alone_NA  d_pedestrian_alone_Only    year  month  hour  \\\n14                      1                        0  2005.0    1.0  18.0   \n15                      1                        0  2005.0    1.0  18.0   \n16                      1                        0  2005.0    1.0  16.0   \n17                      1                        0  2005.0    1.0  16.0   \n18                      1                        0  2005.0    1.0  16.0   \n\n    user_age  \n14      22.0  \n15      49.0  \n16      85.0  \n17      82.0  \n18      41.0  ",
      "text/html": "<div>\n<style scoped>\n    .dataframe tbody tr th:only-of-type {\n        vertical-align: middle;\n    }\n\n    .dataframe tbody tr th {\n        vertical-align: top;\n    }\n\n    .dataframe thead th {\n        text-align: right;\n    }\n</style>\n<table border=\"1\" class=\"dataframe\">\n  <thead>\n    <tr style=\"text-align: right;\">\n      <th></th>\n      <th>d_lighting_Night with public lighting on</th>\n      <th>d_lighting_Night without public lighting</th>\n      <th>d_lighting_Twilight or dawn</th>\n      <th>d_localization_Out of agglomeration</th>\n      <th>d_intersection_type_Intersection in T</th>\n      <th>d_intersection_type_Intersection in X</th>\n      <th>d_intersection_type_Out of intersection</th>\n      <th>d_weather_Heavy rain</th>\n      <th>d_weather_Light rain</th>\n      <th>d_weather_Normal</th>\n      <th>d_collision_type_Other collision</th>\n      <th>d_collision_type_Three or more vehicles - multiple collisions</th>\n      <th>d_collision_type_Three vehicles and more - in chain</th>\n      <th>d_collision_type_Two vehicles - by the side</th>\n      <th>d_collision_type_Two vehicles - from the rear</th>\n      <th>d_collision_type_Two vehicles - frontal</th>\n      <th>d_collision_type_Without collision</th>\n      <th>d_road_category_Departmental Road</th>\n      <th>d_road_category_Highway</th>\n      <th>d_road_category_National Road</th>\n      <th>d_road_regime_NA</th>\n      <th>d_road_regime_One way</th>\n      <th>d_road_regime_Separated carriageways</th>\n      <th>d_reserved_lane_NA</th>\n      <th>d_reserved_lane_Reserved channel</th>\n      <th>d_road_gradient_NA</th>\n      <th>d_road_gradient_Slope</th>\n      <th>d_road_plan_Curved right</th>\n      <th>d_road_plan_NA</th>\n      <th>d_road_plan_Straight part</th>\n      <th>d_road_condition_normal</th>\n      <th>d_road_condition_wet</th>\n      <th>d_infrastructure_Carrefour arranged</th>\n      <th>d_infrastructure_NA</th>\n      <th>d_accident_situation_On the road</th>\n      <th>d_accident_situation_On the verge</th>\n      <th>d_place_in_car_1</th>\n      <th>d_place_in_car_2</th>\n      <th>d_place_in_car_3</th>\n      <th>d_place_in_car_4</th>\n      <th>d_place_in_car_NA</th>\n      <th>d_user_type_Passenger</th>\n      <th>d_user_type_Pedestrian</th>\n      <th>d_sex_Male</th>\n      <th>d_equipment_used_no</th>\n      <th>d_equipment_used_yes</th>\n      <th>d_pedestrian_action_not specified or not applicable</th>\n      <th>d_pedestrian_alone_NA</th>\n      <th>d_pedestrian_alone_Only</th>\n      <th>year</th>\n      <th>month</th>\n      <th>hour</th>\n      <th>user_age</th>\n    </tr>\n  </thead>\n  <tbody>\n    <tr>\n      <th>14</th>\n      <td>0</td>\n      <td>1</td>\n      <td>0</td>\n      <td>1</td>\n      <td>0</td>\n      <td>0</td>\n      <td>1</td>\n      <td>0</td>\n      <td>1</td>\n      <td>0</td>\n      <td>0</td>\n      <td>0</td>\n      <td>0</td>\n      <td>0</td>\n      <td>0</td>\n      <td>1</td>\n      <td>0</td>\n      <td>0</td>\n      <td>0</td>\n      <td>1</td>\n      <td>1</td>\n      <td>0</td>\n      <td>0</td>\n      <td>0</td>\n      <td>0</td>\n      <td>0</td>\n      <td>0</td>\n      <td>0</td>\n      <td>0</td>\n      <td>1</td>\n      <td>0</td>\n      <td>1</td>\n      <td>0</td>\n      <td>1</td>\n      <td>0</td>\n      <td>0</td>\n      <td>1</td>\n      <td>0</td>\n      <td>0</td>\n      <td>0</td>\n      <td>0</td>\n      <td>0</td>\n      <td>0</td>\n      <td>1</td>\n      <td>0</td>\n      <td>1</td>\n      <td>1</td>\n      <td>1</td>\n      <td>0</td>\n      <td>2005.0</td>\n      <td>1.0</td>\n      <td>18.0</td>\n      <td>22.0</td>\n    </tr>\n    <tr>\n      <th>15</th>\n      <td>0</td>\n      <td>1</td>\n      <td>0</td>\n      <td>1</td>\n      <td>0</td>\n      <td>0</td>\n      <td>1</td>\n      <td>0</td>\n      <td>1</td>\n      <td>0</td>\n      <td>0</td>\n      <td>0</td>\n      <td>0</td>\n      <td>0</td>\n      <td>0</td>\n      <td>1</td>\n      <td>0</td>\n      <td>0</td>\n      <td>0</td>\n      <td>1</td>\n      <td>1</td>\n      <td>0</td>\n      <td>0</td>\n      <td>0</td>\n      <td>0</td>\n      <td>0</td>\n      <td>0</td>\n      <td>0</td>\n      <td>0</td>\n      <td>1</td>\n      <td>0</td>\n      <td>1</td>\n      <td>0</td>\n      <td>1</td>\n      <td>0</td>\n      <td>0</td>\n      <td>1</td>\n      <td>0</td>\n      <td>0</td>\n      <td>0</td>\n      <td>0</td>\n      <td>0</td>\n      <td>0</td>\n      <td>1</td>\n      <td>0</td>\n      <td>1</td>\n      <td>1</td>\n      <td>1</td>\n      <td>0</td>\n      <td>2005.0</td>\n      <td>1.0</td>\n      <td>18.0</td>\n      <td>49.0</td>\n    </tr>\n    <tr>\n      <th>16</th>\n      <td>0</td>\n      <td>0</td>\n      <td>0</td>\n      <td>1</td>\n      <td>0</td>\n      <td>0</td>\n      <td>1</td>\n      <td>0</td>\n      <td>0</td>\n      <td>1</td>\n      <td>0</td>\n      <td>1</td>\n      <td>0</td>\n      <td>0</td>\n      <td>0</td>\n      <td>0</td>\n      <td>0</td>\n      <td>1</td>\n      <td>0</td>\n      <td>0</td>\n      <td>0</td>\n      <td>0</td>\n      <td>0</td>\n      <td>1</td>\n      <td>0</td>\n      <td>0</td>\n      <td>0</td>\n      <td>0</td>\n      <td>0</td>\n      <td>1</td>\n      <td>1</td>\n      <td>0</td>\n      <td>0</td>\n      <td>1</td>\n      <td>1</td>\n      <td>0</td>\n      <td>1</td>\n      <td>0</td>\n      <td>0</td>\n      <td>0</td>\n      <td>0</td>\n      <td>0</td>\n      <td>0</td>\n      <td>1</td>\n      <td>0</td>\n      <td>1</td>\n      <td>1</td>\n      <td>1</td>\n      <td>0</td>\n      <td>2005.0</td>\n      <td>1.0</td>\n      <td>16.0</td>\n      <td>85.0</td>\n    </tr>\n    <tr>\n      <th>17</th>\n      <td>0</td>\n      <td>0</td>\n      <td>0</td>\n      <td>1</td>\n      <td>0</td>\n      <td>0</td>\n      <td>1</td>\n      <td>0</td>\n      <td>0</td>\n      <td>1</td>\n      <td>0</td>\n      <td>1</td>\n      <td>0</td>\n      <td>0</td>\n      <td>0</td>\n      <td>0</td>\n      <td>0</td>\n      <td>1</td>\n      <td>0</td>\n      <td>0</td>\n      <td>0</td>\n      <td>0</td>\n      <td>0</td>\n      <td>1</td>\n      <td>0</td>\n      <td>0</td>\n      <td>0</td>\n      <td>0</td>\n      <td>0</td>\n      <td>1</td>\n      <td>1</td>\n      <td>0</td>\n      <td>0</td>\n      <td>1</td>\n      <td>1</td>\n      <td>0</td>\n      <td>0</td>\n      <td>1</td>\n      <td>0</td>\n      <td>0</td>\n      <td>0</td>\n      <td>1</td>\n      <td>0</td>\n      <td>0</td>\n      <td>0</td>\n      <td>1</td>\n      <td>1</td>\n      <td>1</td>\n      <td>0</td>\n      <td>2005.0</td>\n      <td>1.0</td>\n      <td>16.0</td>\n      <td>82.0</td>\n    </tr>\n    <tr>\n      <th>18</th>\n      <td>0</td>\n      <td>0</td>\n      <td>0</td>\n      <td>1</td>\n      <td>0</td>\n      <td>0</td>\n      <td>1</td>\n      <td>0</td>\n      <td>0</td>\n      <td>1</td>\n      <td>0</td>\n      <td>1</td>\n      <td>0</td>\n      <td>0</td>\n      <td>0</td>\n      <td>0</td>\n      <td>0</td>\n      <td>1</td>\n      <td>0</td>\n      <td>0</td>\n      <td>0</td>\n      <td>0</td>\n      <td>0</td>\n      <td>1</td>\n      <td>0</td>\n      <td>0</td>\n      <td>0</td>\n      <td>0</td>\n      <td>0</td>\n      <td>1</td>\n      <td>1</td>\n      <td>0</td>\n      <td>0</td>\n      <td>1</td>\n      <td>1</td>\n      <td>0</td>\n      <td>1</td>\n      <td>0</td>\n      <td>0</td>\n      <td>0</td>\n      <td>0</td>\n      <td>0</td>\n      <td>0</td>\n      <td>1</td>\n      <td>0</td>\n      <td>1</td>\n      <td>1</td>\n      <td>1</td>\n      <td>0</td>\n      <td>2005.0</td>\n      <td>1.0</td>\n      <td>16.0</td>\n      <td>41.0</td>\n    </tr>\n  </tbody>\n</table>\n</div>"
     },
     "metadata": {},
     "execution_count": 45
    }
   ],
   "source": [
    "x_train.head()"
   ]
  },
  {
   "cell_type": "code",
   "execution_count": 48,
   "metadata": {},
   "outputs": [],
   "source": [
    "# x_train, x_test, y_train, y_test = train_test_split(df_out2.drop('y', axis=1), \n",
    "#                                                     df_out2.y, \n",
    "#                                                     stratify=df_out2.y, \n",
    "#                                                     test_size=0.3, \n",
    "#                                                     random_state = 3)"
   ]
  },
  {
   "cell_type": "markdown",
   "metadata": {},
   "source": [
    "### Modeling"
   ]
  },
  {
   "cell_type": "code",
   "execution_count": 46,
   "metadata": {},
   "outputs": [],
   "source": [
    "cols_to_log = [\n",
    "    # 'd_lighting_Night with public lighting on',\n",
    "#  'd_lighting_Night without public lighting',\n",
    "#  'd_lighting_Twilight or dawn',\n",
    "#  'd_localization_Out of agglomeration',\n",
    "#  'd_intersection_type_Intersection in T',\n",
    "#  'd_intersection_type_Intersection in X',\n",
    "#  'd_intersection_type_Out of intersection',\n",
    "#  'd_weather_Heavy rain',\n",
    "#  'd_weather_Light rain',\n",
    "#  'd_weather_Normal',\n",
    "#  'd_collision_type_Other collision',\n",
    "#  'd_collision_type_Three or more vehicles - multiple collisions',\n",
    "#  'd_collision_type_Three vehicles and more - in chain',\n",
    "#  'd_collision_type_Two vehicles - by the side',\n",
    "#  'd_collision_type_Two vehicles - from the rear',\n",
    "#  'd_collision_type_Two vehicles - frontal',\n",
    "#  'd_collision_type_Without collision',\n",
    " 'd_road_category_Departmental Road',\n",
    "#  'd_road_category_Highway',\n",
    "#  'd_road_category_National Road',\n",
    "#  'd_road_regime_NA',\n",
    "#  'd_road_regime_One way',\n",
    "#  'd_road_regime_Separated carriageways',\n",
    "#  'd_reserved_lane_NA',\n",
    "#  'd_reserved_lane_Reserved channel',\n",
    "#  'd_road_gradient_NA',\n",
    "#  'd_road_gradient_Slope',\n",
    "#  'd_road_plan_Curved right',\n",
    "#  'd_road_plan_NA',\n",
    "#  'd_road_plan_Straight part',\n",
    "#  'd_road_condition_normal',\n",
    "#  'd_road_condition_wet',\n",
    "#  'd_infrastructure_Carrefour arranged',\n",
    "#  'd_infrastructure_NA',\n",
    "#  'd_accident_situation_On the road',\n",
    "#  'd_accident_situation_On the verge',\n",
    "#  'd_place_in_car_1',\n",
    "#  'd_place_in_car_2',\n",
    "#  'd_place_in_car_3',\n",
    "#  'd_place_in_car_4',\n",
    "#  'd_place_in_car_NA',\n",
    "#  'd_user_type_Passenger',\n",
    "#  'd_user_type_Pedestrian',\n",
    "#  'd_sex_Male',\n",
    "#  'd_equipment_used_no',\n",
    "#  'd_equipment_used_yes',\n",
    "#  'd_pedestrian_action_not specified or not applicable',\n",
    "#  'd_pedestrian_alone_NA',\n",
    "#  'd_pedestrian_alone_Only',\n",
    "#  'year',\n",
    "#  'month',\n",
    "#  'hour',\n",
    "#  'user_age'\n",
    " ]"
   ]
  },
  {
   "cell_type": "code",
   "execution_count": 47,
   "metadata": {},
   "outputs": [
    {
     "output_type": "execute_result",
     "data": {
      "text/plain": "<class 'statsmodels.iolib.summary.Summary'>\n\"\"\"\n                                 OLS Regression Results                                \n=======================================================================================\nDep. Variable:                      y   R-squared (uncentered):                   0.192\nModel:                            OLS   Adj. R-squared (uncentered):              0.192\nMethod:                 Least Squares   F-statistic:                          1.843e+05\nDate:                Sun, 17 May 2020   Prob (F-statistic):                        0.00\nTime:                        02:33:15   Log-Likelihood:                     -4.8976e+05\nNo. Observations:              777375   AIC:                                  9.795e+05\nDf Residuals:                  777374   BIC:                                  9.795e+05\nDf Model:                           1                                                  \nCovariance Type:            nonrobust                                                  \n=====================================================================================================\n                                        coef    std err          t      P>|t|      [0.025      0.975]\n-----------------------------------------------------------------------------------------------------\nd_road_category_Departmental Road     0.3977      0.001    429.257      0.000       0.396       0.400\n==============================================================================\nOmnibus:                    76684.311   Durbin-Watson:                   1.655\nProb(Omnibus):                  0.000   Jarque-Bera (JB):            97813.876\nSkew:                           0.855   Prob(JB):                         0.00\nKurtosis:                       2.687   Cond. No.                         1.00\n==============================================================================\n\nWarnings:\n[1] Standard Errors assume that the covariance matrix of the errors is correctly specified.\n\"\"\"",
      "text/html": "<table class=\"simpletable\">\n<caption>OLS Regression Results</caption>\n<tr>\n  <th>Dep. Variable:</th>            <td>y</td>        <th>  R-squared (uncentered):</th>       <td>   0.192</td>  \n</tr>\n<tr>\n  <th>Model:</th>                   <td>OLS</td>       <th>  Adj. R-squared (uncentered):</th>  <td>   0.192</td>  \n</tr>\n<tr>\n  <th>Method:</th>             <td>Least Squares</td>  <th>  F-statistic:       </th>           <td>1.843e+05</td> \n</tr>\n<tr>\n  <th>Date:</th>             <td>Sun, 17 May 2020</td> <th>  Prob (F-statistic):</th>            <td>  0.00</td>   \n</tr>\n<tr>\n  <th>Time:</th>                 <td>02:33:15</td>     <th>  Log-Likelihood:    </th>          <td>-4.8976e+05</td>\n</tr>\n<tr>\n  <th>No. Observations:</th>      <td>777375</td>      <th>  AIC:               </th>           <td>9.795e+05</td> \n</tr>\n<tr>\n  <th>Df Residuals:</th>          <td>777374</td>      <th>  BIC:               </th>           <td>9.795e+05</td> \n</tr>\n<tr>\n  <th>Df Model:</th>              <td>     1</td>      <th>                     </th>               <td> </td>     \n</tr>\n<tr>\n  <th>Covariance Type:</th>      <td>nonrobust</td>    <th>                     </th>               <td> </td>     \n</tr>\n</table>\n<table class=\"simpletable\">\n<tr>\n                  <td></td>                     <th>coef</th>     <th>std err</th>      <th>t</th>      <th>P>|t|</th>  <th>[0.025</th>    <th>0.975]</th>  \n</tr>\n<tr>\n  <th>d_road_category_Departmental Road</th> <td>    0.3977</td> <td>    0.001</td> <td>  429.257</td> <td> 0.000</td> <td>    0.396</td> <td>    0.400</td>\n</tr>\n</table>\n<table class=\"simpletable\">\n<tr>\n  <th>Omnibus:</th>       <td>76684.311</td> <th>  Durbin-Watson:     </th> <td>   1.655</td> \n</tr>\n<tr>\n  <th>Prob(Omnibus):</th>  <td> 0.000</td>   <th>  Jarque-Bera (JB):  </th> <td>97813.876</td>\n</tr>\n<tr>\n  <th>Skew:</th>           <td> 0.855</td>   <th>  Prob(JB):          </th> <td>    0.00</td> \n</tr>\n<tr>\n  <th>Kurtosis:</th>       <td> 2.687</td>   <th>  Cond. No.          </th> <td>    1.00</td> \n</tr>\n</table><br/><br/>Warnings:<br/>[1] Standard Errors assume that the covariance matrix of the errors is correctly specified."
     },
     "metadata": {},
     "execution_count": 47
    }
   ],
   "source": [
    "mod = sm.OLS(y_train[\"y\"],x_train[\"d_road_category_Departmental Road\"])\n",
    "res = mod.fit()\n",
    "res.summary()"
   ]
  },
  {
   "cell_type": "markdown",
   "metadata": {},
   "source": [
    "R^2 value is not that good enough lets try with all variables."
   ]
  },
  {
   "cell_type": "code",
   "execution_count": 49,
   "metadata": {},
   "outputs": [
    {
     "output_type": "execute_result",
     "data": {
      "text/plain": "<class 'statsmodels.iolib.summary.Summary'>\n\"\"\"\n                            OLS Regression Results                            \n==============================================================================\nDep. Variable:                      y   R-squared:                       0.167\nModel:                            OLS   Adj. R-squared:                  0.167\nMethod:                 Least Squares   F-statistic:                     2939.\nDate:                Sun, 17 May 2020   Prob (F-statistic):               0.00\nTime:                        02:34:51   Log-Likelihood:            -3.8686e+05\nNo. Observations:              777375   AIC:                         7.738e+05\nDf Residuals:                  777321   BIC:                         7.744e+05\nDf Model:                          53                                         \nCovariance Type:            nonrobust                                         \n=================================================================================================================================\n                                                                    coef    std err          t      P>|t|      [0.025      0.975]\n---------------------------------------------------------------------------------------------------------------------------------\nconst                                                             0.3108      0.302      1.031      0.303      -0.280       0.902\nd_lighting_Night with public lighting on                          0.0305      0.001     23.215      0.000       0.028       0.033\nd_lighting_Night without public lighting                          0.0712      0.002     37.556      0.000       0.068       0.075\nd_lighting_Twilight or dawn                                       0.0198      0.002     10.050      0.000       0.016       0.024\nd_localization_Out of agglomeration                               0.1497      0.001    106.733      0.000       0.147       0.152\nd_intersection_type_Intersection in T                            -0.0079      0.002     -3.485      0.000      -0.012      -0.003\nd_intersection_type_Intersection in X                            -0.0136      0.002     -6.476      0.000      -0.018      -0.010\nd_intersection_type_Out of intersection                           0.0273      0.002     15.161      0.000       0.024       0.031\nd_weather_Heavy rain                                             -0.0166      0.004     -4.467      0.000      -0.024      -0.009\nd_weather_Light rain                                             -0.0416      0.003    -16.469      0.000      -0.047      -0.037\nd_weather_Normal                                                 -0.0238      0.002    -11.878      0.000      -0.028      -0.020\nd_collision_type_Other collision                                 -0.0034      0.120     -0.029      0.977      -0.239       0.232\nd_collision_type_Three or more vehicles - multiple collisions    -0.0754      0.120     -0.628      0.530      -0.311       0.160\nd_collision_type_Three vehicles and more - in chain              -0.1248      0.120     -1.040      0.298      -0.360       0.110\nd_collision_type_Two vehicles - by the side                      -0.0163      0.120     -0.136      0.892      -0.252       0.219\nd_collision_type_Two vehicles - from the rear                    -0.0676      0.120     -0.563      0.574      -0.303       0.168\nd_collision_type_Two vehicles - frontal                           0.0491      0.120      0.409      0.682      -0.186       0.284\nd_collision_type_Without collision                                0.0674      0.120      0.561      0.574      -0.168       0.303\nd_road_category_Departmental Road                                 0.1072      0.001     88.125      0.000       0.105       0.110\nd_road_category_Highway                                          -0.0460      0.002    -18.833      0.000      -0.051      -0.041\nd_road_category_National Road                                     0.0472      0.002     25.309      0.000       0.044       0.051\nd_road_regime_NA                                                 -0.0212      0.002     -9.908      0.000      -0.025      -0.017\nd_road_regime_One way                                            -0.0656      0.001    -50.634      0.000      -0.068      -0.063\nd_road_regime_Separated carriageways                             -0.0499      0.002    -31.085      0.000      -0.053      -0.047\nd_reserved_lane_NA                                                0.0007      0.003      0.291      0.771      -0.004       0.006\nd_reserved_lane_Reserved channel                                 -0.0158      0.004     -4.342      0.000      -0.023      -0.009\nd_road_gradient_NA                                                0.0435      0.002     22.931      0.000       0.040       0.047\nd_road_gradient_Slope                                             0.0100      0.001      7.292      0.000       0.007       0.013\nd_road_plan_Curved right                                          0.0057      0.002      2.521      0.012       0.001       0.010\nd_road_plan_NA                                                   -0.0662      0.002    -26.701      0.000      -0.071      -0.061\nd_road_plan_Straight part                                        -0.0512      0.002    -30.385      0.000      -0.054      -0.048\nd_road_condition_normal                                           0.0251      0.002     11.145      0.000       0.021       0.030\nd_road_condition_wet                                              0.0058      0.003      2.132      0.033       0.000       0.011\nd_infrastructure_Carrefour arranged                               0.0344      0.003     11.988      0.000       0.029       0.040\nd_infrastructure_NA                                              -0.0026      0.002     -1.167      0.243      -0.007       0.002\nd_accident_situation_On the road                                 -0.0543      0.002    -31.244      0.000      -0.058      -0.051\nd_accident_situation_On the verge                                 0.1745      0.003     63.468      0.000       0.169       0.180\nd_place_in_car_1                                                 -0.0941      0.008    -11.213      0.000      -0.111      -0.078\nd_place_in_car_2                                                  0.0113      0.005      2.293      0.022       0.002       0.021\nd_place_in_car_3                                                 -0.0591      0.006     -9.529      0.000      -0.071      -0.047\nd_place_in_car_4                                                 -0.0530      0.007     -8.141      0.000      -0.066      -0.040\nd_place_in_car_NA                                                -0.0117      0.003     -3.774      0.000      -0.018      -0.006\nd_user_type_Passenger                                            -0.0904      0.008    -11.097      0.000      -0.106      -0.074\nd_user_type_Pedestrian                                            0.1130      0.008     13.650      0.000       0.097       0.129\nd_sex_Male                                                        0.0411      0.001     40.771      0.000       0.039       0.043\nd_equipment_used_no                                               0.2357      0.003     85.026      0.000       0.230       0.241\nd_equipment_used_yes                                             -0.0113      0.001     -8.327      0.000      -0.014      -0.009\nd_pedestrian_action_not specified or not applicable              -0.0014      0.006     -0.221      0.825      -0.014       0.011\nd_pedestrian_alone_NA                                            -0.0071      0.007     -1.048      0.295      -0.021       0.006\nd_pedestrian_alone_Only                                           0.0447      0.004     12.141      0.000       0.037       0.052\nyear                                                          -1.011e-05      0.000     -0.074      0.941      -0.000       0.000\nmonth                                                             0.0004      0.000      3.034      0.002       0.000       0.001\nhour                                                              0.0004      0.000      4.146      0.000       0.000       0.001\nuser_age                                                          0.0002    2.6e-05      9.308      0.000       0.000       0.000\n==============================================================================\nOmnibus:                    84055.179   Durbin-Watson:                   1.893\nProb(Omnibus):                  0.000   Jarque-Bera (JB):           112449.046\nSkew:                           0.923   Prob(JB):                         0.00\nKurtosis:                       2.751   Cond. No.                     1.63e+06\n==============================================================================\n\nWarnings:\n[1] Standard Errors assume that the covariance matrix of the errors is correctly specified.\n[2] The condition number is large, 1.63e+06. This might indicate that there are\nstrong multicollinearity or other numerical problems.\n\"\"\"",
      "text/html": "<table class=\"simpletable\">\n<caption>OLS Regression Results</caption>\n<tr>\n  <th>Dep. Variable:</th>            <td>y</td>        <th>  R-squared:         </th>  <td>   0.167</td>  \n</tr>\n<tr>\n  <th>Model:</th>                   <td>OLS</td>       <th>  Adj. R-squared:    </th>  <td>   0.167</td>  \n</tr>\n<tr>\n  <th>Method:</th>             <td>Least Squares</td>  <th>  F-statistic:       </th>  <td>   2939.</td>  \n</tr>\n<tr>\n  <th>Date:</th>             <td>Sun, 17 May 2020</td> <th>  Prob (F-statistic):</th>   <td>  0.00</td>   \n</tr>\n<tr>\n  <th>Time:</th>                 <td>02:34:51</td>     <th>  Log-Likelihood:    </th> <td>-3.8686e+05</td>\n</tr>\n<tr>\n  <th>No. Observations:</th>      <td>777375</td>      <th>  AIC:               </th>  <td>7.738e+05</td> \n</tr>\n<tr>\n  <th>Df Residuals:</th>          <td>777321</td>      <th>  BIC:               </th>  <td>7.744e+05</td> \n</tr>\n<tr>\n  <th>Df Model:</th>              <td>    53</td>      <th>                     </th>      <td> </td>     \n</tr>\n<tr>\n  <th>Covariance Type:</th>      <td>nonrobust</td>    <th>                     </th>      <td> </td>     \n</tr>\n</table>\n<table class=\"simpletable\">\n<tr>\n                                <td></td>                                   <th>coef</th>     <th>std err</th>      <th>t</th>      <th>P>|t|</th>  <th>[0.025</th>    <th>0.975]</th>  \n</tr>\n<tr>\n  <th>const</th>                                                         <td>    0.3108</td> <td>    0.302</td> <td>    1.031</td> <td> 0.303</td> <td>   -0.280</td> <td>    0.902</td>\n</tr>\n<tr>\n  <th>d_lighting_Night with public lighting on</th>                      <td>    0.0305</td> <td>    0.001</td> <td>   23.215</td> <td> 0.000</td> <td>    0.028</td> <td>    0.033</td>\n</tr>\n<tr>\n  <th>d_lighting_Night without public lighting</th>                      <td>    0.0712</td> <td>    0.002</td> <td>   37.556</td> <td> 0.000</td> <td>    0.068</td> <td>    0.075</td>\n</tr>\n<tr>\n  <th>d_lighting_Twilight or dawn</th>                                   <td>    0.0198</td> <td>    0.002</td> <td>   10.050</td> <td> 0.000</td> <td>    0.016</td> <td>    0.024</td>\n</tr>\n<tr>\n  <th>d_localization_Out of agglomeration</th>                           <td>    0.1497</td> <td>    0.001</td> <td>  106.733</td> <td> 0.000</td> <td>    0.147</td> <td>    0.152</td>\n</tr>\n<tr>\n  <th>d_intersection_type_Intersection in T</th>                         <td>   -0.0079</td> <td>    0.002</td> <td>   -3.485</td> <td> 0.000</td> <td>   -0.012</td> <td>   -0.003</td>\n</tr>\n<tr>\n  <th>d_intersection_type_Intersection in X</th>                         <td>   -0.0136</td> <td>    0.002</td> <td>   -6.476</td> <td> 0.000</td> <td>   -0.018</td> <td>   -0.010</td>\n</tr>\n<tr>\n  <th>d_intersection_type_Out of intersection</th>                       <td>    0.0273</td> <td>    0.002</td> <td>   15.161</td> <td> 0.000</td> <td>    0.024</td> <td>    0.031</td>\n</tr>\n<tr>\n  <th>d_weather_Heavy rain</th>                                          <td>   -0.0166</td> <td>    0.004</td> <td>   -4.467</td> <td> 0.000</td> <td>   -0.024</td> <td>   -0.009</td>\n</tr>\n<tr>\n  <th>d_weather_Light rain</th>                                          <td>   -0.0416</td> <td>    0.003</td> <td>  -16.469</td> <td> 0.000</td> <td>   -0.047</td> <td>   -0.037</td>\n</tr>\n<tr>\n  <th>d_weather_Normal</th>                                              <td>   -0.0238</td> <td>    0.002</td> <td>  -11.878</td> <td> 0.000</td> <td>   -0.028</td> <td>   -0.020</td>\n</tr>\n<tr>\n  <th>d_collision_type_Other collision</th>                              <td>   -0.0034</td> <td>    0.120</td> <td>   -0.029</td> <td> 0.977</td> <td>   -0.239</td> <td>    0.232</td>\n</tr>\n<tr>\n  <th>d_collision_type_Three or more vehicles - multiple collisions</th> <td>   -0.0754</td> <td>    0.120</td> <td>   -0.628</td> <td> 0.530</td> <td>   -0.311</td> <td>    0.160</td>\n</tr>\n<tr>\n  <th>d_collision_type_Three vehicles and more - in chain</th>           <td>   -0.1248</td> <td>    0.120</td> <td>   -1.040</td> <td> 0.298</td> <td>   -0.360</td> <td>    0.110</td>\n</tr>\n<tr>\n  <th>d_collision_type_Two vehicles - by the side</th>                   <td>   -0.0163</td> <td>    0.120</td> <td>   -0.136</td> <td> 0.892</td> <td>   -0.252</td> <td>    0.219</td>\n</tr>\n<tr>\n  <th>d_collision_type_Two vehicles - from the rear</th>                 <td>   -0.0676</td> <td>    0.120</td> <td>   -0.563</td> <td> 0.574</td> <td>   -0.303</td> <td>    0.168</td>\n</tr>\n<tr>\n  <th>d_collision_type_Two vehicles - frontal</th>                       <td>    0.0491</td> <td>    0.120</td> <td>    0.409</td> <td> 0.682</td> <td>   -0.186</td> <td>    0.284</td>\n</tr>\n<tr>\n  <th>d_collision_type_Without collision</th>                            <td>    0.0674</td> <td>    0.120</td> <td>    0.561</td> <td> 0.574</td> <td>   -0.168</td> <td>    0.303</td>\n</tr>\n<tr>\n  <th>d_road_category_Departmental Road</th>                             <td>    0.1072</td> <td>    0.001</td> <td>   88.125</td> <td> 0.000</td> <td>    0.105</td> <td>    0.110</td>\n</tr>\n<tr>\n  <th>d_road_category_Highway</th>                                       <td>   -0.0460</td> <td>    0.002</td> <td>  -18.833</td> <td> 0.000</td> <td>   -0.051</td> <td>   -0.041</td>\n</tr>\n<tr>\n  <th>d_road_category_National Road</th>                                 <td>    0.0472</td> <td>    0.002</td> <td>   25.309</td> <td> 0.000</td> <td>    0.044</td> <td>    0.051</td>\n</tr>\n<tr>\n  <th>d_road_regime_NA</th>                                              <td>   -0.0212</td> <td>    0.002</td> <td>   -9.908</td> <td> 0.000</td> <td>   -0.025</td> <td>   -0.017</td>\n</tr>\n<tr>\n  <th>d_road_regime_One way</th>                                         <td>   -0.0656</td> <td>    0.001</td> <td>  -50.634</td> <td> 0.000</td> <td>   -0.068</td> <td>   -0.063</td>\n</tr>\n<tr>\n  <th>d_road_regime_Separated carriageways</th>                          <td>   -0.0499</td> <td>    0.002</td> <td>  -31.085</td> <td> 0.000</td> <td>   -0.053</td> <td>   -0.047</td>\n</tr>\n<tr>\n  <th>d_reserved_lane_NA</th>                                            <td>    0.0007</td> <td>    0.003</td> <td>    0.291</td> <td> 0.771</td> <td>   -0.004</td> <td>    0.006</td>\n</tr>\n<tr>\n  <th>d_reserved_lane_Reserved channel</th>                              <td>   -0.0158</td> <td>    0.004</td> <td>   -4.342</td> <td> 0.000</td> <td>   -0.023</td> <td>   -0.009</td>\n</tr>\n<tr>\n  <th>d_road_gradient_NA</th>                                            <td>    0.0435</td> <td>    0.002</td> <td>   22.931</td> <td> 0.000</td> <td>    0.040</td> <td>    0.047</td>\n</tr>\n<tr>\n  <th>d_road_gradient_Slope</th>                                         <td>    0.0100</td> <td>    0.001</td> <td>    7.292</td> <td> 0.000</td> <td>    0.007</td> <td>    0.013</td>\n</tr>\n<tr>\n  <th>d_road_plan_Curved right</th>                                      <td>    0.0057</td> <td>    0.002</td> <td>    2.521</td> <td> 0.012</td> <td>    0.001</td> <td>    0.010</td>\n</tr>\n<tr>\n  <th>d_road_plan_NA</th>                                                <td>   -0.0662</td> <td>    0.002</td> <td>  -26.701</td> <td> 0.000</td> <td>   -0.071</td> <td>   -0.061</td>\n</tr>\n<tr>\n  <th>d_road_plan_Straight part</th>                                     <td>   -0.0512</td> <td>    0.002</td> <td>  -30.385</td> <td> 0.000</td> <td>   -0.054</td> <td>   -0.048</td>\n</tr>\n<tr>\n  <th>d_road_condition_normal</th>                                       <td>    0.0251</td> <td>    0.002</td> <td>   11.145</td> <td> 0.000</td> <td>    0.021</td> <td>    0.030</td>\n</tr>\n<tr>\n  <th>d_road_condition_wet</th>                                          <td>    0.0058</td> <td>    0.003</td> <td>    2.132</td> <td> 0.033</td> <td>    0.000</td> <td>    0.011</td>\n</tr>\n<tr>\n  <th>d_infrastructure_Carrefour arranged</th>                           <td>    0.0344</td> <td>    0.003</td> <td>   11.988</td> <td> 0.000</td> <td>    0.029</td> <td>    0.040</td>\n</tr>\n<tr>\n  <th>d_infrastructure_NA</th>                                           <td>   -0.0026</td> <td>    0.002</td> <td>   -1.167</td> <td> 0.243</td> <td>   -0.007</td> <td>    0.002</td>\n</tr>\n<tr>\n  <th>d_accident_situation_On the road</th>                              <td>   -0.0543</td> <td>    0.002</td> <td>  -31.244</td> <td> 0.000</td> <td>   -0.058</td> <td>   -0.051</td>\n</tr>\n<tr>\n  <th>d_accident_situation_On the verge</th>                             <td>    0.1745</td> <td>    0.003</td> <td>   63.468</td> <td> 0.000</td> <td>    0.169</td> <td>    0.180</td>\n</tr>\n<tr>\n  <th>d_place_in_car_1</th>                                              <td>   -0.0941</td> <td>    0.008</td> <td>  -11.213</td> <td> 0.000</td> <td>   -0.111</td> <td>   -0.078</td>\n</tr>\n<tr>\n  <th>d_place_in_car_2</th>                                              <td>    0.0113</td> <td>    0.005</td> <td>    2.293</td> <td> 0.022</td> <td>    0.002</td> <td>    0.021</td>\n</tr>\n<tr>\n  <th>d_place_in_car_3</th>                                              <td>   -0.0591</td> <td>    0.006</td> <td>   -9.529</td> <td> 0.000</td> <td>   -0.071</td> <td>   -0.047</td>\n</tr>\n<tr>\n  <th>d_place_in_car_4</th>                                              <td>   -0.0530</td> <td>    0.007</td> <td>   -8.141</td> <td> 0.000</td> <td>   -0.066</td> <td>   -0.040</td>\n</tr>\n<tr>\n  <th>d_place_in_car_NA</th>                                             <td>   -0.0117</td> <td>    0.003</td> <td>   -3.774</td> <td> 0.000</td> <td>   -0.018</td> <td>   -0.006</td>\n</tr>\n<tr>\n  <th>d_user_type_Passenger</th>                                         <td>   -0.0904</td> <td>    0.008</td> <td>  -11.097</td> <td> 0.000</td> <td>   -0.106</td> <td>   -0.074</td>\n</tr>\n<tr>\n  <th>d_user_type_Pedestrian</th>                                        <td>    0.1130</td> <td>    0.008</td> <td>   13.650</td> <td> 0.000</td> <td>    0.097</td> <td>    0.129</td>\n</tr>\n<tr>\n  <th>d_sex_Male</th>                                                    <td>    0.0411</td> <td>    0.001</td> <td>   40.771</td> <td> 0.000</td> <td>    0.039</td> <td>    0.043</td>\n</tr>\n<tr>\n  <th>d_equipment_used_no</th>                                           <td>    0.2357</td> <td>    0.003</td> <td>   85.026</td> <td> 0.000</td> <td>    0.230</td> <td>    0.241</td>\n</tr>\n<tr>\n  <th>d_equipment_used_yes</th>                                          <td>   -0.0113</td> <td>    0.001</td> <td>   -8.327</td> <td> 0.000</td> <td>   -0.014</td> <td>   -0.009</td>\n</tr>\n<tr>\n  <th>d_pedestrian_action_not specified or not applicable</th>           <td>   -0.0014</td> <td>    0.006</td> <td>   -0.221</td> <td> 0.825</td> <td>   -0.014</td> <td>    0.011</td>\n</tr>\n<tr>\n  <th>d_pedestrian_alone_NA</th>                                         <td>   -0.0071</td> <td>    0.007</td> <td>   -1.048</td> <td> 0.295</td> <td>   -0.021</td> <td>    0.006</td>\n</tr>\n<tr>\n  <th>d_pedestrian_alone_Only</th>                                       <td>    0.0447</td> <td>    0.004</td> <td>   12.141</td> <td> 0.000</td> <td>    0.037</td> <td>    0.052</td>\n</tr>\n<tr>\n  <th>year</th>                                                          <td>-1.011e-05</td> <td>    0.000</td> <td>   -0.074</td> <td> 0.941</td> <td>   -0.000</td> <td>    0.000</td>\n</tr>\n<tr>\n  <th>month</th>                                                         <td>    0.0004</td> <td>    0.000</td> <td>    3.034</td> <td> 0.002</td> <td>    0.000</td> <td>    0.001</td>\n</tr>\n<tr>\n  <th>hour</th>                                                          <td>    0.0004</td> <td>    0.000</td> <td>    4.146</td> <td> 0.000</td> <td>    0.000</td> <td>    0.001</td>\n</tr>\n<tr>\n  <th>user_age</th>                                                      <td>    0.0002</td> <td>  2.6e-05</td> <td>    9.308</td> <td> 0.000</td> <td>    0.000</td> <td>    0.000</td>\n</tr>\n</table>\n<table class=\"simpletable\">\n<tr>\n  <th>Omnibus:</th>       <td>84055.179</td> <th>  Durbin-Watson:     </th>  <td>   1.893</td> \n</tr>\n<tr>\n  <th>Prob(Omnibus):</th>  <td> 0.000</td>   <th>  Jarque-Bera (JB):  </th> <td>112449.046</td>\n</tr>\n<tr>\n  <th>Skew:</th>           <td> 0.923</td>   <th>  Prob(JB):          </th>  <td>    0.00</td> \n</tr>\n<tr>\n  <th>Kurtosis:</th>       <td> 2.751</td>   <th>  Cond. No.          </th>  <td>1.63e+06</td> \n</tr>\n</table><br/><br/>Warnings:<br/>[1] Standard Errors assume that the covariance matrix of the errors is correctly specified.<br/>[2] The condition number is large, 1.63e+06. This might indicate that there are<br/>strong multicollinearity or other numerical problems."
     },
     "metadata": {},
     "execution_count": 49
    }
   ],
   "source": [
    "\n",
    "cols_to_log = [\n",
    " 'd_lighting_Night with public lighting on',\n",
    " 'd_lighting_Night without public lighting',\n",
    " 'd_lighting_Twilight or dawn',\n",
    " 'd_localization_Out of agglomeration',\n",
    " 'd_intersection_type_Intersection in T',\n",
    " 'd_intersection_type_Intersection in X',\n",
    " 'd_intersection_type_Out of intersection',\n",
    " 'd_weather_Heavy rain',\n",
    " 'd_weather_Light rain',\n",
    " 'd_weather_Normal',\n",
    " 'd_collision_type_Other collision',\n",
    " 'd_collision_type_Three or more vehicles - multiple collisions',\n",
    " 'd_collision_type_Three vehicles and more - in chain',\n",
    " 'd_collision_type_Two vehicles - by the side',\n",
    " 'd_collision_type_Two vehicles - from the rear',\n",
    " 'd_collision_type_Two vehicles - frontal',\n",
    " 'd_collision_type_Without collision',\n",
    " 'd_road_category_Departmental Road',\n",
    " 'd_road_category_Highway',\n",
    " 'd_road_category_National Road',\n",
    " 'd_road_regime_NA',\n",
    " 'd_road_regime_One way',\n",
    " 'd_road_regime_Separated carriageways',\n",
    " 'd_reserved_lane_NA',\n",
    " 'd_reserved_lane_Reserved channel',\n",
    " 'd_road_gradient_NA',\n",
    " 'd_road_gradient_Slope',\n",
    " 'd_road_plan_Curved right',\n",
    " 'd_road_plan_NA',\n",
    " 'd_road_plan_Straight part',\n",
    " 'd_road_condition_normal',\n",
    " 'd_road_condition_wet',\n",
    " 'd_infrastructure_Carrefour arranged',\n",
    " 'd_infrastructure_NA',\n",
    " 'd_accident_situation_On the road',\n",
    " 'd_accident_situation_On the verge',\n",
    " 'd_place_in_car_1',\n",
    " 'd_place_in_car_2',\n",
    " 'd_place_in_car_3',\n",
    " 'd_place_in_car_4',\n",
    " 'd_place_in_car_NA',\n",
    " 'd_user_type_Passenger',\n",
    " 'd_user_type_Pedestrian',\n",
    " 'd_sex_Male',\n",
    " 'd_equipment_used_no',\n",
    " 'd_equipment_used_yes',\n",
    " 'd_pedestrian_action_not specified or not applicable',\n",
    " 'd_pedestrian_alone_NA',\n",
    " 'd_pedestrian_alone_Only',\n",
    " 'year',\n",
    " 'month',\n",
    " 'hour',\n",
    " 'user_age'\n",
    " ]\n",
    "\n",
    "mod = sm.OLS(y_train['y'], add_constant(x_train[cols_to_log]))\n",
    "res = mod.fit()\n",
    "res.summary()"
   ]
  },
  {
   "cell_type": "markdown",
   "metadata": {},
   "source": [
    "R^2 value slightly improved "
   ]
  },
  {
   "cell_type": "code",
   "execution_count": 50,
   "metadata": {},
   "outputs": [],
   "source": [
    "r2 = []\n",
    "\n",
    "for col in cols_to_log:\n",
    "    mod = sm.OLS(y_train['y'], add_constant(x_train[col]))\n",
    "    res = mod.fit()\n",
    "    r2.append((col, res.rsquared))"
   ]
  },
  {
   "cell_type": "code",
   "execution_count": 52,
   "metadata": {},
   "outputs": [
    {
     "output_type": "execute_result",
     "data": {
      "text/plain": "                                         col        r2\n3        d_localization_Out of agglomeration  0.051578\n17         d_road_category_Departmental Road  0.047739\n35         d_accident_situation_On the verge  0.043652\n34          d_accident_situation_On the road  0.024350\n1   d_lighting_Night without public lighting  0.021268\n44                       d_equipment_used_no  0.014952\n6    d_intersection_type_Out of intersection  0.014138",
      "text/html": "<div>\n<style scoped>\n    .dataframe tbody tr th:only-of-type {\n        vertical-align: middle;\n    }\n\n    .dataframe tbody tr th {\n        vertical-align: top;\n    }\n\n    .dataframe thead th {\n        text-align: right;\n    }\n</style>\n<table border=\"1\" class=\"dataframe\">\n  <thead>\n    <tr style=\"text-align: right;\">\n      <th></th>\n      <th>col</th>\n      <th>r2</th>\n    </tr>\n  </thead>\n  <tbody>\n    <tr>\n      <th>3</th>\n      <td>d_localization_Out of agglomeration</td>\n      <td>0.051578</td>\n    </tr>\n    <tr>\n      <th>17</th>\n      <td>d_road_category_Departmental Road</td>\n      <td>0.047739</td>\n    </tr>\n    <tr>\n      <th>35</th>\n      <td>d_accident_situation_On the verge</td>\n      <td>0.043652</td>\n    </tr>\n    <tr>\n      <th>34</th>\n      <td>d_accident_situation_On the road</td>\n      <td>0.024350</td>\n    </tr>\n    <tr>\n      <th>1</th>\n      <td>d_lighting_Night without public lighting</td>\n      <td>0.021268</td>\n    </tr>\n    <tr>\n      <th>44</th>\n      <td>d_equipment_used_no</td>\n      <td>0.014952</td>\n    </tr>\n    <tr>\n      <th>6</th>\n      <td>d_intersection_type_Out of intersection</td>\n      <td>0.014138</td>\n    </tr>\n  </tbody>\n</table>\n</div>"
     },
     "metadata": {},
     "execution_count": 52
    }
   ],
   "source": [
    "r2_df = pd.DataFrame(r2, columns = ['col', 'r2']).sort_values('r2', ascending = False)\n",
    "r2_df.head(7)"
   ]
  },
  {
   "cell_type": "markdown",
   "metadata": {},
   "source": [
    "d_road_category_Departmental Road is still in top 5 variables."
   ]
  },
  {
   "cell_type": "code",
   "execution_count": 54,
   "metadata": {},
   "outputs": [
    {
     "output_type": "error",
     "ename": "MissingDataError",
     "evalue": "exog contains inf or nans",
     "traceback": [
      "\u001b[0;31m---------------------------------------------------------------------------\u001b[0m",
      "\u001b[0;31mMissingDataError\u001b[0m                          Traceback (most recent call last)",
      "\u001b[0;32m<ipython-input-54-3cb19a65ca0e>\u001b[0m in \u001b[0;36m<module>\u001b[0;34m\u001b[0m\n\u001b[1;32m      2\u001b[0m \u001b[0;34m\u001b[0m\u001b[0m\n\u001b[1;32m      3\u001b[0m \u001b[0;32mfor\u001b[0m \u001b[0mcol\u001b[0m \u001b[0;32min\u001b[0m \u001b[0mcols_to_log\u001b[0m\u001b[0;34m:\u001b[0m\u001b[0;34m\u001b[0m\u001b[0;34m\u001b[0m\u001b[0m\n\u001b[0;32m----> 4\u001b[0;31m     \u001b[0mmod\u001b[0m \u001b[0;34m=\u001b[0m \u001b[0msm\u001b[0m\u001b[0;34m.\u001b[0m\u001b[0mOLS\u001b[0m\u001b[0;34m(\u001b[0m\u001b[0my_train\u001b[0m\u001b[0;34m[\u001b[0m\u001b[0;34m'y'\u001b[0m\u001b[0;34m]\u001b[0m\u001b[0;34m,\u001b[0m \u001b[0madd_constant\u001b[0m\u001b[0;34m(\u001b[0m\u001b[0mnp\u001b[0m\u001b[0;34m.\u001b[0m\u001b[0mpower\u001b[0m\u001b[0;34m(\u001b[0m\u001b[0mx_train\u001b[0m\u001b[0;34m,\u001b[0m \u001b[0;36m1\u001b[0m\u001b[0;34m/\u001b[0m\u001b[0;36m2\u001b[0m\u001b[0;34m)\u001b[0m\u001b[0;34m[\u001b[0m\u001b[0mcol\u001b[0m\u001b[0;34m]\u001b[0m\u001b[0;34m)\u001b[0m\u001b[0;34m)\u001b[0m\u001b[0;34m\u001b[0m\u001b[0;34m\u001b[0m\u001b[0m\n\u001b[0m\u001b[1;32m      5\u001b[0m     \u001b[0mres\u001b[0m \u001b[0;34m=\u001b[0m \u001b[0mmod\u001b[0m\u001b[0;34m.\u001b[0m\u001b[0mfit\u001b[0m\u001b[0;34m(\u001b[0m\u001b[0;34m)\u001b[0m\u001b[0;34m\u001b[0m\u001b[0;34m\u001b[0m\u001b[0m\n\u001b[1;32m      6\u001b[0m     \u001b[0mr2\u001b[0m\u001b[0;34m.\u001b[0m\u001b[0mappend\u001b[0m\u001b[0;34m(\u001b[0m\u001b[0;34m(\u001b[0m\u001b[0mcol\u001b[0m\u001b[0;34m,\u001b[0m \u001b[0mres\u001b[0m\u001b[0;34m.\u001b[0m\u001b[0mrsquared\u001b[0m\u001b[0;34m)\u001b[0m\u001b[0;34m)\u001b[0m\u001b[0;34m\u001b[0m\u001b[0;34m\u001b[0m\u001b[0m\n",
      "\u001b[0;32m~/anaconda3/lib/python3.7/site-packages/statsmodels/regression/linear_model.py\u001b[0m in \u001b[0;36m__init__\u001b[0;34m(self, endog, exog, missing, hasconst, **kwargs)\u001b[0m\n\u001b[1;32m    857\u001b[0m                  **kwargs):\n\u001b[1;32m    858\u001b[0m         super(OLS, self).__init__(endog, exog, missing=missing,\n\u001b[0;32m--> 859\u001b[0;31m                                   hasconst=hasconst, **kwargs)\n\u001b[0m\u001b[1;32m    860\u001b[0m         \u001b[0;32mif\u001b[0m \u001b[0;34m\"weights\"\u001b[0m \u001b[0;32min\u001b[0m \u001b[0mself\u001b[0m\u001b[0;34m.\u001b[0m\u001b[0m_init_keys\u001b[0m\u001b[0;34m:\u001b[0m\u001b[0;34m\u001b[0m\u001b[0;34m\u001b[0m\u001b[0m\n\u001b[1;32m    861\u001b[0m             \u001b[0mself\u001b[0m\u001b[0;34m.\u001b[0m\u001b[0m_init_keys\u001b[0m\u001b[0;34m.\u001b[0m\u001b[0mremove\u001b[0m\u001b[0;34m(\u001b[0m\u001b[0;34m\"weights\"\u001b[0m\u001b[0;34m)\u001b[0m\u001b[0;34m\u001b[0m\u001b[0;34m\u001b[0m\u001b[0m\n",
      "\u001b[0;32m~/anaconda3/lib/python3.7/site-packages/statsmodels/regression/linear_model.py\u001b[0m in \u001b[0;36m__init__\u001b[0;34m(self, endog, exog, weights, missing, hasconst, **kwargs)\u001b[0m\n\u001b[1;32m    700\u001b[0m             \u001b[0mweights\u001b[0m \u001b[0;34m=\u001b[0m \u001b[0mweights\u001b[0m\u001b[0;34m.\u001b[0m\u001b[0msqueeze\u001b[0m\u001b[0;34m(\u001b[0m\u001b[0;34m)\u001b[0m\u001b[0;34m\u001b[0m\u001b[0;34m\u001b[0m\u001b[0m\n\u001b[1;32m    701\u001b[0m         super(WLS, self).__init__(endog, exog, missing=missing,\n\u001b[0;32m--> 702\u001b[0;31m                                   weights=weights, hasconst=hasconst, **kwargs)\n\u001b[0m\u001b[1;32m    703\u001b[0m         \u001b[0mnobs\u001b[0m \u001b[0;34m=\u001b[0m \u001b[0mself\u001b[0m\u001b[0;34m.\u001b[0m\u001b[0mexog\u001b[0m\u001b[0;34m.\u001b[0m\u001b[0mshape\u001b[0m\u001b[0;34m[\u001b[0m\u001b[0;36m0\u001b[0m\u001b[0;34m]\u001b[0m\u001b[0;34m\u001b[0m\u001b[0;34m\u001b[0m\u001b[0m\n\u001b[1;32m    704\u001b[0m         \u001b[0mweights\u001b[0m \u001b[0;34m=\u001b[0m \u001b[0mself\u001b[0m\u001b[0;34m.\u001b[0m\u001b[0mweights\u001b[0m\u001b[0;34m\u001b[0m\u001b[0;34m\u001b[0m\u001b[0m\n",
      "\u001b[0;32m~/anaconda3/lib/python3.7/site-packages/statsmodels/regression/linear_model.py\u001b[0m in \u001b[0;36m__init__\u001b[0;34m(self, endog, exog, **kwargs)\u001b[0m\n\u001b[1;32m    188\u001b[0m     \"\"\"\n\u001b[1;32m    189\u001b[0m     \u001b[0;32mdef\u001b[0m \u001b[0m__init__\u001b[0m\u001b[0;34m(\u001b[0m\u001b[0mself\u001b[0m\u001b[0;34m,\u001b[0m \u001b[0mendog\u001b[0m\u001b[0;34m,\u001b[0m \u001b[0mexog\u001b[0m\u001b[0;34m,\u001b[0m \u001b[0;34m**\u001b[0m\u001b[0mkwargs\u001b[0m\u001b[0;34m)\u001b[0m\u001b[0;34m:\u001b[0m\u001b[0;34m\u001b[0m\u001b[0;34m\u001b[0m\u001b[0m\n\u001b[0;32m--> 190\u001b[0;31m         \u001b[0msuper\u001b[0m\u001b[0;34m(\u001b[0m\u001b[0mRegressionModel\u001b[0m\u001b[0;34m,\u001b[0m \u001b[0mself\u001b[0m\u001b[0;34m)\u001b[0m\u001b[0;34m.\u001b[0m\u001b[0m__init__\u001b[0m\u001b[0;34m(\u001b[0m\u001b[0mendog\u001b[0m\u001b[0;34m,\u001b[0m \u001b[0mexog\u001b[0m\u001b[0;34m,\u001b[0m \u001b[0;34m**\u001b[0m\u001b[0mkwargs\u001b[0m\u001b[0;34m)\u001b[0m\u001b[0;34m\u001b[0m\u001b[0;34m\u001b[0m\u001b[0m\n\u001b[0m\u001b[1;32m    191\u001b[0m         \u001b[0mself\u001b[0m\u001b[0;34m.\u001b[0m\u001b[0m_data_attr\u001b[0m\u001b[0;34m.\u001b[0m\u001b[0mextend\u001b[0m\u001b[0;34m(\u001b[0m\u001b[0;34m[\u001b[0m\u001b[0;34m'pinv_wexog'\u001b[0m\u001b[0;34m,\u001b[0m \u001b[0;34m'wendog'\u001b[0m\u001b[0;34m,\u001b[0m \u001b[0;34m'wexog'\u001b[0m\u001b[0;34m,\u001b[0m \u001b[0;34m'weights'\u001b[0m\u001b[0;34m]\u001b[0m\u001b[0;34m)\u001b[0m\u001b[0;34m\u001b[0m\u001b[0;34m\u001b[0m\u001b[0m\n\u001b[1;32m    192\u001b[0m \u001b[0;34m\u001b[0m\u001b[0m\n",
      "\u001b[0;32m~/anaconda3/lib/python3.7/site-packages/statsmodels/base/model.py\u001b[0m in \u001b[0;36m__init__\u001b[0;34m(self, endog, exog, **kwargs)\u001b[0m\n\u001b[1;32m    234\u001b[0m \u001b[0;34m\u001b[0m\u001b[0m\n\u001b[1;32m    235\u001b[0m     \u001b[0;32mdef\u001b[0m \u001b[0m__init__\u001b[0m\u001b[0;34m(\u001b[0m\u001b[0mself\u001b[0m\u001b[0;34m,\u001b[0m \u001b[0mendog\u001b[0m\u001b[0;34m,\u001b[0m \u001b[0mexog\u001b[0m\u001b[0;34m=\u001b[0m\u001b[0;32mNone\u001b[0m\u001b[0;34m,\u001b[0m \u001b[0;34m**\u001b[0m\u001b[0mkwargs\u001b[0m\u001b[0;34m)\u001b[0m\u001b[0;34m:\u001b[0m\u001b[0;34m\u001b[0m\u001b[0;34m\u001b[0m\u001b[0m\n\u001b[0;32m--> 236\u001b[0;31m         \u001b[0msuper\u001b[0m\u001b[0;34m(\u001b[0m\u001b[0mLikelihoodModel\u001b[0m\u001b[0;34m,\u001b[0m \u001b[0mself\u001b[0m\u001b[0;34m)\u001b[0m\u001b[0;34m.\u001b[0m\u001b[0m__init__\u001b[0m\u001b[0;34m(\u001b[0m\u001b[0mendog\u001b[0m\u001b[0;34m,\u001b[0m \u001b[0mexog\u001b[0m\u001b[0;34m,\u001b[0m \u001b[0;34m**\u001b[0m\u001b[0mkwargs\u001b[0m\u001b[0;34m)\u001b[0m\u001b[0;34m\u001b[0m\u001b[0;34m\u001b[0m\u001b[0m\n\u001b[0m\u001b[1;32m    237\u001b[0m         \u001b[0mself\u001b[0m\u001b[0;34m.\u001b[0m\u001b[0minitialize\u001b[0m\u001b[0;34m(\u001b[0m\u001b[0;34m)\u001b[0m\u001b[0;34m\u001b[0m\u001b[0;34m\u001b[0m\u001b[0m\n\u001b[1;32m    238\u001b[0m \u001b[0;34m\u001b[0m\u001b[0m\n",
      "\u001b[0;32m~/anaconda3/lib/python3.7/site-packages/statsmodels/base/model.py\u001b[0m in \u001b[0;36m__init__\u001b[0;34m(self, endog, exog, **kwargs)\u001b[0m\n\u001b[1;32m     75\u001b[0m         \u001b[0mhasconst\u001b[0m \u001b[0;34m=\u001b[0m \u001b[0mkwargs\u001b[0m\u001b[0;34m.\u001b[0m\u001b[0mpop\u001b[0m\u001b[0;34m(\u001b[0m\u001b[0;34m'hasconst'\u001b[0m\u001b[0;34m,\u001b[0m \u001b[0;32mNone\u001b[0m\u001b[0;34m)\u001b[0m\u001b[0;34m\u001b[0m\u001b[0;34m\u001b[0m\u001b[0m\n\u001b[1;32m     76\u001b[0m         self.data = self._handle_data(endog, exog, missing, hasconst,\n\u001b[0;32m---> 77\u001b[0;31m                                       **kwargs)\n\u001b[0m\u001b[1;32m     78\u001b[0m         \u001b[0mself\u001b[0m\u001b[0;34m.\u001b[0m\u001b[0mk_constant\u001b[0m \u001b[0;34m=\u001b[0m \u001b[0mself\u001b[0m\u001b[0;34m.\u001b[0m\u001b[0mdata\u001b[0m\u001b[0;34m.\u001b[0m\u001b[0mk_constant\u001b[0m\u001b[0;34m\u001b[0m\u001b[0;34m\u001b[0m\u001b[0m\n\u001b[1;32m     79\u001b[0m         \u001b[0mself\u001b[0m\u001b[0;34m.\u001b[0m\u001b[0mexog\u001b[0m \u001b[0;34m=\u001b[0m \u001b[0mself\u001b[0m\u001b[0;34m.\u001b[0m\u001b[0mdata\u001b[0m\u001b[0;34m.\u001b[0m\u001b[0mexog\u001b[0m\u001b[0;34m\u001b[0m\u001b[0;34m\u001b[0m\u001b[0m\n",
      "\u001b[0;32m~/anaconda3/lib/python3.7/site-packages/statsmodels/base/model.py\u001b[0m in \u001b[0;36m_handle_data\u001b[0;34m(self, endog, exog, missing, hasconst, **kwargs)\u001b[0m\n\u001b[1;32m     98\u001b[0m \u001b[0;34m\u001b[0m\u001b[0m\n\u001b[1;32m     99\u001b[0m     \u001b[0;32mdef\u001b[0m \u001b[0m_handle_data\u001b[0m\u001b[0;34m(\u001b[0m\u001b[0mself\u001b[0m\u001b[0;34m,\u001b[0m \u001b[0mendog\u001b[0m\u001b[0;34m,\u001b[0m \u001b[0mexog\u001b[0m\u001b[0;34m,\u001b[0m \u001b[0mmissing\u001b[0m\u001b[0;34m,\u001b[0m \u001b[0mhasconst\u001b[0m\u001b[0;34m,\u001b[0m \u001b[0;34m**\u001b[0m\u001b[0mkwargs\u001b[0m\u001b[0;34m)\u001b[0m\u001b[0;34m:\u001b[0m\u001b[0;34m\u001b[0m\u001b[0;34m\u001b[0m\u001b[0m\n\u001b[0;32m--> 100\u001b[0;31m         \u001b[0mdata\u001b[0m \u001b[0;34m=\u001b[0m \u001b[0mhandle_data\u001b[0m\u001b[0;34m(\u001b[0m\u001b[0mendog\u001b[0m\u001b[0;34m,\u001b[0m \u001b[0mexog\u001b[0m\u001b[0;34m,\u001b[0m \u001b[0mmissing\u001b[0m\u001b[0;34m,\u001b[0m \u001b[0mhasconst\u001b[0m\u001b[0;34m,\u001b[0m \u001b[0;34m**\u001b[0m\u001b[0mkwargs\u001b[0m\u001b[0;34m)\u001b[0m\u001b[0;34m\u001b[0m\u001b[0;34m\u001b[0m\u001b[0m\n\u001b[0m\u001b[1;32m    101\u001b[0m         \u001b[0;31m# kwargs arrays could have changed, easier to just attach here\u001b[0m\u001b[0;34m\u001b[0m\u001b[0;34m\u001b[0m\u001b[0;34m\u001b[0m\u001b[0m\n\u001b[1;32m    102\u001b[0m         \u001b[0;32mfor\u001b[0m \u001b[0mkey\u001b[0m \u001b[0;32min\u001b[0m \u001b[0mkwargs\u001b[0m\u001b[0;34m:\u001b[0m\u001b[0;34m\u001b[0m\u001b[0;34m\u001b[0m\u001b[0m\n",
      "\u001b[0;32m~/anaconda3/lib/python3.7/site-packages/statsmodels/base/data.py\u001b[0m in \u001b[0;36mhandle_data\u001b[0;34m(endog, exog, missing, hasconst, **kwargs)\u001b[0m\n\u001b[1;32m    670\u001b[0m     \u001b[0mklass\u001b[0m \u001b[0;34m=\u001b[0m \u001b[0mhandle_data_class_factory\u001b[0m\u001b[0;34m(\u001b[0m\u001b[0mendog\u001b[0m\u001b[0;34m,\u001b[0m \u001b[0mexog\u001b[0m\u001b[0;34m)\u001b[0m\u001b[0;34m\u001b[0m\u001b[0;34m\u001b[0m\u001b[0m\n\u001b[1;32m    671\u001b[0m     return klass(endog, exog=exog, missing=missing, hasconst=hasconst,\n\u001b[0;32m--> 672\u001b[0;31m                  **kwargs)\n\u001b[0m",
      "\u001b[0;32m~/anaconda3/lib/python3.7/site-packages/statsmodels/base/data.py\u001b[0m in \u001b[0;36m__init__\u001b[0;34m(self, endog, exog, missing, hasconst, **kwargs)\u001b[0m\n\u001b[1;32m     85\u001b[0m         \u001b[0mself\u001b[0m\u001b[0;34m.\u001b[0m\u001b[0mconst_idx\u001b[0m \u001b[0;34m=\u001b[0m \u001b[0;32mNone\u001b[0m\u001b[0;34m\u001b[0m\u001b[0;34m\u001b[0m\u001b[0m\n\u001b[1;32m     86\u001b[0m         \u001b[0mself\u001b[0m\u001b[0;34m.\u001b[0m\u001b[0mk_constant\u001b[0m \u001b[0;34m=\u001b[0m \u001b[0;36m0\u001b[0m\u001b[0;34m\u001b[0m\u001b[0;34m\u001b[0m\u001b[0m\n\u001b[0;32m---> 87\u001b[0;31m         \u001b[0mself\u001b[0m\u001b[0;34m.\u001b[0m\u001b[0m_handle_constant\u001b[0m\u001b[0;34m(\u001b[0m\u001b[0mhasconst\u001b[0m\u001b[0;34m)\u001b[0m\u001b[0;34m\u001b[0m\u001b[0;34m\u001b[0m\u001b[0m\n\u001b[0m\u001b[1;32m     88\u001b[0m         \u001b[0mself\u001b[0m\u001b[0;34m.\u001b[0m\u001b[0m_check_integrity\u001b[0m\u001b[0;34m(\u001b[0m\u001b[0;34m)\u001b[0m\u001b[0;34m\u001b[0m\u001b[0;34m\u001b[0m\u001b[0m\n\u001b[1;32m     89\u001b[0m         \u001b[0mself\u001b[0m\u001b[0;34m.\u001b[0m\u001b[0m_cache\u001b[0m \u001b[0;34m=\u001b[0m \u001b[0;34m{\u001b[0m\u001b[0;34m}\u001b[0m\u001b[0;34m\u001b[0m\u001b[0;34m\u001b[0m\u001b[0m\n",
      "\u001b[0;32m~/anaconda3/lib/python3.7/site-packages/statsmodels/base/data.py\u001b[0m in \u001b[0;36m_handle_constant\u001b[0;34m(self, hasconst)\u001b[0m\n\u001b[1;32m    131\u001b[0m             \u001b[0mexog_max\u001b[0m \u001b[0;34m=\u001b[0m \u001b[0mnp\u001b[0m\u001b[0;34m.\u001b[0m\u001b[0mmax\u001b[0m\u001b[0;34m(\u001b[0m\u001b[0mself\u001b[0m\u001b[0;34m.\u001b[0m\u001b[0mexog\u001b[0m\u001b[0;34m,\u001b[0m \u001b[0maxis\u001b[0m\u001b[0;34m=\u001b[0m\u001b[0;36m0\u001b[0m\u001b[0;34m)\u001b[0m\u001b[0;34m\u001b[0m\u001b[0;34m\u001b[0m\u001b[0m\n\u001b[1;32m    132\u001b[0m             \u001b[0;32mif\u001b[0m \u001b[0;32mnot\u001b[0m \u001b[0mnp\u001b[0m\u001b[0;34m.\u001b[0m\u001b[0misfinite\u001b[0m\u001b[0;34m(\u001b[0m\u001b[0mexog_max\u001b[0m\u001b[0;34m)\u001b[0m\u001b[0;34m.\u001b[0m\u001b[0mall\u001b[0m\u001b[0;34m(\u001b[0m\u001b[0;34m)\u001b[0m\u001b[0;34m:\u001b[0m\u001b[0;34m\u001b[0m\u001b[0;34m\u001b[0m\u001b[0m\n\u001b[0;32m--> 133\u001b[0;31m                 \u001b[0;32mraise\u001b[0m \u001b[0mMissingDataError\u001b[0m\u001b[0;34m(\u001b[0m\u001b[0;34m'exog contains inf or nans'\u001b[0m\u001b[0;34m)\u001b[0m\u001b[0;34m\u001b[0m\u001b[0;34m\u001b[0m\u001b[0m\n\u001b[0m\u001b[1;32m    134\u001b[0m             \u001b[0mexog_min\u001b[0m \u001b[0;34m=\u001b[0m \u001b[0mnp\u001b[0m\u001b[0;34m.\u001b[0m\u001b[0mmin\u001b[0m\u001b[0;34m(\u001b[0m\u001b[0mself\u001b[0m\u001b[0;34m.\u001b[0m\u001b[0mexog\u001b[0m\u001b[0;34m,\u001b[0m \u001b[0maxis\u001b[0m\u001b[0;34m=\u001b[0m\u001b[0;36m0\u001b[0m\u001b[0;34m)\u001b[0m\u001b[0;34m\u001b[0m\u001b[0;34m\u001b[0m\u001b[0m\n\u001b[1;32m    135\u001b[0m             \u001b[0mconst_idx\u001b[0m \u001b[0;34m=\u001b[0m \u001b[0mnp\u001b[0m\u001b[0;34m.\u001b[0m\u001b[0mwhere\u001b[0m\u001b[0;34m(\u001b[0m\u001b[0mexog_max\u001b[0m \u001b[0;34m==\u001b[0m \u001b[0mexog_min\u001b[0m\u001b[0;34m)\u001b[0m\u001b[0;34m[\u001b[0m\u001b[0;36m0\u001b[0m\u001b[0;34m]\u001b[0m\u001b[0;34m.\u001b[0m\u001b[0msqueeze\u001b[0m\u001b[0;34m(\u001b[0m\u001b[0;34m)\u001b[0m\u001b[0;34m\u001b[0m\u001b[0;34m\u001b[0m\u001b[0m\n",
      "\u001b[0;31mMissingDataError\u001b[0m: exog contains inf or nans"
     ]
    }
   ],
   "source": [
    "# r2 = []\n",
    "\n",
    "# for col in cols_to_log:\n",
    "#     mod = sm.OLS(y_train['y'], add_constant(np.power(x_train, 1/2)[col]))\n",
    "#     res = mod.fit()\n",
    "#     r2.append((col, res.rsquared))\n",
    "# MissingDataError: exog contains inf or nans\n"
   ]
  },
  {
   "cell_type": "code",
   "execution_count": 62,
   "metadata": {},
   "outputs": [
    {
     "output_type": "error",
     "ename": "PatsyError",
     "evalue": "model is missing required outcome variables",
     "traceback": [
      "\u001b[0;31m---------------------------------------------------------------------------\u001b[0m",
      "\u001b[0;31mPatsyError\u001b[0m                                Traceback (most recent call last)",
      "\u001b[0;32m<ipython-input-62-07359d05d719>\u001b[0m in \u001b[0;36m<module>\u001b[0;34m\u001b[0m\n\u001b[1;32m      1\u001b[0m \u001b[0;32mimport\u001b[0m \u001b[0mstatsmodels\u001b[0m\u001b[0;34m.\u001b[0m\u001b[0mformula\u001b[0m\u001b[0;34m.\u001b[0m\u001b[0mapi\u001b[0m \u001b[0;32mas\u001b[0m \u001b[0msmf\u001b[0m\u001b[0;34m\u001b[0m\u001b[0;34m\u001b[0m\u001b[0m\n\u001b[0;32m----> 2\u001b[0;31m \u001b[0mmod\u001b[0m \u001b[0;34m=\u001b[0m \u001b[0msmf\u001b[0m\u001b[0;34m.\u001b[0m\u001b[0mglm\u001b[0m\u001b[0;34m(\u001b[0m\u001b[0my_train\u001b[0m\u001b[0;34m,\u001b[0m\u001b[0mx_train\u001b[0m\u001b[0;34m[\u001b[0m\u001b[0mcols_to_log\u001b[0m\u001b[0;34m]\u001b[0m\u001b[0;34m,\u001b[0m \u001b[0mfamily\u001b[0m\u001b[0;34m=\u001b[0m\u001b[0msm\u001b[0m\u001b[0;34m.\u001b[0m\u001b[0mfamilies\u001b[0m\u001b[0;34m.\u001b[0m\u001b[0mBinomial\u001b[0m\u001b[0;34m(\u001b[0m\u001b[0;34m)\u001b[0m\u001b[0;34m)\u001b[0m\u001b[0;34m\u001b[0m\u001b[0;34m\u001b[0m\u001b[0m\n\u001b[0m\u001b[1;32m      3\u001b[0m \u001b[0mres\u001b[0m \u001b[0;34m=\u001b[0m \u001b[0mmod\u001b[0m\u001b[0;34m.\u001b[0m\u001b[0mfit\u001b[0m\u001b[0;34m(\u001b[0m\u001b[0;34m)\u001b[0m\u001b[0;34m\u001b[0m\u001b[0;34m\u001b[0m\u001b[0m\n\u001b[1;32m      4\u001b[0m \u001b[0mres\u001b[0m\u001b[0;34m.\u001b[0m\u001b[0msummary\u001b[0m\u001b[0;34m(\u001b[0m\u001b[0;34m)\u001b[0m\u001b[0;34m\u001b[0m\u001b[0;34m\u001b[0m\u001b[0m\n",
      "\u001b[0;32m~/anaconda3/lib/python3.7/site-packages/statsmodels/base/model.py\u001b[0m in \u001b[0;36mfrom_formula\u001b[0;34m(cls, formula, data, subset, drop_cols, *args, **kwargs)\u001b[0m\n\u001b[1;32m    167\u001b[0m \u001b[0;34m\u001b[0m\u001b[0m\n\u001b[1;32m    168\u001b[0m         tmp = handle_formula_data(data, None, formula, depth=eval_env,\n\u001b[0;32m--> 169\u001b[0;31m                                   missing=missing)\n\u001b[0m\u001b[1;32m    170\u001b[0m         \u001b[0;34m(\u001b[0m\u001b[0;34m(\u001b[0m\u001b[0mendog\u001b[0m\u001b[0;34m,\u001b[0m \u001b[0mexog\u001b[0m\u001b[0;34m)\u001b[0m\u001b[0;34m,\u001b[0m \u001b[0mmissing_idx\u001b[0m\u001b[0;34m,\u001b[0m \u001b[0mdesign_info\u001b[0m\u001b[0;34m)\u001b[0m \u001b[0;34m=\u001b[0m \u001b[0mtmp\u001b[0m\u001b[0;34m\u001b[0m\u001b[0;34m\u001b[0m\u001b[0m\n\u001b[1;32m    171\u001b[0m         \u001b[0mmax_endog\u001b[0m \u001b[0;34m=\u001b[0m \u001b[0mcls\u001b[0m\u001b[0;34m.\u001b[0m\u001b[0m_formula_max_endog\u001b[0m\u001b[0;34m\u001b[0m\u001b[0;34m\u001b[0m\u001b[0m\n",
      "\u001b[0;32m~/anaconda3/lib/python3.7/site-packages/statsmodels/formula/formulatools.py\u001b[0m in \u001b[0;36mhandle_formula_data\u001b[0;34m(Y, X, formula, depth, missing)\u001b[0m\n\u001b[1;32m     63\u001b[0m         \u001b[0;32mif\u001b[0m \u001b[0mdata_util\u001b[0m\u001b[0;34m.\u001b[0m\u001b[0m_is_using_pandas\u001b[0m\u001b[0;34m(\u001b[0m\u001b[0mY\u001b[0m\u001b[0;34m,\u001b[0m \u001b[0;32mNone\u001b[0m\u001b[0;34m)\u001b[0m\u001b[0;34m:\u001b[0m\u001b[0;34m\u001b[0m\u001b[0;34m\u001b[0m\u001b[0m\n\u001b[1;32m     64\u001b[0m             result = dmatrices(formula, Y, depth, return_type='dataframe',\n\u001b[0;32m---> 65\u001b[0;31m                                NA_action=na_action)\n\u001b[0m\u001b[1;32m     66\u001b[0m         \u001b[0;32melse\u001b[0m\u001b[0;34m:\u001b[0m\u001b[0;34m\u001b[0m\u001b[0;34m\u001b[0m\u001b[0m\n\u001b[1;32m     67\u001b[0m             result = dmatrices(formula, Y, depth, return_type='dataframe',\n",
      "\u001b[0;32m~/anaconda3/lib/python3.7/site-packages/patsy/highlevel.py\u001b[0m in \u001b[0;36mdmatrices\u001b[0;34m(formula_like, data, eval_env, NA_action, return_type)\u001b[0m\n\u001b[1;32m    310\u001b[0m                                       NA_action, return_type)\n\u001b[1;32m    311\u001b[0m     \u001b[0;32mif\u001b[0m \u001b[0mlhs\u001b[0m\u001b[0;34m.\u001b[0m\u001b[0mshape\u001b[0m\u001b[0;34m[\u001b[0m\u001b[0;36m1\u001b[0m\u001b[0;34m]\u001b[0m \u001b[0;34m==\u001b[0m \u001b[0;36m0\u001b[0m\u001b[0;34m:\u001b[0m\u001b[0;34m\u001b[0m\u001b[0;34m\u001b[0m\u001b[0m\n\u001b[0;32m--> 312\u001b[0;31m         \u001b[0;32mraise\u001b[0m \u001b[0mPatsyError\u001b[0m\u001b[0;34m(\u001b[0m\u001b[0;34m\"model is missing required outcome variables\"\u001b[0m\u001b[0;34m)\u001b[0m\u001b[0;34m\u001b[0m\u001b[0;34m\u001b[0m\u001b[0m\n\u001b[0m\u001b[1;32m    313\u001b[0m     \u001b[0;32mreturn\u001b[0m \u001b[0;34m(\u001b[0m\u001b[0mlhs\u001b[0m\u001b[0;34m,\u001b[0m \u001b[0mrhs\u001b[0m\u001b[0;34m)\u001b[0m\u001b[0;34m\u001b[0m\u001b[0;34m\u001b[0m\u001b[0m\n",
      "\u001b[0;31mPatsyError\u001b[0m: model is missing required outcome variables"
     ]
    }
   ],
   "source": [
    "# import statsmodels.formula.api as smf\n",
    "# mod = smf.glm(y_train,x_train[cols_to_log], family=sm.families.Binomial())\n",
    "# res = mod.fit()\n",
    "# res.summary()"
   ]
  },
  {
   "cell_type": "markdown",
   "metadata": {},
   "source": [
    "KNN is slooow"
   ]
  },
  {
   "cell_type": "code",
   "execution_count": 49,
   "metadata": {},
   "outputs": [],
   "source": [
    "# model = KNeighborsClassifier()\n",
    "# a = cross_validate(model, df_out, y_train, cv=3, scoring = 'roc_auc', verbose = 1)"
   ]
  },
  {
   "cell_type": "code",
   "execution_count": 46,
   "metadata": {},
   "outputs": [
    {
     "output_type": "stream",
     "name": "stderr",
     "text": "[Parallel(n_jobs=-1)]: Using backend LokyBackend with 4 concurrent workers.\n[Parallel(n_jobs=-1)]: Done   2 out of   2 | elapsed:   31.2s finished\n"
    }
   ],
   "source": [
    "model1 = LogisticRegression(n_jobs=-1, verbose=2)\n",
    "a = cross_validate(model1, x_train, y_train, cv=2, scoring = 'roc_auc', verbose = 1, n_jobs=-1)"
   ]
  },
  {
   "cell_type": "code",
   "execution_count": 47,
   "metadata": {},
   "outputs": [
    {
     "output_type": "stream",
     "name": "stderr",
     "text": "[Parallel(n_jobs=-1)]: Using backend LokyBackend with 4 concurrent workers.\n[Parallel(n_jobs=-1)]: Done   1 out of   1 | elapsed:  6.1min finished\n"
    }
   ],
   "source": [
    "fitted = model1.fit(x_train, y_train)"
   ]
  },
  {
   "cell_type": "code",
   "execution_count": 48,
   "metadata": {},
   "outputs": [
    {
     "output_type": "execute_result",
     "data": {
      "text/plain": "0.7423474357220142"
     },
     "metadata": {},
     "execution_count": 48
    }
   ],
   "source": [
    "roc_auc_score(y_train, fitted.predict_proba(x_train)[:,1])\n"
   ]
  },
  {
   "cell_type": "markdown",
   "metadata": {},
   "source": [
    "## Stepwise feature selection"
   ]
  },
  {
   "cell_type": "code",
   "execution_count": 49,
   "metadata": {},
   "outputs": [],
   "source": [
    "from sklearn.svm import LinearSVC"
   ]
  },
  {
   "cell_type": "code",
   "execution_count": 50,
   "metadata": {},
   "outputs": [],
   "source": [
    "model2 = LinearSVC()"
   ]
  },
  {
   "cell_type": "code",
   "execution_count": 51,
   "metadata": {},
   "outputs": [
    {
     "output_type": "execute_result",
     "data": {
      "text/plain": "LinearSVC(C=1.0, class_weight=None, dual=True, fit_intercept=True,\n          intercept_scaling=1, loss='squared_hinge', max_iter=1000,\n          multi_class='ovr', penalty='l2', random_state=None, tol=0.0001,\n          verbose=0)"
     },
     "metadata": {},
     "execution_count": 51
    }
   ],
   "source": [
    "model2.fit(x_train, y_train)"
   ]
  },
  {
   "cell_type": "code",
   "execution_count": 52,
   "metadata": {},
   "outputs": [],
   "source": [
    "from sklearn.feature_selection import RFECV, RFE"
   ]
  },
  {
   "cell_type": "code",
   "execution_count": 55,
   "metadata": {},
   "outputs": [],
   "source": [
    "rfe = RFE(model2, n_features_to_select = 1)"
   ]
  },
  {
   "cell_type": "code",
   "execution_count": null,
   "metadata": {},
   "outputs": [],
   "source": [
    "rfe.fit(x_train, y_train)"
   ]
  }
 ],
 "metadata": {
  "kernelspec": {
   "display_name": "Python 3",
   "language": "python",
   "name": "python3"
  },
  "language_info": {
   "codemirror_mode": {
    "name": "ipython",
    "version": 3
   },
   "file_extension": ".py",
   "mimetype": "text/x-python",
   "name": "python",
   "nbconvert_exporter": "python",
   "pygments_lexer": "ipython3",
   "version": "3.8.2-final"
  }
 },
 "nbformat": 4,
 "nbformat_minor": 4
}