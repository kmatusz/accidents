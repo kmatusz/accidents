{
 "cells": [
  {
   "cell_type": "markdown",
   "metadata": {},
   "source": [
    "### TODO:\n",
    "\n",
    "- Run every method on the same test set and compare\n",
    "- do more systematic caching - would be helpful for clearer code (use function or global variable)\n",
    "- to the best model add generated features (user age and hour of accident)\n",
    "- run SVM and KNN on dataset obtrained from downsampling - on LR tested that it gives the same results as big one\n",
    "- try to compare auc curves - probably these will overlap fully for all created models but we can try\n",
    "- analysis of roc curve and crosstabs - for the best model\n",
    "- from logistic regression docs: Note that regularization is applied by default (sic!) - test different regularization parameters for LR DONE\n"
   ]
  },
  {
   "cell_type": "markdown",
   "metadata": {},
   "source": [
    "## Outline\n",
    "\n",
    "NOTE: the most resource-extensive chunks are cached in folder models_cache. To run all chunks, set NEW_CACHE variable below to True, and if you want to load from cache folder - False"
   ]
  },
  {
   "cell_type": "markdown",
   "metadata": {},
   "source": [
    "### Preparation"
   ]
  },
  {
   "cell_type": "code",
   "execution_count": 1,
   "metadata": {},
   "outputs": [],
   "source": [
    "NEW_CACHE = False"
   ]
  },
  {
   "cell_type": "code",
   "execution_count": 2,
   "metadata": {},
   "outputs": [],
   "source": [
    "import pandas as pd\n",
    "import numpy as np\n",
    "import seaborn as sns\n",
    "import matplotlib.pyplot as plt\n",
    "\n",
    "import statsmodels.api as sm\n",
    "from statsmodels.tools.tools import add_constant\n",
    "\n",
    "from sklearn.model_selection import train_test_split, cross_val_score, cross_validate, KFold\n",
    "from sklearn.pipeline import make_pipeline\n",
    "from sklearn.preprocessing import FunctionTransformer, OneHotEncoder\n",
    "from sklearn.impute import SimpleImputer\n",
    "\n",
    "from sklearn.metrics import roc_auc_score, roc_curve\n",
    "\n",
    "from sklearn.neighbors import KNeighborsClassifier\n",
    "from sklearn.linear_model import LogisticRegression\n",
    "\n",
    "import pickle\n",
    "\n",
    "\n",
    "pd.set_option(\"display.max_columns\",200)\n",
    "\n",
    "def print_value_counts(df):\n",
    "    for i in df.columns:\n",
    "        print(f'column: {i}')\n",
    "        display(df[i].value_counts())\n",
    "        print()"
   ]
  },
  {
   "cell_type": "code",
   "execution_count": 3,
   "metadata": {},
   "outputs": [],
   "source": [
    "x_train = pd.read_pickle('data/x_train.pkl')\n",
    "y_train = pd.read_pickle('data/y_train.pkl')\n",
    "\n",
    "x_test = pd.read_pickle('data/x_test.pkl')\n",
    "y_test = pd.read_pickle('data/y_test.pkl')\n",
    "\n",
    "minfos_df = pd.read_pickle('data/minfos_df.pkl')"
   ]
  },
  {
   "cell_type": "markdown",
   "metadata": {},
   "source": [
    "## Modeling"
   ]
  },
  {
   "cell_type": "markdown",
   "metadata": {},
   "source": [
    "### GLM with adding features from mutual info"
   ]
  },
  {
   "cell_type": "markdown",
   "metadata": {},
   "source": [
    "Running kfold cross validation, with recursive feature selection. Features are added one by one, ordered by mutual info. Using caching here as it's running for long - just run next cell."
   ]
  },
  {
   "cell_type": "code",
   "execution_count": 4,
   "metadata": {},
   "outputs": [],
   "source": [
    "from sklearn.model_selection import KFold\n",
    "from sklearn.metrics import mean_squared_error\n",
    "import random\n",
    "kf = KFold(n_splits=3, shuffle=True, random_state=random.randint(0,10000))\n",
    "\n",
    "if NEW_CACHE:\n",
    "# if True:\n",
    "    scores = []\n",
    "\n",
    "    for no_features_to_include in range(1,30):\n",
    "        if no_features_to_include % 5 == 1:\n",
    "            # trick to control number of features selected \n",
    "            print('running ', no_features_to_include)\n",
    "        features = list(minfos_df.head(no_features_to_include).column)\n",
    "        r2_train = []\n",
    "        r2_test = []\n",
    "\n",
    "        for train, test in kf.split(x_train.index.values):\n",
    "            reg = LogisticRegression()\n",
    "            reg.fit(x_train.iloc[train][features], y_train.iloc[train]['y'])\n",
    "\n",
    "            predsTrain = reg.predict_proba(x_train.iloc[train][features])\n",
    "            preds = reg.predict_proba(x_train.iloc[test][features])\n",
    "\n",
    "            r2_test.append(roc_auc_score(y_train.iloc[test].y, preds[:,1]))\n",
    "            r2_train.append(roc_auc_score(y_train.iloc[train].y, predsTrain[:,1]))\n",
    "\n",
    "        a = (no_features_to_include, np.mean(r2_test), np.mean(r2_train))\n",
    "        scores.append(a)    \n",
    "    #     print(a)\n",
    "    roc_scores_lr = pd.DataFrame(scores, columns = ['no_features', 'test', 'train'])\n",
    "    roc_scores_lr.to_pickle('models_cache/roc_scores_lr_from_minfo.pkl')\n"
   ]
  },
  {
   "cell_type": "markdown",
   "metadata": {},
   "source": [
    "Note: above cell is cached and read below, no nneed to re-run"
   ]
  },
  {
   "cell_type": "code",
   "execution_count": 5,
   "metadata": {},
   "outputs": [],
   "source": [
    "roc_scores_lr = pd.read_pickle('models_cache/roc_scores_lr_from_minfo.pkl')"
   ]
  },
  {
   "cell_type": "code",
   "execution_count": 6,
   "metadata": {},
   "outputs": [
    {
     "data": {
      "text/plain": [
       "<matplotlib.axes._subplots.AxesSubplot at 0x7fe9b73a7910>"
      ]
     },
     "execution_count": 6,
     "metadata": {},
     "output_type": "execute_result"
    },
    {
     "data": {
      "image/png": "[encoded data removed]",
      "text/plain": [
       "<Figure size 432x288 with 1 Axes>"
      ]
     },
     "metadata": {
      "needs_background": "light"
     },
     "output_type": "display_data"
    }
   ],
   "source": [
    "sns.scatterplot(x = 'no_features', y= 'value', hue = 'variable', alpha = 0.5, data = pd.melt(roc_scores_lr, id_vars = 'no_features'))"
   ]
  },
  {
   "cell_type": "markdown",
   "metadata": {},
   "source": [
    "The above plot shows that train and test scores overlap almost fully - that means that logistic regression is very resilient to overfitting as it didn't occur at all in this case"
   ]
  },
  {
   "cell_type": "markdown",
   "metadata": {},
   "source": [
    "Best value of AUC is around 0.74. After adding 20 features the outcome is not changing significantly. Now I'm fitting model with that amount of features to obtain true outcome on the held-out test set. "
   ]
  },
  {
   "cell_type": "code",
   "execution_count": 7,
   "metadata": {},
   "outputs": [
    {
     "name": "stdout",
     "output_type": "stream",
     "text": [
      "AUC for train set  0.7445078482872314\n",
      "AUC for test set  0.7151262725767052\n"
     ]
    }
   ],
   "source": [
    "features = list(minfos_df.head(20).column)\n",
    "reg = LogisticRegression()\n",
    "reg.fit(x_train[features], y_train['y'])\n",
    "\n",
    "predsTrain = reg.predict_proba(x_train[features])\n",
    "predsTest = reg.predict_proba(x_test[features])\n",
    "\n",
    "print(\"AUC for train set \" , roc_auc_score(y_train.y, predsTrain[:,1]))\n",
    "print(\"AUC for test set \" , roc_auc_score(y_test.y, predsTest[:,1]))"
   ]
  },
  {
   "cell_type": "markdown",
   "metadata": {},
   "source": [
    "Value of AUC for test set is 0.714 - drop from train set is really small"
   ]
  },
  {
   "cell_type": "markdown",
   "metadata": {},
   "source": [
    "### GLM model with all features"
   ]
  },
  {
   "cell_type": "code",
   "execution_count": 8,
   "metadata": {},
   "outputs": [
    {
     "data": {
      "text/html": [
       "<table class=\"simpletable\">\n",
       "<caption>Generalized Linear Model Regression Results</caption>\n",
       "<tr>\n",
       "  <th>Dep. Variable:</th>           <td>y</td>        <th>  No. Observations:  </th>   <td>777527</td>   \n",
       "</tr>\n",
       "<tr>\n",
       "  <th>Model:</th>                  <td>GLM</td>       <th>  Df Residuals:      </th>   <td>777474</td>   \n",
       "</tr>\n",
       "<tr>\n",
       "  <th>Model Family:</th>        <td>Binomial</td>     <th>  Df Model:          </th>   <td>    52</td>   \n",
       "</tr>\n",
       "<tr>\n",
       "  <th>Link Function:</th>         <td>logit</td>      <th>  Scale:             </th>  <td>  1.0000</td>  \n",
       "</tr>\n",
       "<tr>\n",
       "  <th>Method:</th>                <td>IRLS</td>       <th>  Log-Likelihood:    </th> <td>-3.7705e+05</td>\n",
       "</tr>\n",
       "<tr>\n",
       "  <th>Date:</th>            <td>Tue, 09 Jun 2020</td> <th>  Deviance:          </th> <td>7.5410e+05</td> \n",
       "</tr>\n",
       "<tr>\n",
       "  <th>Time:</th>                <td>23:23:46</td>     <th>  Pearson chi2:      </th>  <td>7.81e+05</td>  \n",
       "</tr>\n",
       "<tr>\n",
       "  <th>No. Iterations:</th>          <td>6</td>        <th>                     </th>      <td> </td>     \n",
       "</tr>\n",
       "<tr>\n",
       "  <th>Covariance Type:</th>     <td>nonrobust</td>    <th>                     </th>      <td> </td>     \n",
       "</tr>\n",
       "</table>\n",
       "<table class=\"simpletable\">\n",
       "<tr>\n",
       "                                <td></td>                                   <th>coef</th>     <th>std err</th>      <th>z</th>      <th>P>|z|</th>  <th>[0.025</th>    <th>0.975]</th>  \n",
       "</tr>\n",
       "<tr>\n",
       "  <th>d_lighting_Night with public lighting on</th>                      <td>    0.2033</td> <td>    0.008</td> <td>   23.974</td> <td> 0.000</td> <td>    0.187</td> <td>    0.220</td>\n",
       "</tr>\n",
       "<tr>\n",
       "  <th>d_lighting_Night without public lighting</th>                      <td>    0.3168</td> <td>    0.011</td> <td>   29.658</td> <td> 0.000</td> <td>    0.296</td> <td>    0.338</td>\n",
       "</tr>\n",
       "<tr>\n",
       "  <th>d_lighting_Twilight or dawn</th>                                   <td>    0.1092</td> <td>    0.012</td> <td>    8.993</td> <td> 0.000</td> <td>    0.085</td> <td>    0.133</td>\n",
       "</tr>\n",
       "<tr>\n",
       "  <th>d_localization_Out of agglomeration</th>                           <td>    0.7690</td> <td>    0.008</td> <td>   95.498</td> <td> 0.000</td> <td>    0.753</td> <td>    0.785</td>\n",
       "</tr>\n",
       "<tr>\n",
       "  <th>d_intersection_type_Intersection in T</th>                         <td>   -0.0588</td> <td>    0.015</td> <td>   -3.850</td> <td> 0.000</td> <td>   -0.089</td> <td>   -0.029</td>\n",
       "</tr>\n",
       "<tr>\n",
       "  <th>d_intersection_type_Intersection in X</th>                         <td>   -0.1169</td> <td>    0.014</td> <td>   -8.125</td> <td> 0.000</td> <td>   -0.145</td> <td>   -0.089</td>\n",
       "</tr>\n",
       "<tr>\n",
       "  <th>d_intersection_type_Out of intersection</th>                       <td>    0.1764</td> <td>    0.012</td> <td>   14.874</td> <td> 0.000</td> <td>    0.153</td> <td>    0.200</td>\n",
       "</tr>\n",
       "<tr>\n",
       "  <th>d_weather_Heavy rain</th>                                          <td>   -0.0695</td> <td>    0.023</td> <td>   -3.043</td> <td> 0.002</td> <td>   -0.114</td> <td>   -0.025</td>\n",
       "</tr>\n",
       "<tr>\n",
       "  <th>d_weather_Light rain</th>                                          <td>   -0.2203</td> <td>    0.016</td> <td>  -14.009</td> <td> 0.000</td> <td>   -0.251</td> <td>   -0.189</td>\n",
       "</tr>\n",
       "<tr>\n",
       "  <th>d_weather_Normal</th>                                              <td>   -0.1344</td> <td>    0.012</td> <td>  -11.137</td> <td> 0.000</td> <td>   -0.158</td> <td>   -0.111</td>\n",
       "</tr>\n",
       "<tr>\n",
       "  <th>d_collision_type_Other collision</th>                              <td>    0.3212</td> <td>    1.164</td> <td>    0.276</td> <td> 0.783</td> <td>   -1.960</td> <td>    2.603</td>\n",
       "</tr>\n",
       "<tr>\n",
       "  <th>d_collision_type_Three or more vehicles - multiple collisions</th> <td>   -0.1216</td> <td>    1.164</td> <td>   -0.104</td> <td> 0.917</td> <td>   -2.403</td> <td>    2.160</td>\n",
       "</tr>\n",
       "<tr>\n",
       "  <th>d_collision_type_Three vehicles and more - in chain</th>           <td>   -0.8479</td> <td>    1.164</td> <td>   -0.728</td> <td> 0.466</td> <td>   -3.130</td> <td>    1.434</td>\n",
       "</tr>\n",
       "<tr>\n",
       "  <th>d_collision_type_Two vehicles - by the side</th>                   <td>    0.2176</td> <td>    1.164</td> <td>    0.187</td> <td> 0.852</td> <td>   -2.064</td> <td>    2.499</td>\n",
       "</tr>\n",
       "<tr>\n",
       "  <th>d_collision_type_Two vehicles - from the rear</th>                 <td>   -0.1456</td> <td>    1.164</td> <td>   -0.125</td> <td> 0.900</td> <td>   -2.427</td> <td>    2.136</td>\n",
       "</tr>\n",
       "<tr>\n",
       "  <th>d_collision_type_Two vehicles - frontal</th>                       <td>    0.5664</td> <td>    1.164</td> <td>    0.487</td> <td> 0.626</td> <td>   -1.715</td> <td>    2.848</td>\n",
       "</tr>\n",
       "<tr>\n",
       "  <th>d_collision_type_Without collision</th>                            <td>    0.6959</td> <td>    1.164</td> <td>    0.598</td> <td> 0.550</td> <td>   -1.585</td> <td>    2.977</td>\n",
       "</tr>\n",
       "<tr>\n",
       "  <th>d_road_category_Departmental Road</th>                             <td>    0.6543</td> <td>    0.007</td> <td>   88.194</td> <td> 0.000</td> <td>    0.640</td> <td>    0.669</td>\n",
       "</tr>\n",
       "<tr>\n",
       "  <th>d_road_category_Highway</th>                                       <td>    0.0046</td> <td>    0.015</td> <td>    0.301</td> <td> 0.764</td> <td>   -0.025</td> <td>    0.035</td>\n",
       "</tr>\n",
       "<tr>\n",
       "  <th>d_road_category_National Road</th>                                 <td>    0.3879</td> <td>    0.011</td> <td>   33.924</td> <td> 0.000</td> <td>    0.365</td> <td>    0.410</td>\n",
       "</tr>\n",
       "<tr>\n",
       "  <th>d_road_regime_NA</th>                                              <td>   -0.1067</td> <td>    0.013</td> <td>   -8.041</td> <td> 0.000</td> <td>   -0.133</td> <td>   -0.081</td>\n",
       "</tr>\n",
       "<tr>\n",
       "  <th>d_road_regime_One way</th>                                         <td>   -0.4968</td> <td>    0.009</td> <td>  -53.628</td> <td> 0.000</td> <td>   -0.515</td> <td>   -0.479</td>\n",
       "</tr>\n",
       "<tr>\n",
       "  <th>d_road_regime_Separated carriageways</th>                          <td>   -0.3206</td> <td>    0.010</td> <td>  -30.549</td> <td> 0.000</td> <td>   -0.341</td> <td>   -0.300</td>\n",
       "</tr>\n",
       "<tr>\n",
       "  <th>d_reserved_lane_NA</th>                                            <td>   -0.0060</td> <td>    0.017</td> <td>   -0.362</td> <td> 0.718</td> <td>   -0.039</td> <td>    0.027</td>\n",
       "</tr>\n",
       "<tr>\n",
       "  <th>d_reserved_lane_Reserved channel</th>                              <td>   -0.1511</td> <td>    0.025</td> <td>   -6.158</td> <td> 0.000</td> <td>   -0.199</td> <td>   -0.103</td>\n",
       "</tr>\n",
       "<tr>\n",
       "  <th>d_road_gradient_NA</th>                                            <td>    0.2173</td> <td>    0.011</td> <td>   19.688</td> <td> 0.000</td> <td>    0.196</td> <td>    0.239</td>\n",
       "</tr>\n",
       "<tr>\n",
       "  <th>d_road_gradient_Slope</th>                                         <td>    0.0587</td> <td>    0.008</td> <td>    7.016</td> <td> 0.000</td> <td>    0.042</td> <td>    0.075</td>\n",
       "</tr>\n",
       "<tr>\n",
       "  <th>d_road_plan_Curved right</th>                                      <td>    0.0104</td> <td>    0.013</td> <td>    0.803</td> <td> 0.422</td> <td>   -0.015</td> <td>    0.036</td>\n",
       "</tr>\n",
       "<tr>\n",
       "  <th>d_road_plan_NA</th>                                                <td>   -0.3467</td> <td>    0.015</td> <td>  -22.718</td> <td> 0.000</td> <td>   -0.377</td> <td>   -0.317</td>\n",
       "</tr>\n",
       "<tr>\n",
       "  <th>d_road_plan_Straight part</th>                                     <td>   -0.2840</td> <td>    0.010</td> <td>  -29.063</td> <td> 0.000</td> <td>   -0.303</td> <td>   -0.265</td>\n",
       "</tr>\n",
       "<tr>\n",
       "  <th>d_road_condition_normal</th>                                       <td>    0.1671</td> <td>    0.014</td> <td>   12.073</td> <td> 0.000</td> <td>    0.140</td> <td>    0.194</td>\n",
       "</tr>\n",
       "<tr>\n",
       "  <th>d_road_condition_wet</th>                                          <td>    0.0249</td> <td>    0.017</td> <td>    1.481</td> <td> 0.139</td> <td>   -0.008</td> <td>    0.058</td>\n",
       "</tr>\n",
       "<tr>\n",
       "  <th>d_infrastructure_Carrefour arranged</th>                           <td>    0.2360</td> <td>    0.018</td> <td>   13.252</td> <td> 0.000</td> <td>    0.201</td> <td>    0.271</td>\n",
       "</tr>\n",
       "<tr>\n",
       "  <th>d_infrastructure_NA</th>                                           <td>   -0.0356</td> <td>    0.014</td> <td>   -2.591</td> <td> 0.010</td> <td>   -0.062</td> <td>   -0.009</td>\n",
       "</tr>\n",
       "<tr>\n",
       "  <th>d_accident_situation_On the road</th>                              <td>   -0.3153</td> <td>    0.010</td> <td>  -30.121</td> <td> 0.000</td> <td>   -0.336</td> <td>   -0.295</td>\n",
       "</tr>\n",
       "<tr>\n",
       "  <th>d_accident_situation_On the verge</th>                             <td>    0.6809</td> <td>    0.016</td> <td>   43.598</td> <td> 0.000</td> <td>    0.650</td> <td>    0.711</td>\n",
       "</tr>\n",
       "<tr>\n",
       "  <th>d_place_in_car_1</th>                                              <td>   -0.5443</td> <td>    0.050</td> <td>  -10.898</td> <td> 0.000</td> <td>   -0.642</td> <td>   -0.446</td>\n",
       "</tr>\n",
       "<tr>\n",
       "  <th>d_place_in_car_2</th>                                              <td>    0.0289</td> <td>    0.031</td> <td>    0.938</td> <td> 0.348</td> <td>   -0.031</td> <td>    0.089</td>\n",
       "</tr>\n",
       "<tr>\n",
       "  <th>d_place_in_car_3</th>                                              <td>   -0.4232</td> <td>    0.039</td> <td>  -10.774</td> <td> 0.000</td> <td>   -0.500</td> <td>   -0.346</td>\n",
       "</tr>\n",
       "<tr>\n",
       "  <th>d_place_in_car_4</th>                                              <td>   -0.3724</td> <td>    0.041</td> <td>   -9.044</td> <td> 0.000</td> <td>   -0.453</td> <td>   -0.292</td>\n",
       "</tr>\n",
       "<tr>\n",
       "  <th>d_place_in_car_NA</th>                                             <td>   -0.0393</td> <td>    0.016</td> <td>   -2.413</td> <td> 0.016</td> <td>   -0.071</td> <td>   -0.007</td>\n",
       "</tr>\n",
       "<tr>\n",
       "  <th>d_user_type_Passenger</th>                                         <td>   -0.4650</td> <td>    0.049</td> <td>   -9.470</td> <td> 0.000</td> <td>   -0.561</td> <td>   -0.369</td>\n",
       "</tr>\n",
       "<tr>\n",
       "  <th>d_user_type_Pedestrian</th>                                        <td>    0.6251</td> <td>    0.048</td> <td>   12.980</td> <td> 0.000</td> <td>    0.531</td> <td>    0.719</td>\n",
       "</tr>\n",
       "<tr>\n",
       "  <th>d_sex_Male</th>                                                    <td>    0.2614</td> <td>    0.007</td> <td>   40.173</td> <td> 0.000</td> <td>    0.249</td> <td>    0.274</td>\n",
       "</tr>\n",
       "<tr>\n",
       "  <th>d_equipment_used_no</th>                                           <td>    1.2526</td> <td>    0.016</td> <td>   77.083</td> <td> 0.000</td> <td>    1.221</td> <td>    1.284</td>\n",
       "</tr>\n",
       "<tr>\n",
       "  <th>d_equipment_used_yes</th>                                          <td>   -0.0710</td> <td>    0.009</td> <td>   -7.779</td> <td> 0.000</td> <td>   -0.089</td> <td>   -0.053</td>\n",
       "</tr>\n",
       "<tr>\n",
       "  <th>d_pedestrian_action_not specified or not applicable</th>           <td>   -0.0043</td> <td>    0.035</td> <td>   -0.124</td> <td> 0.901</td> <td>   -0.072</td> <td>    0.064</td>\n",
       "</tr>\n",
       "<tr>\n",
       "  <th>d_pedestrian_alone_NA</th>                                         <td>   -0.0627</td> <td>    0.037</td> <td>   -1.692</td> <td> 0.091</td> <td>   -0.135</td> <td>    0.010</td>\n",
       "</tr>\n",
       "<tr>\n",
       "  <th>d_pedestrian_alone_Only</th>                                       <td>    0.1657</td> <td>    0.020</td> <td>    8.356</td> <td> 0.000</td> <td>    0.127</td> <td>    0.205</td>\n",
       "</tr>\n",
       "<tr>\n",
       "  <th>year</th>                                                          <td>   -0.0007</td> <td>    0.001</td> <td>   -1.132</td> <td> 0.258</td> <td>   -0.002</td> <td>    0.000</td>\n",
       "</tr>\n",
       "<tr>\n",
       "  <th>month</th>                                                         <td>    0.0035</td> <td>    0.001</td> <td>    4.150</td> <td> 0.000</td> <td>    0.002</td> <td>    0.005</td>\n",
       "</tr>\n",
       "<tr>\n",
       "  <th>hour</th>                                                          <td>    0.0017</td> <td>    0.001</td> <td>    2.698</td> <td> 0.007</td> <td>    0.000</td> <td>    0.003</td>\n",
       "</tr>\n",
       "<tr>\n",
       "  <th>user_age</th>                                                      <td>    0.0015</td> <td>    0.000</td> <td>    9.418</td> <td> 0.000</td> <td>    0.001</td> <td>    0.002</td>\n",
       "</tr>\n",
       "</table>"
      ],
      "text/plain": [
       "<class 'statsmodels.iolib.summary.Summary'>\n",
       "\"\"\"\n",
       "                 Generalized Linear Model Regression Results                  \n",
       "==============================================================================\n",
       "Dep. Variable:                      y   No. Observations:               777527\n",
       "Model:                            GLM   Df Residuals:                   777474\n",
       "Model Family:                Binomial   Df Model:                           52\n",
       "Link Function:                  logit   Scale:                          1.0000\n",
       "Method:                          IRLS   Log-Likelihood:            -3.7705e+05\n",
       "Date:                Tue, 09 Jun 2020   Deviance:                   7.5410e+05\n",
       "Time:                        23:23:46   Pearson chi2:                 7.81e+05\n",
       "No. Iterations:                     6                                         \n",
       "Covariance Type:            nonrobust                                         \n",
       "=================================================================================================================================\n",
       "                                                                    coef    std err          z      P>|z|      [0.025      0.975]\n",
       "---------------------------------------------------------------------------------------------------------------------------------\n",
       "d_lighting_Night with public lighting on                          0.2033      0.008     23.974      0.000       0.187       0.220\n",
       "d_lighting_Night without public lighting                          0.3168      0.011     29.658      0.000       0.296       0.338\n",
       "d_lighting_Twilight or dawn                                       0.1092      0.012      8.993      0.000       0.085       0.133\n",
       "d_localization_Out of agglomeration                               0.7690      0.008     95.498      0.000       0.753       0.785\n",
       "d_intersection_type_Intersection in T                            -0.0588      0.015     -3.850      0.000      -0.089      -0.029\n",
       "d_intersection_type_Intersection in X                            -0.1169      0.014     -8.125      0.000      -0.145      -0.089\n",
       "d_intersection_type_Out of intersection                           0.1764      0.012     14.874      0.000       0.153       0.200\n",
       "d_weather_Heavy rain                                             -0.0695      0.023     -3.043      0.002      -0.114      -0.025\n",
       "d_weather_Light rain                                             -0.2203      0.016    -14.009      0.000      -0.251      -0.189\n",
       "d_weather_Normal                                                 -0.1344      0.012    -11.137      0.000      -0.158      -0.111\n",
       "d_collision_type_Other collision                                  0.3212      1.164      0.276      0.783      -1.960       2.603\n",
       "d_collision_type_Three or more vehicles - multiple collisions    -0.1216      1.164     -0.104      0.917      -2.403       2.160\n",
       "d_collision_type_Three vehicles and more - in chain              -0.8479      1.164     -0.728      0.466      -3.130       1.434\n",
       "d_collision_type_Two vehicles - by the side                       0.2176      1.164      0.187      0.852      -2.064       2.499\n",
       "d_collision_type_Two vehicles - from the rear                    -0.1456      1.164     -0.125      0.900      -2.427       2.136\n",
       "d_collision_type_Two vehicles - frontal                           0.5664      1.164      0.487      0.626      -1.715       2.848\n",
       "d_collision_type_Without collision                                0.6959      1.164      0.598      0.550      -1.585       2.977\n",
       "d_road_category_Departmental Road                                 0.6543      0.007     88.194      0.000       0.640       0.669\n",
       "d_road_category_Highway                                           0.0046      0.015      0.301      0.764      -0.025       0.035\n",
       "d_road_category_National Road                                     0.3879      0.011     33.924      0.000       0.365       0.410\n",
       "d_road_regime_NA                                                 -0.1067      0.013     -8.041      0.000      -0.133      -0.081\n",
       "d_road_regime_One way                                            -0.4968      0.009    -53.628      0.000      -0.515      -0.479\n",
       "d_road_regime_Separated carriageways                             -0.3206      0.010    -30.549      0.000      -0.341      -0.300\n",
       "d_reserved_lane_NA                                               -0.0060      0.017     -0.362      0.718      -0.039       0.027\n",
       "d_reserved_lane_Reserved channel                                 -0.1511      0.025     -6.158      0.000      -0.199      -0.103\n",
       "d_road_gradient_NA                                                0.2173      0.011     19.688      0.000       0.196       0.239\n",
       "d_road_gradient_Slope                                             0.0587      0.008      7.016      0.000       0.042       0.075\n",
       "d_road_plan_Curved right                                          0.0104      0.013      0.803      0.422      -0.015       0.036\n",
       "d_road_plan_NA                                                   -0.3467      0.015    -22.718      0.000      -0.377      -0.317\n",
       "d_road_plan_Straight part                                        -0.2840      0.010    -29.063      0.000      -0.303      -0.265\n",
       "d_road_condition_normal                                           0.1671      0.014     12.073      0.000       0.140       0.194\n",
       "d_road_condition_wet                                              0.0249      0.017      1.481      0.139      -0.008       0.058\n",
       "d_infrastructure_Carrefour arranged                               0.2360      0.018     13.252      0.000       0.201       0.271\n",
       "d_infrastructure_NA                                              -0.0356      0.014     -2.591      0.010      -0.062      -0.009\n",
       "d_accident_situation_On the road                                 -0.3153      0.010    -30.121      0.000      -0.336      -0.295\n",
       "d_accident_situation_On the verge                                 0.6809      0.016     43.598      0.000       0.650       0.711\n",
       "d_place_in_car_1                                                 -0.5443      0.050    -10.898      0.000      -0.642      -0.446\n",
       "d_place_in_car_2                                                  0.0289      0.031      0.938      0.348      -0.031       0.089\n",
       "d_place_in_car_3                                                 -0.4232      0.039    -10.774      0.000      -0.500      -0.346\n",
       "d_place_in_car_4                                                 -0.3724      0.041     -9.044      0.000      -0.453      -0.292\n",
       "d_place_in_car_NA                                                -0.0393      0.016     -2.413      0.016      -0.071      -0.007\n",
       "d_user_type_Passenger                                            -0.4650      0.049     -9.470      0.000      -0.561      -0.369\n",
       "d_user_type_Pedestrian                                            0.6251      0.048     12.980      0.000       0.531       0.719\n",
       "d_sex_Male                                                        0.2614      0.007     40.173      0.000       0.249       0.274\n",
       "d_equipment_used_no                                               1.2526      0.016     77.083      0.000       1.221       1.284\n",
       "d_equipment_used_yes                                             -0.0710      0.009     -7.779      0.000      -0.089      -0.053\n",
       "d_pedestrian_action_not specified or not applicable              -0.0043      0.035     -0.124      0.901      -0.072       0.064\n",
       "d_pedestrian_alone_NA                                            -0.0627      0.037     -1.692      0.091      -0.135       0.010\n",
       "d_pedestrian_alone_Only                                           0.1657      0.020      8.356      0.000       0.127       0.205\n",
       "year                                                             -0.0007      0.001     -1.132      0.258      -0.002       0.000\n",
       "month                                                             0.0035      0.001      4.150      0.000       0.002       0.005\n",
       "hour                                                              0.0017      0.001      2.698      0.007       0.000       0.003\n",
       "user_age                                                          0.0015      0.000      9.418      0.000       0.001       0.002\n",
       "=================================================================================================================================\n",
       "\"\"\""
      ]
     },
     "execution_count": 8,
     "metadata": {},
     "output_type": "execute_result"
    }
   ],
   "source": [
    "mod = sm.GLM(y_train['y'],x_train,family = sm.families.Binomial())\n",
    "res= mod.fit()\n",
    "res.summary()"
   ]
  },
  {
   "cell_type": "code",
   "execution_count": 9,
   "metadata": {},
   "outputs": [
    {
     "data": {
      "text/html": [
       "<div>\n",
       "<style scoped>\n",
       "    .dataframe tbody tr th:only-of-type {\n",
       "        vertical-align: middle;\n",
       "    }\n",
       "\n",
       "    .dataframe tbody tr th {\n",
       "        vertical-align: top;\n",
       "    }\n",
       "\n",
       "    .dataframe thead th {\n",
       "        text-align: right;\n",
       "    }\n",
       "</style>\n",
       "<table border=\"1\" class=\"dataframe\">\n",
       "  <thead>\n",
       "    <tr style=\"text-align: right;\">\n",
       "      <th>col_0</th>\n",
       "      <th>0</th>\n",
       "      <th>1</th>\n",
       "    </tr>\n",
       "    <tr>\n",
       "      <th>y</th>\n",
       "      <th></th>\n",
       "      <th></th>\n",
       "    </tr>\n",
       "  </thead>\n",
       "  <tbody>\n",
       "    <tr>\n",
       "      <th>0</th>\n",
       "      <td>32691</td>\n",
       "      <td>546586</td>\n",
       "    </tr>\n",
       "    <tr>\n",
       "      <th>1</th>\n",
       "      <td>55879</td>\n",
       "      <td>142371</td>\n",
       "    </tr>\n",
       "  </tbody>\n",
       "</table>\n",
       "</div>"
      ],
      "text/plain": [
       "col_0      0       1\n",
       "y                   \n",
       "0      32691  546586\n",
       "1      55879  142371"
      ]
     },
     "execution_count": 9,
     "metadata": {},
     "output_type": "execute_result"
    }
   ],
   "source": [
    "prob = res.predict()\n",
    "preds = np.array([1 if x<0.5 else 0 for x in prob])\n",
    "pd.crosstab((y_train['y']),preds)"
   ]
  },
  {
   "cell_type": "code",
   "execution_count": 10,
   "metadata": {},
   "outputs": [
    {
     "data": {
      "text/plain": [
       "<matplotlib.legend.Legend at 0x7fe9a7b9cac0>"
      ]
     },
     "execution_count": 10,
     "metadata": {},
     "output_type": "execute_result"
    },
    {
     "data": {
      "image/png": "[encoded data removed]",
      "text/plain": [
       "<Figure size 432x288 with 1 Axes>"
      ]
     },
     "metadata": {
      "needs_background": "light"
     },
     "output_type": "display_data"
    }
   ],
   "source": [
    "from sklearn.metrics import roc_curve\n",
    "fpr, tpr, _ = roc_curve(y_train.y, res.predict())\n",
    "plt.figure()\n",
    "lw = 2\n",
    "plt.plot(fpr, tpr, color='darkorange',\n",
    "         lw=lw, label='ROC curve')\n",
    "plt.plot([0, 1], [0, 1], color='navy', lw=lw, linestyle='--')\n",
    "plt.xlim([0.0, 1.0])\n",
    "plt.ylim([0.0, 1.05])\n",
    "plt.xlabel('False Positive Rate')\n",
    "plt.ylabel('True Positive Rate')\n",
    "plt.title('Receiver operating characteristic example')\n",
    "plt.legend(loc=\"lower right\")\n",
    "# plt.show()"
   ]
  },
  {
   "cell_type": "markdown",
   "metadata": {},
   "source": [
    "### Modeling with SVM - small set, 20 best features from mutual info"
   ]
  },
  {
   "cell_type": "markdown",
   "metadata": {},
   "source": [
    "As the dataset is huge - using SVM with other kernel than linear is out of question. Running it on 2 features only, with radial kernel, would take >10 minutes. That is why I have used linear kernel only. Linear kernel is still infeasible to run on the full dataset. Main train dataset has ~7 mln observations, fitting linear svm becomes infeasible at 100 000 obs - at 10 000 the speed is acceptable."
   ]
  },
  {
   "cell_type": "code",
   "execution_count": 11,
   "metadata": {},
   "outputs": [],
   "source": [
    "from sklearn.svm import SVC"
   ]
  },
  {
   "cell_type": "markdown",
   "metadata": {},
   "source": [
    "Reducing train set size - the same random state in x and y gives proper observations"
   ]
  },
  {
   "cell_type": "code",
   "execution_count": 12,
   "metadata": {},
   "outputs": [],
   "source": [
    "x_train_small = x_train.sample(n = 10000, random_state = 42)\n",
    "y_train_small = y_train.sample(n = 10000, random_state = 42)"
   ]
  },
  {
   "cell_type": "markdown",
   "metadata": {},
   "source": [
    "Running SVM on default parameters, best 20 features obtained before are selected."
   ]
  },
  {
   "cell_type": "code",
   "execution_count": 13,
   "metadata": {},
   "outputs": [
    {
     "data": {
      "text/plain": [
       "SVC(C=1.0, break_ties=False, cache_size=200, class_weight=None, coef0=0.0,\n",
       "    decision_function_shape='ovr', degree=3, gamma='scale', kernel='rbf',\n",
       "    max_iter=-1, probability=True, random_state=None, shrinking=True, tol=0.001,\n",
       "    verbose=False)"
      ]
     },
     "execution_count": 13,
     "metadata": {},
     "output_type": "execute_result"
    }
   ],
   "source": [
    "features = list(minfos_df.head(20).column)\n",
    "reg = SVC(kernel = 'rbf', probability = True)\n",
    "reg.fit(x_train_small[features], y_train_small['y'])"
   ]
  },
  {
   "cell_type": "code",
   "execution_count": 14,
   "metadata": {},
   "outputs": [],
   "source": [
    "# predsTest = reg.predict_proba(x_test[features])\n",
    "\n",
    "# print(\"AUC for train set \" , roc_auc_score(y_train.y, predsTrain[:,1]))\n",
    "# print(\"AUC for test set \" , roc_auc_score(y_test.y, predsTest[:,1]))"
   ]
  },
  {
   "cell_type": "markdown",
   "metadata": {},
   "source": [
    "Above takes very long to run - AUC on test set was 0.625, lower than the best model from logistic regression (0.715)"
   ]
  },
  {
   "cell_type": "markdown",
   "metadata": {},
   "source": [
    "SVM with 20 features - finding the best C"
   ]
  },
  {
   "cell_type": "markdown",
   "metadata": {},
   "source": [
    "Trying to find the best c value on the smaller train set with 10 000 observations - obtained above. Number of features is set at 20, as this was correct number shown by Logistic Regression. Again, the kernel is linear."
   ]
  },
  {
   "cell_type": "code",
   "execution_count": 15,
   "metadata": {},
   "outputs": [],
   "source": [
    "# from sklearn.model_selection import KFold\n",
    "# from sklearn.metrics import mean_squared_error\n",
    "# import random\n",
    "# kf = KFold(n_splits=3, shuffle=True, random_state=random.randint(0,10000))\n",
    "\n",
    "# scores = []\n",
    "# cs = [0.1, 0.5, 1, 1.5, 2, 10]\n",
    "# no_features_to_include = 20\n",
    "# features = list(minfos_df.head(no_features_to_include).column)\n",
    "\n",
    "# for c in cs:\n",
    "#     print('running for c: ', c)\n",
    "\n",
    "#     r2_train = []\n",
    "#     r2_test = []\n",
    "\n",
    "#     for train, test in kf.split(x_train_small.index.values):\n",
    "#         reg = SVC(kernel = 'linear', probability = True, C = c)\n",
    "#         reg.fit(x_train_small.iloc[train][features], y_train_small.iloc[train]['y'])\n",
    "        \n",
    "#         predsTrain = reg.predict_proba(x_train_small.iloc[train][features])\n",
    "#         preds = reg.predict_proba(x_train_small.iloc[test][features])\n",
    "\n",
    "#         r2_test.append(roc_auc_score(y_train_small.iloc[test].y, preds[:,1]))\n",
    "#         r2_train.append(roc_auc_score(y_train_small.iloc[train].y, predsTrain[:,1]))\n",
    "\n",
    "#     a = (c, np.mean(r2_test), np.mean(r2_train))\n",
    "#     scores.append(a)  \n",
    "\n",
    "# #     print(a)\n",
    "# roc_scores_svm = pd.DataFrame(scores, columns = ['c', 'test', 'train'])\n",
    "# roc_scores_svm.to_pickle('models_cache/roc_scores_svm_from_minfo.pkl')"
   ]
  },
  {
   "cell_type": "markdown",
   "metadata": {},
   "source": [
    "Note: above cell is cached and read below, no nneed to re-run"
   ]
  },
  {
   "cell_type": "code",
   "execution_count": 16,
   "metadata": {},
   "outputs": [],
   "source": [
    "roc_scores_svm = pd.read_pickle('models_cache/roc_scores_svm_from_minfo.pkl')"
   ]
  },
  {
   "cell_type": "code",
   "execution_count": 17,
   "metadata": {},
   "outputs": [
    {
     "data": {
      "text/html": [
       "<div>\n",
       "<style scoped>\n",
       "    .dataframe tbody tr th:only-of-type {\n",
       "        vertical-align: middle;\n",
       "    }\n",
       "\n",
       "    .dataframe tbody tr th {\n",
       "        vertical-align: top;\n",
       "    }\n",
       "\n",
       "    .dataframe thead th {\n",
       "        text-align: right;\n",
       "    }\n",
       "</style>\n",
       "<table border=\"1\" class=\"dataframe\">\n",
       "  <thead>\n",
       "    <tr style=\"text-align: right;\">\n",
       "      <th></th>\n",
       "      <th>no_features</th>\n",
       "      <th>test</th>\n",
       "      <th>train</th>\n",
       "    </tr>\n",
       "  </thead>\n",
       "  <tbody>\n",
       "    <tr>\n",
       "      <th>0</th>\n",
       "      <td>0.1</td>\n",
       "      <td>0.677838</td>\n",
       "      <td>0.686063</td>\n",
       "    </tr>\n",
       "    <tr>\n",
       "      <th>1</th>\n",
       "      <td>0.5</td>\n",
       "      <td>0.673228</td>\n",
       "      <td>0.680600</td>\n",
       "    </tr>\n",
       "    <tr>\n",
       "      <th>2</th>\n",
       "      <td>1.0</td>\n",
       "      <td>0.682514</td>\n",
       "      <td>0.691938</td>\n",
       "    </tr>\n",
       "    <tr>\n",
       "      <th>3</th>\n",
       "      <td>1.5</td>\n",
       "      <td>0.697586</td>\n",
       "      <td>0.700556</td>\n",
       "    </tr>\n",
       "    <tr>\n",
       "      <th>4</th>\n",
       "      <td>2.0</td>\n",
       "      <td>0.699163</td>\n",
       "      <td>0.703936</td>\n",
       "    </tr>\n",
       "    <tr>\n",
       "      <th>5</th>\n",
       "      <td>10.0</td>\n",
       "      <td>0.696553</td>\n",
       "      <td>0.703841</td>\n",
       "    </tr>\n",
       "  </tbody>\n",
       "</table>\n",
       "</div>"
      ],
      "text/plain": [
       "   no_features      test     train\n",
       "0          0.1  0.677838  0.686063\n",
       "1          0.5  0.673228  0.680600\n",
       "2          1.0  0.682514  0.691938\n",
       "3          1.5  0.697586  0.700556\n",
       "4          2.0  0.699163  0.703936\n",
       "5         10.0  0.696553  0.703841"
      ]
     },
     "execution_count": 17,
     "metadata": {},
     "output_type": "execute_result"
    }
   ],
   "source": [
    "roc_scores_svm"
   ]
  },
  {
   "cell_type": "markdown",
   "metadata": {},
   "source": [
    "Performance did not improve much - best value was for c = 1.5, and result obtained for test set from cross validation was 0.699. Using the same procedure, fitting SVM with rbf kernel."
   ]
  },
  {
   "cell_type": "code",
   "execution_count": 18,
   "metadata": {},
   "outputs": [],
   "source": [
    "# from sklearn.model_selection import KFold\n",
    "# from sklearn.metrics import mean_squared_error\n",
    "# import random\n",
    "# kf = KFold(n_splits=3, shuffle=True, random_state=random.randint(0,10000))\n",
    "\n",
    "# scores = []\n",
    "# cs = [0.1, 0.5, 1, 1.5, 2, 10]\n",
    "# no_features_to_include = 20\n",
    "# features = list(minfos_df.head(no_features_to_include).column)\n",
    "\n",
    "# for c in cs:\n",
    "#     print('running for c: ', c)\n",
    "\n",
    "#     r2_train = []\n",
    "#     r2_test = []\n",
    "\n",
    "#     for train, test in kf.split(x_train_small.index.values):\n",
    "#         reg = SVC(kernel = 'rbf', probability = True, C = c)\n",
    "#         reg.fit(x_train_small.iloc[train][features], y_train_small.iloc[train]['y'])\n",
    "        \n",
    "#         predsTrain = reg.predict_proba(x_train_small.iloc[train][features])\n",
    "#         preds = reg.predict_proba(x_train_small.iloc[test][features])\n",
    "\n",
    "#         r2_test.append(roc_auc_score(y_train_small.iloc[test].y, preds[:,1]))\n",
    "#         r2_train.append(roc_auc_score(y_train_small.iloc[train].y, predsTrain[:,1]))\n",
    "\n",
    "#     a = (c, np.mean(r2_test), np.mean(r2_train))\n",
    "#     scores.append(a)  \n",
    "\n",
    "# #     print(a)\n",
    "# roc_scores_svm_rbf = pd.DataFrame(scores, columns = ['no_features', 'test', 'train'])\n",
    "# roc_scores_svm_rbf.to_pickle('models_cache/roc_scores_svm_rbf_from_minfo.pkl')"
   ]
  },
  {
   "cell_type": "markdown",
   "metadata": {},
   "source": [
    "Note: above cell is cached and read below, no nneed to re-run"
   ]
  },
  {
   "cell_type": "code",
   "execution_count": 19,
   "metadata": {},
   "outputs": [],
   "source": [
    "roc_scores_svm_rbf = pd.read_pickle('models_cache/roc_scores_svm_rbf_from_minfo.pkl')"
   ]
  },
  {
   "cell_type": "code",
   "execution_count": 20,
   "metadata": {},
   "outputs": [
    {
     "data": {
      "text/html": [
       "<div>\n",
       "<style scoped>\n",
       "    .dataframe tbody tr th:only-of-type {\n",
       "        vertical-align: middle;\n",
       "    }\n",
       "\n",
       "    .dataframe tbody tr th {\n",
       "        vertical-align: top;\n",
       "    }\n",
       "\n",
       "    .dataframe thead th {\n",
       "        text-align: right;\n",
       "    }\n",
       "</style>\n",
       "<table border=\"1\" class=\"dataframe\">\n",
       "  <thead>\n",
       "    <tr style=\"text-align: right;\">\n",
       "      <th></th>\n",
       "      <th>no_features</th>\n",
       "      <th>test</th>\n",
       "      <th>train</th>\n",
       "    </tr>\n",
       "  </thead>\n",
       "  <tbody>\n",
       "    <tr>\n",
       "      <th>0</th>\n",
       "      <td>0.1</td>\n",
       "      <td>0.680796</td>\n",
       "      <td>0.700328</td>\n",
       "    </tr>\n",
       "    <tr>\n",
       "      <th>1</th>\n",
       "      <td>0.5</td>\n",
       "      <td>0.675718</td>\n",
       "      <td>0.705103</td>\n",
       "    </tr>\n",
       "    <tr>\n",
       "      <th>2</th>\n",
       "      <td>1.0</td>\n",
       "      <td>0.678240</td>\n",
       "      <td>0.712834</td>\n",
       "    </tr>\n",
       "    <tr>\n",
       "      <th>3</th>\n",
       "      <td>1.5</td>\n",
       "      <td>0.665435</td>\n",
       "      <td>0.709508</td>\n",
       "    </tr>\n",
       "    <tr>\n",
       "      <th>4</th>\n",
       "      <td>2.0</td>\n",
       "      <td>0.656149</td>\n",
       "      <td>0.704020</td>\n",
       "    </tr>\n",
       "    <tr>\n",
       "      <th>5</th>\n",
       "      <td>10.0</td>\n",
       "      <td>0.631586</td>\n",
       "      <td>0.709276</td>\n",
       "    </tr>\n",
       "  </tbody>\n",
       "</table>\n",
       "</div>"
      ],
      "text/plain": [
       "   no_features      test     train\n",
       "0          0.1  0.680796  0.700328\n",
       "1          0.5  0.675718  0.705103\n",
       "2          1.0  0.678240  0.712834\n",
       "3          1.5  0.665435  0.709508\n",
       "4          2.0  0.656149  0.704020\n",
       "5         10.0  0.631586  0.709276"
      ]
     },
     "execution_count": 20,
     "metadata": {},
     "output_type": "execute_result"
    }
   ],
   "source": [
    "roc_scores_svm_rbf"
   ]
  },
  {
   "cell_type": "markdown",
   "metadata": {},
   "source": [
    "Performance using radial kernel got even worse than using linear kernel."
   ]
  },
  {
   "cell_type": "markdown",
   "metadata": {},
   "source": [
    "### SVM with 20 features using Stochastic Gradient Descent - finding the best C"
   ]
  },
  {
   "cell_type": "markdown",
   "metadata": {},
   "source": [
    "Using SGDClassifier with 'hinge' loss, it is equivalent to running standard SVM classifier, but allows for parallel computing. This allows for using full set for training."
   ]
  },
  {
   "cell_type": "markdown",
   "metadata": {},
   "source": [
    "In SGD there is parameter alpha performing the regularization. Its relation to c in SVM function is C_svc * n_samples = 1 / alpha_sgd"
   ]
  },
  {
   "cell_type": "markdown",
   "metadata": {},
   "source": [
    "alpha_sgd = 1 / (C_svc * n_samples)"
   ]
  },
  {
   "cell_type": "markdown",
   "metadata": {},
   "source": [
    "https://stats.stackexchange.com/questions/216095/how-does-alpha-relate-to-c-in-scikit-learns-sgdclassifier\n"
   ]
  },
  {
   "cell_type": "code",
   "execution_count": 21,
   "metadata": {},
   "outputs": [],
   "source": [
    "from sklearn.linear_model import SGDClassifier\n",
    "from sklearn.calibration import CalibratedClassifierCV"
   ]
  },
  {
   "cell_type": "code",
   "execution_count": 22,
   "metadata": {},
   "outputs": [],
   "source": [
    "features = list(minfos_df.head(20).column)\n",
    "reg = SGDClassifier(n_jobs = -1)\n",
    "reg.fit(x_train[features], y_train['y'])\n",
    "\n",
    "calibrator = CalibratedClassifierCV(reg, cv='prefit')\n",
    "calib_model =calibrator.fit(x_train[features], y_train['y'])"
   ]
  },
  {
   "cell_type": "code",
   "execution_count": 23,
   "metadata": {},
   "outputs": [
    {
     "name": "stdout",
     "output_type": "stream",
     "text": [
      "AUC for train set  0.7445078482872314\n",
      "AUC for test set  0.7070237699348382\n"
     ]
    }
   ],
   "source": [
    "predsTest = calib_model.predict_proba(x_test[features])\n",
    "print(\"AUC for train set \" , roc_auc_score(y_train.y, predsTrain[:,1]))\n",
    "print(\"AUC for test set \" , roc_auc_score(y_test.y, predsTest[:,1]))"
   ]
  },
  {
   "cell_type": "code",
   "execution_count": 24,
   "metadata": {},
   "outputs": [],
   "source": [
    "# from sklearn.model_selection import KFold\n",
    "# from sklearn.metrics import mean_squared_error\n",
    "# import random\n",
    "# kf = KFold(n_splits=3, shuffle=True, random_state=random.randint(0,10000))\n",
    "\n",
    "# scores = []\n",
    "# cs = [0.1, 0.5, 1, 1.5, 2, 10]\n",
    "# no_features_to_include = 20\n",
    "# features = list(minfos_df.head(no_features_to_include).column)\n",
    "\n",
    "# for c in cs:\n",
    "#     print('running for c: ', c)\n",
    "\n",
    "#     r2_train = []\n",
    "#     r2_test = []\n",
    "\n",
    "#     for train, test in kf.split(x_train.index.values):\n",
    "#         n_samples = x_train.iloc[train][features].shape[0]\n",
    "#         alpha_sgd = 1 / (c * n_samples)\n",
    "# #         print('computed alpha:', alpha_sgd)\n",
    "        \n",
    "#         reg = SGDClassifier(n_jobs = -1, alpha = alpha_sgd)\n",
    "#         reg.fit(x_train.iloc[train][features], y_train.iloc[train]['y'])\n",
    "        \n",
    "#         calibrator = CalibratedClassifierCV(reg, cv='prefit')\n",
    "#         calib_model =calibrator.fit(x_train.iloc[train][features], y_train.iloc[train]['y'])\n",
    "        \n",
    "#         predsTrain = calib_model.predict_proba(x_train.iloc[train][features])\n",
    "#         preds = calib_model.predict_proba(x_train.iloc[test][features])\n",
    "        \n",
    "#         r2_test.append(roc_auc_score(y_train.iloc[test].y, preds[:,1]))\n",
    "#         r2_train.append(roc_auc_score(y_train.iloc[train].y, predsTrain[:,1]))\n",
    "\n",
    "#     a = (c, np.mean(r2_test), np.mean(r2_train))\n",
    "#     scores.append(a)  \n",
    "\n",
    "# #     print(a)\n",
    "# roc_scores_sgd = pd.DataFrame(scores, columns = ['c', 'test', 'train'])\n",
    "# roc_scores_sgd.to_pickle('models_cache/roc_scores_sgd_from_minfo.pkl')"
   ]
  },
  {
   "cell_type": "code",
   "execution_count": 25,
   "metadata": {},
   "outputs": [],
   "source": [
    "roc_scores_sgd = pd.read_pickle('models_cache/roc_scores_sgd_from_minfo.pkl')"
   ]
  },
  {
   "cell_type": "code",
   "execution_count": 26,
   "metadata": {},
   "outputs": [
    {
     "data": {
      "text/html": [
       "<div>\n",
       "<style scoped>\n",
       "    .dataframe tbody tr th:only-of-type {\n",
       "        vertical-align: middle;\n",
       "    }\n",
       "\n",
       "    .dataframe tbody tr th {\n",
       "        vertical-align: top;\n",
       "    }\n",
       "\n",
       "    .dataframe thead th {\n",
       "        text-align: right;\n",
       "    }\n",
       "</style>\n",
       "<table border=\"1\" class=\"dataframe\">\n",
       "  <thead>\n",
       "    <tr style=\"text-align: right;\">\n",
       "      <th></th>\n",
       "      <th>c</th>\n",
       "      <th>test</th>\n",
       "      <th>train</th>\n",
       "    </tr>\n",
       "  </thead>\n",
       "  <tbody>\n",
       "    <tr>\n",
       "      <th>0</th>\n",
       "      <td>0.1</td>\n",
       "      <td>0.732488</td>\n",
       "      <td>0.732324</td>\n",
       "    </tr>\n",
       "    <tr>\n",
       "      <th>1</th>\n",
       "      <td>0.5</td>\n",
       "      <td>0.734136</td>\n",
       "      <td>0.734158</td>\n",
       "    </tr>\n",
       "    <tr>\n",
       "      <th>2</th>\n",
       "      <td>1.0</td>\n",
       "      <td>0.708720</td>\n",
       "      <td>0.709347</td>\n",
       "    </tr>\n",
       "    <tr>\n",
       "      <th>3</th>\n",
       "      <td>1.5</td>\n",
       "      <td>0.733063</td>\n",
       "      <td>0.732837</td>\n",
       "    </tr>\n",
       "    <tr>\n",
       "      <th>4</th>\n",
       "      <td>2.0</td>\n",
       "      <td>0.735335</td>\n",
       "      <td>0.735096</td>\n",
       "    </tr>\n",
       "    <tr>\n",
       "      <th>5</th>\n",
       "      <td>10.0</td>\n",
       "      <td>0.698826</td>\n",
       "      <td>0.699061</td>\n",
       "    </tr>\n",
       "  </tbody>\n",
       "</table>\n",
       "</div>"
      ],
      "text/plain": [
       "      c      test     train\n",
       "0   0.1  0.732488  0.732324\n",
       "1   0.5  0.734136  0.734158\n",
       "2   1.0  0.708720  0.709347\n",
       "3   1.5  0.733063  0.732837\n",
       "4   2.0  0.735335  0.735096\n",
       "5  10.0  0.698826  0.699061"
      ]
     },
     "execution_count": 26,
     "metadata": {},
     "output_type": "execute_result"
    }
   ],
   "source": [
    "roc_scores_sgd"
   ]
  },
  {
   "cell_type": "markdown",
   "metadata": {},
   "source": [
    "Best alpha is 2.0. Now fitting to the full dataset and checking GOF for test set."
   ]
  },
  {
   "cell_type": "code",
   "execution_count": 27,
   "metadata": {},
   "outputs": [],
   "source": [
    "features = list(minfos_df.head(20).column)\n",
    "reg = SGDClassifier(n_jobs = -1,alpha = 1/(1.5*x_train.shape[0]))\n",
    "reg.fit(x_train[features], y_train['y'])\n",
    "\n",
    "calibrator = CalibratedClassifierCV(reg, cv='prefit')\n",
    "calib_model =calibrator.fit(x_train[features], y_train['y'])"
   ]
  },
  {
   "cell_type": "code",
   "execution_count": 28,
   "metadata": {},
   "outputs": [
    {
     "name": "stdout",
     "output_type": "stream",
     "text": [
      "AUC for train set  0.7121220083231073\n",
      "AUC for test set  0.6825184110185774\n"
     ]
    }
   ],
   "source": [
    "predsTrain = calib_model.predict_proba(x_train[features])\n",
    "predsTest = calib_model.predict_proba(x_test[features])\n",
    "print(\"AUC for train set \" , roc_auc_score(y_train.y, predsTrain[:,1]))\n",
    "print(\"AUC for test set \" , roc_auc_score(y_test.y, predsTest[:,1]))"
   ]
  },
  {
   "cell_type": "markdown",
   "metadata": {},
   "source": [
    "Not much improvement over the LR"
   ]
  },
  {
   "cell_type": "markdown",
   "metadata": {},
   "source": [
    "### Feature generation"
   ]
  },
  {
   "cell_type": "markdown",
   "metadata": {},
   "source": [
    "#### Using features that looked promising from EDA"
   ]
  },
  {
   "cell_type": "code",
   "execution_count": 29,
   "metadata": {},
   "outputs": [
    {
     "name": "stderr",
     "output_type": "stream",
     "text": [
      "/home/kamo1997/miniconda3/envs/env/lib/python3.8/site-packages/sklearn/linear_model/_logistic.py:938: ConvergenceWarning: lbfgs failed to converge (status=1):\n",
      "STOP: TOTAL NO. of ITERATIONS REACHED LIMIT.\n",
      "\n",
      "Increase the number of iterations (max_iter) or scale the data as shown in:\n",
      "    https://scikit-learn.org/stable/modules/preprocessing.html\n",
      "Please also refer to the documentation for alternative solver options:\n",
      "    https://scikit-learn.org/stable/modules/linear_model.html#logistic-regression\n",
      "  n_iter_i = _check_optimize_result(\n"
     ]
    },
    {
     "name": "stdout",
     "output_type": "stream",
     "text": [
      "AUC for train set  0.7415362740919503\n",
      "AUC for test set  0.7112601406769767\n"
     ]
    }
   ],
   "source": [
    "import matplotlib.pyplot as plt\n",
    "plt.style.use('seaborn-ticks')\n",
    "%matplotlib inline\n",
    "cols_to_log = [\n",
    " 'd_lighting_Night without public lighting',\n",
    " 'd_lighting_Twilight or dawn',\n",
    " 'd_localization_Out of agglomeration',\n",
    " 'd_intersection_type_Out of intersection',\n",
    " 'd_weather_Normal',\n",
    " 'd_collision_type_Other collision',\n",
    " 'd_collision_type_Two vehicles - frontal',\n",
    " 'd_collision_type_Without collision',\n",
    " 'd_road_category_Departmental Road',\n",
    " 'd_road_regime_One way',\n",
    " 'd_road_regime_Separated carriageways',\n",
    " 'd_reserved_lane_NA',\n",
    " 'd_road_gradient_NA',\n",
    " 'd_road_plan_NA',\n",
    " 'd_road_plan_Straight part',\n",
    " 'd_road_condition_normal',\n",
    " 'd_road_condition_wet',\n",
    " 'd_accident_situation_On the verge',\n",
    " 'd_place_in_car_1',\n",
    " 'd_place_in_car_NA',\n",
    " 'd_user_type_Pedestrian',\n",
    " 'd_equipment_used_no',\n",
    " 'd_pedestrian_action_not specified or not applicable',\n",
    " 'd_pedestrian_alone_NA',\n",
    " 'hour',\n",
    " 'user_age'\n",
    " ]\n",
    "\n",
    "features = cols_to_log\n",
    "reg = LogisticRegression()\n",
    "reg.fit(x_train[features], y_train['y'])\n",
    "\n",
    "predsTrain = reg.predict_proba(x_train[features])\n",
    "predsTest = reg.predict_proba(x_test[features])\n",
    "\n",
    "print(\"AUC for train set \" , roc_auc_score(y_train.y, predsTrain[:,1]))\n",
    "print(\"AUC for test set \" , roc_auc_score(y_test.y, predsTest[:,1]))\n"
   ]
  },
  {
   "cell_type": "markdown",
   "metadata": {},
   "source": [
    "Value of AUC using features selected by hand is a little bit smaller than using 20 best features from mutual info. Now trying if binning continuous variables will help, as it looked promising in the EDA part."
   ]
  },
  {
   "cell_type": "code",
   "execution_count": 30,
   "metadata": {},
   "outputs": [
    {
     "name": "stderr",
     "output_type": "stream",
     "text": [
      "/home/kamo1997/miniconda3/envs/env/lib/python3.8/site-packages/sklearn/linear_model/_logistic.py:938: ConvergenceWarning: lbfgs failed to converge (status=1):\n",
      "STOP: TOTAL NO. of ITERATIONS REACHED LIMIT.\n",
      "\n",
      "Increase the number of iterations (max_iter) or scale the data as shown in:\n",
      "    https://scikit-learn.org/stable/modules/preprocessing.html\n",
      "Please also refer to the documentation for alternative solver options:\n",
      "    https://scikit-learn.org/stable/modules/linear_model.html#logistic-regression\n",
      "  n_iter_i = _check_optimize_result(\n"
     ]
    },
    {
     "name": "stdout",
     "output_type": "stream",
     "text": [
      "AUC for train set  0.744254722926007\n",
      "AUC for test set  0.7151421013680969\n"
     ]
    }
   ],
   "source": [
    "features = list(minfos_df.head(20).column) + ['hour', 'user_age']\n",
    "reg = LogisticRegression()\n",
    "reg.fit(x_train[features], y_train['y'])\n",
    "\n",
    "predsTrain = reg.predict_proba(x_train[features])\n",
    "predsTest = reg.predict_proba(x_test[features])\n",
    "\n",
    "print(\"AUC for train set \" , roc_auc_score(y_train.y, predsTrain[:,1]))\n",
    "print(\"AUC for test set \" , roc_auc_score(y_test.y, predsTest[:,1]))\n"
   ]
  },
  {
   "cell_type": "markdown",
   "metadata": {},
   "source": [
    "#### Binning categorical variables - user age"
   ]
  },
  {
   "cell_type": "code",
   "execution_count": 31,
   "metadata": {},
   "outputs": [],
   "source": [
    "temp_age = pd.concat([x_train[['user_age']], y_train['y']], axis=1)"
   ]
  },
  {
   "cell_type": "code",
   "execution_count": 32,
   "metadata": {},
   "outputs": [
    {
     "data": {
      "text/plain": [
       "<matplotlib.axes._subplots.AxesSubplot at 0x7fe9a7a544f0>"
      ]
     },
     "execution_count": 32,
     "metadata": {},
     "output_type": "execute_result"
    },
    {
     "data": {
      "image/png": "[encoded data removed]",
      "text/plain": [
       "<Figure size 432x288 with 1 Axes>"
      ]
     },
     "metadata": {
      "needs_background": "light"
     },
     "output_type": "display_data"
    }
   ],
   "source": [
    "a = pd.crosstab(temp_age['user_age']//10, columns=temp_age['y'], \n",
    "                 normalize='index').reset_index()\n",
    "b = pd.melt(a, id_vars=['user_age'], value_vars=[0, 1])\n",
    "\n",
    "b\n",
    "\n",
    "sns.barplot(x = 'user_age', y = 'value', data = b.query('y==1'))"
   ]
  },
  {
   "cell_type": "markdown",
   "metadata": {},
   "source": [
    "The plot above presents percentage of people at given age who were killed. As can be seen there is some regularity - very young and very old people are more likely to die. "
   ]
  },
  {
   "cell_type": "markdown",
   "metadata": {},
   "source": [
    "#### Benchmark"
   ]
  },
  {
   "cell_type": "code",
   "execution_count": 33,
   "metadata": {},
   "outputs": [
    {
     "name": "stderr",
     "output_type": "stream",
     "text": [
      "/home/kamo1997/miniconda3/envs/env/lib/python3.8/site-packages/sklearn/linear_model/_logistic.py:938: ConvergenceWarning: lbfgs failed to converge (status=1):\n",
      "STOP: TOTAL NO. of ITERATIONS REACHED LIMIT.\n",
      "\n",
      "Increase the number of iterations (max_iter) or scale the data as shown in:\n",
      "    https://scikit-learn.org/stable/modules/preprocessing.html\n",
      "Please also refer to the documentation for alternative solver options:\n",
      "    https://scikit-learn.org/stable/modules/linear_model.html#logistic-regression\n",
      "  n_iter_i = _check_optimize_result(\n"
     ]
    },
    {
     "name": "stdout",
     "output_type": "stream",
     "text": [
      "AUC for train set  0.743566122113507\n",
      "AUC for test set  0.7148641038756898\n"
     ]
    }
   ],
   "source": [
    "features = list(minfos_df.head(20).column) + ['user_age']\n",
    "\n",
    "x_train_age = x_train.copy()\n",
    "x_train_age['user_age'] = x_train_age['user_age']\n",
    "\n",
    "x_test_age = x_test.copy()\n",
    "x_test_age['user_age'] = x_test['user_age']\n",
    "\n",
    "reg = LogisticRegression()\n",
    "reg.fit(x_train_age[features], y_train['y'])\n",
    "\n",
    "predsTrain = reg.predict_proba(x_train_age[features])\n",
    "predsTest = reg.predict_proba(x_test_age[features])\n",
    "\n",
    "print(\"AUC for train set \" , roc_auc_score(y_train.y, predsTrain[:,1]))\n",
    "print(\"AUC for test set \" , roc_auc_score(y_test.y, predsTest[:,1]))\n"
   ]
  },
  {
   "cell_type": "markdown",
   "metadata": {},
   "source": [
    "#### Finding the best bin width"
   ]
  },
  {
   "cell_type": "code",
   "execution_count": 34,
   "metadata": {},
   "outputs": [
    {
     "name": "stdout",
     "output_type": "stream",
     "text": [
      "testing bin width of: 10\n",
      "AUC for train set  0.7507490965479534\n",
      "AUC for test set  0.7212623421651736\n",
      "testing bin width of: 15\n",
      "AUC for train set  0.7478351193753696\n",
      "AUC for test set  0.7194329413752723\n",
      "testing bin width of: 20\n",
      "AUC for train set  0.7495719785768258\n",
      "AUC for test set  0.719053661903829\n",
      "testing bin width of: 25\n",
      "AUC for train set  0.7484123987308692\n",
      "AUC for test set  0.7192753979761679\n",
      "testing bin width of: 30\n",
      "AUC for train set  0.7469394223452364\n",
      "AUC for test set  0.717946321073254\n"
     ]
    }
   ],
   "source": [
    "features = list(minfos_df.head(20).column) + ['user_age']\n",
    "\n",
    "for bin_width in [10, 15, 20, 25, 30]:\n",
    "    print('testing bin width of:', bin_width)\n",
    "    x_train_age = x_train[features].copy()\n",
    "    x_train_age['user_age'] = x_train_age['user_age']//bin_width\n",
    "    x_train_age = pd.concat([x_train_age.drop('user_age', axis = 1), \n",
    "                             pd.get_dummies(x_train_age['user_age'],drop_first = 1)], axis = 1)\n",
    "\n",
    "    x_test_age = x_test[features].copy()\n",
    "    x_test_age['user_age'] = x_test_age['user_age']//bin_width\n",
    "    x_test_age = pd.concat([x_test_age.drop('user_age', axis = 1), \n",
    "                             pd.get_dummies(x_test_age['user_age'],drop_first = 1)], axis = 1)\n",
    "\n",
    "\n",
    "    reg = LogisticRegression()\n",
    "    reg.fit(x_train_age, y_train['y'])\n",
    "\n",
    "    predsTrain = reg.predict_proba(x_train_age)\n",
    "    predsTest = reg.predict_proba(x_test_age)\n",
    "\n",
    "    print(\"AUC for train set \" , roc_auc_score(y_train.y, predsTrain[:,1]))\n",
    "    print(\"AUC for test set \" , roc_auc_score(y_test.y, predsTest[:,1]))\n",
    "\n"
   ]
  },
  {
   "cell_type": "markdown",
   "metadata": {},
   "source": [
    "Small improvement!"
   ]
  },
  {
   "cell_type": "markdown",
   "metadata": {},
   "source": [
    "Benchmark:\n",
    "\n",
    "- AUC for train set  0.7436704000408136\n",
    "- AUC for test set  0.7163762566270527\n",
    "\n"
   ]
  },
  {
   "cell_type": "markdown",
   "metadata": {},
   "source": [
    "Adding age variable with bin width of 10 really gave an improvement (0.06 on AUC) "
   ]
  },
  {
   "cell_type": "markdown",
   "metadata": {},
   "source": [
    "#### Feature generation - hour of accident"
   ]
  },
  {
   "cell_type": "code",
   "execution_count": 35,
   "metadata": {},
   "outputs": [
    {
     "data": {
      "text/plain": [
       "<matplotlib.axes._subplots.AxesSubplot at 0x7fe9a79e3940>"
      ]
     },
     "execution_count": 35,
     "metadata": {},
     "output_type": "execute_result"
    },
    {
     "data": {
      "image/png": "[encoded data removed]",
      "text/plain": [
       "<Figure size 432x288 with 1 Axes>"
      ]
     },
     "metadata": {
      "needs_background": "light"
     },
     "output_type": "display_data"
    }
   ],
   "source": [
    "temp_h = pd.concat([x_train[['hour']], y_train['y']], axis=1)\n",
    "a = pd.crosstab(temp_h['hour'], columns=temp_age['y'], \n",
    "                 normalize='index').reset_index()\n",
    "b = pd.melt(a, id_vars=['hour'], value_vars=[0, 1])\n",
    "\n",
    "b\n",
    "\n",
    "sns.barplot(x = 'hour', y = 'value', data = b.query('y==1'))"
   ]
  },
  {
   "cell_type": "markdown",
   "metadata": {},
   "source": [
    "Worst hours are 5, 6 and 7."
   ]
  },
  {
   "cell_type": "markdown",
   "metadata": {},
   "source": [
    "#### Putting all hours as dummies"
   ]
  },
  {
   "cell_type": "code",
   "execution_count": 36,
   "metadata": {},
   "outputs": [
    {
     "name": "stderr",
     "output_type": "stream",
     "text": [
      "/home/kamo1997/miniconda3/envs/env/lib/python3.8/site-packages/sklearn/linear_model/_logistic.py:938: ConvergenceWarning: lbfgs failed to converge (status=1):\n",
      "STOP: TOTAL NO. of ITERATIONS REACHED LIMIT.\n",
      "\n",
      "Increase the number of iterations (max_iter) or scale the data as shown in:\n",
      "    https://scikit-learn.org/stable/modules/preprocessing.html\n",
      "Please also refer to the documentation for alternative solver options:\n",
      "    https://scikit-learn.org/stable/modules/linear_model.html#logistic-regression\n",
      "  n_iter_i = _check_optimize_result(\n"
     ]
    },
    {
     "name": "stdout",
     "output_type": "stream",
     "text": [
      "AUC for train set  0.7456957492394077\n",
      "AUC for test set  0.7158053302376304\n"
     ]
    }
   ],
   "source": [
    "features = list(minfos_df.head(20).column) + ['hour']\n",
    "\n",
    "\n",
    "x_train_h = x_train[features].copy()\n",
    "x_train_h['hour'] = x_train_h['hour']\n",
    "x_train_h = pd.concat([x_train_h.drop('hour', axis = 1), \n",
    "                         pd.get_dummies(x_train_h['hour'],drop_first = 1)], axis = 1)\n",
    "\n",
    "x_test_h = x_test[features].copy()\n",
    "x_test_h['hour'] = x_test_h['hour']\n",
    "x_test_h = pd.concat([x_test_h.drop('hour', axis = 1), \n",
    "                         pd.get_dummies(x_test_h['hour'],drop_first = 1)], axis = 1)\n",
    "\n",
    "reg = LogisticRegression()\n",
    "reg.fit(x_train_h, y_train['y'])\n",
    "\n",
    "predsTrain = reg.predict_proba(x_train_h)\n",
    "predsTest = reg.predict_proba(x_test_h)\n",
    "\n",
    "print(\"AUC for train set \" , roc_auc_score(y_train.y, predsTrain[:,1]))\n",
    "print(\"AUC for test set \" , roc_auc_score(y_test.y, predsTest[:,1]))"
   ]
  },
  {
   "cell_type": "markdown",
   "metadata": {},
   "source": [
    "Even with all hours present the results are better than without them!"
   ]
  },
  {
   "cell_type": "markdown",
   "metadata": {},
   "source": [
    "#### Dropping irrelevant hours (judging from the plot above)"
   ]
  },
  {
   "cell_type": "code",
   "execution_count": 37,
   "metadata": {},
   "outputs": [
    {
     "name": "stderr",
     "output_type": "stream",
     "text": [
      "/home/kamo1997/miniconda3/envs/env/lib/python3.8/site-packages/sklearn/linear_model/_logistic.py:938: ConvergenceWarning: lbfgs failed to converge (status=1):\n",
      "STOP: TOTAL NO. of ITERATIONS REACHED LIMIT.\n",
      "\n",
      "Increase the number of iterations (max_iter) or scale the data as shown in:\n",
      "    https://scikit-learn.org/stable/modules/preprocessing.html\n",
      "Please also refer to the documentation for alternative solver options:\n",
      "    https://scikit-learn.org/stable/modules/linear_model.html#logistic-regression\n",
      "  n_iter_i = _check_optimize_result(\n"
     ]
    },
    {
     "name": "stdout",
     "output_type": "stream",
     "text": [
      "AUC for train set  0.7456274604917399\n",
      "AUC for test set  0.7158022480763944\n"
     ]
    }
   ],
   "source": [
    "features = list(minfos_df.head(20).column) + ['hour']\n",
    "hours_to_drop = [5,6]\n",
    "\n",
    "\n",
    "x_train_h = x_train[features].copy()\n",
    "x_train_h['hour'] = x_train_h['hour']\n",
    "x_train_h = pd.concat([x_train_h.drop('hour', axis = 1), \n",
    "                         pd.get_dummies(x_train_h['hour'],drop_first = 1)], axis = 1)\n",
    "x_train_h.drop(hours_to_drop, axis = 1, inplace = True)\n",
    "\n",
    "x_test_h = x_test[features].copy()\n",
    "x_test_h['hour'] = x_test_h['hour']\n",
    "x_test_h = pd.concat([x_test_h.drop('hour', axis = 1), \n",
    "                         pd.get_dummies(x_test_h['hour'],drop_first = 1)], axis = 1)\n",
    "x_test_h.drop(hours_to_drop, axis = 1, inplace = True)\n",
    "\n",
    "reg = LogisticRegression()\n",
    "reg.fit(x_train_h, y_train['y'])\n",
    "\n",
    "predsTrain = reg.predict_proba(x_train_h)\n",
    "predsTest = reg.predict_proba(x_test_h)\n",
    "\n",
    "print(\"AUC for train set \" , roc_auc_score(y_train.y, predsTrain[:,1]))\n",
    "print(\"AUC for test set \" , roc_auc_score(y_test.y, predsTest[:,1]))"
   ]
  },
  {
   "cell_type": "code",
   "execution_count": 38,
   "metadata": {},
   "outputs": [
    {
     "name": "stderr",
     "output_type": "stream",
     "text": [
      "/home/kamo1997/miniconda3/envs/env/lib/python3.8/site-packages/sklearn/linear_model/_logistic.py:938: ConvergenceWarning: lbfgs failed to converge (status=1):\n",
      "STOP: TOTAL NO. of ITERATIONS REACHED LIMIT.\n",
      "\n",
      "Increase the number of iterations (max_iter) or scale the data as shown in:\n",
      "    https://scikit-learn.org/stable/modules/preprocessing.html\n",
      "Please also refer to the documentation for alternative solver options:\n",
      "    https://scikit-learn.org/stable/modules/linear_model.html#logistic-regression\n",
      "  n_iter_i = _check_optimize_result(\n"
     ]
    },
    {
     "name": "stdout",
     "output_type": "stream",
     "text": [
      "AUC for train set  0.7456274604917399\n",
      "AUC for test set  0.7158022480763944\n"
     ]
    }
   ],
   "source": [
    "x_train_h = x_train[features].copy()\n",
    "x_train_h = pd.concat([x_train_h.drop('hour', axis = 1), \n",
    "                         pd.get_dummies(x_train_h['hour'],drop_first = 1)], axis = 1)\n",
    "x_train_h.drop(hours_to_drop, axis = 1, inplace = True)\n",
    "\n",
    "x_test_h = x_test[features].copy()\n",
    "x_test_h['hour'] = x_test_h['hour']\n",
    "x_test_h = pd.concat([x_test_h.drop('hour', axis = 1), \n",
    "                         pd.get_dummies(x_test_h['hour'],drop_first = 1)], axis = 1)\n",
    "x_test_h.drop(hours_to_drop, axis = 1, inplace = True)\n",
    "\n",
    "reg = LogisticRegression()\n",
    "reg.fit(x_train_h, y_train['y'])\n",
    "\n",
    "predsTrain = reg.predict_proba(x_train_h)\n",
    "predsTest = reg.predict_proba(x_test_h)\n",
    "\n",
    "print(\"AUC for train set \" , roc_auc_score(y_train.y, predsTrain[:,1]))\n",
    "print(\"AUC for test set \" , roc_auc_score(y_test.y, predsTest[:,1]))"
   ]
  },
  {
   "cell_type": "markdown",
   "metadata": {},
   "source": [
    "Testing the approach with variable if_morning - for hours 5,6. Did not give improvement."
   ]
  },
  {
   "cell_type": "code",
   "execution_count": 39,
   "metadata": {},
   "outputs": [],
   "source": [
    "# features = list(minfos_df.head(20).column) + ['hour']\n",
    "\n",
    "# x_train_h = x_train[features].copy()\n",
    "# x_train_h['if_morning'] = x_train_h['hour'].between(5,6).astype(int)\n",
    "# x_train_h = x_train_h.drop('hour', axis= 1)\n",
    "\n",
    "# x_test_h = x_test[features].copy()\n",
    "# x_test_h['if_morning'] = x_test_h['hour'].between(5,6).astype(int)\n",
    "# x_test_h = x_test_h.drop('hour', axis= 1)\n",
    "\n",
    "# reg = LogisticRegression()\n",
    "# reg.fit(x_train_h, y_train['y'])\n",
    "\n",
    "# predsTrain = reg.predict_proba(x_train_h)\n",
    "# predsTest = reg.predict_proba(x_test_h)\n",
    "\n",
    "# print(\"AUC for train set \" , roc_auc_score(y_train.y, predsTrain[:,1]))\n",
    "# print(\"AUC for test set \" , roc_auc_score(y_test.y, predsTest[:,1]))"
   ]
  },
  {
   "cell_type": "markdown",
   "metadata": {},
   "source": [
    "### Imbalance methods"
   ]
  },
  {
   "cell_type": "code",
   "execution_count": 40,
   "metadata": {},
   "outputs": [
    {
     "data": {
      "text/plain": [
       "(777527, 53)"
      ]
     },
     "execution_count": 40,
     "metadata": {},
     "output_type": "execute_result"
    }
   ],
   "source": [
    "x_train.shape"
   ]
  },
  {
   "cell_type": "markdown",
   "metadata": {},
   "source": [
    "The dataset is slightly imbalanced. Only 23% of people involved in the accidents were seriously injured or killed. That is why we have decided to include methods for fighting this imbalance. The dataset is very big - with around 80 000 observations in train set. That is why undersampling seems a good choice. It will be also faster to test more possible combinations."
   ]
  },
  {
   "cell_type": "markdown",
   "metadata": {},
   "source": [
    "#### Benchmark"
   ]
  },
  {
   "cell_type": "code",
   "execution_count": 41,
   "metadata": {},
   "outputs": [
    {
     "name": "stdout",
     "output_type": "stream",
     "text": [
      "AUC for train set  0.7445078482872314\n",
      "AUC for test set  0.7151262725767052\n"
     ]
    }
   ],
   "source": [
    "features = list(minfos_df.head(20).column)\n",
    "reg = LogisticRegression()\n",
    "reg.fit(x_train[features], y_train['y'])\n",
    "\n",
    "predsTrain = reg.predict_proba(x_train[features])\n",
    "predsTest = reg.predict_proba(x_test[features])\n",
    "\n",
    "print(\"AUC for train set \" , roc_auc_score(y_train.y, predsTrain[:,1]))\n",
    "print(\"AUC for test set \" , roc_auc_score(y_test.y, predsTest[:,1]))"
   ]
  },
  {
   "cell_type": "markdown",
   "metadata": {},
   "source": [
    "#### Downsampling to obtain 50/50 distribution of 0s nad 1s"
   ]
  },
  {
   "cell_type": "code",
   "execution_count": 42,
   "metadata": {},
   "outputs": [
    {
     "data": {
      "text/plain": [
       "0    579277\n",
       "1    198250\n",
       "Name: y, dtype: int64"
      ]
     },
     "execution_count": 42,
     "metadata": {},
     "output_type": "execute_result"
    }
   ],
   "source": [
    "y_train.y.value_counts()"
   ]
  },
  {
   "cell_type": "markdown",
   "metadata": {},
   "source": [
    "For perfect imbalance we need to drop 381150 instances with y=0."
   ]
  },
  {
   "cell_type": "code",
   "execution_count": 43,
   "metadata": {},
   "outputs": [],
   "source": [
    "from random import shuffle\n",
    "trainIndex0 = list(y_train.query(\"y==0\").index.values)\n",
    "shuffle(trainIndex0)"
   ]
  },
  {
   "cell_type": "code",
   "execution_count": 44,
   "metadata": {},
   "outputs": [],
   "source": [
    "x_train_u = x_train.drop(trainIndex0[0:381150])\n",
    "y_train_u = y_train.drop(trainIndex0[0:381150])"
   ]
  },
  {
   "cell_type": "code",
   "execution_count": 45,
   "metadata": {},
   "outputs": [
    {
     "name": "stdout",
     "output_type": "stream",
     "text": [
      "1    198250\n",
      "0    198127\n",
      "Name: y, dtype: int64\n",
      "(396377, 53)\n"
     ]
    }
   ],
   "source": [
    "print(y_train_u.y.value_counts())\n",
    "print(x_train_u.shape)"
   ]
  },
  {
   "cell_type": "code",
   "execution_count": 46,
   "metadata": {},
   "outputs": [
    {
     "name": "stdout",
     "output_type": "stream",
     "text": [
      "AUC for train set  0.7451912968735308\n",
      "AUC for test set  0.7154171403804018\n"
     ]
    }
   ],
   "source": [
    "features_u = list(minfos_df.head(20).column)\n",
    "reg_u = LogisticRegression()\n",
    "reg_u.fit(x_train_u[features_u], y_train_u['y'])\n",
    "\n",
    "predsTrain = reg_u.predict_proba(x_train_u[features_u])\n",
    "predsTest = reg_u.predict_proba(x_test[features_u])\n",
    "\n",
    "print(\"AUC for train set \" , roc_auc_score(y_train_u.y, predsTrain[:,1]))\n",
    "print(\"AUC for test set \" , roc_auc_score(y_test.y, predsTest[:,1]))"
   ]
  },
  {
   "cell_type": "markdown",
   "metadata": {},
   "source": [
    "Downsampling improved the results on the test set by small amount. "
   ]
  },
  {
   "cell_type": "code",
   "execution_count": 47,
   "metadata": {},
   "outputs": [
    {
     "data": {
      "text/plain": [
       "<matplotlib.legend.Legend at 0x7fe9a02e63a0>"
      ]
     },
     "execution_count": 47,
     "metadata": {},
     "output_type": "execute_result"
    },
    {
     "data": {
      "image/png": "[encoded data removed]",
      "text/plain": [
       "<Figure size 432x288 with 1 Axes>"
      ]
     },
     "metadata": {
      "needs_background": "light"
     },
     "output_type": "display_data"
    }
   ],
   "source": [
    "from sklearn.metrics import roc_curve\n",
    "fpr_u, tpr_u, _ = roc_curve(y_test.y, reg_u.predict_proba(x_test[features_u])[:,1])\n",
    "fpr, tpr, _ = roc_curve(y_test.y, reg.predict_proba(x_test[features])[:,1])\n",
    "plt.figure()\n",
    "lw = 2\n",
    "plt.plot(fpr_u, tpr_u, color='darkorange',\n",
    "         lw=lw, label='ROC for undersampled')\n",
    "plt.plot(fpr, tpr, color='red',\n",
    "         lw=lw, label='ROC for standard')\n",
    "\n",
    "plt.plot([0, 1], [0, 1], color='navy', lw=lw, linestyle='--')\n",
    "plt.xlim([0.0, 1.0])\n",
    "plt.ylim([0.0, 1.05])\n",
    "plt.xlabel('False Positive Rate')\n",
    "plt.ylabel('True Positive Rate')\n",
    "plt.title('Receiver operating characteristic example')\n",
    "plt.legend(loc=\"lower right\")\n",
    "# plt.show()"
   ]
  },
  {
   "cell_type": "markdown",
   "metadata": {},
   "source": [
    "ROC with and without resampling are essentially the same."
   ]
  },
  {
   "cell_type": "markdown",
   "metadata": {},
   "source": [
    "Note: 95918 observations 50/50 are enought to create the same accuracy."
   ]
  },
  {
   "cell_type": "code",
   "execution_count": 48,
   "metadata": {},
   "outputs": [
    {
     "data": {
      "text/plain": [
       "[<matplotlib.lines.Line2D at 0x7fe9a029c880>]"
      ]
     },
     "execution_count": 48,
     "metadata": {},
     "output_type": "execute_result"
    },
    {
     "data": {
      "image/png": "[encoded data removed]",
      "text/plain": [
       "<Figure size 432x288 with 1 Axes>"
      ]
     },
     "metadata": {
      "needs_background": "light"
     },
     "output_type": "display_data"
    }
   ],
   "source": [
    "plt.scatter(reg.predict_proba(x_test[features])[:2000,1], reg_u.predict_proba(x_test[features_u])[:2000,1], s=0.2)\n",
    "plt.plot([0, 1], [0, 1], color='navy', lw=lw, linestyle='--')"
   ]
  },
  {
   "cell_type": "markdown",
   "metadata": {},
   "source": [
    "This picture shows predicted probability by 2 models for saample of observations. On axis x there is standard model, while on axis y - with downsampling. As can be seen, downsampling actually caused systematically bigger probability of obtaining 1."
   ]
  },
  {
   "cell_type": "markdown",
   "metadata": {},
   "source": [
    "More fancy methods for resampling take a very long time to run. or actually can't run them on such big dataset."
   ]
  },
  {
   "cell_type": "code",
   "execution_count": 49,
   "metadata": {},
   "outputs": [],
   "source": [
    "# from sklearn.datasets import make_classification\n",
    "# from imblearn.under_sampling import ClusterCentroids \n",
    "\n",
    "# cc = ClusterCentroids(random_state=42,sampling_strategy=0.5,n_jobs = -1)\n",
    "# x_train_cl, y_train_cl = cc.fit_resample(x_train, y_train)"
   ]
  },
  {
   "cell_type": "code",
   "execution_count": 50,
   "metadata": {},
   "outputs": [],
   "source": [
    "# from imblearn.under_sampling import TomekLinks\n",
    "\n",
    "# cc = TomekLinks(n_jobs = -1)\n",
    "# x_train_cl, y_train_cl = cc.fit_sample(x_train, y_train)"
   ]
  },
  {
   "cell_type": "markdown",
   "metadata": {},
   "source": [
    "### KNN modeling"
   ]
  },
  {
   "cell_type": "code",
   "execution_count": 51,
   "metadata": {},
   "outputs": [],
   "source": [
    "from sklearn.model_selection import KFold\n",
    "from sklearn import metrics\n",
    "from sklearn import neighbors"
   ]
  },
  {
   "cell_type": "code",
   "execution_count": 52,
   "metadata": {},
   "outputs": [],
   "source": [
    "x_train_small = x_train.sample(n = 100000, random_state = 42)\n",
    "y_train_small = y_train.sample(n = 100000, random_state = 42)"
   ]
  },
  {
   "cell_type": "code",
   "execution_count": 53,
   "metadata": {},
   "outputs": [],
   "source": [
    "# from sklearn.model_selection import KFold\n",
    "# from sklearn.metrics import mean_squared_error\n",
    "# import random\n",
    "# kf = KFold(n_splits=3, shuffle=True, random_state=random.randint(0,10000))\n",
    "\n",
    "# scores = []\n",
    "# ks = [5, 50, 100]\n",
    "# no_features_to_include = 20\n",
    "# features = list(minfos_df.head(no_features_to_include).column)\n",
    "\n",
    "# for k in ks:\n",
    "#     print('running for k: ', k)\n",
    "\n",
    "#     r2_train = []\n",
    "#     r2_test = []\n",
    "\n",
    "#     for train, test in kf.split(x_train_small.index.values):\n",
    "\n",
    "#         reg = neighbors.KNeighborsClassifier(k, n_jobs=-1, p=2)\n",
    "#         reg.fit(x_train_small.iloc[train][features], y_train_small.iloc[train]['y'])\n",
    "\n",
    "#         predsTrain = reg.predict_proba(x_train_small.iloc[train][features])\n",
    "#         preds = reg.predict_proba(x_train_small.iloc[test][features])\n",
    "\n",
    "#         r2_test.append(roc_auc_score(y_train_small.iloc[test].y, preds[:,1]))\n",
    "#         r2_train.append(roc_auc_score(y_train_small.iloc[train].y, predsTrain[:,1]))\n",
    "\n",
    "#     a = (k, np.mean(r2_test), np.mean(r2_train))\n",
    "#     scores.append(a)  \n",
    "\n",
    "# roc_scores_knn = pd.DataFrame(scores, columns = ['k', 'test', 'train'])\n",
    "# roc_scores_knn.to_pickle('models_cache/roc_scores_knn_from_minfo.pkl')"
   ]
  },
  {
   "cell_type": "code",
   "execution_count": 54,
   "metadata": {},
   "outputs": [],
   "source": [
    "roc_scores_knn = pd.read_pickle('models_cache/roc_scores_knn_from_minfo.pkl')"
   ]
  },
  {
   "cell_type": "code",
   "execution_count": 55,
   "metadata": {},
   "outputs": [
    {
     "data": {
      "text/html": [
       "<div>\n",
       "<style scoped>\n",
       "    .dataframe tbody tr th:only-of-type {\n",
       "        vertical-align: middle;\n",
       "    }\n",
       "\n",
       "    .dataframe tbody tr th {\n",
       "        vertical-align: top;\n",
       "    }\n",
       "\n",
       "    .dataframe thead th {\n",
       "        text-align: right;\n",
       "    }\n",
       "</style>\n",
       "<table border=\"1\" class=\"dataframe\">\n",
       "  <thead>\n",
       "    <tr style=\"text-align: right;\">\n",
       "      <th></th>\n",
       "      <th>k</th>\n",
       "      <th>test</th>\n",
       "      <th>train</th>\n",
       "    </tr>\n",
       "  </thead>\n",
       "  <tbody>\n",
       "    <tr>\n",
       "      <th>0</th>\n",
       "      <td>5</td>\n",
       "      <td>0.675893</td>\n",
       "      <td>0.695971</td>\n",
       "    </tr>\n",
       "    <tr>\n",
       "      <th>1</th>\n",
       "      <td>50</td>\n",
       "      <td>0.736777</td>\n",
       "      <td>0.744507</td>\n",
       "    </tr>\n",
       "    <tr>\n",
       "      <th>2</th>\n",
       "      <td>100</td>\n",
       "      <td>0.742325</td>\n",
       "      <td>0.748159</td>\n",
       "    </tr>\n",
       "  </tbody>\n",
       "</table>\n",
       "</div>"
      ],
      "text/plain": [
       "     k      test     train\n",
       "0    5  0.675893  0.695971\n",
       "1   50  0.736777  0.744507\n",
       "2  100  0.742325  0.748159"
      ]
     },
     "execution_count": 55,
     "metadata": {},
     "output_type": "execute_result"
    }
   ],
   "source": [
    "roc_scores_knn"
   ]
  },
  {
   "cell_type": "code",
   "execution_count": 56,
   "metadata": {},
   "outputs": [],
   "source": [
    "# predsTest = reg.predict_proba(x_test[features].iloc[:30000, :])\n",
    "# # print(\"AUC for train set \" , roc_auc_score(y_train.y, predsTrain[:,1]))\n",
    "# print(\"AUC for test set \" , roc_auc_score(y_test.iloc[:30000, :].y, predsTest[:,1]))"
   ]
  },
  {
   "cell_type": "markdown",
   "metadata": {},
   "source": [
    "Auc for test set: 0.66155778766371"
   ]
  },
  {
   "cell_type": "markdown",
   "metadata": {},
   "source": [
    "### Testing other models"
   ]
  },
  {
   "cell_type": "markdown",
   "metadata": {},
   "source": [
    "Main findings from above process we applied are:\n",
    "\n",
    "- The 20 best features from mutual information perform the best both with svm na LR\n",
    "- Adding age variable with bin width of 10 improves the result by small amount.\n",
    "- Hour variable treated as 23 dummies gives improvement. However, limiting number of variables resulted in fail - the improvement is visible only with 20 dummies. Also it is very small (AUC +0.001) This number of features is unacceptable (there are 20 other features). So we are dropping this idea. \n",
    "- SVM can be approvimated by Stochastic Gradient Descent - the only way to run SVM on such big dataset. \n",
    "- KNN did not perform very well and is very resource extensive \n",
    "\n",
    "- Downsampling to obtain 50/50 0s and 1s counts did not improve the score, but also did not worsen. We can use smaller dataset to facilitate later testing."
   ]
  },
  {
   "cell_type": "code",
   "execution_count": 57,
   "metadata": {},
   "outputs": [],
   "source": [
    "from random import shuffle\n",
    "import random\n",
    "trainIndex0 = list(y_train.query(\"y==0\").index.values)\n",
    "random.Random(42).shuffle(trainIndex0)\n",
    "\n",
    "features = list(minfos_df.head(20).column) + ['user_age']\n",
    "\n",
    "x_train_u = x_train.drop(trainIndex0[0:381150])\n",
    "y_train_u = y_train.drop(trainIndex0[0:381150])\n",
    "\n",
    "bin_width = 10\n",
    "\n",
    "x_train_t = x_train_u[features].copy()\n",
    "x_train_t['user_age'] = x_train_t['user_age']//bin_width\n",
    "x_train_t = pd.concat([x_train_t.drop('user_age', axis = 1), \n",
    "                         pd.get_dummies(x_train_t['user_age'],drop_first = 1)], axis = 1)\n",
    "\n",
    "y_train_t = y_train_u.copy()"
   ]
  },
  {
   "cell_type": "code",
   "execution_count": 58,
   "metadata": {},
   "outputs": [
    {
     "name": "stdout",
     "output_type": "stream",
     "text": [
      "(396377, 32)\n",
      "(396377, 1)\n"
     ]
    }
   ],
   "source": [
    "print(x_train_t.shape)\n",
    "print(y_train_t.shape)"
   ]
  },
  {
   "cell_type": "code",
   "execution_count": 59,
   "metadata": {},
   "outputs": [],
   "source": [
    "x_test_t = x_test[features].copy()\n",
    "x_test_t['user_age'] = x_test_t['user_age']//bin_width\n",
    "x_test_t = pd.concat([x_test_t.drop('user_age', axis = 1), \n",
    "                         pd.get_dummies(x_test_t['user_age'],drop_first = 1)], axis = 1)\n",
    "\n",
    "# x_test_t = x_test_t.drop(11, axis = 1)\n",
    "y_test_t = y_test.copy()"
   ]
  },
  {
   "cell_type": "code",
   "execution_count": 60,
   "metadata": {},
   "outputs": [
    {
     "name": "stdout",
     "output_type": "stream",
     "text": [
      "(1608269, 32)\n",
      "(1608269, 1)\n"
     ]
    }
   ],
   "source": [
    "print(x_test_t.shape)\n",
    "print(y_test_t.shape)"
   ]
  },
  {
   "cell_type": "code",
   "execution_count": 61,
   "metadata": {},
   "outputs": [
    {
     "name": "stdout",
     "output_type": "stream",
     "text": [
      "AUC for train set  0.7509291322822088\n",
      "AUC for test set  0.7214351684867881\n"
     ]
    }
   ],
   "source": [
    "reg_t = LogisticRegression(max_iter = 1000)\n",
    "reg_t.fit(x_train_t, y_train_t['y'])\n",
    "\n",
    "predsTrain = reg_t.predict_proba(x_train_t)\n",
    "predsTest = reg_t.predict_proba(x_test_t)\n",
    "\n",
    "print(\"AUC for train set \" , roc_auc_score(y_train_t.y, predsTrain[:,1]))\n",
    "print(\"AUC for test set \" , roc_auc_score(y_test_t.y, predsTest[:,1]))"
   ]
  },
  {
   "cell_type": "markdown",
   "metadata": {},
   "source": [
    "Improvement from 0.714! "
   ]
  },
  {
   "cell_type": "markdown",
   "metadata": {},
   "source": [
    "Testing logistic regression with different regularization parameter C. We're using GridSearch function istead of custom one as it allows for parallelization of fitting for all parameters."
   ]
  },
  {
   "cell_type": "code",
   "execution_count": 62,
   "metadata": {},
   "outputs": [
    {
     "name": "stdout",
     "output_type": "stream",
     "text": [
      "Fitting 3 folds for each of 6 candidates, totalling 18 fits\n"
     ]
    },
    {
     "name": "stderr",
     "output_type": "stream",
     "text": [
      "[Parallel(n_jobs=-1)]: Using backend LokyBackend with 8 concurrent workers.\n",
      "[Parallel(n_jobs=-1)]: Done  18 out of  18 | elapsed:   15.3s finished\n"
     ]
    },
    {
     "data": {
      "text/plain": [
       "{'C': 1}"
      ]
     },
     "execution_count": 62,
     "metadata": {},
     "output_type": "execute_result"
    }
   ],
   "source": [
    "from sklearn.model_selection import GridSearchCV,RandomizedSearchCV\n",
    "\n",
    "reg_grid = LogisticRegression(max_iter = 1000)\n",
    "\n",
    "grid_params = {\n",
    "    'C': [0.01, 0.1, 0.5, 1, 2, 5]\n",
    "}\n",
    "\n",
    "gs =GridSearchCV(reg_grid,grid_params,verbose=1,cv=3,n_jobs=-1)\n",
    "\n",
    "gs_results = gs.fit(x_train_t, y_train_t['y'])\n",
    "\n",
    "gs_results.best_params_"
   ]
  },
  {
   "cell_type": "markdown",
   "metadata": {},
   "source": [
    "Best parameter chosen with regularization on big range is 1. Now trying to test values closer to 1."
   ]
  },
  {
   "cell_type": "code",
   "execution_count": 63,
   "metadata": {},
   "outputs": [
    {
     "name": "stdout",
     "output_type": "stream",
     "text": [
      "Fitting 3 folds for each of 9 candidates, totalling 27 fits\n"
     ]
    },
    {
     "name": "stderr",
     "output_type": "stream",
     "text": [
      "[Parallel(n_jobs=-1)]: Using backend LokyBackend with 8 concurrent workers.\n",
      "[Parallel(n_jobs=-1)]: Done  27 out of  27 | elapsed:   24.8s finished\n"
     ]
    },
    {
     "data": {
      "text/plain": [
       "{'C': 1.1}"
      ]
     },
     "execution_count": 63,
     "metadata": {},
     "output_type": "execute_result"
    }
   ],
   "source": [
    "from sklearn.model_selection import GridSearchCV,RandomizedSearchCV\n",
    "\n",
    "reg_grid = LogisticRegression(max_iter = 1000)\n",
    "\n",
    "grid_params = {\n",
    "    'C': [0.8, 0.9, 0.95, 0.98, 1, 1.02, 1.05, 1.1, 1.2]\n",
    "}\n",
    "\n",
    "gs =GridSearchCV(reg_grid,grid_params,verbose=1,cv=3,n_jobs=-1)\n",
    "gs_results = gs.fit(x_train_t, y_train_t['y'])\n",
    "gs_results.best_params_"
   ]
  },
  {
   "cell_type": "code",
   "execution_count": 64,
   "metadata": {},
   "outputs": [
    {
     "data": {
      "text/plain": [
       "{'mean_fit_time': array([5.39834905, 5.44588534, 7.56344136, 5.89419794, 6.79939787,\n",
       "        7.1376729 , 7.16436307, 6.81995257, 4.37758311]),\n",
       " 'std_fit_time': array([1.8164358 , 1.26487757, 0.47827539, 2.34718228, 3.31107414,\n",
       "        3.44290618, 3.60967374, 3.24494393, 0.99467449]),\n",
       " 'mean_score_time': array([0.04223164, 0.04250757, 0.04430254, 0.04580641, 0.04302398,\n",
       "        0.0377659 , 0.04063423, 0.0391384 , 0.0299437 ]),\n",
       " 'std_score_time': array([0.00146348, 0.00157381, 0.00252629, 0.00434234, 0.00294638,\n",
       "        0.00555208, 0.00709204, 0.00603153, 0.00027873]),\n",
       " 'param_C': masked_array(data=[0.8, 0.9, 0.95, 0.98, 1, 1.02, 1.05, 1.1, 1.2],\n",
       "              mask=[False, False, False, False, False, False, False, False,\n",
       "                    False],\n",
       "        fill_value='?',\n",
       "             dtype=object),\n",
       " 'params': [{'C': 0.8},\n",
       "  {'C': 0.9},\n",
       "  {'C': 0.95},\n",
       "  {'C': 0.98},\n",
       "  {'C': 1},\n",
       "  {'C': 1.02},\n",
       "  {'C': 1.05},\n",
       "  {'C': 1.1},\n",
       "  {'C': 1.2}],\n",
       " 'split0_test_score': array([0.68275737, 0.68281792, 0.68282548, 0.68280278, 0.68283305,\n",
       "        0.68281035, 0.68281792, 0.68284062, 0.68281035]),\n",
       " 'split1_test_score': array([0.69969574, 0.69968061, 0.69969574, 0.69968061, 0.69968061,\n",
       "        0.69968818, 0.69968818, 0.69971088, 0.69971845]),\n",
       " 'split2_test_score': array([0.69281362, 0.69280605, 0.69280605, 0.69279849, 0.69280605,\n",
       "        0.69280605, 0.69280605, 0.69279849, 0.69280605]),\n",
       " 'mean_test_score': array([0.69175558, 0.69176819, 0.69177576, 0.69176062, 0.69177324,\n",
       "        0.69176819, 0.69177072, 0.69178333, 0.69177828]),\n",
       " 'std_test_score': array([0.00695542, 0.00692317, 0.00692568, 0.00692932, 0.00691665,\n",
       "        0.00692932, 0.00692606, 0.00692456, 0.00694086]),\n",
       " 'rank_test_score': array([9, 6, 3, 8, 4, 6, 5, 1, 2], dtype=int32)}"
      ]
     },
     "execution_count": 64,
     "metadata": {},
     "output_type": "execute_result"
    }
   ],
   "source": [
    "gs_results.cv_results_"
   ]
  },
  {
   "cell_type": "markdown",
   "metadata": {},
   "source": [
    "Again, c=1 looks like the best candidate. We can't improve further from that point with Logistic Regression."
   ]
  },
  {
   "cell_type": "markdown",
   "metadata": {},
   "source": [
    "SGD with balanced data"
   ]
  },
  {
   "cell_type": "code",
   "execution_count": 65,
   "metadata": {},
   "outputs": [
    {
     "name": "stderr",
     "output_type": "stream",
     "text": [
      "/home/kamo1997/miniconda3/envs/env/lib/python3.8/site-packages/sklearn/utils/validation.py:760: DataConversionWarning: A column-vector y was passed when a 1d array was expected. Please change the shape of y to (n_samples, ), for example using ravel().\n",
      "  y = column_or_1d(y, warn=True)\n",
      "/home/kamo1997/miniconda3/envs/env/lib/python3.8/site-packages/sklearn/utils/validation.py:760: DataConversionWarning: A column-vector y was passed when a 1d array was expected. Please change the shape of y to (n_samples, ), for example using ravel().\n",
      "  y = column_or_1d(y, warn=True)\n"
     ]
    },
    {
     "name": "stdout",
     "output_type": "stream",
     "text": [
      "0.7412035574950077\n",
      "0.7143677583107063\n"
     ]
    }
   ],
   "source": [
    "from sklearn.linear_model import SGDClassifier\n",
    "from sklearn.calibration import CalibratedClassifierCV\n",
    "reg_r = SGDClassifier(n_jobs=-1,alpha=1/(1.5*x_train_t.shape[0]))\n",
    "reg_r.fit(x_train_t,y_train_t)\n",
    "\n",
    "\n",
    "cali = CalibratedClassifierCV(reg_r,cv=\"prefit\")\n",
    "cali_model =cali.fit(x_train_t, y_train_t)\n",
    "\n",
    "Pred_SGD_train = cali_model.predict_proba(x_train_t)\n",
    "Pred_SGD_test = cali_model.predict_proba(x_test_t)\n",
    "print(roc_auc_score(y_train_t.y,Pred_SGD_train[:,1]))\n",
    "print(roc_auc_score(y_test_t.y,Pred_SGD_test[:,1]))\n"
   ]
  },
  {
   "cell_type": "markdown",
   "metadata": {},
   "source": [
    "KNN with balanced data"
   ]
  },
  {
   "cell_type": "code",
   "execution_count": 66,
   "metadata": {},
   "outputs": [],
   "source": [
    "x_train_t_small = x_train_t.sample(n = 2000,random_state=42)\n",
    "y_train_t_small = y_train_t.sample(n = 2000, random_state = 42)\n"
   ]
  },
  {
   "cell_type": "code",
   "execution_count": 67,
   "metadata": {},
   "outputs": [],
   "source": [
    "# reg_k = KNeighborsClassifier(n_neighbors=100,p=2)\n",
    "# reg_k.fit(x_train_t, y_train_t['y'])\n",
    "\n",
    "# PredsTraink =reg_k.predict_proba(x_train_t_small)\n",
    "# PredsTestk = reg_k.predict_proba(x_test_t)\n",
    "\n",
    "\n",
    "# print(\"AUC for train set \" , roc_auc_score(y_train_t.y, PredsTraink[:,1]))\n",
    "# print(\"AUC for test set \" , roc_auc_score(y_test_t.y, PredsTestk[:,1])) "
   ]
  },
  {
   "cell_type": "markdown",
   "metadata": {},
   "source": [
    "Plotting"
   ]
  },
  {
   "cell_type": "code",
   "execution_count": 68,
   "metadata": {},
   "outputs": [
    {
     "data": {
      "text/plain": [
       "[<matplotlib.lines.Line2D at 0x7fe9a04953d0>]"
      ]
     },
     "execution_count": 68,
     "metadata": {},
     "output_type": "execute_result"
    },
    {
     "data": {
      "image/png": "[encoded data removed]",
      "text/plain": [
       "<Figure size 432x288 with 1 Axes>"
      ]
     },
     "metadata": {
      "needs_background": "light"
     },
     "output_type": "display_data"
    }
   ],
   "source": [
    "plt.scatter(cali_model.predict_proba(x_test_t)[:2000,1], reg_t.predict_proba(x_test_t)[:2000,1], s=0.2)\n",
    "plt.plot([0, 1], [0, 1], color='navy', lw=2, linestyle='--')"
   ]
  },
  {
   "cell_type": "code",
   "execution_count": 69,
   "metadata": {},
   "outputs": [],
   "source": []
  },
  {
   "cell_type": "code",
   "execution_count": 72,
   "metadata": {},
   "outputs": [
    {
     "data": {
      "text/plain": [
       "<matplotlib.legend.Legend at 0x7fe9a03afca0>"
      ]
     },
     "execution_count": 72,
     "metadata": {},
     "output_type": "execute_result"
    },
    {
     "data": {
      "image/png": "[encoded data removed]",
      "text/plain": [
       "<Figure size 432x288 with 1 Axes>"
      ]
     },
     "metadata": {
      "needs_background": "light"
     },
     "output_type": "display_data"
    }
   ],
   "source": [
    "from sklearn.metrics import roc_curve\n",
    "fpr_u, tpr_u, _ = roc_curve(y_test.y, cali_model.predict_proba(x_test_t)[:,1])\n",
    "\n",
    "fpr, tpr, _ = roc_curve(y_test.y, reg_t.predict_proba(x_test_t)[:,1])\n",
    "plt.figure()\n",
    "lw = 2\n",
    "plt.plot(fpr_u, tpr_u, color='green',\n",
    "         lw=lw, label='ROC for SVM')\n",
    "plt.plot(fpr, tpr, color='red',\n",
    "         lw=lw, label='ROC for LR')\n",
    "\n",
    "plt.plot([0, 1], [0, 1], color='navy', lw=lw, linestyle='--')\n",
    "plt.xlim([0.0, 1.0])\n",
    "plt.ylim([0.0, 1.05])\n",
    "plt.xlabel('False Positive Rate')\n",
    "plt.ylabel('True Positive Rate')\n",
    "plt.title('ROC for unders')\n",
    "plt.legend(loc=\"lower right\")\n",
    "# plt.show()"
   ]
  }
 ],
 "metadata": {
  "kernelspec": {
   "display_name": "Python 3",
   "language": "python",
   "name": "python3"
  },
  "language_info": {
   "codemirror_mode": {
    "name": "ipython",
    "version": 3
   },
   "file_extension": ".py",
   "mimetype": "text/x-python",
   "name": "python",
   "nbconvert_exporter": "python",
   "pygments_lexer": "ipython3",
   "version": "3.8.2"
  }
 },
 "nbformat": 4,
 "nbformat_minor": 4
}
