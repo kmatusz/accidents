{
 "cells": [
  {
   "cell_type": "markdown",
   "metadata": {},
   "source": [
    "## Accidents analysis"
   ]
  },
  {
   "cell_type": "markdown",
   "metadata": {},
   "source": [
    "#### Contents:\n",
    "\n",
    "Data preparation:\n",
    "\n",
    "- Load accidents dataset\n",
    "- Correctly encode NA's\n",
    "- Create proper time column\n",
    "- Map values in columns to meaningful ones\n",
    "- Change columns names to meaningful ones\n",
    "\n",
    "EDA:\n",
    "\n",
    "- Check shapes, NA's\n",
    "- Univariat analysis - plots etc."
   ]
  },
  {
   "cell_type": "markdown",
   "metadata": {},
   "source": [
    "#### Main takeaways"
   ]
  },
  {
   "cell_type": "markdown",
   "metadata": {},
   "source": [
    "- There are 839 985 accidents in total\n",
    "- Most accidents are during the day\n",
    "- Most accidents are not on any intersection\n",
    "- Accident count is dropping during the first years\n",
    "- Location variables won't bring much, as these are usually NA's"
   ]
  },
  {
   "cell_type": "markdown",
   "metadata": {},
   "source": [
    "### Data preparation"
   ]
  },
  {
   "cell_type": "code",
   "execution_count": 1,
   "metadata": {},
   "outputs": [],
   "source": [
    "import pandas as pd\n",
    "import numpy as np\n",
    "import seaborn as sns"
   ]
  },
  {
   "cell_type": "code",
   "execution_count": 2,
   "metadata": {},
   "outputs": [],
   "source": [
    "\n",
    "# vehicles = pd.read_csv('data/vehicles.csv', low_memory = False)\n",
    "# places = pd.read_csv('data/places.csv', low_memory = False)\n",
    "# users = pd.read_csv('data/users.csv', low_memory = False)"
   ]
  },
  {
   "cell_type": "code",
   "execution_count": 3,
   "metadata": {},
   "outputs": [],
   "source": [
    "accidents = pd.read_csv('data/caracteristics.csv', low_memory = False, encoding = 'latin-1',\n",
    "                       dtype= str)"
   ]
  },
  {
   "cell_type": "code",
   "execution_count": 4,
   "metadata": {},
   "outputs": [
    {
     "data": {
      "text/plain": [
       "Num_Acc    object\n",
       "an         object\n",
       "mois       object\n",
       "jour       object\n",
       "hrmn       object\n",
       "lum        object\n",
       "agg        object\n",
       "int        object\n",
       "atm        object\n",
       "col        object\n",
       "com        object\n",
       "adr        object\n",
       "gps        object\n",
       "lat        object\n",
       "long       object\n",
       "dep        object\n",
       "dtype: object"
      ]
     },
     "execution_count": 4,
     "metadata": {},
     "output_type": "execute_result"
    }
   ],
   "source": [
    "accidents.dtypes"
   ]
  },
  {
   "cell_type": "code",
   "execution_count": 5,
   "metadata": {},
   "outputs": [
    {
     "data": {
      "text/html": [
       "<div>\n",
       "<style scoped>\n",
       "    .dataframe tbody tr th:only-of-type {\n",
       "        vertical-align: middle;\n",
       "    }\n",
       "\n",
       "    .dataframe tbody tr th {\n",
       "        vertical-align: top;\n",
       "    }\n",
       "\n",
       "    .dataframe thead th {\n",
       "        text-align: right;\n",
       "    }\n",
       "</style>\n",
       "<table border=\"1\" class=\"dataframe\">\n",
       "  <thead>\n",
       "    <tr style=\"text-align: right;\">\n",
       "      <th></th>\n",
       "      <th>Num_Acc</th>\n",
       "      <th>an</th>\n",
       "      <th>mois</th>\n",
       "      <th>jour</th>\n",
       "      <th>hrmn</th>\n",
       "      <th>lum</th>\n",
       "      <th>agg</th>\n",
       "      <th>int</th>\n",
       "      <th>atm</th>\n",
       "      <th>col</th>\n",
       "      <th>com</th>\n",
       "      <th>adr</th>\n",
       "      <th>gps</th>\n",
       "      <th>lat</th>\n",
       "      <th>long</th>\n",
       "      <th>dep</th>\n",
       "    </tr>\n",
       "  </thead>\n",
       "  <tbody>\n",
       "    <tr>\n",
       "      <th>0</th>\n",
       "      <td>201600000001</td>\n",
       "      <td>16</td>\n",
       "      <td>2</td>\n",
       "      <td>1</td>\n",
       "      <td>1445</td>\n",
       "      <td>1</td>\n",
       "      <td>2</td>\n",
       "      <td>1</td>\n",
       "      <td>8</td>\n",
       "      <td>3</td>\n",
       "      <td>5</td>\n",
       "      <td>46, rue Sonneville</td>\n",
       "      <td>M</td>\n",
       "      <td>0</td>\n",
       "      <td>0</td>\n",
       "      <td>590</td>\n",
       "    </tr>\n",
       "    <tr>\n",
       "      <th>1</th>\n",
       "      <td>201600000002</td>\n",
       "      <td>16</td>\n",
       "      <td>3</td>\n",
       "      <td>16</td>\n",
       "      <td>1800</td>\n",
       "      <td>1</td>\n",
       "      <td>2</td>\n",
       "      <td>6</td>\n",
       "      <td>1</td>\n",
       "      <td>6</td>\n",
       "      <td>5</td>\n",
       "      <td>1a rue du cimetière</td>\n",
       "      <td>M</td>\n",
       "      <td>0</td>\n",
       "      <td>0</td>\n",
       "      <td>590</td>\n",
       "    </tr>\n",
       "    <tr>\n",
       "      <th>2</th>\n",
       "      <td>201600000003</td>\n",
       "      <td>16</td>\n",
       "      <td>7</td>\n",
       "      <td>13</td>\n",
       "      <td>1900</td>\n",
       "      <td>1</td>\n",
       "      <td>1</td>\n",
       "      <td>1</td>\n",
       "      <td>1</td>\n",
       "      <td>6</td>\n",
       "      <td>11</td>\n",
       "      <td>NaN</td>\n",
       "      <td>M</td>\n",
       "      <td>0</td>\n",
       "      <td>0</td>\n",
       "      <td>590</td>\n",
       "    </tr>\n",
       "    <tr>\n",
       "      <th>3</th>\n",
       "      <td>201600000004</td>\n",
       "      <td>16</td>\n",
       "      <td>8</td>\n",
       "      <td>15</td>\n",
       "      <td>1930</td>\n",
       "      <td>2</td>\n",
       "      <td>2</td>\n",
       "      <td>1</td>\n",
       "      <td>7</td>\n",
       "      <td>3</td>\n",
       "      <td>477</td>\n",
       "      <td>52 rue victor hugo</td>\n",
       "      <td>M</td>\n",
       "      <td>0</td>\n",
       "      <td>0</td>\n",
       "      <td>590</td>\n",
       "    </tr>\n",
       "    <tr>\n",
       "      <th>4</th>\n",
       "      <td>201600000005</td>\n",
       "      <td>16</td>\n",
       "      <td>12</td>\n",
       "      <td>23</td>\n",
       "      <td>1100</td>\n",
       "      <td>1</td>\n",
       "      <td>2</td>\n",
       "      <td>3</td>\n",
       "      <td>1</td>\n",
       "      <td>3</td>\n",
       "      <td>11</td>\n",
       "      <td>rue Joliot curie</td>\n",
       "      <td>M</td>\n",
       "      <td>0</td>\n",
       "      <td>0</td>\n",
       "      <td>590</td>\n",
       "    </tr>\n",
       "  </tbody>\n",
       "</table>\n",
       "</div>"
      ],
      "text/plain": [
       "        Num_Acc  an mois jour  hrmn lum agg int atm col  com  \\\n",
       "0  201600000001  16    2    1  1445   1   2   1   8   3    5   \n",
       "1  201600000002  16    3   16  1800   1   2   6   1   6    5   \n",
       "2  201600000003  16    7   13  1900   1   1   1   1   6   11   \n",
       "3  201600000004  16    8   15  1930   2   2   1   7   3  477   \n",
       "4  201600000005  16   12   23  1100   1   2   3   1   3   11   \n",
       "\n",
       "                   adr gps lat long  dep  \n",
       "0   46, rue Sonneville   M   0    0  590  \n",
       "1  1a rue du cimetière   M   0    0  590  \n",
       "2                  NaN   M   0    0  590  \n",
       "3   52 rue victor hugo   M   0    0  590  \n",
       "4     rue Joliot curie   M   0    0  590  "
      ]
     },
     "execution_count": 5,
     "metadata": {},
     "output_type": "execute_result"
    }
   ],
   "source": [
    "accidents.head()"
   ]
  },
  {
   "cell_type": "markdown",
   "metadata": {},
   "source": [
    "Column \"agg\" doesn't have description. NA's in categorical vars are encoded as \"\", while in numerical (lat, long) as 0. \"\" are converted by pandas, while 0's should be removed"
   ]
  },
  {
   "cell_type": "code",
   "execution_count": 6,
   "metadata": {},
   "outputs": [
    {
     "name": "stdout",
     "output_type": "stream",
     "text": [
      "0\n",
      "0\n",
      "0\n",
      "0\n",
      "117839\n",
      "137657\n"
     ]
    }
   ],
   "source": [
    "print(len(accidents.query(\"an == '0'\")))\n",
    "print(len(accidents.query(\"mois == '0'\")))\n",
    "print(len(accidents.query(\"jour == '0'\")))\n",
    "print(len(accidents.query(\"hrmn == '0'\")))\n",
    "print(len(accidents.query(\"lat == '0'\")))\n",
    "print(len(accidents.query(\"long == '0'\")))"
   ]
  },
  {
   "cell_type": "markdown",
   "metadata": {},
   "source": [
    "So, for lat and long we have NA's. Converting to NA"
   ]
  },
  {
   "cell_type": "code",
   "execution_count": 7,
   "metadata": {},
   "outputs": [],
   "source": [
    "accidents = accidents.replace({\"lat\": \"0\", \"long\": \"0\"}, np.nan)"
   ]
  },
  {
   "cell_type": "markdown",
   "metadata": {},
   "source": [
    "Converting datetime cols to pandas format"
   ]
  },
  {
   "cell_type": "code",
   "execution_count": 8,
   "metadata": {},
   "outputs": [],
   "source": [
    "datetime_cols = [\"an\", \"mois\", \"jour\", \"hrmn\"]"
   ]
  },
  {
   "cell_type": "code",
   "execution_count": 9,
   "metadata": {},
   "outputs": [],
   "source": [
    "datetime_df = accidents[datetime_cols]"
   ]
  },
  {
   "cell_type": "code",
   "execution_count": 10,
   "metadata": {
    "scrolled": true
   },
   "outputs": [
    {
     "name": "stderr",
     "output_type": "stream",
     "text": [
      "<ipython-input-10-c13e312ed9f7>:1: SettingWithCopyWarning: \n",
      "A value is trying to be set on a copy of a slice from a DataFrame.\n",
      "Try using .loc[row_indexer,col_indexer] = value instead\n",
      "\n",
      "See the caveats in the documentation: https://pandas.pydata.org/pandas-docs/stable/user_guide/indexing.html#returning-a-view-versus-a-copy\n",
      "  datetime_df[\"year\"] = pd.to_numeric(datetime_df[\"an\"]) + 2000\n",
      "<ipython-input-10-c13e312ed9f7>:2: SettingWithCopyWarning: \n",
      "A value is trying to be set on a copy of a slice from a DataFrame.\n",
      "Try using .loc[row_indexer,col_indexer] = value instead\n",
      "\n",
      "See the caveats in the documentation: https://pandas.pydata.org/pandas-docs/stable/user_guide/indexing.html#returning-a-view-versus-a-copy\n",
      "  datetime_df[\"hour\"] = datetime_df.hrmn.apply(lambda x: x[:2])\n",
      "<ipython-input-10-c13e312ed9f7>:3: SettingWithCopyWarning: \n",
      "A value is trying to be set on a copy of a slice from a DataFrame.\n",
      "Try using .loc[row_indexer,col_indexer] = value instead\n",
      "\n",
      "See the caveats in the documentation: https://pandas.pydata.org/pandas-docs/stable/user_guide/indexing.html#returning-a-view-versus-a-copy\n",
      "  datetime_df[\"minute\"] = datetime_df.hrmn.apply(lambda x: x[2:])\n"
     ]
    }
   ],
   "source": [
    "datetime_df[\"year\"] = pd.to_numeric(datetime_df[\"an\"]) + 2000\n",
    "datetime_df[\"hour\"] = datetime_df.hrmn.apply(lambda x: x[:2])\n",
    "datetime_df[\"minute\"] = datetime_df.hrmn.apply(lambda x: x[2:])\n",
    "datetime_df = datetime_df.rename({\"mois\": \"month\", \"an\": \"day\"}, axis = 1)\n",
    "datetime_df[\"datetime\"] = pd.to_datetime(datetime_df[['year', 'month', \n",
    "                                                      'day', 'hour', 'minute']])"
   ]
  },
  {
   "cell_type": "code",
   "execution_count": 11,
   "metadata": {},
   "outputs": [
    {
     "data": {
      "text/html": [
       "<div>\n",
       "<style scoped>\n",
       "    .dataframe tbody tr th:only-of-type {\n",
       "        vertical-align: middle;\n",
       "    }\n",
       "\n",
       "    .dataframe tbody tr th {\n",
       "        vertical-align: top;\n",
       "    }\n",
       "\n",
       "    .dataframe thead th {\n",
       "        text-align: right;\n",
       "    }\n",
       "</style>\n",
       "<table border=\"1\" class=\"dataframe\">\n",
       "  <thead>\n",
       "    <tr style=\"text-align: right;\">\n",
       "      <th></th>\n",
       "      <th>day</th>\n",
       "      <th>month</th>\n",
       "      <th>jour</th>\n",
       "      <th>hrmn</th>\n",
       "      <th>year</th>\n",
       "      <th>hour</th>\n",
       "      <th>minute</th>\n",
       "      <th>datetime</th>\n",
       "    </tr>\n",
       "  </thead>\n",
       "  <tbody>\n",
       "    <tr>\n",
       "      <th>0</th>\n",
       "      <td>16</td>\n",
       "      <td>2</td>\n",
       "      <td>1</td>\n",
       "      <td>1445</td>\n",
       "      <td>2016</td>\n",
       "      <td>14</td>\n",
       "      <td>45</td>\n",
       "      <td>2016-02-16 14:45:00</td>\n",
       "    </tr>\n",
       "    <tr>\n",
       "      <th>1</th>\n",
       "      <td>16</td>\n",
       "      <td>3</td>\n",
       "      <td>16</td>\n",
       "      <td>1800</td>\n",
       "      <td>2016</td>\n",
       "      <td>18</td>\n",
       "      <td>00</td>\n",
       "      <td>2016-03-16 18:00:00</td>\n",
       "    </tr>\n",
       "    <tr>\n",
       "      <th>2</th>\n",
       "      <td>16</td>\n",
       "      <td>7</td>\n",
       "      <td>13</td>\n",
       "      <td>1900</td>\n",
       "      <td>2016</td>\n",
       "      <td>19</td>\n",
       "      <td>00</td>\n",
       "      <td>2016-07-16 19:00:00</td>\n",
       "    </tr>\n",
       "  </tbody>\n",
       "</table>\n",
       "</div>"
      ],
      "text/plain": [
       "  day month jour  hrmn  year hour minute            datetime\n",
       "0  16     2    1  1445  2016   14     45 2016-02-16 14:45:00\n",
       "1  16     3   16  1800  2016   18     00 2016-03-16 18:00:00\n",
       "2  16     7   13  1900  2016   19     00 2016-07-16 19:00:00"
      ]
     },
     "execution_count": 11,
     "metadata": {},
     "output_type": "execute_result"
    }
   ],
   "source": [
    "datetime_df.head(3)"
   ]
  },
  {
   "cell_type": "markdown",
   "metadata": {},
   "source": [
    "Looks correct. Adding the column to the original dataframe"
   ]
  },
  {
   "cell_type": "code",
   "execution_count": 12,
   "metadata": {},
   "outputs": [],
   "source": [
    "accidents[\"time\"] = datetime_df[\"datetime\"]"
   ]
  },
  {
   "cell_type": "code",
   "execution_count": 13,
   "metadata": {
    "scrolled": true
   },
   "outputs": [],
   "source": [
    "accidents = accidents.drop(datetime_cols, axis = 1)"
   ]
  },
  {
   "cell_type": "code",
   "execution_count": 14,
   "metadata": {
    "scrolled": true
   },
   "outputs": [
    {
     "data": {
      "text/html": [
       "<div>\n",
       "<style scoped>\n",
       "    .dataframe tbody tr th:only-of-type {\n",
       "        vertical-align: middle;\n",
       "    }\n",
       "\n",
       "    .dataframe tbody tr th {\n",
       "        vertical-align: top;\n",
       "    }\n",
       "\n",
       "    .dataframe thead th {\n",
       "        text-align: right;\n",
       "    }\n",
       "</style>\n",
       "<table border=\"1\" class=\"dataframe\">\n",
       "  <thead>\n",
       "    <tr style=\"text-align: right;\">\n",
       "      <th></th>\n",
       "      <th>Num_Acc</th>\n",
       "      <th>lum</th>\n",
       "      <th>agg</th>\n",
       "      <th>int</th>\n",
       "      <th>atm</th>\n",
       "      <th>col</th>\n",
       "      <th>com</th>\n",
       "      <th>adr</th>\n",
       "      <th>gps</th>\n",
       "      <th>lat</th>\n",
       "      <th>long</th>\n",
       "      <th>dep</th>\n",
       "      <th>time</th>\n",
       "    </tr>\n",
       "  </thead>\n",
       "  <tbody>\n",
       "    <tr>\n",
       "      <th>0</th>\n",
       "      <td>201600000001</td>\n",
       "      <td>1</td>\n",
       "      <td>2</td>\n",
       "      <td>1</td>\n",
       "      <td>8</td>\n",
       "      <td>3</td>\n",
       "      <td>5</td>\n",
       "      <td>46, rue Sonneville</td>\n",
       "      <td>M</td>\n",
       "      <td>NaN</td>\n",
       "      <td>NaN</td>\n",
       "      <td>590</td>\n",
       "      <td>2016-02-16 14:45:00</td>\n",
       "    </tr>\n",
       "    <tr>\n",
       "      <th>1</th>\n",
       "      <td>201600000002</td>\n",
       "      <td>1</td>\n",
       "      <td>2</td>\n",
       "      <td>6</td>\n",
       "      <td>1</td>\n",
       "      <td>6</td>\n",
       "      <td>5</td>\n",
       "      <td>1a rue du cimetière</td>\n",
       "      <td>M</td>\n",
       "      <td>NaN</td>\n",
       "      <td>NaN</td>\n",
       "      <td>590</td>\n",
       "      <td>2016-03-16 18:00:00</td>\n",
       "    </tr>\n",
       "    <tr>\n",
       "      <th>2</th>\n",
       "      <td>201600000003</td>\n",
       "      <td>1</td>\n",
       "      <td>1</td>\n",
       "      <td>1</td>\n",
       "      <td>1</td>\n",
       "      <td>6</td>\n",
       "      <td>11</td>\n",
       "      <td>NaN</td>\n",
       "      <td>M</td>\n",
       "      <td>NaN</td>\n",
       "      <td>NaN</td>\n",
       "      <td>590</td>\n",
       "      <td>2016-07-16 19:00:00</td>\n",
       "    </tr>\n",
       "    <tr>\n",
       "      <th>3</th>\n",
       "      <td>201600000004</td>\n",
       "      <td>2</td>\n",
       "      <td>2</td>\n",
       "      <td>1</td>\n",
       "      <td>7</td>\n",
       "      <td>3</td>\n",
       "      <td>477</td>\n",
       "      <td>52 rue victor hugo</td>\n",
       "      <td>M</td>\n",
       "      <td>NaN</td>\n",
       "      <td>NaN</td>\n",
       "      <td>590</td>\n",
       "      <td>2016-08-16 19:30:00</td>\n",
       "    </tr>\n",
       "    <tr>\n",
       "      <th>4</th>\n",
       "      <td>201600000005</td>\n",
       "      <td>1</td>\n",
       "      <td>2</td>\n",
       "      <td>3</td>\n",
       "      <td>1</td>\n",
       "      <td>3</td>\n",
       "      <td>11</td>\n",
       "      <td>rue Joliot curie</td>\n",
       "      <td>M</td>\n",
       "      <td>NaN</td>\n",
       "      <td>NaN</td>\n",
       "      <td>590</td>\n",
       "      <td>2016-12-16 11:00:00</td>\n",
       "    </tr>\n",
       "  </tbody>\n",
       "</table>\n",
       "</div>"
      ],
      "text/plain": [
       "        Num_Acc lum agg int atm col  com                  adr gps  lat long  \\\n",
       "0  201600000001   1   2   1   8   3    5   46, rue Sonneville   M  NaN  NaN   \n",
       "1  201600000002   1   2   6   1   6    5  1a rue du cimetière   M  NaN  NaN   \n",
       "2  201600000003   1   1   1   1   6   11                  NaN   M  NaN  NaN   \n",
       "3  201600000004   2   2   1   7   3  477   52 rue victor hugo   M  NaN  NaN   \n",
       "4  201600000005   1   2   3   1   3   11     rue Joliot curie   M  NaN  NaN   \n",
       "\n",
       "   dep                time  \n",
       "0  590 2016-02-16 14:45:00  \n",
       "1  590 2016-03-16 18:00:00  \n",
       "2  590 2016-07-16 19:00:00  \n",
       "3  590 2016-08-16 19:30:00  \n",
       "4  590 2016-12-16 11:00:00  "
      ]
     },
     "execution_count": 14,
     "metadata": {},
     "output_type": "execute_result"
    }
   ],
   "source": [
    "accidents.head()"
   ]
  },
  {
   "cell_type": "markdown",
   "metadata": {},
   "source": [
    "Now I'm mapping values of the columns to meaningful ones"
   ]
  },
  {
   "cell_type": "code",
   "execution_count": 15,
   "metadata": {
    "scrolled": true
   },
   "outputs": [
    {
     "data": {
      "text/plain": [
       "Index(['Num_Acc', 'lum', 'agg', 'int', 'atm', 'col', 'com', 'adr', 'gps',\n",
       "       'lat', 'long', 'dep', 'time'],\n",
       "      dtype='object')"
      ]
     },
     "execution_count": 15,
     "metadata": {},
     "output_type": "execute_result"
    }
   ],
   "source": [
    "accidents.columns"
   ]
  },
  {
   "cell_type": "code",
   "execution_count": 16,
   "metadata": {},
   "outputs": [],
   "source": [
    "import mappings\n",
    "# A file with dictionaries containing columns values mappings"
   ]
  },
  {
   "cell_type": "code",
   "execution_count": 17,
   "metadata": {},
   "outputs": [],
   "source": [
    "accidents[\"lum\"] = accidents[\"lum\"].map(mappings.lum_map)\n",
    "accidents[\"agg\"] = accidents[\"agg\"].map(mappings.agg_map)\n",
    "accidents[\"int\"] = accidents[\"int\"].map(mappings.int_map)\n",
    "accidents[\"atm\"] = accidents[\"atm\"].map(mappings.atm_map)\n",
    "accidents[\"col\"] = accidents[\"col\"].map(mappings.col_map)\n",
    "accidents[\"gps\"] = accidents[\"gps\"].map(mappings.gps_map)"
   ]
  },
  {
   "cell_type": "code",
   "execution_count": 18,
   "metadata": {},
   "outputs": [
    {
     "data": {
      "text/html": [
       "<div>\n",
       "<style scoped>\n",
       "    .dataframe tbody tr th:only-of-type {\n",
       "        vertical-align: middle;\n",
       "    }\n",
       "\n",
       "    .dataframe tbody tr th {\n",
       "        vertical-align: top;\n",
       "    }\n",
       "\n",
       "    .dataframe thead th {\n",
       "        text-align: right;\n",
       "    }\n",
       "</style>\n",
       "<table border=\"1\" class=\"dataframe\">\n",
       "  <thead>\n",
       "    <tr style=\"text-align: right;\">\n",
       "      <th></th>\n",
       "      <th>Num_Acc</th>\n",
       "      <th>lum</th>\n",
       "      <th>agg</th>\n",
       "      <th>int</th>\n",
       "      <th>atm</th>\n",
       "      <th>col</th>\n",
       "      <th>com</th>\n",
       "      <th>adr</th>\n",
       "      <th>gps</th>\n",
       "      <th>lat</th>\n",
       "      <th>long</th>\n",
       "      <th>dep</th>\n",
       "      <th>time</th>\n",
       "    </tr>\n",
       "  </thead>\n",
       "  <tbody>\n",
       "    <tr>\n",
       "      <th>0</th>\n",
       "      <td>201600000001</td>\n",
       "      <td>Full day</td>\n",
       "      <td>In built-up areas</td>\n",
       "      <td>Out of intersection</td>\n",
       "      <td>Cloudy weather</td>\n",
       "      <td>Two vehicles - by the side</td>\n",
       "      <td>5</td>\n",
       "      <td>46, rue Sonneville</td>\n",
       "      <td>Métropole</td>\n",
       "      <td>NaN</td>\n",
       "      <td>NaN</td>\n",
       "      <td>590</td>\n",
       "      <td>2016-02-16 14:45:00</td>\n",
       "    </tr>\n",
       "    <tr>\n",
       "      <th>1</th>\n",
       "      <td>201600000002</td>\n",
       "      <td>Full day</td>\n",
       "      <td>In built-up areas</td>\n",
       "      <td>Giratory</td>\n",
       "      <td>Normal</td>\n",
       "      <td>Other collision</td>\n",
       "      <td>5</td>\n",
       "      <td>1a rue du cimetière</td>\n",
       "      <td>Métropole</td>\n",
       "      <td>NaN</td>\n",
       "      <td>NaN</td>\n",
       "      <td>590</td>\n",
       "      <td>2016-03-16 18:00:00</td>\n",
       "    </tr>\n",
       "    <tr>\n",
       "      <th>2</th>\n",
       "      <td>201600000003</td>\n",
       "      <td>Full day</td>\n",
       "      <td>Out of agglomeration</td>\n",
       "      <td>Out of intersection</td>\n",
       "      <td>Normal</td>\n",
       "      <td>Other collision</td>\n",
       "      <td>11</td>\n",
       "      <td>NaN</td>\n",
       "      <td>Métropole</td>\n",
       "      <td>NaN</td>\n",
       "      <td>NaN</td>\n",
       "      <td>590</td>\n",
       "      <td>2016-07-16 19:00:00</td>\n",
       "    </tr>\n",
       "  </tbody>\n",
       "</table>\n",
       "</div>"
      ],
      "text/plain": [
       "        Num_Acc       lum                   agg                  int  \\\n",
       "0  201600000001  Full day     In built-up areas  Out of intersection   \n",
       "1  201600000002  Full day     In built-up areas             Giratory   \n",
       "2  201600000003  Full day  Out of agglomeration  Out of intersection   \n",
       "\n",
       "              atm                         col com                  adr  \\\n",
       "0  Cloudy weather  Two vehicles - by the side   5   46, rue Sonneville   \n",
       "1          Normal             Other collision   5  1a rue du cimetière   \n",
       "2          Normal             Other collision  11                  NaN   \n",
       "\n",
       "         gps  lat long  dep                time  \n",
       "0  Métropole  NaN  NaN  590 2016-02-16 14:45:00  \n",
       "1  Métropole  NaN  NaN  590 2016-03-16 18:00:00  \n",
       "2  Métropole  NaN  NaN  590 2016-07-16 19:00:00  "
      ]
     },
     "execution_count": 18,
     "metadata": {},
     "output_type": "execute_result"
    }
   ],
   "source": [
    "accidents.head(3)"
   ]
  },
  {
   "cell_type": "markdown",
   "metadata": {},
   "source": [
    "Changing columns names for readable in english"
   ]
  },
  {
   "cell_type": "code",
   "execution_count": 19,
   "metadata": {
    "scrolled": true
   },
   "outputs": [
    {
     "data": {
      "text/plain": [
       "Index(['Num_Acc', 'lum', 'agg', 'int', 'atm', 'col', 'com', 'adr', 'gps',\n",
       "       'lat', 'long', 'dep', 'time'],\n",
       "      dtype='object')"
      ]
     },
     "execution_count": 19,
     "metadata": {},
     "output_type": "execute_result"
    }
   ],
   "source": [
    "accidents.columns"
   ]
  },
  {
   "cell_type": "code",
   "execution_count": 20,
   "metadata": {},
   "outputs": [],
   "source": [
    "colnames_map = {\n",
    "    \"Num_Acc\": \"accident_id\",\n",
    "    \"lum\": \"lighting\",\n",
    "    \"agg\": \"localization\",\n",
    "    \"int\": \"intersection_type\",\n",
    "    \"atm\": \"weather\",\n",
    "    \"col\": \"collision_type\",\n",
    "    \"adr\": \"address\",\n",
    "    \"dep\": \"departament\"\n",
    "               }"
   ]
  },
  {
   "cell_type": "code",
   "execution_count": 21,
   "metadata": {},
   "outputs": [],
   "source": [
    "accidents = accidents.rename(colnames_map, axis = 1)"
   ]
  },
  {
   "cell_type": "markdown",
   "metadata": {},
   "source": [
    "#### EDA"
   ]
  },
  {
   "cell_type": "code",
   "execution_count": 22,
   "metadata": {},
   "outputs": [
    {
     "data": {
      "text/html": [
       "<div>\n",
       "<style scoped>\n",
       "    .dataframe tbody tr th:only-of-type {\n",
       "        vertical-align: middle;\n",
       "    }\n",
       "\n",
       "    .dataframe tbody tr th {\n",
       "        vertical-align: top;\n",
       "    }\n",
       "\n",
       "    .dataframe thead th {\n",
       "        text-align: right;\n",
       "    }\n",
       "</style>\n",
       "<table border=\"1\" class=\"dataframe\">\n",
       "  <thead>\n",
       "    <tr style=\"text-align: right;\">\n",
       "      <th></th>\n",
       "      <th>accident_id</th>\n",
       "      <th>lighting</th>\n",
       "      <th>localization</th>\n",
       "      <th>intersection_type</th>\n",
       "      <th>weather</th>\n",
       "      <th>collision_type</th>\n",
       "      <th>com</th>\n",
       "      <th>address</th>\n",
       "      <th>gps</th>\n",
       "      <th>lat</th>\n",
       "      <th>long</th>\n",
       "      <th>departament</th>\n",
       "      <th>time</th>\n",
       "    </tr>\n",
       "  </thead>\n",
       "  <tbody>\n",
       "    <tr>\n",
       "      <th>0</th>\n",
       "      <td>201600000001</td>\n",
       "      <td>Full day</td>\n",
       "      <td>In built-up areas</td>\n",
       "      <td>Out of intersection</td>\n",
       "      <td>Cloudy weather</td>\n",
       "      <td>Two vehicles - by the side</td>\n",
       "      <td>5</td>\n",
       "      <td>46, rue Sonneville</td>\n",
       "      <td>Métropole</td>\n",
       "      <td>NaN</td>\n",
       "      <td>NaN</td>\n",
       "      <td>590</td>\n",
       "      <td>2016-02-16 14:45:00</td>\n",
       "    </tr>\n",
       "    <tr>\n",
       "      <th>1</th>\n",
       "      <td>201600000002</td>\n",
       "      <td>Full day</td>\n",
       "      <td>In built-up areas</td>\n",
       "      <td>Giratory</td>\n",
       "      <td>Normal</td>\n",
       "      <td>Other collision</td>\n",
       "      <td>5</td>\n",
       "      <td>1a rue du cimetière</td>\n",
       "      <td>Métropole</td>\n",
       "      <td>NaN</td>\n",
       "      <td>NaN</td>\n",
       "      <td>590</td>\n",
       "      <td>2016-03-16 18:00:00</td>\n",
       "    </tr>\n",
       "    <tr>\n",
       "      <th>2</th>\n",
       "      <td>201600000003</td>\n",
       "      <td>Full day</td>\n",
       "      <td>Out of agglomeration</td>\n",
       "      <td>Out of intersection</td>\n",
       "      <td>Normal</td>\n",
       "      <td>Other collision</td>\n",
       "      <td>11</td>\n",
       "      <td>NaN</td>\n",
       "      <td>Métropole</td>\n",
       "      <td>NaN</td>\n",
       "      <td>NaN</td>\n",
       "      <td>590</td>\n",
       "      <td>2016-07-16 19:00:00</td>\n",
       "    </tr>\n",
       "    <tr>\n",
       "      <th>3</th>\n",
       "      <td>201600000004</td>\n",
       "      <td>Twilight or dawn</td>\n",
       "      <td>In built-up areas</td>\n",
       "      <td>Out of intersection</td>\n",
       "      <td>Dazzling weather</td>\n",
       "      <td>Two vehicles - by the side</td>\n",
       "      <td>477</td>\n",
       "      <td>52 rue victor hugo</td>\n",
       "      <td>Métropole</td>\n",
       "      <td>NaN</td>\n",
       "      <td>NaN</td>\n",
       "      <td>590</td>\n",
       "      <td>2016-08-16 19:30:00</td>\n",
       "    </tr>\n",
       "    <tr>\n",
       "      <th>4</th>\n",
       "      <td>201600000005</td>\n",
       "      <td>Full day</td>\n",
       "      <td>In built-up areas</td>\n",
       "      <td>Intersection in T</td>\n",
       "      <td>Normal</td>\n",
       "      <td>Two vehicles - by the side</td>\n",
       "      <td>11</td>\n",
       "      <td>rue Joliot curie</td>\n",
       "      <td>Métropole</td>\n",
       "      <td>NaN</td>\n",
       "      <td>NaN</td>\n",
       "      <td>590</td>\n",
       "      <td>2016-12-16 11:00:00</td>\n",
       "    </tr>\n",
       "  </tbody>\n",
       "</table>\n",
       "</div>"
      ],
      "text/plain": [
       "    accident_id          lighting          localization    intersection_type  \\\n",
       "0  201600000001          Full day     In built-up areas  Out of intersection   \n",
       "1  201600000002          Full day     In built-up areas             Giratory   \n",
       "2  201600000003          Full day  Out of agglomeration  Out of intersection   \n",
       "3  201600000004  Twilight or dawn     In built-up areas  Out of intersection   \n",
       "4  201600000005          Full day     In built-up areas    Intersection in T   \n",
       "\n",
       "            weather              collision_type  com              address  \\\n",
       "0    Cloudy weather  Two vehicles - by the side    5   46, rue Sonneville   \n",
       "1            Normal             Other collision    5  1a rue du cimetière   \n",
       "2            Normal             Other collision   11                  NaN   \n",
       "3  Dazzling weather  Two vehicles - by the side  477   52 rue victor hugo   \n",
       "4            Normal  Two vehicles - by the side   11     rue Joliot curie   \n",
       "\n",
       "         gps  lat long departament                time  \n",
       "0  Métropole  NaN  NaN         590 2016-02-16 14:45:00  \n",
       "1  Métropole  NaN  NaN         590 2016-03-16 18:00:00  \n",
       "2  Métropole  NaN  NaN         590 2016-07-16 19:00:00  \n",
       "3  Métropole  NaN  NaN         590 2016-08-16 19:30:00  \n",
       "4  Métropole  NaN  NaN         590 2016-12-16 11:00:00  "
      ]
     },
     "execution_count": 22,
     "metadata": {},
     "output_type": "execute_result"
    }
   ],
   "source": [
    "accidents.head()"
   ]
  },
  {
   "cell_type": "code",
   "execution_count": 23,
   "metadata": {},
   "outputs": [
    {
     "data": {
      "text/plain": [
       "(839985, 13)"
      ]
     },
     "execution_count": 23,
     "metadata": {},
     "output_type": "execute_result"
    }
   ],
   "source": [
    "accidents.shape"
   ]
  },
  {
   "cell_type": "code",
   "execution_count": 24,
   "metadata": {},
   "outputs": [
    {
     "data": {
      "text/plain": [
       "839985"
      ]
     },
     "execution_count": 24,
     "metadata": {},
     "output_type": "execute_result"
    }
   ],
   "source": [
    "accidents.accident_id.nunique()"
   ]
  },
  {
   "cell_type": "markdown",
   "metadata": {},
   "source": [
    "Accident id is unique. Good."
   ]
  },
  {
   "cell_type": "markdown",
   "metadata": {},
   "source": [
    "Testing percentage number of NA's"
   ]
  },
  {
   "cell_type": "code",
   "execution_count": 25,
   "metadata": {
    "scrolled": true
   },
   "outputs": [
    {
     "data": {
      "text/plain": [
       "accident_id           0.000000\n",
       "lighting              0.000000\n",
       "localization          0.000000\n",
       "intersection_type     0.012619\n",
       "weather               0.006548\n",
       "collision_type        0.001310\n",
       "com                   0.000238\n",
       "address              16.731489\n",
       "gps                  56.403031\n",
       "lat                  70.876623\n",
       "long                 73.236427\n",
       "departament           0.000000\n",
       "time                  1.707173\n",
       "dtype: float64"
      ]
     },
     "execution_count": 25,
     "metadata": {},
     "output_type": "execute_result"
    }
   ],
   "source": [
    "accidents.isna().sum()/accidents.shape[0]*100"
   ]
  },
  {
   "cell_type": "markdown",
   "metadata": {},
   "source": [
    "Localization variables (lat, long, gps) are mostly empty - there is no sense in using them, probably won't bring much to prediction"
   ]
  },
  {
   "cell_type": "markdown",
   "metadata": {},
   "source": [
    "##### Time of accidents analysis"
   ]
  },
  {
   "cell_type": "code",
   "execution_count": 26,
   "metadata": {},
   "outputs": [],
   "source": [
    "tmp = accidents\n",
    "tmp[\"year\"] = tmp.time.dt.year\n",
    "tmp[\"month\"] = tmp.time.dt.month\n",
    "tmp[\"hour\"] = tmp.time.dt.hour"
   ]
  },
  {
   "cell_type": "code",
   "execution_count": 27,
   "metadata": {},
   "outputs": [],
   "source": [
    "sns.set()"
   ]
  },
  {
   "cell_type": "code",
   "execution_count": 28,
   "metadata": {},
   "outputs": [
    {
     "data": {
      "text/plain": [
       "Text(0.5, 1.0, 'Number of accidents by year')"
      ]
     },
     "execution_count": 28,
     "metadata": {},
     "output_type": "execute_result"
    },
    {
     "data": {
      "image/png": "[encoded data removed]",
      "text/plain": [
       "<Figure size 432x288 with 1 Axes>"
      ]
     },
     "metadata": {},
     "output_type": "display_data"
    }
   ],
   "source": [
    "a = tmp.groupby(\"year\").count().reset_index()\n",
    "sns.barplot(x = \"year\", y = \"accident_id\", data = a).set_title(\"Number of accidents by year\")"
   ]
  },
  {
   "cell_type": "markdown",
   "metadata": {},
   "source": [
    "Number of accidents is lowering from 2005 to 2013, and then staying stable"
   ]
  },
  {
   "cell_type": "code",
   "execution_count": 29,
   "metadata": {},
   "outputs": [
    {
     "data": {
      "text/plain": [
       "Text(0.5, 1.0, 'Number of accidents by month')"
      ]
     },
     "execution_count": 29,
     "metadata": {},
     "output_type": "execute_result"
    },
    {
     "data": {
      "image/png": "[encoded data removed]",
      "text/plain": [
       "<Figure size 432x288 with 1 Axes>"
      ]
     },
     "metadata": {},
     "output_type": "display_data"
    }
   ],
   "source": [
    "a = tmp.groupby(\"month\").count().reset_index()\n",
    "sns.barplot(x = \"month\", y = \"accident_id\", data = a).set_title(\"Number of accidents by month\")"
   ]
  },
  {
   "cell_type": "markdown",
   "metadata": {},
   "source": [
    "No visible trend when checking by month"
   ]
  },
  {
   "cell_type": "code",
   "execution_count": 30,
   "metadata": {
    "scrolled": true
   },
   "outputs": [
    {
     "data": {
      "text/plain": [
       "Text(0.5, 1.0, 'Number of accidents by hour')"
      ]
     },
     "execution_count": 30,
     "metadata": {},
     "output_type": "execute_result"
    },
    {
     "data": {
      "image/png": "[encoded data removed]",
      "text/plain": [
       "<Figure size 432x288 with 1 Axes>"
      ]
     },
     "metadata": {},
     "output_type": "display_data"
    }
   ],
   "source": [
    "a = tmp.groupby(\"hour\").count().reset_index()\n",
    "sns.barplot(x = \"hour\", y = \"accident_id\", data = a).set_title(\"Number of accidents by hour\")"
   ]
  },
  {
   "cell_type": "markdown",
   "metadata": {},
   "source": [
    "From 0 a.m. to 9 a.m. there are very little accidents. During the day, there are peaks at 10 a.m. and the biggest one at 18 (6 p.m.)"
   ]
  },
  {
   "cell_type": "markdown",
   "metadata": {},
   "source": [
    "##### Lightning"
   ]
  },
  {
   "cell_type": "code",
   "execution_count": 31,
   "metadata": {},
   "outputs": [
    {
     "data": {
      "text/plain": [
       "Text(0.5, 1.0, 'Type of lightting')"
      ]
     },
     "execution_count": 31,
     "metadata": {},
     "output_type": "execute_result"
    },
    {
     "data": {
      "image/png": "[encoded data removed]",
      "text/plain": [
       "<Figure size 432x288 with 1 Axes>"
      ]
     },
     "metadata": {},
     "output_type": "display_data"
    }
   ],
   "source": [
    "a = accidents.groupby(\"lighting\").count().reset_index()\n",
    "sns.barplot(x = \"accident_id\", y = \"lighting\", data = a).set_title(\"Type of lightting\")"
   ]
  },
  {
   "cell_type": "markdown",
   "metadata": {},
   "source": [
    "##### Localization"
   ]
  },
  {
   "cell_type": "code",
   "execution_count": 32,
   "metadata": {},
   "outputs": [
    {
     "data": {
      "text/plain": [
       "Text(0.5, 1.0, 'Type of localization')"
      ]
     },
     "execution_count": 32,
     "metadata": {},
     "output_type": "execute_result"
    },
    {
     "data": {
      "image/png": "[encoded data removed]",
      "text/plain": [
       "<Figure size 432x288 with 1 Axes>"
      ]
     },
     "metadata": {},
     "output_type": "display_data"
    }
   ],
   "source": [
    "a = accidents.groupby(\"localization\").count().reset_index()\n",
    "sns.barplot(x = \"accident_id\", y = \"localization\", data = a).set_title(\"Type of localization\")"
   ]
  },
  {
   "cell_type": "markdown",
   "metadata": {},
   "source": [
    "##### Intersection type"
   ]
  },
  {
   "cell_type": "code",
   "execution_count": 33,
   "metadata": {},
   "outputs": [
    {
     "data": {
      "text/plain": [
       "Text(0.5, 1.0, 'Type of intersection')"
      ]
     },
     "execution_count": 33,
     "metadata": {},
     "output_type": "execute_result"
    },
    {
     "data": {
      "image/png": "[encoded data removed]",
      "text/plain": [
       "<Figure size 432x288 with 1 Axes>"
      ]
     },
     "metadata": {},
     "output_type": "display_data"
    }
   ],
   "source": [
    "a = accidents.groupby(\"intersection_type\").count().reset_index()\n",
    "sns.barplot(x = \"accident_id\", y = \"intersection_type\", data = a).set_title(\"Type of intersection\")"
   ]
  },
  {
   "cell_type": "code",
   "execution_count": 34,
   "metadata": {},
   "outputs": [
    {
     "data": {
      "text/plain": [
       "intersection_type\n",
       "Giratory                                   2.661714\n",
       "Intersection in T                          8.782776\n",
       "Intersection in X                         12.263076\n",
       "Intersection in Y                          1.366810\n",
       "Intersection with more than 4 branches     1.114782\n",
       "Level crossing                             0.109526\n",
       "Other intersection                         1.577052\n",
       "Out of intersection                       71.388418\n",
       "Place                                      0.723227\n",
       "Name: accident_id, dtype: float64"
      ]
     },
     "execution_count": 34,
     "metadata": {},
     "output_type": "execute_result"
    }
   ],
   "source": [
    "(accidents.groupby(\"intersection_type\").count().accident_id)/accidents.accident_id.count()*100"
   ]
  },
  {
   "cell_type": "markdown",
   "metadata": {},
   "source": [
    "~ 70% of accidents was not on any crossing. After adding X and T intersections, this accounts for 90% of accidents"
   ]
  },
  {
   "cell_type": "markdown",
   "metadata": {},
   "source": [
    "##### Weather"
   ]
  },
  {
   "cell_type": "code",
   "execution_count": 35,
   "metadata": {
    "scrolled": true
   },
   "outputs": [
    {
     "data": {
      "text/plain": [
       "Text(0.5, 1.0, 'Weather')"
      ]
     },
     "execution_count": 35,
     "metadata": {},
     "output_type": "execute_result"
    },
    {
     "data": {
      "image/png": "[encoded data removed]",
      "text/plain": [
       "<Figure size 432x288 with 1 Axes>"
      ]
     },
     "metadata": {},
     "output_type": "display_data"
    }
   ],
   "source": [
    "a = accidents.groupby(\"weather\").count().reset_index()\n",
    "sns.barplot(x = \"accident_id\", y = \"weather\", data = a).set_title(\"Weather\")"
   ]
  },
  {
   "cell_type": "markdown",
   "metadata": {},
   "source": [
    "~ 80% is in normal weather"
   ]
  },
  {
   "cell_type": "markdown",
   "metadata": {},
   "source": [
    "##### Collision type"
   ]
  },
  {
   "cell_type": "code",
   "execution_count": 36,
   "metadata": {},
   "outputs": [
    {
     "data": {
      "text/plain": [
       "Text(0.5, 1.0, 'Collision type')"
      ]
     },
     "execution_count": 36,
     "metadata": {},
     "output_type": "execute_result"
    },
    {
     "data": {
      "image/png": "[encoded data removed]",
      "text/plain": [
       "<Figure size 432x288 with 1 Axes>"
      ]
     },
     "metadata": {},
     "output_type": "display_data"
    }
   ],
   "source": [
    "a = accidents.groupby(\"collision_type\").count().reset_index()\n",
    "sns.barplot(x = \"accident_id\", y = \"collision_type\", data = a).set_title(\"Collision type\")"
   ]
  },
  {
   "cell_type": "code",
   "execution_count": 37,
   "metadata": {},
   "outputs": [],
   "source": [
    "accidents.to_pickle('data/accidents_preprocessed.pkl')\n",
    "\n",
    "# accidents = read_pickle('data/accidents_preprocessed.pkl')"
   ]
  }
 ],
 "metadata": {
  "kernelspec": {
   "display_name": "Python 3",
   "language": "python",
   "name": "python3"
  },
  "language_info": {
   "codemirror_mode": {
    "name": "ipython",
    "version": 3
   },
   "file_extension": ".py",
   "mimetype": "text/x-python",
   "name": "python",
   "nbconvert_exporter": "python",
   "pygments_lexer": "ipython3",
   "version": "3.8.2"
  }
 },
 "nbformat": 4,
 "nbformat_minor": 4
}
